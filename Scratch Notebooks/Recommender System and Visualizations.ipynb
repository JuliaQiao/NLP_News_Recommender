{
 "cells": [
  {
   "cell_type": "markdown",
   "metadata": {},
   "source": [
    "### Recommender System\n",
    "Let's clean up out tweet_topic_matrix_df, take a look at the topic vector for each outlet, and create our recommender system."
   ]
  },
  {
   "source": [
    "import pandas as pd\n",
    "import numpy as np\n",
    "from sklearn.metrics.pairwise import cosine_similarity\n"
   ],
   "cell_type": "code",
   "metadata": {},
   "execution_count": 1,
   "outputs": []
  },
  {
   "cell_type": "code",
   "execution_count": 3,
   "metadata": {},
   "outputs": [],
   "source": [
    "outlet_df = pd.read_pickle('outlet_df.pickle')"
   ]
  },
  {
   "cell_type": "code",
   "execution_count": 4,
   "metadata": {},
   "outputs": [
    {
     "output_type": "execute_result",
     "data": {
      "text/plain": [
       "            outlet     Trump  Pandemic_Impact  Business     Biden  \\\n",
       "0   FinancialTimes  0.002097         0.001850  0.001701  0.001309   \n",
       "1           Medium  0.000576         0.000609  0.000702  0.000304   \n",
       "2        NewYorker  0.002584         0.000958  0.000254  0.001412   \n",
       "3      TheAtlantic  0.001784         0.001000  0.000300  0.001116   \n",
       "4     TheEconomist  0.001077         0.001623  0.000568  0.001123   \n",
       "5            WIRED  0.000638         0.000751  0.001426  0.000334   \n",
       "6              WSJ  0.002055         0.003996  0.002182  0.002279   \n",
       "7  businessinsider  0.001241         0.002518  0.002545  0.000997   \n",
       "8          nytimes  0.003340         0.003165  0.000935  0.003486   \n",
       "9   washingtonpost  0.004698         0.002791  0.000470  0.003110   \n",
       "\n",
       "   Covid_Spread     China  US_Election  Work_From_Home  Stock_Market  ...  \\\n",
       "0      0.002443  0.004224     0.002391        0.000939      0.002885  ...   \n",
       "1      0.000704  0.000459     0.000545        0.000492      0.000458  ...   \n",
       "2      0.000647  0.000527     0.001215        0.000481      0.000298  ...   \n",
       "3      0.000762  0.000698     0.001106        0.000379      0.000281  ...   \n",
       "4      0.000796  0.002706     0.001767        0.000443      0.000914  ...   \n",
       "5      0.000950  0.000857     0.000835        0.000892      0.000662  ...   \n",
       "6      0.002427  0.002813     0.001742        0.001551      0.003374  ...   \n",
       "7      0.000951  0.000993     0.001445        0.001326      0.004581  ...   \n",
       "8      0.003790  0.001922     0.002553        0.001423      0.000989  ...   \n",
       "9      0.002152  0.001385     0.002808        0.000885      0.000628  ...   \n",
       "\n",
       "   Climate_Change  (Un)employeement  Technology  Hong_Kong  Self-Help  \\\n",
       "0        0.001495          0.001479    0.002795   0.003110   0.001315   \n",
       "1        0.001280          0.000906    0.002952   0.000269   0.001780   \n",
       "2        0.001507          0.000523    0.001379   0.000493   0.001761   \n",
       "3        0.001131          0.000543    0.001297   0.000690   0.001171   \n",
       "4        0.001379          0.000729    0.001454   0.001177   0.000963   \n",
       "5        0.002079          0.000769    0.007508   0.000560   0.001588   \n",
       "6        0.001057          0.001865    0.003329   0.001776   0.001519   \n",
       "7        0.000858          0.002731    0.006354   0.000534   0.001667   \n",
       "8        0.001909          0.001639    0.002481   0.001551   0.001541   \n",
       "9        0.001283          0.001097    0.002068   0.001056   0.001048   \n",
       "\n",
       "   Covid_Vaccine  Personal_Finance  Parenting      Cars  Global_Lockdown  \n",
       "0       0.001446          0.001667   0.001297  0.001113         0.005063  \n",
       "1       0.000686          0.000923   0.002043  0.000786         0.001131  \n",
       "2       0.000581          0.000691   0.002175  0.000713         0.001488  \n",
       "3       0.000489          0.000627   0.001904  0.000498         0.001406  \n",
       "4       0.000930          0.001504   0.001232  0.000676         0.002167  \n",
       "5       0.000978          0.001196   0.001739  0.002421         0.001907  \n",
       "6       0.001769          0.001668   0.002131  0.001381         0.004342  \n",
       "7       0.001183          0.003529   0.001331  0.004414         0.001854  \n",
       "8       0.001665          0.001366   0.003393  0.001265         0.005753  \n",
       "9       0.001528          0.001055   0.002246  0.000695         0.003429  \n",
       "\n",
       "[10 rows x 27 columns]"
      ],
      "text/html": "<div>\n<style scoped>\n    .dataframe tbody tr th:only-of-type {\n        vertical-align: middle;\n    }\n\n    .dataframe tbody tr th {\n        vertical-align: top;\n    }\n\n    .dataframe thead th {\n        text-align: right;\n    }\n</style>\n<table border=\"1\" class=\"dataframe\">\n  <thead>\n    <tr style=\"text-align: right;\">\n      <th></th>\n      <th>outlet</th>\n      <th>Trump</th>\n      <th>Pandemic_Impact</th>\n      <th>Business</th>\n      <th>Biden</th>\n      <th>Covid_Spread</th>\n      <th>China</th>\n      <th>US_Election</th>\n      <th>Work_From_Home</th>\n      <th>Stock_Market</th>\n      <th>...</th>\n      <th>Climate_Change</th>\n      <th>(Un)employeement</th>\n      <th>Technology</th>\n      <th>Hong_Kong</th>\n      <th>Self-Help</th>\n      <th>Covid_Vaccine</th>\n      <th>Personal_Finance</th>\n      <th>Parenting</th>\n      <th>Cars</th>\n      <th>Global_Lockdown</th>\n    </tr>\n  </thead>\n  <tbody>\n    <tr>\n      <th>0</th>\n      <td>FinancialTimes</td>\n      <td>0.002097</td>\n      <td>0.001850</td>\n      <td>0.001701</td>\n      <td>0.001309</td>\n      <td>0.002443</td>\n      <td>0.004224</td>\n      <td>0.002391</td>\n      <td>0.000939</td>\n      <td>0.002885</td>\n      <td>...</td>\n      <td>0.001495</td>\n      <td>0.001479</td>\n      <td>0.002795</td>\n      <td>0.003110</td>\n      <td>0.001315</td>\n      <td>0.001446</td>\n      <td>0.001667</td>\n      <td>0.001297</td>\n      <td>0.001113</td>\n      <td>0.005063</td>\n    </tr>\n    <tr>\n      <th>1</th>\n      <td>Medium</td>\n      <td>0.000576</td>\n      <td>0.000609</td>\n      <td>0.000702</td>\n      <td>0.000304</td>\n      <td>0.000704</td>\n      <td>0.000459</td>\n      <td>0.000545</td>\n      <td>0.000492</td>\n      <td>0.000458</td>\n      <td>...</td>\n      <td>0.001280</td>\n      <td>0.000906</td>\n      <td>0.002952</td>\n      <td>0.000269</td>\n      <td>0.001780</td>\n      <td>0.000686</td>\n      <td>0.000923</td>\n      <td>0.002043</td>\n      <td>0.000786</td>\n      <td>0.001131</td>\n    </tr>\n    <tr>\n      <th>2</th>\n      <td>NewYorker</td>\n      <td>0.002584</td>\n      <td>0.000958</td>\n      <td>0.000254</td>\n      <td>0.001412</td>\n      <td>0.000647</td>\n      <td>0.000527</td>\n      <td>0.001215</td>\n      <td>0.000481</td>\n      <td>0.000298</td>\n      <td>...</td>\n      <td>0.001507</td>\n      <td>0.000523</td>\n      <td>0.001379</td>\n      <td>0.000493</td>\n      <td>0.001761</td>\n      <td>0.000581</td>\n      <td>0.000691</td>\n      <td>0.002175</td>\n      <td>0.000713</td>\n      <td>0.001488</td>\n    </tr>\n    <tr>\n      <th>3</th>\n      <td>TheAtlantic</td>\n      <td>0.001784</td>\n      <td>0.001000</td>\n      <td>0.000300</td>\n      <td>0.001116</td>\n      <td>0.000762</td>\n      <td>0.000698</td>\n      <td>0.001106</td>\n      <td>0.000379</td>\n      <td>0.000281</td>\n      <td>...</td>\n      <td>0.001131</td>\n      <td>0.000543</td>\n      <td>0.001297</td>\n      <td>0.000690</td>\n      <td>0.001171</td>\n      <td>0.000489</td>\n      <td>0.000627</td>\n      <td>0.001904</td>\n      <td>0.000498</td>\n      <td>0.001406</td>\n    </tr>\n    <tr>\n      <th>4</th>\n      <td>TheEconomist</td>\n      <td>0.001077</td>\n      <td>0.001623</td>\n      <td>0.000568</td>\n      <td>0.001123</td>\n      <td>0.000796</td>\n      <td>0.002706</td>\n      <td>0.001767</td>\n      <td>0.000443</td>\n      <td>0.000914</td>\n      <td>...</td>\n      <td>0.001379</td>\n      <td>0.000729</td>\n      <td>0.001454</td>\n      <td>0.001177</td>\n      <td>0.000963</td>\n      <td>0.000930</td>\n      <td>0.001504</td>\n      <td>0.001232</td>\n      <td>0.000676</td>\n      <td>0.002167</td>\n    </tr>\n    <tr>\n      <th>5</th>\n      <td>WIRED</td>\n      <td>0.000638</td>\n      <td>0.000751</td>\n      <td>0.001426</td>\n      <td>0.000334</td>\n      <td>0.000950</td>\n      <td>0.000857</td>\n      <td>0.000835</td>\n      <td>0.000892</td>\n      <td>0.000662</td>\n      <td>...</td>\n      <td>0.002079</td>\n      <td>0.000769</td>\n      <td>0.007508</td>\n      <td>0.000560</td>\n      <td>0.001588</td>\n      <td>0.000978</td>\n      <td>0.001196</td>\n      <td>0.001739</td>\n      <td>0.002421</td>\n      <td>0.001907</td>\n    </tr>\n    <tr>\n      <th>6</th>\n      <td>WSJ</td>\n      <td>0.002055</td>\n      <td>0.003996</td>\n      <td>0.002182</td>\n      <td>0.002279</td>\n      <td>0.002427</td>\n      <td>0.002813</td>\n      <td>0.001742</td>\n      <td>0.001551</td>\n      <td>0.003374</td>\n      <td>...</td>\n      <td>0.001057</td>\n      <td>0.001865</td>\n      <td>0.003329</td>\n      <td>0.001776</td>\n      <td>0.001519</td>\n      <td>0.001769</td>\n      <td>0.001668</td>\n      <td>0.002131</td>\n      <td>0.001381</td>\n      <td>0.004342</td>\n    </tr>\n    <tr>\n      <th>7</th>\n      <td>businessinsider</td>\n      <td>0.001241</td>\n      <td>0.002518</td>\n      <td>0.002545</td>\n      <td>0.000997</td>\n      <td>0.000951</td>\n      <td>0.000993</td>\n      <td>0.001445</td>\n      <td>0.001326</td>\n      <td>0.004581</td>\n      <td>...</td>\n      <td>0.000858</td>\n      <td>0.002731</td>\n      <td>0.006354</td>\n      <td>0.000534</td>\n      <td>0.001667</td>\n      <td>0.001183</td>\n      <td>0.003529</td>\n      <td>0.001331</td>\n      <td>0.004414</td>\n      <td>0.001854</td>\n    </tr>\n    <tr>\n      <th>8</th>\n      <td>nytimes</td>\n      <td>0.003340</td>\n      <td>0.003165</td>\n      <td>0.000935</td>\n      <td>0.003486</td>\n      <td>0.003790</td>\n      <td>0.001922</td>\n      <td>0.002553</td>\n      <td>0.001423</td>\n      <td>0.000989</td>\n      <td>...</td>\n      <td>0.001909</td>\n      <td>0.001639</td>\n      <td>0.002481</td>\n      <td>0.001551</td>\n      <td>0.001541</td>\n      <td>0.001665</td>\n      <td>0.001366</td>\n      <td>0.003393</td>\n      <td>0.001265</td>\n      <td>0.005753</td>\n    </tr>\n    <tr>\n      <th>9</th>\n      <td>washingtonpost</td>\n      <td>0.004698</td>\n      <td>0.002791</td>\n      <td>0.000470</td>\n      <td>0.003110</td>\n      <td>0.002152</td>\n      <td>0.001385</td>\n      <td>0.002808</td>\n      <td>0.000885</td>\n      <td>0.000628</td>\n      <td>...</td>\n      <td>0.001283</td>\n      <td>0.001097</td>\n      <td>0.002068</td>\n      <td>0.001056</td>\n      <td>0.001048</td>\n      <td>0.001528</td>\n      <td>0.001055</td>\n      <td>0.002246</td>\n      <td>0.000695</td>\n      <td>0.003429</td>\n    </tr>\n  </tbody>\n</table>\n<p>10 rows × 27 columns</p>\n</div>"
     },
     "metadata": {},
     "execution_count": 4
    }
   ],
   "source": [
    "outlet_df"
   ]
  },
  {
   "cell_type": "code",
   "execution_count": 5,
   "metadata": {},
   "outputs": [],
   "source": [
    "outlet_df['outlet'] = ['The Financial Times', 'Medium', 'The New Yorker', \n",
    "                       'The Atlantic', 'The Economist', 'Wired', \n",
    "                       'Wall Street Journal', 'Business Insider', \n",
    "                       'New York Times', 'The Washington Post']"
   ]
  },
  {
   "cell_type": "code",
   "execution_count": 6,
   "metadata": {},
   "outputs": [
    {
     "output_type": "execute_result",
     "data": {
      "text/plain": [
       "                outlet     Trump  Pandemic_Impact  Business     Biden  \\\n",
       "0  The Financial Times  0.002097         0.001850  0.001701  0.001309   \n",
       "1               Medium  0.000576         0.000609  0.000702  0.000304   \n",
       "2       The New Yorker  0.002584         0.000958  0.000254  0.001412   \n",
       "3         The Atlantic  0.001784         0.001000  0.000300  0.001116   \n",
       "4        The Economist  0.001077         0.001623  0.000568  0.001123   \n",
       "5                Wired  0.000638         0.000751  0.001426  0.000334   \n",
       "6  Wall Street Journal  0.002055         0.003996  0.002182  0.002279   \n",
       "7     Business Insider  0.001241         0.002518  0.002545  0.000997   \n",
       "8       New York Times  0.003340         0.003165  0.000935  0.003486   \n",
       "9  The Washington Post  0.004698         0.002791  0.000470  0.003110   \n",
       "\n",
       "   Covid_Spread     China  US_Election  Work_From_Home  Stock_Market  ...  \\\n",
       "0      0.002443  0.004224     0.002391        0.000939      0.002885  ...   \n",
       "1      0.000704  0.000459     0.000545        0.000492      0.000458  ...   \n",
       "2      0.000647  0.000527     0.001215        0.000481      0.000298  ...   \n",
       "3      0.000762  0.000698     0.001106        0.000379      0.000281  ...   \n",
       "4      0.000796  0.002706     0.001767        0.000443      0.000914  ...   \n",
       "5      0.000950  0.000857     0.000835        0.000892      0.000662  ...   \n",
       "6      0.002427  0.002813     0.001742        0.001551      0.003374  ...   \n",
       "7      0.000951  0.000993     0.001445        0.001326      0.004581  ...   \n",
       "8      0.003790  0.001922     0.002553        0.001423      0.000989  ...   \n",
       "9      0.002152  0.001385     0.002808        0.000885      0.000628  ...   \n",
       "\n",
       "   Climate_Change  (Un)employeement  Technology  Hong_Kong  Self-Help  \\\n",
       "0        0.001495          0.001479    0.002795   0.003110   0.001315   \n",
       "1        0.001280          0.000906    0.002952   0.000269   0.001780   \n",
       "2        0.001507          0.000523    0.001379   0.000493   0.001761   \n",
       "3        0.001131          0.000543    0.001297   0.000690   0.001171   \n",
       "4        0.001379          0.000729    0.001454   0.001177   0.000963   \n",
       "5        0.002079          0.000769    0.007508   0.000560   0.001588   \n",
       "6        0.001057          0.001865    0.003329   0.001776   0.001519   \n",
       "7        0.000858          0.002731    0.006354   0.000534   0.001667   \n",
       "8        0.001909          0.001639    0.002481   0.001551   0.001541   \n",
       "9        0.001283          0.001097    0.002068   0.001056   0.001048   \n",
       "\n",
       "   Covid_Vaccine  Personal_Finance  Parenting      Cars  Global_Lockdown  \n",
       "0       0.001446          0.001667   0.001297  0.001113         0.005063  \n",
       "1       0.000686          0.000923   0.002043  0.000786         0.001131  \n",
       "2       0.000581          0.000691   0.002175  0.000713         0.001488  \n",
       "3       0.000489          0.000627   0.001904  0.000498         0.001406  \n",
       "4       0.000930          0.001504   0.001232  0.000676         0.002167  \n",
       "5       0.000978          0.001196   0.001739  0.002421         0.001907  \n",
       "6       0.001769          0.001668   0.002131  0.001381         0.004342  \n",
       "7       0.001183          0.003529   0.001331  0.004414         0.001854  \n",
       "8       0.001665          0.001366   0.003393  0.001265         0.005753  \n",
       "9       0.001528          0.001055   0.002246  0.000695         0.003429  \n",
       "\n",
       "[10 rows x 27 columns]"
      ],
      "text/html": "<div>\n<style scoped>\n    .dataframe tbody tr th:only-of-type {\n        vertical-align: middle;\n    }\n\n    .dataframe tbody tr th {\n        vertical-align: top;\n    }\n\n    .dataframe thead th {\n        text-align: right;\n    }\n</style>\n<table border=\"1\" class=\"dataframe\">\n  <thead>\n    <tr style=\"text-align: right;\">\n      <th></th>\n      <th>outlet</th>\n      <th>Trump</th>\n      <th>Pandemic_Impact</th>\n      <th>Business</th>\n      <th>Biden</th>\n      <th>Covid_Spread</th>\n      <th>China</th>\n      <th>US_Election</th>\n      <th>Work_From_Home</th>\n      <th>Stock_Market</th>\n      <th>...</th>\n      <th>Climate_Change</th>\n      <th>(Un)employeement</th>\n      <th>Technology</th>\n      <th>Hong_Kong</th>\n      <th>Self-Help</th>\n      <th>Covid_Vaccine</th>\n      <th>Personal_Finance</th>\n      <th>Parenting</th>\n      <th>Cars</th>\n      <th>Global_Lockdown</th>\n    </tr>\n  </thead>\n  <tbody>\n    <tr>\n      <th>0</th>\n      <td>The Financial Times</td>\n      <td>0.002097</td>\n      <td>0.001850</td>\n      <td>0.001701</td>\n      <td>0.001309</td>\n      <td>0.002443</td>\n      <td>0.004224</td>\n      <td>0.002391</td>\n      <td>0.000939</td>\n      <td>0.002885</td>\n      <td>...</td>\n      <td>0.001495</td>\n      <td>0.001479</td>\n      <td>0.002795</td>\n      <td>0.003110</td>\n      <td>0.001315</td>\n      <td>0.001446</td>\n      <td>0.001667</td>\n      <td>0.001297</td>\n      <td>0.001113</td>\n      <td>0.005063</td>\n    </tr>\n    <tr>\n      <th>1</th>\n      <td>Medium</td>\n      <td>0.000576</td>\n      <td>0.000609</td>\n      <td>0.000702</td>\n      <td>0.000304</td>\n      <td>0.000704</td>\n      <td>0.000459</td>\n      <td>0.000545</td>\n      <td>0.000492</td>\n      <td>0.000458</td>\n      <td>...</td>\n      <td>0.001280</td>\n      <td>0.000906</td>\n      <td>0.002952</td>\n      <td>0.000269</td>\n      <td>0.001780</td>\n      <td>0.000686</td>\n      <td>0.000923</td>\n      <td>0.002043</td>\n      <td>0.000786</td>\n      <td>0.001131</td>\n    </tr>\n    <tr>\n      <th>2</th>\n      <td>The New Yorker</td>\n      <td>0.002584</td>\n      <td>0.000958</td>\n      <td>0.000254</td>\n      <td>0.001412</td>\n      <td>0.000647</td>\n      <td>0.000527</td>\n      <td>0.001215</td>\n      <td>0.000481</td>\n      <td>0.000298</td>\n      <td>...</td>\n      <td>0.001507</td>\n      <td>0.000523</td>\n      <td>0.001379</td>\n      <td>0.000493</td>\n      <td>0.001761</td>\n      <td>0.000581</td>\n      <td>0.000691</td>\n      <td>0.002175</td>\n      <td>0.000713</td>\n      <td>0.001488</td>\n    </tr>\n    <tr>\n      <th>3</th>\n      <td>The Atlantic</td>\n      <td>0.001784</td>\n      <td>0.001000</td>\n      <td>0.000300</td>\n      <td>0.001116</td>\n      <td>0.000762</td>\n      <td>0.000698</td>\n      <td>0.001106</td>\n      <td>0.000379</td>\n      <td>0.000281</td>\n      <td>...</td>\n      <td>0.001131</td>\n      <td>0.000543</td>\n      <td>0.001297</td>\n      <td>0.000690</td>\n      <td>0.001171</td>\n      <td>0.000489</td>\n      <td>0.000627</td>\n      <td>0.001904</td>\n      <td>0.000498</td>\n      <td>0.001406</td>\n    </tr>\n    <tr>\n      <th>4</th>\n      <td>The Economist</td>\n      <td>0.001077</td>\n      <td>0.001623</td>\n      <td>0.000568</td>\n      <td>0.001123</td>\n      <td>0.000796</td>\n      <td>0.002706</td>\n      <td>0.001767</td>\n      <td>0.000443</td>\n      <td>0.000914</td>\n      <td>...</td>\n      <td>0.001379</td>\n      <td>0.000729</td>\n      <td>0.001454</td>\n      <td>0.001177</td>\n      <td>0.000963</td>\n      <td>0.000930</td>\n      <td>0.001504</td>\n      <td>0.001232</td>\n      <td>0.000676</td>\n      <td>0.002167</td>\n    </tr>\n    <tr>\n      <th>5</th>\n      <td>Wired</td>\n      <td>0.000638</td>\n      <td>0.000751</td>\n      <td>0.001426</td>\n      <td>0.000334</td>\n      <td>0.000950</td>\n      <td>0.000857</td>\n      <td>0.000835</td>\n      <td>0.000892</td>\n      <td>0.000662</td>\n      <td>...</td>\n      <td>0.002079</td>\n      <td>0.000769</td>\n      <td>0.007508</td>\n      <td>0.000560</td>\n      <td>0.001588</td>\n      <td>0.000978</td>\n      <td>0.001196</td>\n      <td>0.001739</td>\n      <td>0.002421</td>\n      <td>0.001907</td>\n    </tr>\n    <tr>\n      <th>6</th>\n      <td>Wall Street Journal</td>\n      <td>0.002055</td>\n      <td>0.003996</td>\n      <td>0.002182</td>\n      <td>0.002279</td>\n      <td>0.002427</td>\n      <td>0.002813</td>\n      <td>0.001742</td>\n      <td>0.001551</td>\n      <td>0.003374</td>\n      <td>...</td>\n      <td>0.001057</td>\n      <td>0.001865</td>\n      <td>0.003329</td>\n      <td>0.001776</td>\n      <td>0.001519</td>\n      <td>0.001769</td>\n      <td>0.001668</td>\n      <td>0.002131</td>\n      <td>0.001381</td>\n      <td>0.004342</td>\n    </tr>\n    <tr>\n      <th>7</th>\n      <td>Business Insider</td>\n      <td>0.001241</td>\n      <td>0.002518</td>\n      <td>0.002545</td>\n      <td>0.000997</td>\n      <td>0.000951</td>\n      <td>0.000993</td>\n      <td>0.001445</td>\n      <td>0.001326</td>\n      <td>0.004581</td>\n      <td>...</td>\n      <td>0.000858</td>\n      <td>0.002731</td>\n      <td>0.006354</td>\n      <td>0.000534</td>\n      <td>0.001667</td>\n      <td>0.001183</td>\n      <td>0.003529</td>\n      <td>0.001331</td>\n      <td>0.004414</td>\n      <td>0.001854</td>\n    </tr>\n    <tr>\n      <th>8</th>\n      <td>New York Times</td>\n      <td>0.003340</td>\n      <td>0.003165</td>\n      <td>0.000935</td>\n      <td>0.003486</td>\n      <td>0.003790</td>\n      <td>0.001922</td>\n      <td>0.002553</td>\n      <td>0.001423</td>\n      <td>0.000989</td>\n      <td>...</td>\n      <td>0.001909</td>\n      <td>0.001639</td>\n      <td>0.002481</td>\n      <td>0.001551</td>\n      <td>0.001541</td>\n      <td>0.001665</td>\n      <td>0.001366</td>\n      <td>0.003393</td>\n      <td>0.001265</td>\n      <td>0.005753</td>\n    </tr>\n    <tr>\n      <th>9</th>\n      <td>The Washington Post</td>\n      <td>0.004698</td>\n      <td>0.002791</td>\n      <td>0.000470</td>\n      <td>0.003110</td>\n      <td>0.002152</td>\n      <td>0.001385</td>\n      <td>0.002808</td>\n      <td>0.000885</td>\n      <td>0.000628</td>\n      <td>...</td>\n      <td>0.001283</td>\n      <td>0.001097</td>\n      <td>0.002068</td>\n      <td>0.001056</td>\n      <td>0.001048</td>\n      <td>0.001528</td>\n      <td>0.001055</td>\n      <td>0.002246</td>\n      <td>0.000695</td>\n      <td>0.003429</td>\n    </tr>\n  </tbody>\n</table>\n<p>10 rows × 27 columns</p>\n</div>"
     },
     "metadata": {},
     "execution_count": 6
    }
   ],
   "source": [
    "outlet_df"
   ]
  },
  {
   "cell_type": "code",
   "execution_count": 7,
   "metadata": {},
   "outputs": [],
   "source": [
    "outlet_df.to_pickle('outlet_df.pickle')"
   ]
  },
  {
   "cell_type": "code",
   "execution_count": 8,
   "metadata": {},
   "outputs": [],
   "source": [
    "#save as csv\n",
    "outlet_df.to_csv('/Users/juliaqiao/Documents/Metis/NLP_News_Recommender/outlet_df.csv')"
   ]
  },
  {
   "cell_type": "code",
   "execution_count": 31,
   "metadata": {},
   "outputs": [],
   "source": [
    "def News_Outlet_Recommender(outlet_df, Covid = 1, Staying_at_Home = 1, US_Politics = 1, Global_Politics = 1, Global_Economy = 1, Social_Issues = 1, Business = 1, Personal_Development =1, Hobbies=1):\n",
    "#def News_Outlet_Recommender(outlet_df, Covid, Staying_at_Home, US_Politics, Global_Politics, Global_Economy, Social_Issues, Business, Personal_Development, Hobbies):\n",
    "    \"\"\"\n",
    "    Takes in weights for each news theme and returns recommended news outlet based on topics behind each theme.\n",
    "    \"\"\"\n",
    "    \n",
    "    #define themes for our topics\n",
    "    Covid_topics = ['Pandemic_Impact','Covid_Spread', 'Covid_Vaccine', 'Global_Lockdown']\n",
    "    Staying_at_Home_topics = ['Work_From_Home', 'Education', 'Parenting']\n",
    "    US_Politics_topics = ['Trump', 'Biden', 'US_Election', 'US_Supreme_Court']\n",
    "    Global_Politics_topics = ['China', 'Brexit_EU', 'Hong_Kong']\n",
    "    Global_Economy_topics = ['Economy', '(Un)employeement']\n",
    "    Social_Issues_topics = ['Police_Protests', 'Gender_Equality', 'Climate_Change']\n",
    "    Business_topics = ['Business', 'Stock_Market', 'Technology' ]\n",
    "    Personal_Development_topics = [ 'Health_Wellness', 'Self-Help', 'Personal_Finance']\n",
    "    Hobbies_topics = ['Cars']\n",
    "    \n",
    "    #define our average tweet\n",
    "    average_tweet  = outlet_df.describe().iloc[1]\n",
    "    \n",
    "    #find each topic using the topic themes and multiply the average tweet's topic coefficient by the user weights, averaged out across theme. \n",
    "    for i in average_tweet.index:\n",
    "        if str(i) in Covid_topics:\n",
    "            weight = Covid/len(Covid_topics)\n",
    "        elif str(i) in Staying_at_Home_topics:\n",
    "            weight = Staying_at_Home/len(Staying_at_Home_topics)\n",
    "        elif str(i) in US_Politics_topics:\n",
    "            weight = US_Politics/len(US_Politics_topics)\n",
    "        elif str(i) in Global_Politics_topics:\n",
    "            weight = Global_Politics/len(Global_Politics_topics)\n",
    "        elif str(i) in Global_Economy_topics:\n",
    "            weight = Global_Economy/len(Global_Economy_topics)\n",
    "        elif str(i) in Social_Issues_topics:\n",
    "            weight = Social_Issues/len(Social_Issues_topics)\n",
    "        elif str(i) in Business_topics:\n",
    "            weight = Business/len(Business_topics)\n",
    "        elif str(i) in Personal_Development_topics:\n",
    "            weight = Personal_Development/len(Personal_Development_topics)\n",
    "        elif str(i) in Hobbies_topics:\n",
    "            weight = Hobbies\n",
    "        else:\n",
    "            weight = 1\n",
    "        \n",
    "        #apply weights to each average tweet topic coefficient, transforming vector into one that contains user topic preferences\n",
    "        average_tweet[str(i)] = average_tweet[str(i)]*weight\n",
    "        user_vector = average_tweet.values.reshape(1,-1)\n",
    "    \n",
    "    #compare the average tweet--now manipulated with user weights to be the user vector, to the outlet vectors in the dataframe\n",
    "    similarity_matrix = []\n",
    "    #computing the cosine similarity between each news vector( each row in outlet_df) and the user vector(average_tweet)    \n",
    "    similarity_matrix = cosine_similarity(outlet_df.iloc[:,1:], user_vector)\n",
    "\n",
    "    #find the max index of list\n",
    "    max_index = np.argmax(similarity_matrix)\n",
    "    #use max index to find its referred outlet\n",
    "    similar_outlet = outlet_df.iloc[max_index, 0]\n",
    "    \n",
    "    #return the outlet with the highest cosine similarity to our user vector\n",
    "    return similar_outlet\n",
    "\n"
   ]
  },
  {
   "cell_type": "code",
   "execution_count": 32,
   "metadata": {},
   "outputs": [
    {
     "output_type": "execute_result",
     "data": {
      "text/plain": [
       "'Medium'"
      ]
     },
     "metadata": {},
     "execution_count": 32
    }
   ],
   "source": [
    "News_Outlet_Recommender(outlet_df, Covid = 0, Staying_at_Home = 1, US_Politics = 0, Global_Politics = 0, Global_Economy = 1, Social_Issues = 2, Business = 1, Personal_Development =2, Hobbies=0)"
   ]
  },
  {
   "cell_type": "code",
   "execution_count": 28,
   "metadata": {},
   "outputs": [],
   "source": [
    "del News_Outlet_Recommender"
   ]
  },
  {
   "cell_type": "code",
   "execution_count": null,
   "metadata": {},
   "outputs": [],
   "source": []
  }
 ],
 "metadata": {
  "kernelspec": {
   "name": "python3",
   "display_name": "Python 3.8.5 64-bit ('metis': conda)",
   "metadata": {
    "interpreter": {
     "hash": "1d0d04aa2644a0c780238b0ddc137c378f262d4a91aabf7e22427563e7a47ad8"
    }
   }
  },
  "language_info": {
   "codemirror_mode": {
    "name": "ipython",
    "version": 3
   },
   "file_extension": ".py",
   "mimetype": "text/x-python",
   "name": "python",
   "nbconvert_exporter": "python",
   "pygments_lexer": "ipython3",
   "version": "3.8.5-final"
  }
 },
 "nbformat": 4,
 "nbformat_minor": 4
}