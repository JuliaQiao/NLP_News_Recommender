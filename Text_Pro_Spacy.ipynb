{
 "metadata": {
  "language_info": {
   "codemirror_mode": {
    "name": "ipython",
    "version": 3
   },
   "file_extension": ".py",
   "mimetype": "text/x-python",
   "name": "python",
   "nbconvert_exporter": "python",
   "pygments_lexer": "ipython3",
   "version": "3.8.5-final"
  },
  "orig_nbformat": 2,
  "kernelspec": {
   "name": "python3",
   "display_name": "Python 3"
  }
 },
 "nbformat": 4,
 "nbformat_minor": 2,
 "cells": [
  {
   "source": [
    "## CLEANING AND VECTORIZATION\n",
    "In this notebook we will be pre-processing, cleaning, lemmatizing, tagging, and vectorizing our webscraped tweets. The goal is to create an optimized document-term matrix for topic modeling."
   ],
   "cell_type": "markdown",
   "metadata": {}
  },
  {
   "cell_type": "code",
   "execution_count": 19,
   "metadata": {},
   "outputs": [],
   "source": [
    "import pandas as pd\n",
    "import spacy\n",
    "import re\n",
    "from sklearn.feature_extraction.text import TfidfVectorizer\n",
    "from langdetect import detect\n",
    "import unicodedata"
   ]
  },
  {
   "source": [
    "### Standardize Encoding\n",
    "\n",
    "Read in CSV as dataframe, and standardize encoding."
   ],
   "cell_type": "markdown",
   "metadata": {}
  },
  {
   "cell_type": "code",
   "execution_count": 12,
   "metadata": {},
   "outputs": [],
   "source": [
    "df_raw = pd.read_csv('df_raw.csv', encoding='utf-8', index_col=0)"
   ]
  },
  {
   "cell_type": "code",
   "execution_count": 5,
   "metadata": {},
   "outputs": [
    {
     "output_type": "execute_result",
     "data": {
      "text/plain": [
       "Index(['user', 'date', 'url', 'outlinks', 'content'], dtype='object')"
      ]
     },
     "metadata": {},
     "execution_count": 5
    }
   ],
   "source": [
    "df_raw.columns"
   ]
  },
  {
   "cell_type": "code",
   "execution_count": 13,
   "metadata": {},
   "outputs": [],
   "source": [
    "#reindex the columns for easier viewing\n",
    "cols = df_raw.columns.tolist()\n",
    "\n",
    "cols.insert(2, cols.pop(cols.index('url')))\n",
    "\n",
    "df_raw= df_raw.reindex(columns= cols)"
   ]
  },
  {
   "source": [
    "Decode our webscrapped tweets into ascii so we can remove emojis and foreign characters easily during our pre-processing steps."
   ],
   "cell_type": "markdown",
   "metadata": {}
  },
  {
   "cell_type": "code",
   "execution_count": 29,
   "metadata": {},
   "outputs": [],
   "source": [
    "#decoded unicode into ascii\n",
    "df_raw['clean'] = df_raw['content'].apply(lambda x: unicodedata.normalize('NFKD', x).encode('ascii', 'ignore').decode('ascii'))"
   ]
  },
  {
   "cell_type": "code",
   "execution_count": 30,
   "metadata": {},
   "outputs": [
    {
     "output_type": "execute_result",
     "data": {
      "text/plain": [
       "                                                user  \\\n",
       "0  {'username': 'TheAtlantic', 'displayname': 'Th...   \n",
       "1  {'username': 'TheAtlantic', 'displayname': 'Th...   \n",
       "2  {'username': 'TheAtlantic', 'displayname': 'Th...   \n",
       "3  {'username': 'TheAtlantic', 'displayname': 'Th...   \n",
       "4  {'username': 'TheAtlantic', 'displayname': 'Th...   \n",
       "\n",
       "                        date  \\\n",
       "0  2020-11-01T01:08:48+00:00   \n",
       "1  2020-11-01T00:38:45+00:00   \n",
       "2  2020-11-01T00:06:48+00:00   \n",
       "3  2020-10-31T23:34:45+00:00   \n",
       "4  2020-10-31T23:04:31+00:00   \n",
       "\n",
       "                                                 url  \\\n",
       "0  https://twitter.com/TheAtlantic/status/1322707...   \n",
       "1  https://twitter.com/TheAtlantic/status/1322699...   \n",
       "2  https://twitter.com/TheAtlantic/status/1322691...   \n",
       "3  https://twitter.com/TheAtlantic/status/1322683...   \n",
       "4  https://twitter.com/TheAtlantic/status/1322675...   \n",
       "\n",
       "                           outlinks  \\\n",
       "0  ['http://on.theatln.tc/YXH6gyR']   \n",
       "1  ['http://on.theatln.tc/l89Uzv7']   \n",
       "2  ['http://on.theatln.tc/ZGvkM7u']   \n",
       "3  ['http://on.theatln.tc/kypt5Zc']   \n",
       "4  ['http://on.theatln.tc/rNbarVc']   \n",
       "\n",
       "                                             content  \\\n",
       "0  The Atlantic Daily: Will this decade be the ne...   \n",
       "1  There's plenty that's going wrong for Trump. H...   \n",
       "2  If Trump tries to steal the election, people w...   \n",
       "3  The Trump campaign's “election-security operat...   \n",
       "4  Even if Joe Biden wins decisively next week, t...   \n",
       "\n",
       "                                               clean  \n",
       "0  The Atlantic Daily: Will this decade be the ne...  \n",
       "1  There's plenty that's going wrong for Trump. H...  \n",
       "2  If Trump tries to steal the election, people w...  \n",
       "3  The Trump campaign's election-security operati...  \n",
       "4  Even if Joe Biden wins decisively next week, t...  "
      ],
      "text/html": "<div>\n<style scoped>\n    .dataframe tbody tr th:only-of-type {\n        vertical-align: middle;\n    }\n\n    .dataframe tbody tr th {\n        vertical-align: top;\n    }\n\n    .dataframe thead th {\n        text-align: right;\n    }\n</style>\n<table border=\"1\" class=\"dataframe\">\n  <thead>\n    <tr style=\"text-align: right;\">\n      <th></th>\n      <th>user</th>\n      <th>date</th>\n      <th>url</th>\n      <th>outlinks</th>\n      <th>content</th>\n      <th>clean</th>\n    </tr>\n  </thead>\n  <tbody>\n    <tr>\n      <th>0</th>\n      <td>{'username': 'TheAtlantic', 'displayname': 'Th...</td>\n      <td>2020-11-01T01:08:48+00:00</td>\n      <td>https://twitter.com/TheAtlantic/status/1322707...</td>\n      <td>['http://on.theatln.tc/YXH6gyR']</td>\n      <td>The Atlantic Daily: Will this decade be the ne...</td>\n      <td>The Atlantic Daily: Will this decade be the ne...</td>\n    </tr>\n    <tr>\n      <th>1</th>\n      <td>{'username': 'TheAtlantic', 'displayname': 'Th...</td>\n      <td>2020-11-01T00:38:45+00:00</td>\n      <td>https://twitter.com/TheAtlantic/status/1322699...</td>\n      <td>['http://on.theatln.tc/l89Uzv7']</td>\n      <td>There's plenty that's going wrong for Trump. H...</td>\n      <td>There's plenty that's going wrong for Trump. H...</td>\n    </tr>\n    <tr>\n      <th>2</th>\n      <td>{'username': 'TheAtlantic', 'displayname': 'Th...</td>\n      <td>2020-11-01T00:06:48+00:00</td>\n      <td>https://twitter.com/TheAtlantic/status/1322691...</td>\n      <td>['http://on.theatln.tc/ZGvkM7u']</td>\n      <td>If Trump tries to steal the election, people w...</td>\n      <td>If Trump tries to steal the election, people w...</td>\n    </tr>\n    <tr>\n      <th>3</th>\n      <td>{'username': 'TheAtlantic', 'displayname': 'Th...</td>\n      <td>2020-10-31T23:34:45+00:00</td>\n      <td>https://twitter.com/TheAtlantic/status/1322683...</td>\n      <td>['http://on.theatln.tc/kypt5Zc']</td>\n      <td>The Trump campaign's “election-security operat...</td>\n      <td>The Trump campaign's election-security operati...</td>\n    </tr>\n    <tr>\n      <th>4</th>\n      <td>{'username': 'TheAtlantic', 'displayname': 'Th...</td>\n      <td>2020-10-31T23:04:31+00:00</td>\n      <td>https://twitter.com/TheAtlantic/status/1322675...</td>\n      <td>['http://on.theatln.tc/rNbarVc']</td>\n      <td>Even if Joe Biden wins decisively next week, t...</td>\n      <td>Even if Joe Biden wins decisively next week, t...</td>\n    </tr>\n  </tbody>\n</table>\n</div>"
     },
     "metadata": {},
     "execution_count": 30
    }
   ],
   "source": [
    "df_raw.head()"
   ]
  },
  {
   "source": [
    "### Preprocessing"
   ],
   "cell_type": "markdown",
   "metadata": {}
  },
  {
   "cell_type": "code",
   "execution_count": 32,
   "metadata": {},
   "outputs": [],
   "source": [
    "def preprocess(tweet):\n",
    "    \"\"\"\n",
    "    Takes in tweet and performs initial text cleaning/preprocessing.\n",
    "    \"\"\"\n",
    "    #make sure doc is string\n",
    "    tweet=str(tweet)\n",
    "    #lowercase-- not changing anything to lowercase yet due to proper nouns being very important. want to use Spacy to detect later.\n",
    "    #tweet = tweet.lower()\n",
    "    #get rid of urls\n",
    "    rem_url=re.sub(r'http\\S+', '', tweet)\n",
    "    #gets rid of @ tags\n",
    "    rem_tag = re.sub('@\\S+', '', rem_url)\n",
    "    #gets rid of # in hashtag but keeps content of hashtag\n",
    "    rem_hashtag = re.sub('#', '', rem_tag)\n",
    "    #gets rid of special characters, numbers, etc.\n",
    "    clean_text = re.sub(r'[^A-Za-z\\s]','', rem_hashtag)\n",
    "\n",
    "    return clean_text"
   ]
  },
  {
   "cell_type": "code",
   "execution_count": 33,
   "metadata": {},
   "outputs": [],
   "source": [
    "df_raw['clean']=df_raw['clean'].map(lambda x:preprocess(x))"
   ]
  },
  {
   "cell_type": "code",
   "execution_count": 80,
   "metadata": {},
   "outputs": [
    {
     "output_type": "execute_result",
     "data": {
      "text/plain": [
       "                                             content  \\\n",
       "0  The Atlantic Daily: Will this decade be the ne...   \n",
       "1  There's plenty that's going wrong for Trump. H...   \n",
       "2  If Trump tries to steal the election, people w...   \n",
       "\n",
       "                                               clean  \n",
       "0  The Atlantic Daily Will this decade be the new s   \n",
       "1  Theres plenty thats going wrong for Trump Here...  \n",
       "2  If Trump tries to steal the election people wi...  "
      ],
      "text/html": "<div>\n<style scoped>\n    .dataframe tbody tr th:only-of-type {\n        vertical-align: middle;\n    }\n\n    .dataframe tbody tr th {\n        vertical-align: top;\n    }\n\n    .dataframe thead th {\n        text-align: right;\n    }\n</style>\n<table border=\"1\" class=\"dataframe\">\n  <thead>\n    <tr style=\"text-align: right;\">\n      <th></th>\n      <th>content</th>\n      <th>clean</th>\n    </tr>\n  </thead>\n  <tbody>\n    <tr>\n      <th>0</th>\n      <td>The Atlantic Daily: Will this decade be the ne...</td>\n      <td>The Atlantic Daily Will this decade be the new s</td>\n    </tr>\n    <tr>\n      <th>1</th>\n      <td>There's plenty that's going wrong for Trump. H...</td>\n      <td>Theres plenty thats going wrong for Trump Here...</td>\n    </tr>\n    <tr>\n      <th>2</th>\n      <td>If Trump tries to steal the election, people w...</td>\n      <td>If Trump tries to steal the election people wi...</td>\n    </tr>\n  </tbody>\n</table>\n</div>"
     },
     "metadata": {},
     "execution_count": 80
    }
   ],
   "source": [
    "df_raw[['content', 'clean']].head(3)"
   ]
  },
  {
   "source": [
    "### Standardize Language\n",
    "\n",
    "Let's remove any foreign language tweets to make sure we're only focusing on English. "
   ],
   "cell_type": "markdown",
   "metadata": {}
  },
  {
   "cell_type": "code",
   "execution_count": 37,
   "metadata": {},
   "outputs": [],
   "source": [
    "def english_only(x):\n",
    "    \"\"\"\n",
    "    Take tweet, detect language, and only return English tweets, coding foreign language tweets as NaNs.\n",
    "    \"\"\"\n",
    "    try:\n",
    "        if detect(x) == 'en':\n",
    "            return x\n",
    "        else:\n",
    "            return np.nan\n",
    "    except:\n",
    "        pass\n"
   ]
  },
  {
   "cell_type": "code",
   "execution_count": 38,
   "metadata": {},
   "outputs": [
    {
     "output_type": "stream",
     "name": "stdout",
     "text": [
      "CPU times: user 12min 4s, sys: 6.02 s, total: 12min 10s\nWall time: 12min 14s\n"
     ]
    }
   ],
   "source": [
    "%%time\n",
    "#  Remove any non english tweets\n",
    "df_raw['clean'] = df_raw['clean'].apply(lambda x: english_only(x))\n"
   ]
  },
  {
   "cell_type": "code",
   "execution_count": 39,
   "metadata": {},
   "outputs": [
    {
     "output_type": "execute_result",
     "data": {
      "text/plain": [
       "1251"
      ]
     },
     "metadata": {},
     "execution_count": 39
    }
   ],
   "source": [
    "df_raw.clean.isnull().sum()\n"
   ]
  },
  {
   "cell_type": "code",
   "execution_count": 40,
   "metadata": {},
   "outputs": [],
   "source": [
    "#drop non-English tweets\n",
    "df_raw = df_raw[df_raw.clean.notnull()]"
   ]
  },
  {
   "source": [
    "### Tagging and Lemmatizing\n",
    "\n",
    "We only want the nouns (and proper nouns) in each tweet for topic modeling, as they are the essence of article subjects. Let's tag the nouns and return the lemmatized versions of tehm in a single step.\n",
    "\n",
    "Because we also have so much data, we will incoporate the NLP pipeline in order to shorten the processing time. Tips on how to do this were found here: https://towardsdatascience.com/turbo-charge-your-spacy-nlp-pipeline-551435b664ad"
   ],
   "cell_type": "markdown",
   "metadata": {}
  },
  {
   "cell_type": "code",
   "execution_count": 41,
   "metadata": {},
   "outputs": [],
   "source": [
    "nlp = spacy.load('en_core_web_sm', disable=[ 'parser', 'ner'])"
   ]
  },
  {
   "cell_type": "code",
   "execution_count": 42,
   "metadata": {},
   "outputs": [],
   "source": [
    "def noun_lemmatize_pipe(doc):\n",
    "    \"\"\"\n",
    "    Takes in tweet and returns only the lemmatized version of nouns (including proper nouns).\n",
    "    \"\"\"\n",
    "    lemma_list = [token.lemma_ for token in doc\n",
    "                  if token.pos_ == \"NOUN\" or token.pos_ ==\"PROPN\"] \n",
    "    return lemma_list\n",
    "\n",
    "#create a pipeline in order to shorten processing time\n",
    "def preprocess_pipe(texts):\n",
    "    \"\"\"\n",
    "    Inputs noun_lemmative_pipe function into NLP pipeline for faster processing.\n",
    "    \"\"\"\n",
    "    preproc_pipe = []\n",
    "    for doc in nlp.pipe(texts, batch_size=50):\n",
    "        preproc_pipe.append(noun_lemmatize_pipe(doc))\n",
    "    return preproc_pipe"
   ]
  },
  {
   "cell_type": "code",
   "execution_count": 43,
   "metadata": {},
   "outputs": [
    {
     "output_type": "stream",
     "name": "stdout",
     "text": [
      "CPU times: user 2min 22s, sys: 670 ms, total: 2min 23s\nWall time: 2min 24s\n"
     ]
    }
   ],
   "source": [
    "%%time\n",
    "#apply function and create a new column to house the outputs\n",
    "df_raw['clean_lemmatized'] = preprocess_pipe(df_raw['clean'])\n"
   ]
  },
  {
   "cell_type": "code",
   "execution_count": 79,
   "metadata": {},
   "outputs": [
    {
     "output_type": "execute_result",
     "data": {
      "text/plain": [
       "                                             content  \\\n",
       "0  The Atlantic Daily: Will this decade be the ne...   \n",
       "1  There's plenty that's going wrong for Trump. H...   \n",
       "2  If Trump tries to steal the election, people w...   \n",
       "\n",
       "                                               clean  \\\n",
       "0  The Atlantic Daily Will this decade be the new s    \n",
       "1  Theres plenty thats going wrong for Trump Here...   \n",
       "2  If Trump tries to steal the election people wi...   \n",
       "\n",
       "                                    clean_lemmatized  \n",
       "0                                        [decade, s]  \n",
       "1  [plenty, Trump, thing, campaign, gap, Joe, Bid...  \n",
       "2   [Trump, election, people, coup, strategy, write]  "
      ],
      "text/html": "<div>\n<style scoped>\n    .dataframe tbody tr th:only-of-type {\n        vertical-align: middle;\n    }\n\n    .dataframe tbody tr th {\n        vertical-align: top;\n    }\n\n    .dataframe thead th {\n        text-align: right;\n    }\n</style>\n<table border=\"1\" class=\"dataframe\">\n  <thead>\n    <tr style=\"text-align: right;\">\n      <th></th>\n      <th>content</th>\n      <th>clean</th>\n      <th>clean_lemmatized</th>\n    </tr>\n  </thead>\n  <tbody>\n    <tr>\n      <th>0</th>\n      <td>The Atlantic Daily: Will this decade be the ne...</td>\n      <td>The Atlantic Daily Will this decade be the new s</td>\n      <td>[decade, s]</td>\n    </tr>\n    <tr>\n      <th>1</th>\n      <td>There's plenty that's going wrong for Trump. H...</td>\n      <td>Theres plenty thats going wrong for Trump Here...</td>\n      <td>[plenty, Trump, thing, campaign, gap, Joe, Bid...</td>\n    </tr>\n    <tr>\n      <th>2</th>\n      <td>If Trump tries to steal the election, people w...</td>\n      <td>If Trump tries to steal the election people wi...</td>\n      <td>[Trump, election, people, coup, strategy, write]</td>\n    </tr>\n  </tbody>\n</table>\n</div>"
     },
     "metadata": {},
     "execution_count": 79
    }
   ],
   "source": [
    "df_raw[['content', 'clean', 'clean_lemmatized']].head(3)"
   ]
  },
  {
   "source": [
    "We've successfully filtered out the nouns and proper nouns, lemmitized them, while making sure our function runs on optimized time!"
   ],
   "cell_type": "markdown",
   "metadata": {}
  },
  {
   "source": [
    "### Remove Additional Words\n",
    "\n",
    "Let's filter out any additional words that may appear in the tweets but aren't related to article subjects, like the names of the publications and common headline section titles."
   ],
   "cell_type": "markdown",
   "metadata": {}
  },
  {
   "source": [
    "removal_words= [\"Times\", \"Wall\", \"Street\", \"Journal\", \"New\", \"Yorker\", \"York\", \"Medium\", \"Wired\", \"Financial\", \"Washington\", \"Post\", \"Business\", \"Insider\", \"Economist\", \"The\", \"Atlantic\", \"Daily\", \"Weekly\", \"SPONSORED\", \"Sponsored\", \"BREAKING\", \"Breaking\", \"NEWS\", \"News\" ]"
   ],
   "cell_type": "code",
   "metadata": {},
   "execution_count": 54,
   "outputs": []
  },
  {
   "cell_type": "code",
   "execution_count": 73,
   "metadata": {},
   "outputs": [],
   "source": [
    "df_raw['clean_lemmatized'] = df_raw['clean_lemmatized'].apply(lambda x: [word for word in x if word not in removal_words])"
   ]
  },
  {
   "cell_type": "code",
   "execution_count": 78,
   "metadata": {},
   "outputs": [
    {
     "output_type": "execute_result",
     "data": {
      "text/plain": [
       "                                             content  \\\n",
       "0  The Atlantic Daily: Will this decade be the ne...   \n",
       "1  There's plenty that's going wrong for Trump. H...   \n",
       "2  If Trump tries to steal the election, people w...   \n",
       "\n",
       "                                               clean  \\\n",
       "0  The Atlantic Daily Will this decade be the new s    \n",
       "1  Theres plenty thats going wrong for Trump Here...   \n",
       "2  If Trump tries to steal the election people wi...   \n",
       "\n",
       "                                    clean_lemmatized  \\\n",
       "0                                        [decade, s]   \n",
       "1  [plenty, Trump, thing, campaign, gap, Joe, Bid...   \n",
       "2   [Trump, election, people, coup, strategy, write]   \n",
       "\n",
       "                                        clean_final  \n",
       "0                                          decade s  \n",
       "1  plenty Trump thing campaign gap Joe Biden report  \n",
       "2         Trump election people coup strategy write  "
      ],
      "text/html": "<div>\n<style scoped>\n    .dataframe tbody tr th:only-of-type {\n        vertical-align: middle;\n    }\n\n    .dataframe tbody tr th {\n        vertical-align: top;\n    }\n\n    .dataframe thead th {\n        text-align: right;\n    }\n</style>\n<table border=\"1\" class=\"dataframe\">\n  <thead>\n    <tr style=\"text-align: right;\">\n      <th></th>\n      <th>content</th>\n      <th>clean</th>\n      <th>clean_lemmatized</th>\n      <th>clean_final</th>\n    </tr>\n  </thead>\n  <tbody>\n    <tr>\n      <th>0</th>\n      <td>The Atlantic Daily: Will this decade be the ne...</td>\n      <td>The Atlantic Daily Will this decade be the new s</td>\n      <td>[decade, s]</td>\n      <td>decade s</td>\n    </tr>\n    <tr>\n      <th>1</th>\n      <td>There's plenty that's going wrong for Trump. H...</td>\n      <td>Theres plenty thats going wrong for Trump Here...</td>\n      <td>[plenty, Trump, thing, campaign, gap, Joe, Bid...</td>\n      <td>plenty Trump thing campaign gap Joe Biden report</td>\n    </tr>\n    <tr>\n      <th>2</th>\n      <td>If Trump tries to steal the election, people w...</td>\n      <td>If Trump tries to steal the election people wi...</td>\n      <td>[Trump, election, people, coup, strategy, write]</td>\n      <td>Trump election people coup strategy write</td>\n    </tr>\n  </tbody>\n</table>\n</div>"
     },
     "metadata": {},
     "execution_count": 78
    }
   ],
   "source": [
    "df_raw[['content', 'clean', 'clean_lemmatized', 'clean_final']].head(3)"
   ]
  },
  {
   "source": [
    "### Vectorize\n",
    "Now let's rejoin our twice cleaned, lemmatized list of nouns and pronouns!"
   ],
   "cell_type": "markdown",
   "metadata": {}
  },
  {
   "cell_type": "code",
   "execution_count": 74,
   "metadata": {},
   "outputs": [],
   "source": [
    "df_raw['clean_final'] = df_raw['clean_lemmatized'].apply(lambda x: ' '.join(x))"
   ]
  },
  {
   "cell_type": "code",
   "execution_count": 59,
   "metadata": {},
   "outputs": [
    {
     "output_type": "execute_result",
     "data": {
      "text/plain": [
       "                                             content  \\\n",
       "0  The Atlantic Daily: Will this decade be the ne...   \n",
       "1  There's plenty that's going wrong for Trump. H...   \n",
       "2  If Trump tries to steal the election, people w...   \n",
       "\n",
       "                                               clean  \\\n",
       "0  The Atlantic Daily Will this decade be the new s    \n",
       "1  Theres plenty thats going wrong for Trump Here...   \n",
       "2  If Trump tries to steal the election people wi...   \n",
       "\n",
       "                                    clean_lemmatized  \\\n",
       "0                                        [decade, s]   \n",
       "1  [plenty, Trump, thing, campaign, gap, Joe, Bid...   \n",
       "2   [Trump, election, people, coup, strategy, write]   \n",
       "\n",
       "                                        clean_final  \n",
       "0                                          decade s  \n",
       "1  plenty Trump thing campaign gap Joe Biden report  \n",
       "2         Trump election people coup strategy write  "
      ],
      "text/html": "<div>\n<style scoped>\n    .dataframe tbody tr th:only-of-type {\n        vertical-align: middle;\n    }\n\n    .dataframe tbody tr th {\n        vertical-align: top;\n    }\n\n    .dataframe thead th {\n        text-align: right;\n    }\n</style>\n<table border=\"1\" class=\"dataframe\">\n  <thead>\n    <tr style=\"text-align: right;\">\n      <th></th>\n      <th>content</th>\n      <th>clean</th>\n      <th>clean_lemmatized</th>\n      <th>clean_final</th>\n    </tr>\n  </thead>\n  <tbody>\n    <tr>\n      <th>0</th>\n      <td>The Atlantic Daily: Will this decade be the ne...</td>\n      <td>The Atlantic Daily Will this decade be the new s</td>\n      <td>[decade, s]</td>\n      <td>decade s</td>\n    </tr>\n    <tr>\n      <th>1</th>\n      <td>There's plenty that's going wrong for Trump. H...</td>\n      <td>Theres plenty thats going wrong for Trump Here...</td>\n      <td>[plenty, Trump, thing, campaign, gap, Joe, Bid...</td>\n      <td>plenty Trump thing campaign gap Joe Biden report</td>\n    </tr>\n    <tr>\n      <th>2</th>\n      <td>If Trump tries to steal the election, people w...</td>\n      <td>If Trump tries to steal the election people wi...</td>\n      <td>[Trump, election, people, coup, strategy, write]</td>\n      <td>Trump election people coup strategy write</td>\n    </tr>\n  </tbody>\n</table>\n</div>"
     },
     "metadata": {},
     "execution_count": 59
    }
   ],
   "source": [
    "df_raw[['content', 'clean', 'clean_lemmatized', 'clean_final']].head(3)"
   ]
  },
  {
   "source": [
    "We will be using TFID Vectorizer as opposed to Count Vectorizer, so we can give equal weight to rare words. Because our focus is on nouns and pronouns, rare words are likely to be just as, if not more impactful, as words that are frequently used. \n",
    "\n",
    "We'll also be using some of the built in parameters in the TFID Vectorizer as last checks before we output our doc-term matrix."
   ],
   "cell_type": "markdown",
   "metadata": {}
  },
  {
   "cell_type": "code",
   "execution_count": 91,
   "metadata": {},
   "outputs": [],
   "source": [
    "#define vectorizer and set parameters in order to standardize everything to lowercase, remove any stop words, and remove any word that appears below 0.005%, about 10 times.\n",
    "tfidf = TfidfVectorizer(lowercase = True, stop_words= 'english', min_df = 0.00005)\n",
    "#fit on fully cleaned dataframe column\n",
    "doc_term_matrix = tfidf.fit_transform(df_raw['clean_final'])\n",
    "#turn matrix into a dataframe with words as columns\n",
    "matrix_df = pd.DataFrame(doc_term_matrix.toarray(), columns=tfidf.get_feature_names())"
   ]
  },
  {
   "cell_type": "code",
   "execution_count": 92,
   "metadata": {},
   "outputs": [
    {
     "output_type": "execute_result",
     "data": {
      "text/plain": [
       "        aaron   ab  abandonment  abbey  abbott  abby  abc  abe  abenomics  \\\n",
       "0         0.0  0.0          0.0    0.0     0.0   0.0  0.0  0.0        0.0   \n",
       "1         0.0  0.0          0.0    0.0     0.0   0.0  0.0  0.0        0.0   \n",
       "2         0.0  0.0          0.0    0.0     0.0   0.0  0.0  0.0        0.0   \n",
       "3         0.0  0.0          0.0    0.0     0.0   0.0  0.0  0.0        0.0   \n",
       "4         0.0  0.0          0.0    0.0     0.0   0.0  0.0  0.0        0.0   \n",
       "...       ...  ...          ...    ...     ...   ...  ...  ...        ...   \n",
       "198744    0.0  0.0          0.0    0.0     0.0   0.0  0.0  0.0        0.0   \n",
       "198745    0.0  0.0          0.0    0.0     0.0   0.0  0.0  0.0        0.0   \n",
       "198746    0.0  0.0          0.0    0.0     0.0   0.0  0.0  0.0        0.0   \n",
       "198747    0.0  0.0          0.0    0.0     0.0   0.0  0.0  0.0        0.0   \n",
       "198748    0.0  0.0          0.0    0.0     0.0   0.0  0.0  0.0        0.0   \n",
       "\n",
       "        aberration  ...  zoo  zoological  zoom  zooms  zoos  zoox  zora  \\\n",
       "0              0.0  ...  0.0         0.0   0.0    0.0   0.0   0.0   0.0   \n",
       "1              0.0  ...  0.0         0.0   0.0    0.0   0.0   0.0   0.0   \n",
       "2              0.0  ...  0.0         0.0   0.0    0.0   0.0   0.0   0.0   \n",
       "3              0.0  ...  0.0         0.0   0.0    0.0   0.0   0.0   0.0   \n",
       "4              0.0  ...  0.0         0.0   0.0    0.0   0.0   0.0   0.0   \n",
       "...            ...  ...  ...         ...   ...    ...   ...   ...   ...   \n",
       "198744         0.0  ...  0.0         0.0   0.0    0.0   0.0   0.0   0.0   \n",
       "198745         0.0  ...  0.0         0.0   0.0    0.0   0.0   0.0   0.0   \n",
       "198746         0.0  ...  0.0         0.0   0.0    0.0   0.0   0.0   0.0   \n",
       "198747         0.0  ...  0.0         0.0   0.0    0.0   0.0   0.0   0.0   \n",
       "198748         0.0  ...  0.0         0.0   0.0    0.0   0.0   0.0   0.0   \n",
       "\n",
       "        zuckerberg  zuckerbergs  zuzana  \n",
       "0              0.0          0.0     0.0  \n",
       "1              0.0          0.0     0.0  \n",
       "2              0.0          0.0     0.0  \n",
       "3              0.0          0.0     0.0  \n",
       "4              0.0          0.0     0.0  \n",
       "...            ...          ...     ...  \n",
       "198744         0.0          0.0     0.0  \n",
       "198745         0.0          0.0     0.0  \n",
       "198746         0.0          0.0     0.0  \n",
       "198747         0.0          0.0     0.0  \n",
       "198748         0.0          0.0     0.0  \n",
       "\n",
       "[198749 rows x 10671 columns]"
      ],
      "text/html": "<div>\n<style scoped>\n    .dataframe tbody tr th:only-of-type {\n        vertical-align: middle;\n    }\n\n    .dataframe tbody tr th {\n        vertical-align: top;\n    }\n\n    .dataframe thead th {\n        text-align: right;\n    }\n</style>\n<table border=\"1\" class=\"dataframe\">\n  <thead>\n    <tr style=\"text-align: right;\">\n      <th></th>\n      <th>aaron</th>\n      <th>ab</th>\n      <th>abandonment</th>\n      <th>abbey</th>\n      <th>abbott</th>\n      <th>abby</th>\n      <th>abc</th>\n      <th>abe</th>\n      <th>abenomics</th>\n      <th>aberration</th>\n      <th>...</th>\n      <th>zoo</th>\n      <th>zoological</th>\n      <th>zoom</th>\n      <th>zooms</th>\n      <th>zoos</th>\n      <th>zoox</th>\n      <th>zora</th>\n      <th>zuckerberg</th>\n      <th>zuckerbergs</th>\n      <th>zuzana</th>\n    </tr>\n  </thead>\n  <tbody>\n    <tr>\n      <th>0</th>\n      <td>0.0</td>\n      <td>0.0</td>\n      <td>0.0</td>\n      <td>0.0</td>\n      <td>0.0</td>\n      <td>0.0</td>\n      <td>0.0</td>\n      <td>0.0</td>\n      <td>0.0</td>\n      <td>0.0</td>\n      <td>...</td>\n      <td>0.0</td>\n      <td>0.0</td>\n      <td>0.0</td>\n      <td>0.0</td>\n      <td>0.0</td>\n      <td>0.0</td>\n      <td>0.0</td>\n      <td>0.0</td>\n      <td>0.0</td>\n      <td>0.0</td>\n    </tr>\n    <tr>\n      <th>1</th>\n      <td>0.0</td>\n      <td>0.0</td>\n      <td>0.0</td>\n      <td>0.0</td>\n      <td>0.0</td>\n      <td>0.0</td>\n      <td>0.0</td>\n      <td>0.0</td>\n      <td>0.0</td>\n      <td>0.0</td>\n      <td>...</td>\n      <td>0.0</td>\n      <td>0.0</td>\n      <td>0.0</td>\n      <td>0.0</td>\n      <td>0.0</td>\n      <td>0.0</td>\n      <td>0.0</td>\n      <td>0.0</td>\n      <td>0.0</td>\n      <td>0.0</td>\n    </tr>\n    <tr>\n      <th>2</th>\n      <td>0.0</td>\n      <td>0.0</td>\n      <td>0.0</td>\n      <td>0.0</td>\n      <td>0.0</td>\n      <td>0.0</td>\n      <td>0.0</td>\n      <td>0.0</td>\n      <td>0.0</td>\n      <td>0.0</td>\n      <td>...</td>\n      <td>0.0</td>\n      <td>0.0</td>\n      <td>0.0</td>\n      <td>0.0</td>\n      <td>0.0</td>\n      <td>0.0</td>\n      <td>0.0</td>\n      <td>0.0</td>\n      <td>0.0</td>\n      <td>0.0</td>\n    </tr>\n    <tr>\n      <th>3</th>\n      <td>0.0</td>\n      <td>0.0</td>\n      <td>0.0</td>\n      <td>0.0</td>\n      <td>0.0</td>\n      <td>0.0</td>\n      <td>0.0</td>\n      <td>0.0</td>\n      <td>0.0</td>\n      <td>0.0</td>\n      <td>...</td>\n      <td>0.0</td>\n      <td>0.0</td>\n      <td>0.0</td>\n      <td>0.0</td>\n      <td>0.0</td>\n      <td>0.0</td>\n      <td>0.0</td>\n      <td>0.0</td>\n      <td>0.0</td>\n      <td>0.0</td>\n    </tr>\n    <tr>\n      <th>4</th>\n      <td>0.0</td>\n      <td>0.0</td>\n      <td>0.0</td>\n      <td>0.0</td>\n      <td>0.0</td>\n      <td>0.0</td>\n      <td>0.0</td>\n      <td>0.0</td>\n      <td>0.0</td>\n      <td>0.0</td>\n      <td>...</td>\n      <td>0.0</td>\n      <td>0.0</td>\n      <td>0.0</td>\n      <td>0.0</td>\n      <td>0.0</td>\n      <td>0.0</td>\n      <td>0.0</td>\n      <td>0.0</td>\n      <td>0.0</td>\n      <td>0.0</td>\n    </tr>\n    <tr>\n      <th>...</th>\n      <td>...</td>\n      <td>...</td>\n      <td>...</td>\n      <td>...</td>\n      <td>...</td>\n      <td>...</td>\n      <td>...</td>\n      <td>...</td>\n      <td>...</td>\n      <td>...</td>\n      <td>...</td>\n      <td>...</td>\n      <td>...</td>\n      <td>...</td>\n      <td>...</td>\n      <td>...</td>\n      <td>...</td>\n      <td>...</td>\n      <td>...</td>\n      <td>...</td>\n      <td>...</td>\n    </tr>\n    <tr>\n      <th>198744</th>\n      <td>0.0</td>\n      <td>0.0</td>\n      <td>0.0</td>\n      <td>0.0</td>\n      <td>0.0</td>\n      <td>0.0</td>\n      <td>0.0</td>\n      <td>0.0</td>\n      <td>0.0</td>\n      <td>0.0</td>\n      <td>...</td>\n      <td>0.0</td>\n      <td>0.0</td>\n      <td>0.0</td>\n      <td>0.0</td>\n      <td>0.0</td>\n      <td>0.0</td>\n      <td>0.0</td>\n      <td>0.0</td>\n      <td>0.0</td>\n      <td>0.0</td>\n    </tr>\n    <tr>\n      <th>198745</th>\n      <td>0.0</td>\n      <td>0.0</td>\n      <td>0.0</td>\n      <td>0.0</td>\n      <td>0.0</td>\n      <td>0.0</td>\n      <td>0.0</td>\n      <td>0.0</td>\n      <td>0.0</td>\n      <td>0.0</td>\n      <td>...</td>\n      <td>0.0</td>\n      <td>0.0</td>\n      <td>0.0</td>\n      <td>0.0</td>\n      <td>0.0</td>\n      <td>0.0</td>\n      <td>0.0</td>\n      <td>0.0</td>\n      <td>0.0</td>\n      <td>0.0</td>\n    </tr>\n    <tr>\n      <th>198746</th>\n      <td>0.0</td>\n      <td>0.0</td>\n      <td>0.0</td>\n      <td>0.0</td>\n      <td>0.0</td>\n      <td>0.0</td>\n      <td>0.0</td>\n      <td>0.0</td>\n      <td>0.0</td>\n      <td>0.0</td>\n      <td>...</td>\n      <td>0.0</td>\n      <td>0.0</td>\n      <td>0.0</td>\n      <td>0.0</td>\n      <td>0.0</td>\n      <td>0.0</td>\n      <td>0.0</td>\n      <td>0.0</td>\n      <td>0.0</td>\n      <td>0.0</td>\n    </tr>\n    <tr>\n      <th>198747</th>\n      <td>0.0</td>\n      <td>0.0</td>\n      <td>0.0</td>\n      <td>0.0</td>\n      <td>0.0</td>\n      <td>0.0</td>\n      <td>0.0</td>\n      <td>0.0</td>\n      <td>0.0</td>\n      <td>0.0</td>\n      <td>...</td>\n      <td>0.0</td>\n      <td>0.0</td>\n      <td>0.0</td>\n      <td>0.0</td>\n      <td>0.0</td>\n      <td>0.0</td>\n      <td>0.0</td>\n      <td>0.0</td>\n      <td>0.0</td>\n      <td>0.0</td>\n    </tr>\n    <tr>\n      <th>198748</th>\n      <td>0.0</td>\n      <td>0.0</td>\n      <td>0.0</td>\n      <td>0.0</td>\n      <td>0.0</td>\n      <td>0.0</td>\n      <td>0.0</td>\n      <td>0.0</td>\n      <td>0.0</td>\n      <td>0.0</td>\n      <td>...</td>\n      <td>0.0</td>\n      <td>0.0</td>\n      <td>0.0</td>\n      <td>0.0</td>\n      <td>0.0</td>\n      <td>0.0</td>\n      <td>0.0</td>\n      <td>0.0</td>\n      <td>0.0</td>\n      <td>0.0</td>\n    </tr>\n  </tbody>\n</table>\n<p>198749 rows × 10671 columns</p>\n</div>"
     },
     "metadata": {},
     "execution_count": 92
    }
   ],
   "source": [
    "matrix_df"
   ]
  },
  {
   "cell_type": "code",
   "execution_count": 93,
   "metadata": {},
   "outputs": [
    {
     "output_type": "execute_result",
     "data": {
      "text/plain": [
       "Index(['ab', 'abandonment', 'abbey', 'abbott', 'abby', 'abc', 'abe',\n",
       "       'abenomics', 'aberration', 'abes', 'abhijit', 'abigail', 'ability',\n",
       "       'abiy', 'abolition', 'abolitionist', 'abortion', 'abraham', 'abrams',\n",
       "       'absence', 'absentee', 'absolution', 'absurdity', 'abu', 'abundance',\n",
       "       'abuse', 'abuser', 'abyss', 'ac', 'aca', 'academia', 'academic',\n",
       "       'academy', 'acceleration', 'accelerator', 'accent', 'accenture',\n",
       "       'acceptance', 'access', 'accessibility', 'accessory', 'accident',\n",
       "       'acclaim', 'accommodation', 'accomplice', 'accomplishment', 'accord',\n",
       "       'account', 'accountability', 'accountant', 'accounting', 'accounts',\n",
       "       'accumulation', 'accuracy', 'accusation', 'accuser', 'ache',\n",
       "       'achievement', 'achilles', 'acid', 'ackman', 'acknowledgement', 'aclu',\n",
       "       'acne', 'acosta', 'acquaintance', 'acquisition', 'acquittal', 'acre',\n",
       "       'acrimony', 'acronym', 'act', 'acting', 'action', 'activism',\n",
       "       'activist', 'activity', 'actor', 'actress', 'ad', 'adam', 'adams',\n",
       "       'adaptation', 'add', 'addict', 'addiction', 'addition', 'addon',\n",
       "       'address', 'adfree', 'adhanom', 'adhd', 'adidas', 'adjustment',\n",
       "       'administration', 'administrations', 'administrator', 'admiral',\n",
       "       'admiration'],\n",
       "      dtype='object')"
      ]
     },
     "metadata": {},
     "execution_count": 93
    }
   ],
   "source": [
    "matrix_df.columns[1:100]"
   ]
  },
  {
   "source": [
    "### Next Steps\n",
    "Our doc-term matrix looks great! We have fully cleaned out all special characters and foreign language. We have extracted the nouns and pronouns in their lemmatized forms. Now we can topic model in our next notebook!\n"
   ],
   "cell_type": "markdown",
   "metadata": {}
  },
  {
   "cell_type": "code",
   "execution_count": null,
   "metadata": {},
   "outputs": [],
   "source": []
  }
 ]
}