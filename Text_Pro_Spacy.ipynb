{
 "metadata": {
  "language_info": {
   "codemirror_mode": {
    "name": "ipython",
    "version": 3
   },
   "file_extension": ".py",
   "mimetype": "text/x-python",
   "name": "python",
   "nbconvert_exporter": "python",
   "pygments_lexer": "ipython3",
   "version": "3.8.5-final"
  },
  "orig_nbformat": 2,
  "kernelspec": {
   "name": "python3",
   "display_name": "Python 3"
  }
 },
 "nbformat": 4,
 "nbformat_minor": 2,
 "cells": [
  {
   "source": [
    "# News Recommender: Natural Language Processing"
   ],
   "cell_type": "markdown",
   "metadata": {}
  },
  {
   "source": [
    "*insert title page* with links"
   ],
   "cell_type": "markdown",
   "metadata": {}
  },
  {
   "source": [
    "## CLEANING AND VECTORIZATION\n",
    "In the first section of this notebook, we will be pre-processing, cleaning, lemmatizing, tagging, and vectorizing our webscraped tweets. The goal is to create an optimized document-term matrix for topic modeling."
   ],
   "cell_type": "markdown",
   "metadata": {}
  },
  {
   "cell_type": "code",
   "execution_count": 670,
   "metadata": {},
   "outputs": [],
   "source": [
    "import pandas as pd\n",
    "import numpy as np\n",
    "import spacy\n",
    "import re\n",
    "from sklearn.feature_extraction.text import TfidfVectorizer\n",
    "from langdetect import detect\n",
    "import unicodedata"
   ]
  },
  {
   "source": [
    "### Standardize Encoding\n",
    "\n",
    "Read in CSV as dataframe, and standardize encoding."
   ],
   "cell_type": "markdown",
   "metadata": {}
  },
  {
   "cell_type": "code",
   "execution_count": 671,
   "metadata": {},
   "outputs": [],
   "source": [
    "df_raw = pd.read_csv('df_raw.csv', encoding='utf-8')"
   ]
  },
  {
   "cell_type": "code",
   "execution_count": 672,
   "metadata": {},
   "outputs": [],
   "source": [
    "#drop old index as we've reindex when reading in our CSV\n",
    "df_raw = df_raw.drop(columns = 'Unnamed: 0')"
   ]
  },
  {
   "cell_type": "code",
   "execution_count": 673,
   "metadata": {},
   "outputs": [],
   "source": [
    "#reindex the columns for easier viewing\n",
    "cols = df_raw.columns.tolist()\n",
    "\n",
    "cols.insert(2, cols.pop(cols.index('url')))\n",
    "\n",
    "df_raw= df_raw.reindex(columns= cols)"
   ]
  },
  {
   "source": [
    "Decode our webscrapped tweets into ascii so we can remove emojis and foreign characters easily during our pre-processing steps."
   ],
   "cell_type": "markdown",
   "metadata": {}
  },
  {
   "cell_type": "code",
   "execution_count": 674,
   "metadata": {},
   "outputs": [],
   "source": [
    "#decoded unicode into ascii\n",
    "df_raw['clean'] = df_raw['content'].apply(lambda x: unicodedata.normalize('NFKD', x).encode('ascii', 'ignore').decode('ascii'))"
   ]
  },
  {
   "cell_type": "code",
   "execution_count": 476,
   "metadata": {},
   "outputs": [
    {
     "output_type": "execute_result",
     "data": {
      "text/plain": [
       "                                                user  \\\n",
       "0  {'username': 'TheAtlantic', 'displayname': 'Th...   \n",
       "1  {'username': 'TheAtlantic', 'displayname': 'Th...   \n",
       "2  {'username': 'TheAtlantic', 'displayname': 'Th...   \n",
       "3  {'username': 'TheAtlantic', 'displayname': 'Th...   \n",
       "4  {'username': 'TheAtlantic', 'displayname': 'Th...   \n",
       "\n",
       "                        date  \\\n",
       "0  2020-11-01T01:08:48+00:00   \n",
       "1  2020-11-01T00:38:45+00:00   \n",
       "2  2020-11-01T00:06:48+00:00   \n",
       "3  2020-10-31T23:34:45+00:00   \n",
       "4  2020-10-31T23:04:31+00:00   \n",
       "\n",
       "                                                 url  \\\n",
       "0  https://twitter.com/TheAtlantic/status/1322707...   \n",
       "1  https://twitter.com/TheAtlantic/status/1322699...   \n",
       "2  https://twitter.com/TheAtlantic/status/1322691...   \n",
       "3  https://twitter.com/TheAtlantic/status/1322683...   \n",
       "4  https://twitter.com/TheAtlantic/status/1322675...   \n",
       "\n",
       "                           outlinks  \\\n",
       "0  ['http://on.theatln.tc/YXH6gyR']   \n",
       "1  ['http://on.theatln.tc/l89Uzv7']   \n",
       "2  ['http://on.theatln.tc/ZGvkM7u']   \n",
       "3  ['http://on.theatln.tc/kypt5Zc']   \n",
       "4  ['http://on.theatln.tc/rNbarVc']   \n",
       "\n",
       "                                             content  \\\n",
       "0  The Atlantic Daily: Will this decade be the ne...   \n",
       "1  There's plenty that's going wrong for Trump. H...   \n",
       "2  If Trump tries to steal the election, people w...   \n",
       "3  The Trump campaign's “election-security operat...   \n",
       "4  Even if Joe Biden wins decisively next week, t...   \n",
       "\n",
       "                                               clean  \n",
       "0  The Atlantic Daily: Will this decade be the ne...  \n",
       "1  There's plenty that's going wrong for Trump. H...  \n",
       "2  If Trump tries to steal the election, people w...  \n",
       "3  The Trump campaign's election-security operati...  \n",
       "4  Even if Joe Biden wins decisively next week, t...  "
      ],
      "text/html": "<div>\n<style scoped>\n    .dataframe tbody tr th:only-of-type {\n        vertical-align: middle;\n    }\n\n    .dataframe tbody tr th {\n        vertical-align: top;\n    }\n\n    .dataframe thead th {\n        text-align: right;\n    }\n</style>\n<table border=\"1\" class=\"dataframe\">\n  <thead>\n    <tr style=\"text-align: right;\">\n      <th></th>\n      <th>user</th>\n      <th>date</th>\n      <th>url</th>\n      <th>outlinks</th>\n      <th>content</th>\n      <th>clean</th>\n    </tr>\n  </thead>\n  <tbody>\n    <tr>\n      <th>0</th>\n      <td>{'username': 'TheAtlantic', 'displayname': 'Th...</td>\n      <td>2020-11-01T01:08:48+00:00</td>\n      <td>https://twitter.com/TheAtlantic/status/1322707...</td>\n      <td>['http://on.theatln.tc/YXH6gyR']</td>\n      <td>The Atlantic Daily: Will this decade be the ne...</td>\n      <td>The Atlantic Daily: Will this decade be the ne...</td>\n    </tr>\n    <tr>\n      <th>1</th>\n      <td>{'username': 'TheAtlantic', 'displayname': 'Th...</td>\n      <td>2020-11-01T00:38:45+00:00</td>\n      <td>https://twitter.com/TheAtlantic/status/1322699...</td>\n      <td>['http://on.theatln.tc/l89Uzv7']</td>\n      <td>There's plenty that's going wrong for Trump. H...</td>\n      <td>There's plenty that's going wrong for Trump. H...</td>\n    </tr>\n    <tr>\n      <th>2</th>\n      <td>{'username': 'TheAtlantic', 'displayname': 'Th...</td>\n      <td>2020-11-01T00:06:48+00:00</td>\n      <td>https://twitter.com/TheAtlantic/status/1322691...</td>\n      <td>['http://on.theatln.tc/ZGvkM7u']</td>\n      <td>If Trump tries to steal the election, people w...</td>\n      <td>If Trump tries to steal the election, people w...</td>\n    </tr>\n    <tr>\n      <th>3</th>\n      <td>{'username': 'TheAtlantic', 'displayname': 'Th...</td>\n      <td>2020-10-31T23:34:45+00:00</td>\n      <td>https://twitter.com/TheAtlantic/status/1322683...</td>\n      <td>['http://on.theatln.tc/kypt5Zc']</td>\n      <td>The Trump campaign's “election-security operat...</td>\n      <td>The Trump campaign's election-security operati...</td>\n    </tr>\n    <tr>\n      <th>4</th>\n      <td>{'username': 'TheAtlantic', 'displayname': 'Th...</td>\n      <td>2020-10-31T23:04:31+00:00</td>\n      <td>https://twitter.com/TheAtlantic/status/1322675...</td>\n      <td>['http://on.theatln.tc/rNbarVc']</td>\n      <td>Even if Joe Biden wins decisively next week, t...</td>\n      <td>Even if Joe Biden wins decisively next week, t...</td>\n    </tr>\n  </tbody>\n</table>\n</div>"
     },
     "metadata": {},
     "execution_count": 476
    }
   ],
   "source": [
    "df_raw.head(5)"
   ]
  },
  {
   "source": [
    "### Preprocessing"
   ],
   "cell_type": "markdown",
   "metadata": {}
  },
  {
   "cell_type": "code",
   "execution_count": 675,
   "metadata": {},
   "outputs": [],
   "source": [
    "def preprocess(tweet):\n",
    "    \"\"\"\n",
    "    Takes in tweet and performs initial text cleaning/preprocessing.\n",
    "    \"\"\"\n",
    "    #make sure doc is string\n",
    "    tweet=str(tweet)\n",
    "    #get rid of urls\n",
    "    rem_url=re.sub(r'http\\S+', '', tweet)\n",
    "    #gets rid of @ tags\n",
    "    rem_tag = re.sub('@\\S+', '', rem_url)\n",
    "    #gets rid of # in hashtag but keeps content of hashtag\n",
    "    rem_hashtag = re.sub('#', '', rem_tag)\n",
    "    #gets rid of special characters, numbers, etc.\n",
    "    clean_text = re.sub(r'[^A-Za-z\\s]','', rem_hashtag)\n",
    "\n",
    "    return clean_text"
   ]
  },
  {
   "cell_type": "code",
   "execution_count": 676,
   "metadata": {},
   "outputs": [],
   "source": [
    "df_raw['clean']=df_raw['clean'].map(preprocess)"
   ]
  },
  {
   "cell_type": "code",
   "execution_count": 677,
   "metadata": {},
   "outputs": [
    {
     "output_type": "execute_result",
     "data": {
      "text/plain": [
       "                                             content  \\\n",
       "0  The Atlantic Daily: Will this decade be the ne...   \n",
       "1  There's plenty that's going wrong for Trump. H...   \n",
       "2  If Trump tries to steal the election, people w...   \n",
       "\n",
       "                                               clean  \n",
       "0  The Atlantic Daily Will this decade be the new s   \n",
       "1  Theres plenty thats going wrong for Trump Here...  \n",
       "2  If Trump tries to steal the election people wi...  "
      ],
      "text/html": "<div>\n<style scoped>\n    .dataframe tbody tr th:only-of-type {\n        vertical-align: middle;\n    }\n\n    .dataframe tbody tr th {\n        vertical-align: top;\n    }\n\n    .dataframe thead th {\n        text-align: right;\n    }\n</style>\n<table border=\"1\" class=\"dataframe\">\n  <thead>\n    <tr style=\"text-align: right;\">\n      <th></th>\n      <th>content</th>\n      <th>clean</th>\n    </tr>\n  </thead>\n  <tbody>\n    <tr>\n      <th>0</th>\n      <td>The Atlantic Daily: Will this decade be the ne...</td>\n      <td>The Atlantic Daily Will this decade be the new s</td>\n    </tr>\n    <tr>\n      <th>1</th>\n      <td>There's plenty that's going wrong for Trump. H...</td>\n      <td>Theres plenty thats going wrong for Trump Here...</td>\n    </tr>\n    <tr>\n      <th>2</th>\n      <td>If Trump tries to steal the election, people w...</td>\n      <td>If Trump tries to steal the election people wi...</td>\n    </tr>\n  </tbody>\n</table>\n</div>"
     },
     "metadata": {},
     "execution_count": 677
    }
   ],
   "source": [
    "df_raw[['content', 'clean']].head(3)"
   ]
  },
  {
   "source": [
    "### Standardize Language\n",
    "\n",
    "Let's remove any foreign language tweets to make sure we're only focusing on English. "
   ],
   "cell_type": "markdown",
   "metadata": {}
  },
  {
   "cell_type": "code",
   "execution_count": 678,
   "metadata": {},
   "outputs": [],
   "source": [
    "def english_only(x):\n",
    "    \"\"\"\n",
    "    Take tweet, detect language, and only return English tweets, coding foreign language tweets as NaNs.\n",
    "    \"\"\"\n",
    "    try:\n",
    "        if detect(x) == 'en':\n",
    "            return x\n",
    "        else:\n",
    "            return np.nan\n",
    "    except:\n",
    "        pass\n"
   ]
  },
  {
   "cell_type": "code",
   "execution_count": 679,
   "metadata": {},
   "outputs": [
    {
     "output_type": "stream",
     "name": "stdout",
     "text": [
      "CPU times: user 12min 13s, sys: 6.07 s, total: 12min 19s\nWall time: 12min 22s\n"
     ]
    }
   ],
   "source": [
    "%%time\n",
    "#  Remove any non english tweets\n",
    "df_raw['clean'] = df_raw['clean'].apply(lambda x: english_only(x))\n"
   ]
  },
  {
   "cell_type": "code",
   "execution_count": 680,
   "metadata": {},
   "outputs": [
    {
     "output_type": "execute_result",
     "data": {
      "text/plain": [
       "1231"
      ]
     },
     "metadata": {},
     "execution_count": 680
    }
   ],
   "source": [
    "df_raw.clean.isnull().sum()\n"
   ]
  },
  {
   "cell_type": "code",
   "execution_count": 681,
   "metadata": {},
   "outputs": [],
   "source": [
    "#fill non-English tweets with empty string in the \"clean\" column\n",
    "df_raw = df_raw.fillna(\" \")"
   ]
  },
  {
   "cell_type": "code",
   "execution_count": 682,
   "metadata": {},
   "outputs": [
    {
     "output_type": "execute_result",
     "data": {
      "text/plain": [
       "(200000, 6)"
      ]
     },
     "metadata": {},
     "execution_count": 682
    }
   ],
   "source": [
    "df_raw.shape"
   ]
  },
  {
   "source": [
    "### Remove Duplicate Tweets\n",
    "Let's make sure we remove any duplicate tweets from the same news source"
   ],
   "cell_type": "markdown",
   "metadata": {}
  },
  {
   "cell_type": "code",
   "execution_count": 683,
   "metadata": {},
   "outputs": [
    {
     "output_type": "execute_result",
     "data": {
      "text/plain": [
       "                                                     user  \\\n",
       "170097  {'username': 'WIRED', 'displayname': 'WIRED', ...   \n",
       "169823  {'username': 'WIRED', 'displayname': 'WIRED', ...   \n",
       "92028   {'username': 'Medium', 'displayname': 'Medium'...   \n",
       "108171  {'username': 'NewYorker', 'displayname': 'The ...   \n",
       "169846  {'username': 'WIRED', 'displayname': 'WIRED', ...   \n",
       "...                                                   ...   \n",
       "189149  {'username': 'WSJ', 'displayname': 'The Wall S...   \n",
       "156110  {'username': 'washingtonpost', 'displayname': ...   \n",
       "158061  {'username': 'washingtonpost', 'displayname': ...   \n",
       "157917  {'username': 'washingtonpost', 'displayname': ...   \n",
       "171144  {'username': 'WIRED', 'displayname': 'WIRED', ...   \n",
       "\n",
       "                             date  \\\n",
       "170097  2019-12-04T03:00:13+00:00   \n",
       "169823  2019-12-12T14:34:31+00:00   \n",
       "92028   2019-02-24T02:11:25+00:00   \n",
       "108171  2020-04-15T19:28:03+00:00   \n",
       "169846  2019-12-11T18:26:12+00:00   \n",
       "...                           ...   \n",
       "189149  2020-07-19T15:15:06+00:00   \n",
       "156110  2020-05-06T13:05:22+00:00   \n",
       "158061  2020-04-17T17:18:37+00:00   \n",
       "157917  2020-04-19T06:20:08+00:00   \n",
       "171144  2019-11-02T11:08:41+00:00   \n",
       "\n",
       "                                                      url  \\\n",
       "170097  https://twitter.com/WIRED/status/1202060008298...   \n",
       "169823  https://twitter.com/WIRED/status/1205133834553...   \n",
       "92028   https://twitter.com/Medium/status/109949196171...   \n",
       "108171  https://twitter.com/NewYorker/status/125050618...   \n",
       "169846  https://twitter.com/WIRED/status/1204829752344...   \n",
       "...                                                   ...   \n",
       "189149  https://twitter.com/WSJ/status/128486937995664...   \n",
       "156110  https://twitter.com/washingtonpost/status/1258...   \n",
       "158061  https://twitter.com/washingtonpost/status/1251...   \n",
       "157917  https://twitter.com/washingtonpost/status/1251...   \n",
       "171144  https://twitter.com/WIRED/status/1190586523747...   \n",
       "\n",
       "                                                 outlinks  \\\n",
       "170097                  ['https://wired.trib.al/G1zf2Pg']   \n",
       "169823                  ['https://wired.trib.al/h4tFC82']   \n",
       "92028                  ['http://read.medium.com/QYr4Vwi']   \n",
       "108171                                                 []   \n",
       "169846  ['https://twitter.com/jack/status/120476607846...   \n",
       "...                                                   ...   \n",
       "189149                     ['https://on.wsj.com/3heSnBN']   \n",
       "156110                        ['https://wapo.st/3dmXCxr']   \n",
       "158061                        ['https://wapo.st/2VFbuMj']   \n",
       "157917                        ['https://wapo.st/2Vi4aqQ']   \n",
       "171144                  ['https://wired.trib.al/AHA5vtv']   \n",
       "\n",
       "                                                  content  \\\n",
       "170097  😬\\n\\nBy Pat Byrnes with @collectcartoons \\nhtt...   \n",
       "169823  😬\\n\\nBy Pat Byrnes with @collectcartoons \\nhtt...   \n",
       "92028    In defense of self-doubt https://t.co/xbGMRThL0R   \n",
       "108171  A cartoon by Danny Shanahan. https://t.co/MGjo...   \n",
       "169846                       👀👀👀👀 https://t.co/PnW8ETVEhX   \n",
       "...                                                   ...   \n",
       "189149  8-year-old Jamya Eubanks largely finished the ...   \n",
       "156110  1,000-year-old mill starts up again to keep ho...   \n",
       "158061  99-year-old veteran raises $23 million for Bri...   \n",
       "157917  99-year-old veteran raises $23 million for Bri...   \n",
       "171144  20-years ago, people began stepping into virtu...   \n",
       "\n",
       "                                                    clean  Is_Duplicate  \n",
       "170097                        \\n\\nBy Pat Byrnes with  \\n           True  \n",
       "169823                        \\n\\nBy Pat Byrnes with  \\n           True  \n",
       "92028                                                              True  \n",
       "108171                                                             True  \n",
       "169846                                                             True  \n",
       "...                                                   ...           ...  \n",
       "189149  yearold Jamya Eubanks largely finished the aca...          True  \n",
       "156110  yearold mill starts up again to keep homes in ...          True  \n",
       "158061  yearold veteran raises  million for Britains h...          True  \n",
       "157917  yearold veteran raises  million for Britains h...          True  \n",
       "171144  years ago people began stepping into virtual w...          True  \n",
       "\n",
       "[41516 rows x 7 columns]"
      ],
      "text/html": "<div>\n<style scoped>\n    .dataframe tbody tr th:only-of-type {\n        vertical-align: middle;\n    }\n\n    .dataframe tbody tr th {\n        vertical-align: top;\n    }\n\n    .dataframe thead th {\n        text-align: right;\n    }\n</style>\n<table border=\"1\" class=\"dataframe\">\n  <thead>\n    <tr style=\"text-align: right;\">\n      <th></th>\n      <th>user</th>\n      <th>date</th>\n      <th>url</th>\n      <th>outlinks</th>\n      <th>content</th>\n      <th>clean</th>\n      <th>Is_Duplicate</th>\n    </tr>\n  </thead>\n  <tbody>\n    <tr>\n      <th>170097</th>\n      <td>{'username': 'WIRED', 'displayname': 'WIRED', ...</td>\n      <td>2019-12-04T03:00:13+00:00</td>\n      <td>https://twitter.com/WIRED/status/1202060008298...</td>\n      <td>['https://wired.trib.al/G1zf2Pg']</td>\n      <td>😬\\n\\nBy Pat Byrnes with @collectcartoons \\nhtt...</td>\n      <td>\\n\\nBy Pat Byrnes with  \\n</td>\n      <td>True</td>\n    </tr>\n    <tr>\n      <th>169823</th>\n      <td>{'username': 'WIRED', 'displayname': 'WIRED', ...</td>\n      <td>2019-12-12T14:34:31+00:00</td>\n      <td>https://twitter.com/WIRED/status/1205133834553...</td>\n      <td>['https://wired.trib.al/h4tFC82']</td>\n      <td>😬\\n\\nBy Pat Byrnes with @collectcartoons \\nhtt...</td>\n      <td>\\n\\nBy Pat Byrnes with  \\n</td>\n      <td>True</td>\n    </tr>\n    <tr>\n      <th>92028</th>\n      <td>{'username': 'Medium', 'displayname': 'Medium'...</td>\n      <td>2019-02-24T02:11:25+00:00</td>\n      <td>https://twitter.com/Medium/status/109949196171...</td>\n      <td>['http://read.medium.com/QYr4Vwi']</td>\n      <td>In defense of self-doubt https://t.co/xbGMRThL0R</td>\n      <td></td>\n      <td>True</td>\n    </tr>\n    <tr>\n      <th>108171</th>\n      <td>{'username': 'NewYorker', 'displayname': 'The ...</td>\n      <td>2020-04-15T19:28:03+00:00</td>\n      <td>https://twitter.com/NewYorker/status/125050618...</td>\n      <td>[]</td>\n      <td>A cartoon by Danny Shanahan. https://t.co/MGjo...</td>\n      <td></td>\n      <td>True</td>\n    </tr>\n    <tr>\n      <th>169846</th>\n      <td>{'username': 'WIRED', 'displayname': 'WIRED', ...</td>\n      <td>2019-12-11T18:26:12+00:00</td>\n      <td>https://twitter.com/WIRED/status/1204829752344...</td>\n      <td>['https://twitter.com/jack/status/120476607846...</td>\n      <td>👀👀👀👀 https://t.co/PnW8ETVEhX</td>\n      <td></td>\n      <td>True</td>\n    </tr>\n    <tr>\n      <th>...</th>\n      <td>...</td>\n      <td>...</td>\n      <td>...</td>\n      <td>...</td>\n      <td>...</td>\n      <td>...</td>\n      <td>...</td>\n    </tr>\n    <tr>\n      <th>189149</th>\n      <td>{'username': 'WSJ', 'displayname': 'The Wall S...</td>\n      <td>2020-07-19T15:15:06+00:00</td>\n      <td>https://twitter.com/WSJ/status/128486937995664...</td>\n      <td>['https://on.wsj.com/3heSnBN']</td>\n      <td>8-year-old Jamya Eubanks largely finished the ...</td>\n      <td>yearold Jamya Eubanks largely finished the aca...</td>\n      <td>True</td>\n    </tr>\n    <tr>\n      <th>156110</th>\n      <td>{'username': 'washingtonpost', 'displayname': ...</td>\n      <td>2020-05-06T13:05:22+00:00</td>\n      <td>https://twitter.com/washingtonpost/status/1258...</td>\n      <td>['https://wapo.st/3dmXCxr']</td>\n      <td>1,000-year-old mill starts up again to keep ho...</td>\n      <td>yearold mill starts up again to keep homes in ...</td>\n      <td>True</td>\n    </tr>\n    <tr>\n      <th>158061</th>\n      <td>{'username': 'washingtonpost', 'displayname': ...</td>\n      <td>2020-04-17T17:18:37+00:00</td>\n      <td>https://twitter.com/washingtonpost/status/1251...</td>\n      <td>['https://wapo.st/2VFbuMj']</td>\n      <td>99-year-old veteran raises $23 million for Bri...</td>\n      <td>yearold veteran raises  million for Britains h...</td>\n      <td>True</td>\n    </tr>\n    <tr>\n      <th>157917</th>\n      <td>{'username': 'washingtonpost', 'displayname': ...</td>\n      <td>2020-04-19T06:20:08+00:00</td>\n      <td>https://twitter.com/washingtonpost/status/1251...</td>\n      <td>['https://wapo.st/2Vi4aqQ']</td>\n      <td>99-year-old veteran raises $23 million for Bri...</td>\n      <td>yearold veteran raises  million for Britains h...</td>\n      <td>True</td>\n    </tr>\n    <tr>\n      <th>171144</th>\n      <td>{'username': 'WIRED', 'displayname': 'WIRED', ...</td>\n      <td>2019-11-02T11:08:41+00:00</td>\n      <td>https://twitter.com/WIRED/status/1190586523747...</td>\n      <td>['https://wired.trib.al/AHA5vtv']</td>\n      <td>20-years ago, people began stepping into virtu...</td>\n      <td>years ago people began stepping into virtual w...</td>\n      <td>True</td>\n    </tr>\n  </tbody>\n</table>\n<p>41516 rows × 7 columns</p>\n</div>"
     },
     "metadata": {},
     "execution_count": 683
    }
   ],
   "source": [
    "#explore duplicate tweets from the same account\n",
    "df_raw['Is_Duplicate']= df_raw.duplicated(subset = ['user', 'clean'])\n",
    "df_raw[df_raw['Is_Duplicate']== True].sort_values(by=['clean'])\n"
   ]
  },
  {
   "cell_type": "code",
   "execution_count": 684,
   "metadata": {},
   "outputs": [],
   "source": [
    "#get index values of duplicate rows\n",
    "dupe_index = df_raw[df_raw['Is_Duplicate']==True].index\n",
    "#change \"clean\" column of these rows to NaN\n",
    "df_raw['clean'].iloc[dupe_index] = np.nan\n",
    "#fill the 'clean' column NaNs with empty string\n",
    "df_raw = df_raw.fillna(\" \")\n",
    "#drop the duplicate row\n",
    "df_raw.drop(columns = 'Is_Duplicate', inplace = True)"
   ]
  },
  {
   "cell_type": "code",
   "execution_count": 685,
   "metadata": {},
   "outputs": [
    {
     "output_type": "execute_result",
     "data": {
      "text/plain": [
       "                                                     user  \\\n",
       "11      {'username': 'TheAtlantic', 'displayname': 'Th...   \n",
       "16      {'username': 'TheAtlantic', 'displayname': 'Th...   \n",
       "17      {'username': 'TheAtlantic', 'displayname': 'Th...   \n",
       "18      {'username': 'TheAtlantic', 'displayname': 'Th...   \n",
       "20      {'username': 'TheAtlantic', 'displayname': 'Th...   \n",
       "...                                                   ...   \n",
       "199921  {'username': 'WSJ', 'displayname': 'The Wall S...   \n",
       "199935  {'username': 'WSJ', 'displayname': 'The Wall S...   \n",
       "199947  {'username': 'WSJ', 'displayname': 'The Wall S...   \n",
       "199948  {'username': 'WSJ', 'displayname': 'The Wall S...   \n",
       "199964  {'username': 'WSJ', 'displayname': 'The Wall S...   \n",
       "\n",
       "                             date  \\\n",
       "11      2020-10-31T16:39:45+00:00   \n",
       "16      2020-10-31T14:42:13+00:00   \n",
       "17      2020-10-31T14:19:17+00:00   \n",
       "18      2020-10-31T13:58:37+00:00   \n",
       "20      2020-10-31T13:02:02+00:00   \n",
       "...                           ...   \n",
       "199921  2020-03-19T15:21:04+00:00   \n",
       "199935  2020-03-19T12:30:15+00:00   \n",
       "199947  2020-03-19T09:30:09+00:00   \n",
       "199948  2020-03-19T09:15:11+00:00   \n",
       "199964  2020-03-19T05:15:07+00:00   \n",
       "\n",
       "                                                      url  \\\n",
       "11      https://twitter.com/TheAtlantic/status/1322579...   \n",
       "16      https://twitter.com/TheAtlantic/status/1322549...   \n",
       "17      https://twitter.com/TheAtlantic/status/1322543...   \n",
       "18      https://twitter.com/TheAtlantic/status/1322538...   \n",
       "20      https://twitter.com/TheAtlantic/status/1322524...   \n",
       "...                                                   ...   \n",
       "199921  https://twitter.com/WSJ/status/124065956037495...   \n",
       "199935  https://twitter.com/WSJ/status/124061657381723...   \n",
       "199947  https://twitter.com/WSJ/status/124057125130912...   \n",
       "199948  https://twitter.com/WSJ/status/124056748274368...   \n",
       "199964  https://twitter.com/WSJ/status/124050706928491...   \n",
       "\n",
       "                                outlinks  \\\n",
       "11      ['http://on.theatln.tc/Vj7AzDM']   \n",
       "16      ['http://on.theatln.tc/6QI8XY4']   \n",
       "17      ['http://on.theatln.tc/VURlE4o']   \n",
       "18      ['http://on.theatln.tc/dNldIY4']   \n",
       "20      ['http://on.theatln.tc/sUR08l8']   \n",
       "...                                  ...   \n",
       "199921    ['https://on.wsj.com/3a9PS0I']   \n",
       "199935    ['https://on.wsj.com/2J03P5i']   \n",
       "199947    ['https://on.wsj.com/2UgLdmR']   \n",
       "199948            ['http://www.wsj.com']   \n",
       "199964            ['http://www.wsj.com']   \n",
       "\n",
       "                                                  content clean  \n",
       "11      \"The lack of universal coverage has made the U...        \n",
       "16      If Trump tries to steal the election, people w...        \n",
       "17      Endings are seductive. They suggest order, and...        \n",
       "18      The Trump campaign's “election-security operat...        \n",
       "20      The Atlantic Daily: Will this decade be the ne...        \n",
       "...                                                   ...   ...  \n",
       "199921  From @WSJopinion: From gloves to respirators, ...        \n",
       "199935  A British research lab has 20,000 volunteers w...        \n",
       "199947  The tale of the man in his 50s, who reportedly...        \n",
       "199948  Take an early look at the front page of The Wa...        \n",
       "199964  Take an early look at the front page of The Wa...        \n",
       "\n",
       "[41566 rows x 6 columns]"
      ],
      "text/html": "<div>\n<style scoped>\n    .dataframe tbody tr th:only-of-type {\n        vertical-align: middle;\n    }\n\n    .dataframe tbody tr th {\n        vertical-align: top;\n    }\n\n    .dataframe thead th {\n        text-align: right;\n    }\n</style>\n<table border=\"1\" class=\"dataframe\">\n  <thead>\n    <tr style=\"text-align: right;\">\n      <th></th>\n      <th>user</th>\n      <th>date</th>\n      <th>url</th>\n      <th>outlinks</th>\n      <th>content</th>\n      <th>clean</th>\n    </tr>\n  </thead>\n  <tbody>\n    <tr>\n      <th>11</th>\n      <td>{'username': 'TheAtlantic', 'displayname': 'Th...</td>\n      <td>2020-10-31T16:39:45+00:00</td>\n      <td>https://twitter.com/TheAtlantic/status/1322579...</td>\n      <td>['http://on.theatln.tc/Vj7AzDM']</td>\n      <td>\"The lack of universal coverage has made the U...</td>\n      <td></td>\n    </tr>\n    <tr>\n      <th>16</th>\n      <td>{'username': 'TheAtlantic', 'displayname': 'Th...</td>\n      <td>2020-10-31T14:42:13+00:00</td>\n      <td>https://twitter.com/TheAtlantic/status/1322549...</td>\n      <td>['http://on.theatln.tc/6QI8XY4']</td>\n      <td>If Trump tries to steal the election, people w...</td>\n      <td></td>\n    </tr>\n    <tr>\n      <th>17</th>\n      <td>{'username': 'TheAtlantic', 'displayname': 'Th...</td>\n      <td>2020-10-31T14:19:17+00:00</td>\n      <td>https://twitter.com/TheAtlantic/status/1322543...</td>\n      <td>['http://on.theatln.tc/VURlE4o']</td>\n      <td>Endings are seductive. They suggest order, and...</td>\n      <td></td>\n    </tr>\n    <tr>\n      <th>18</th>\n      <td>{'username': 'TheAtlantic', 'displayname': 'Th...</td>\n      <td>2020-10-31T13:58:37+00:00</td>\n      <td>https://twitter.com/TheAtlantic/status/1322538...</td>\n      <td>['http://on.theatln.tc/dNldIY4']</td>\n      <td>The Trump campaign's “election-security operat...</td>\n      <td></td>\n    </tr>\n    <tr>\n      <th>20</th>\n      <td>{'username': 'TheAtlantic', 'displayname': 'Th...</td>\n      <td>2020-10-31T13:02:02+00:00</td>\n      <td>https://twitter.com/TheAtlantic/status/1322524...</td>\n      <td>['http://on.theatln.tc/sUR08l8']</td>\n      <td>The Atlantic Daily: Will this decade be the ne...</td>\n      <td></td>\n    </tr>\n    <tr>\n      <th>...</th>\n      <td>...</td>\n      <td>...</td>\n      <td>...</td>\n      <td>...</td>\n      <td>...</td>\n      <td>...</td>\n    </tr>\n    <tr>\n      <th>199921</th>\n      <td>{'username': 'WSJ', 'displayname': 'The Wall S...</td>\n      <td>2020-03-19T15:21:04+00:00</td>\n      <td>https://twitter.com/WSJ/status/124065956037495...</td>\n      <td>['https://on.wsj.com/3a9PS0I']</td>\n      <td>From @WSJopinion: From gloves to respirators, ...</td>\n      <td></td>\n    </tr>\n    <tr>\n      <th>199935</th>\n      <td>{'username': 'WSJ', 'displayname': 'The Wall S...</td>\n      <td>2020-03-19T12:30:15+00:00</td>\n      <td>https://twitter.com/WSJ/status/124061657381723...</td>\n      <td>['https://on.wsj.com/2J03P5i']</td>\n      <td>A British research lab has 20,000 volunteers w...</td>\n      <td></td>\n    </tr>\n    <tr>\n      <th>199947</th>\n      <td>{'username': 'WSJ', 'displayname': 'The Wall S...</td>\n      <td>2020-03-19T09:30:09+00:00</td>\n      <td>https://twitter.com/WSJ/status/124057125130912...</td>\n      <td>['https://on.wsj.com/2UgLdmR']</td>\n      <td>The tale of the man in his 50s, who reportedly...</td>\n      <td></td>\n    </tr>\n    <tr>\n      <th>199948</th>\n      <td>{'username': 'WSJ', 'displayname': 'The Wall S...</td>\n      <td>2020-03-19T09:15:11+00:00</td>\n      <td>https://twitter.com/WSJ/status/124056748274368...</td>\n      <td>['http://www.wsj.com']</td>\n      <td>Take an early look at the front page of The Wa...</td>\n      <td></td>\n    </tr>\n    <tr>\n      <th>199964</th>\n      <td>{'username': 'WSJ', 'displayname': 'The Wall S...</td>\n      <td>2020-03-19T05:15:07+00:00</td>\n      <td>https://twitter.com/WSJ/status/124050706928491...</td>\n      <td>['http://www.wsj.com']</td>\n      <td>Take an early look at the front page of The Wa...</td>\n      <td></td>\n    </tr>\n  </tbody>\n</table>\n<p>41566 rows × 6 columns</p>\n</div>"
     },
     "metadata": {},
     "execution_count": 685
    }
   ],
   "source": [
    "df_raw[df_raw.clean == \" \"]"
   ]
  },
  {
   "source": [
    "### Tagging and Lemmatizing\n",
    "\n",
    "We only want the nouns (and proper nouns) in each tweet for topic modeling, as they are the essence of article subjects. Let's tag the nouns and return the lemmatized versions of tehm in a single step.\n",
    "\n",
    "Because we also have so much data, we will incoporate the NLP pipeline in order to shorten the processing time. Tips on how to do this were found here: https://towardsdatascience.com/turbo-charge-your-spacy-nlp-pipeline-551435b664ad"
   ],
   "cell_type": "markdown",
   "metadata": {}
  },
  {
   "cell_type": "code",
   "execution_count": 686,
   "metadata": {},
   "outputs": [],
   "source": [
    "nlp = spacy.load('en_core_web_sm', disable=[ 'parser', 'ner'])"
   ]
  },
  {
   "cell_type": "code",
   "execution_count": 854,
   "metadata": {},
   "outputs": [],
   "source": [
    "def noun_lemmatize_pipe(doc):\n",
    "    \"\"\"\n",
    "    Takes in tweet and returns only the lemmatized version of nouns (including proper nouns).\n",
    "    \"\"\"\n",
    "    lemma_list = [token.lemma_.lower() for token in doc\n",
    "                  if token.pos_ == \"NOUN\" or token.pos_ ==\"PROPN\"] \n",
    "    return lemma_list\n",
    "\n",
    "#create a pipeline in order to shorten processing time\n",
    "def preprocess_pipe(texts):\n",
    "    \"\"\"\n",
    "    Inputs noun_lemmative_pipe function into NLP pipeline for faster processing.\n",
    "    \"\"\"\n",
    "    preproc_pipe = []\n",
    "    for doc in nlp.pipe(texts, batch_size=50):\n",
    "        preproc_pipe.append(noun_lemmatize_pipe(doc))\n",
    "    return preproc_pipe"
   ]
  },
  {
   "cell_type": "code",
   "execution_count": 933,
   "metadata": {},
   "outputs": [
    {
     "output_type": "stream",
     "name": "stdout",
     "text": [
      "CPU times: user 1min 55s, sys: 595 ms, total: 1min 55s\nWall time: 1min 56s\n"
     ]
    }
   ],
   "source": [
    "%%time\n",
    "#apply function and create a new column to house the outputs\n",
    "df_raw['clean_lemmatized'] = preprocess_pipe(df_raw['clean'])\n"
   ]
  },
  {
   "cell_type": "code",
   "execution_count": 856,
   "metadata": {},
   "outputs": [
    {
     "output_type": "execute_result",
     "data": {
      "text/plain": [
       "                                             content  \\\n",
       "0  The Atlantic Daily: Will this decade be the ne...   \n",
       "1  There's plenty that's going wrong for Trump. H...   \n",
       "2  If Trump tries to steal the election, people w...   \n",
       "\n",
       "                                               clean  \\\n",
       "0  The Atlantic Daily Will this decade be the new s    \n",
       "1  Theres plenty thats going wrong for Trump Here...   \n",
       "2  If Trump tries to steal the election people wi...   \n",
       "\n",
       "                                    clean_lemmatized  \n",
       "0                       [atlantic, daily, decade, s]  \n",
       "1  [plenty, trump, thing, campaign, gap, joe, bid...  \n",
       "2   [trump, election, people, coup, strategy, write]  "
      ],
      "text/html": "<div>\n<style scoped>\n    .dataframe tbody tr th:only-of-type {\n        vertical-align: middle;\n    }\n\n    .dataframe tbody tr th {\n        vertical-align: top;\n    }\n\n    .dataframe thead th {\n        text-align: right;\n    }\n</style>\n<table border=\"1\" class=\"dataframe\">\n  <thead>\n    <tr style=\"text-align: right;\">\n      <th></th>\n      <th>content</th>\n      <th>clean</th>\n      <th>clean_lemmatized</th>\n    </tr>\n  </thead>\n  <tbody>\n    <tr>\n      <th>0</th>\n      <td>The Atlantic Daily: Will this decade be the ne...</td>\n      <td>The Atlantic Daily Will this decade be the new s</td>\n      <td>[atlantic, daily, decade, s]</td>\n    </tr>\n    <tr>\n      <th>1</th>\n      <td>There's plenty that's going wrong for Trump. H...</td>\n      <td>Theres plenty thats going wrong for Trump Here...</td>\n      <td>[plenty, trump, thing, campaign, gap, joe, bid...</td>\n    </tr>\n    <tr>\n      <th>2</th>\n      <td>If Trump tries to steal the election, people w...</td>\n      <td>If Trump tries to steal the election people wi...</td>\n      <td>[trump, election, people, coup, strategy, write]</td>\n    </tr>\n  </tbody>\n</table>\n</div>"
     },
     "metadata": {},
     "execution_count": 856
    }
   ],
   "source": [
    "df_raw[['content', 'clean', 'clean_lemmatized']].head(3)"
   ]
  },
  {
   "source": [
    "We've successfully filtered out the nouns and proper nouns, lemmitized them, while making sure our function runs on optimized time!"
   ],
   "cell_type": "markdown",
   "metadata": {}
  },
  {
   "source": [
    "### Remove Additional Words\n",
    "\n",
    "Let's filter out any additional words that may appear in the tweets but aren't related to article subjects, like the names of the publications and common headline section titles.\n",
    "\n",
    "Our removal words also include ones that have surfaced in our continuously iterative topic modeling process--any words that pop up as sigfnicant 'topic words' but do not have signficant meaning/are blanket terms will hinder our models and are thus added to this list."
   ],
   "cell_type": "markdown",
   "metadata": {}
  },
  {
   "source": [
    "removal_words= [\"times\", \"wall\", \"street\", \"journal\", \"new\", \"yorker\", \"york\", \"medium\", \"wired\", \"financial\", \"washington\", \"post\", \"business\", \"insider\", \"economist\", \"the\", \"atlantic\", \"daily\", \"weekly\", \"monthly\", \"week\", \"day\", \"month\", \"quarter\", \"year\", \"sponsored\", \"Breaking\", \"news\", 'way', 'page', 'edition', 'morning', 'monday', 'tuesday', 'wednesday', 'thursday','friday','saturday','sunday', 'thing', 'briefing', 'day', 'story', 'year', 'life', 'write', 'wrote', 'time', 'closer', 'look', 'opinion', 'opinions', 'looks', 'wsjwhatsnow', 'analysis', 'world', 'today', 'house', \"today's\", 'tomorrow', 'yesterday', 'house', 'american', 'americans', \"america's\", 'america', \"american's\", 'government', 'governments', 'city', 'country', 'state', 'question', 'questions', 'report', 'reports', 'death', 'number']"
   ],
   "cell_type": "code",
   "metadata": {},
   "execution_count": 934,
   "outputs": []
  },
  {
   "cell_type": "code",
   "execution_count": 935,
   "metadata": {},
   "outputs": [],
   "source": [
    "df_raw['clean_removed'] = df_raw['clean_lemmatized'].apply(lambda x: [word for word in x if word not in removal_words])"
   ]
  },
  {
   "source": [
    "### Vectorize\n",
    "Now let's rejoin our twice cleaned, lemmatized list of nouns and pronouns!"
   ],
   "cell_type": "markdown",
   "metadata": {}
  },
  {
   "cell_type": "code",
   "execution_count": 936,
   "metadata": {},
   "outputs": [],
   "source": [
    "df_raw['clean_final'] = df_raw['clean_removed'].apply(lambda x: ' '.join(x))"
   ]
  },
  {
   "cell_type": "code",
   "execution_count": 937,
   "metadata": {},
   "outputs": [
    {
     "output_type": "execute_result",
     "data": {
      "text/plain": [
       "                                             content  \\\n",
       "0  The Atlantic Daily: Will this decade be the ne...   \n",
       "1  There's plenty that's going wrong for Trump. H...   \n",
       "2  If Trump tries to steal the election, people w...   \n",
       "\n",
       "                                               clean  \\\n",
       "0  The Atlantic Daily Will this decade be the new s    \n",
       "1  Theres plenty thats going wrong for Trump Here...   \n",
       "2  If Trump tries to steal the election people wi...   \n",
       "\n",
       "                                    clean_lemmatized  \\\n",
       "0                       [atlantic, daily, decade, s]   \n",
       "1  [plenty, trump, thing, campaign, gap, joe, bid...   \n",
       "2   [trump, election, people, coup, strategy, write]   \n",
       "\n",
       "                                clean_removed  \\\n",
       "0                                 [decade, s]   \n",
       "1  [plenty, trump, campaign, gap, joe, biden]   \n",
       "2   [trump, election, people, coup, strategy]   \n",
       "\n",
       "                           clean_final  \n",
       "0                             decade s  \n",
       "1  plenty trump campaign gap joe biden  \n",
       "2  trump election people coup strategy  "
      ],
      "text/html": "<div>\n<style scoped>\n    .dataframe tbody tr th:only-of-type {\n        vertical-align: middle;\n    }\n\n    .dataframe tbody tr th {\n        vertical-align: top;\n    }\n\n    .dataframe thead th {\n        text-align: right;\n    }\n</style>\n<table border=\"1\" class=\"dataframe\">\n  <thead>\n    <tr style=\"text-align: right;\">\n      <th></th>\n      <th>content</th>\n      <th>clean</th>\n      <th>clean_lemmatized</th>\n      <th>clean_removed</th>\n      <th>clean_final</th>\n    </tr>\n  </thead>\n  <tbody>\n    <tr>\n      <th>0</th>\n      <td>The Atlantic Daily: Will this decade be the ne...</td>\n      <td>The Atlantic Daily Will this decade be the new s</td>\n      <td>[atlantic, daily, decade, s]</td>\n      <td>[decade, s]</td>\n      <td>decade s</td>\n    </tr>\n    <tr>\n      <th>1</th>\n      <td>There's plenty that's going wrong for Trump. H...</td>\n      <td>Theres plenty thats going wrong for Trump Here...</td>\n      <td>[plenty, trump, thing, campaign, gap, joe, bid...</td>\n      <td>[plenty, trump, campaign, gap, joe, biden]</td>\n      <td>plenty trump campaign gap joe biden</td>\n    </tr>\n    <tr>\n      <th>2</th>\n      <td>If Trump tries to steal the election, people w...</td>\n      <td>If Trump tries to steal the election people wi...</td>\n      <td>[trump, election, people, coup, strategy, write]</td>\n      <td>[trump, election, people, coup, strategy]</td>\n      <td>trump election people coup strategy</td>\n    </tr>\n  </tbody>\n</table>\n</div>"
     },
     "metadata": {},
     "execution_count": 937
    }
   ],
   "source": [
    "df_raw[['content', 'clean', 'clean_lemmatized', 'clean_removed', 'clean_final']].head(3)"
   ]
  },
  {
   "cell_type": "code",
   "execution_count": 695,
   "metadata": {
    "tags": []
   },
   "outputs": [
    {
     "output_type": "stream",
     "name": "stdout",
     "text": [
      "14252\n"
     ]
    }
   ],
   "source": [
    "#how many times does coronavirus appear?\n",
    "counter = 0\n",
    "for word in df_raw['clean_lemmatized']:\n",
    "    if \"coronavirus\" in word:\n",
    "        counter = counter +1\n",
    "print(counter)"
   ]
  },
  {
   "cell_type": "code",
   "execution_count": null,
   "metadata": {},
   "outputs": [],
   "source": []
  },
  {
   "cell_type": "code",
   "execution_count": 816,
   "metadata": {},
   "outputs": [
    {
     "output_type": "error",
     "ename": "ImportError",
     "evalue": "cannot import name 'query_integral_image' from 'wordcloud.query_integral_image' (unknown location)",
     "traceback": [
      "\u001b[0;31m---------------------------------------------------------------------------\u001b[0m",
      "\u001b[0;31mImportError\u001b[0m                               Traceback (most recent call last)",
      "\u001b[0;32m<ipython-input-816-3cff82c2d384>\u001b[0m in \u001b[0;36m<module>\u001b[0;34m\u001b[0m\n\u001b[0;32m----> 1\u001b[0;31m \u001b[0;32mfrom\u001b[0m \u001b[0mwordcloud\u001b[0m \u001b[0;32mimport\u001b[0m \u001b[0mWordCloud\u001b[0m\u001b[0;34m\u001b[0m\u001b[0;34m\u001b[0m\u001b[0m\n\u001b[0m\u001b[1;32m      2\u001b[0m \u001b[0;31m#from worldcloud.query_integral_image import query_integral_image\u001b[0m\u001b[0;34m\u001b[0m\u001b[0;34m\u001b[0m\u001b[0;34m\u001b[0m\u001b[0m\n\u001b[1;32m      3\u001b[0m \u001b[0;32mimport\u001b[0m \u001b[0mmatplotlib\u001b[0m\u001b[0;34m.\u001b[0m\u001b[0mpyplot\u001b[0m \u001b[0;32mas\u001b[0m \u001b[0mplt\u001b[0m\u001b[0;34m\u001b[0m\u001b[0;34m\u001b[0m\u001b[0m\n\u001b[1;32m      4\u001b[0m \u001b[0;34m\u001b[0m\u001b[0m\n\u001b[1;32m      5\u001b[0m \u001b[0mclean_words\u001b[0m \u001b[0;34m=\u001b[0m \u001b[0;34m' '\u001b[0m\u001b[0;34m.\u001b[0m\u001b[0mjoin\u001b[0m\u001b[0;34m(\u001b[0m\u001b[0;34m[\u001b[0m\u001b[0mdoc\u001b[0m \u001b[0;32mfor\u001b[0m \u001b[0mdoc\u001b[0m \u001b[0;32min\u001b[0m \u001b[0mdf_raw\u001b[0m\u001b[0;34m[\u001b[0m\u001b[0;34m'clean_final'\u001b[0m\u001b[0;34m]\u001b[0m\u001b[0;34m]\u001b[0m\u001b[0;34m)\u001b[0m\u001b[0;34m\u001b[0m\u001b[0;34m\u001b[0m\u001b[0m\n",
      "\u001b[0;32m~/opt/anaconda3/envs/metis/lib/python3.8/site-packages/wordcloud/__init__.py\u001b[0m in \u001b[0;36m<module>\u001b[0;34m\u001b[0m\n\u001b[0;32m----> 1\u001b[0;31m from .wordcloud import (WordCloud, STOPWORDS, random_color_func,\n\u001b[0m\u001b[1;32m      2\u001b[0m                         get_single_color_func)\n\u001b[1;32m      3\u001b[0m \u001b[0;32mfrom\u001b[0m \u001b[0;34m.\u001b[0m\u001b[0mcolor_from_image\u001b[0m \u001b[0;32mimport\u001b[0m \u001b[0mImageColorGenerator\u001b[0m\u001b[0;34m\u001b[0m\u001b[0;34m\u001b[0m\u001b[0m\n\u001b[1;32m      4\u001b[0m \u001b[0;34m\u001b[0m\u001b[0m\n\u001b[1;32m      5\u001b[0m __all__ = ['WordCloud', 'STOPWORDS', 'random_color_func',\n",
      "\u001b[0;32m~/opt/anaconda3/envs/metis/lib/python3.8/site-packages/wordcloud/wordcloud.py\u001b[0m in \u001b[0;36m<module>\u001b[0;34m\u001b[0m\n\u001b[1;32m     28\u001b[0m \u001b[0;32mfrom\u001b[0m \u001b[0mPIL\u001b[0m \u001b[0;32mimport\u001b[0m \u001b[0mImageFont\u001b[0m\u001b[0;34m\u001b[0m\u001b[0;34m\u001b[0m\u001b[0m\n\u001b[1;32m     29\u001b[0m \u001b[0;34m\u001b[0m\u001b[0m\n\u001b[0;32m---> 30\u001b[0;31m \u001b[0;32mfrom\u001b[0m \u001b[0;34m.\u001b[0m\u001b[0mquery_integral_image\u001b[0m \u001b[0;32mimport\u001b[0m \u001b[0mquery_integral_image\u001b[0m\u001b[0;34m\u001b[0m\u001b[0;34m\u001b[0m\u001b[0m\n\u001b[0m\u001b[1;32m     31\u001b[0m \u001b[0;32mfrom\u001b[0m \u001b[0;34m.\u001b[0m\u001b[0mtokenization\u001b[0m \u001b[0;32mimport\u001b[0m \u001b[0munigrams_and_bigrams\u001b[0m\u001b[0;34m,\u001b[0m \u001b[0mprocess_tokens\u001b[0m\u001b[0;34m\u001b[0m\u001b[0;34m\u001b[0m\u001b[0m\n\u001b[1;32m     32\u001b[0m \u001b[0;34m\u001b[0m\u001b[0m\n",
      "\u001b[0;31mImportError\u001b[0m: cannot import name 'query_integral_image' from 'wordcloud.query_integral_image' (unknown location)"
     ]
    }
   ],
   "source": [
    "from wordcloud import WordCloud\n",
    "#from worldcloud.query_integral_image import query_integral_image\n",
    "import matplotlib.pyplot as plt \n",
    "\n",
    "clean_words = ' '.join([doc for doc in df_raw['clean_final']])\n",
    "\n",
    "wordcloud = WordCloud(width = 800, height = 800, \n",
    "                background_color ='white', \n",
    "                stopwords = stopwords, \n",
    "                min_font_size = 10).generate(clean_words) \n",
    "  \n",
    "# plot the WordCloud image                        \n",
    "plt.figure(figsize = (8, 8), facecolor = None) \n",
    "plt.imshow(wordcloud) \n",
    "plt.axis(\"off\") \n",
    "plt.tight_layout(pad = 0) \n",
    "  \n",
    "plt.show() \n"
   ]
  },
  {
   "cell_type": "code",
   "execution_count": null,
   "metadata": {},
   "outputs": [],
   "source": []
  },
  {
   "source": [
    "We will be using TFID Vectorizer as opposed to Count Vectorizer, so we can give equal weight to rare words. Because our focus is on nouns and pronouns, rare words are likely to be just as, if not more impactful, as words that are frequently used. \n",
    "\n",
    "We'll also be using some of the built in parameters in the TFID Vectorizer as last checks before we output our doc-term matrix."
   ],
   "cell_type": "markdown",
   "metadata": {}
  },
  {
   "cell_type": "code",
   "execution_count": 938,
   "metadata": {},
   "outputs": [],
   "source": [
    "#define vectorizer and set parameters in order to standardize everything to lowercase, remove any stop words, and remove any word that appears below 0.005%, about 10 times, and max of more than 30%.\n",
    "tfidf = TfidfVectorizer(lowercase = True, stop_words= 'english', min_df = 0.00005, max_df = 0.30)\n",
    "#fit on fully cleaned dataframe column\n",
    "doc_term_matrix = tfidf.fit_transform(df_raw['clean_final'])\n",
    "#turn matrix into a dataframe with words as columns\n",
    "matrix_df = pd.DataFrame(doc_term_matrix.toarray(), columns=tfidf.get_feature_names())"
   ]
  },
  {
   "cell_type": "code",
   "execution_count": 939,
   "metadata": {},
   "outputs": [
    {
     "output_type": "execute_result",
     "data": {
      "text/plain": [
       "        aaron  abbey  abbott  abc  abe  abenomics  abes  abigail  ability  \\\n",
       "0         0.0    0.0     0.0  0.0  0.0        0.0   0.0      0.0      0.0   \n",
       "1         0.0    0.0     0.0  0.0  0.0        0.0   0.0      0.0      0.0   \n",
       "2         0.0    0.0     0.0  0.0  0.0        0.0   0.0      0.0      0.0   \n",
       "3         0.0    0.0     0.0  0.0  0.0        0.0   0.0      0.0      0.0   \n",
       "4         0.0    0.0     0.0  0.0  0.0        0.0   0.0      0.0      0.0   \n",
       "...       ...    ...     ...  ...  ...        ...   ...      ...      ...   \n",
       "199995    0.0    0.0     0.0  0.0  0.0        0.0   0.0      0.0      0.0   \n",
       "199996    0.0    0.0     0.0  0.0  0.0        0.0   0.0      0.0      0.0   \n",
       "199997    0.0    0.0     0.0  0.0  0.0        0.0   0.0      0.0      0.0   \n",
       "199998    0.0    0.0     0.0  0.0  0.0        0.0   0.0      0.0      0.0   \n",
       "199999    0.0    0.0     0.0  0.0  0.0        0.0   0.0      0.0      0.0   \n",
       "\n",
       "        abiy  ...  zip  zombie  zone  zoo  zoological  zoom  zoos  zora  \\\n",
       "0        0.0  ...  0.0     0.0   0.0  0.0         0.0   0.0   0.0   0.0   \n",
       "1        0.0  ...  0.0     0.0   0.0  0.0         0.0   0.0   0.0   0.0   \n",
       "2        0.0  ...  0.0     0.0   0.0  0.0         0.0   0.0   0.0   0.0   \n",
       "3        0.0  ...  0.0     0.0   0.0  0.0         0.0   0.0   0.0   0.0   \n",
       "4        0.0  ...  0.0     0.0   0.0  0.0         0.0   0.0   0.0   0.0   \n",
       "...      ...  ...  ...     ...   ...  ...         ...   ...   ...   ...   \n",
       "199995   0.0  ...  0.0     0.0   0.0  0.0         0.0   0.0   0.0   0.0   \n",
       "199996   0.0  ...  0.0     0.0   0.0  0.0         0.0   0.0   0.0   0.0   \n",
       "199997   0.0  ...  0.0     0.0   0.0  0.0         0.0   0.0   0.0   0.0   \n",
       "199998   0.0  ...  0.0     0.0   0.0  0.0         0.0   0.0   0.0   0.0   \n",
       "199999   0.0  ...  0.0     0.0   0.0  0.0         0.0   0.0   0.0   0.0   \n",
       "\n",
       "        zuckerberg  zuckerbergs  \n",
       "0              0.0          0.0  \n",
       "1              0.0          0.0  \n",
       "2              0.0          0.0  \n",
       "3              0.0          0.0  \n",
       "4              0.0          0.0  \n",
       "...            ...          ...  \n",
       "199995         0.0          0.0  \n",
       "199996         0.0          0.0  \n",
       "199997         0.0          0.0  \n",
       "199998         0.0          0.0  \n",
       "199999         0.0          0.0  \n",
       "\n",
       "[200000 rows x 9144 columns]"
      ],
      "text/html": "<div>\n<style scoped>\n    .dataframe tbody tr th:only-of-type {\n        vertical-align: middle;\n    }\n\n    .dataframe tbody tr th {\n        vertical-align: top;\n    }\n\n    .dataframe thead th {\n        text-align: right;\n    }\n</style>\n<table border=\"1\" class=\"dataframe\">\n  <thead>\n    <tr style=\"text-align: right;\">\n      <th></th>\n      <th>aaron</th>\n      <th>abbey</th>\n      <th>abbott</th>\n      <th>abc</th>\n      <th>abe</th>\n      <th>abenomics</th>\n      <th>abes</th>\n      <th>abigail</th>\n      <th>ability</th>\n      <th>abiy</th>\n      <th>...</th>\n      <th>zip</th>\n      <th>zombie</th>\n      <th>zone</th>\n      <th>zoo</th>\n      <th>zoological</th>\n      <th>zoom</th>\n      <th>zoos</th>\n      <th>zora</th>\n      <th>zuckerberg</th>\n      <th>zuckerbergs</th>\n    </tr>\n  </thead>\n  <tbody>\n    <tr>\n      <th>0</th>\n      <td>0.0</td>\n      <td>0.0</td>\n      <td>0.0</td>\n      <td>0.0</td>\n      <td>0.0</td>\n      <td>0.0</td>\n      <td>0.0</td>\n      <td>0.0</td>\n      <td>0.0</td>\n      <td>0.0</td>\n      <td>...</td>\n      <td>0.0</td>\n      <td>0.0</td>\n      <td>0.0</td>\n      <td>0.0</td>\n      <td>0.0</td>\n      <td>0.0</td>\n      <td>0.0</td>\n      <td>0.0</td>\n      <td>0.0</td>\n      <td>0.0</td>\n    </tr>\n    <tr>\n      <th>1</th>\n      <td>0.0</td>\n      <td>0.0</td>\n      <td>0.0</td>\n      <td>0.0</td>\n      <td>0.0</td>\n      <td>0.0</td>\n      <td>0.0</td>\n      <td>0.0</td>\n      <td>0.0</td>\n      <td>0.0</td>\n      <td>...</td>\n      <td>0.0</td>\n      <td>0.0</td>\n      <td>0.0</td>\n      <td>0.0</td>\n      <td>0.0</td>\n      <td>0.0</td>\n      <td>0.0</td>\n      <td>0.0</td>\n      <td>0.0</td>\n      <td>0.0</td>\n    </tr>\n    <tr>\n      <th>2</th>\n      <td>0.0</td>\n      <td>0.0</td>\n      <td>0.0</td>\n      <td>0.0</td>\n      <td>0.0</td>\n      <td>0.0</td>\n      <td>0.0</td>\n      <td>0.0</td>\n      <td>0.0</td>\n      <td>0.0</td>\n      <td>...</td>\n      <td>0.0</td>\n      <td>0.0</td>\n      <td>0.0</td>\n      <td>0.0</td>\n      <td>0.0</td>\n      <td>0.0</td>\n      <td>0.0</td>\n      <td>0.0</td>\n      <td>0.0</td>\n      <td>0.0</td>\n    </tr>\n    <tr>\n      <th>3</th>\n      <td>0.0</td>\n      <td>0.0</td>\n      <td>0.0</td>\n      <td>0.0</td>\n      <td>0.0</td>\n      <td>0.0</td>\n      <td>0.0</td>\n      <td>0.0</td>\n      <td>0.0</td>\n      <td>0.0</td>\n      <td>...</td>\n      <td>0.0</td>\n      <td>0.0</td>\n      <td>0.0</td>\n      <td>0.0</td>\n      <td>0.0</td>\n      <td>0.0</td>\n      <td>0.0</td>\n      <td>0.0</td>\n      <td>0.0</td>\n      <td>0.0</td>\n    </tr>\n    <tr>\n      <th>4</th>\n      <td>0.0</td>\n      <td>0.0</td>\n      <td>0.0</td>\n      <td>0.0</td>\n      <td>0.0</td>\n      <td>0.0</td>\n      <td>0.0</td>\n      <td>0.0</td>\n      <td>0.0</td>\n      <td>0.0</td>\n      <td>...</td>\n      <td>0.0</td>\n      <td>0.0</td>\n      <td>0.0</td>\n      <td>0.0</td>\n      <td>0.0</td>\n      <td>0.0</td>\n      <td>0.0</td>\n      <td>0.0</td>\n      <td>0.0</td>\n      <td>0.0</td>\n    </tr>\n    <tr>\n      <th>...</th>\n      <td>...</td>\n      <td>...</td>\n      <td>...</td>\n      <td>...</td>\n      <td>...</td>\n      <td>...</td>\n      <td>...</td>\n      <td>...</td>\n      <td>...</td>\n      <td>...</td>\n      <td>...</td>\n      <td>...</td>\n      <td>...</td>\n      <td>...</td>\n      <td>...</td>\n      <td>...</td>\n      <td>...</td>\n      <td>...</td>\n      <td>...</td>\n      <td>...</td>\n      <td>...</td>\n    </tr>\n    <tr>\n      <th>199995</th>\n      <td>0.0</td>\n      <td>0.0</td>\n      <td>0.0</td>\n      <td>0.0</td>\n      <td>0.0</td>\n      <td>0.0</td>\n      <td>0.0</td>\n      <td>0.0</td>\n      <td>0.0</td>\n      <td>0.0</td>\n      <td>...</td>\n      <td>0.0</td>\n      <td>0.0</td>\n      <td>0.0</td>\n      <td>0.0</td>\n      <td>0.0</td>\n      <td>0.0</td>\n      <td>0.0</td>\n      <td>0.0</td>\n      <td>0.0</td>\n      <td>0.0</td>\n    </tr>\n    <tr>\n      <th>199996</th>\n      <td>0.0</td>\n      <td>0.0</td>\n      <td>0.0</td>\n      <td>0.0</td>\n      <td>0.0</td>\n      <td>0.0</td>\n      <td>0.0</td>\n      <td>0.0</td>\n      <td>0.0</td>\n      <td>0.0</td>\n      <td>...</td>\n      <td>0.0</td>\n      <td>0.0</td>\n      <td>0.0</td>\n      <td>0.0</td>\n      <td>0.0</td>\n      <td>0.0</td>\n      <td>0.0</td>\n      <td>0.0</td>\n      <td>0.0</td>\n      <td>0.0</td>\n    </tr>\n    <tr>\n      <th>199997</th>\n      <td>0.0</td>\n      <td>0.0</td>\n      <td>0.0</td>\n      <td>0.0</td>\n      <td>0.0</td>\n      <td>0.0</td>\n      <td>0.0</td>\n      <td>0.0</td>\n      <td>0.0</td>\n      <td>0.0</td>\n      <td>...</td>\n      <td>0.0</td>\n      <td>0.0</td>\n      <td>0.0</td>\n      <td>0.0</td>\n      <td>0.0</td>\n      <td>0.0</td>\n      <td>0.0</td>\n      <td>0.0</td>\n      <td>0.0</td>\n      <td>0.0</td>\n    </tr>\n    <tr>\n      <th>199998</th>\n      <td>0.0</td>\n      <td>0.0</td>\n      <td>0.0</td>\n      <td>0.0</td>\n      <td>0.0</td>\n      <td>0.0</td>\n      <td>0.0</td>\n      <td>0.0</td>\n      <td>0.0</td>\n      <td>0.0</td>\n      <td>...</td>\n      <td>0.0</td>\n      <td>0.0</td>\n      <td>0.0</td>\n      <td>0.0</td>\n      <td>0.0</td>\n      <td>0.0</td>\n      <td>0.0</td>\n      <td>0.0</td>\n      <td>0.0</td>\n      <td>0.0</td>\n    </tr>\n    <tr>\n      <th>199999</th>\n      <td>0.0</td>\n      <td>0.0</td>\n      <td>0.0</td>\n      <td>0.0</td>\n      <td>0.0</td>\n      <td>0.0</td>\n      <td>0.0</td>\n      <td>0.0</td>\n      <td>0.0</td>\n      <td>0.0</td>\n      <td>...</td>\n      <td>0.0</td>\n      <td>0.0</td>\n      <td>0.0</td>\n      <td>0.0</td>\n      <td>0.0</td>\n      <td>0.0</td>\n      <td>0.0</td>\n      <td>0.0</td>\n      <td>0.0</td>\n      <td>0.0</td>\n    </tr>\n  </tbody>\n</table>\n<p>200000 rows × 9144 columns</p>\n</div>"
     },
     "metadata": {},
     "execution_count": 939
    }
   ],
   "source": [
    "matrix_df"
   ]
  },
  {
   "cell_type": "code",
   "execution_count": null,
   "metadata": {},
   "outputs": [],
   "source": []
  },
  {
   "source": [
    "Our doc-term matrix looks great! We have fully cleaned out all special characters and foreign language. We have extracted the nouns and pronouns in their lemmatized forms. Now we can topic model!\n"
   ],
   "cell_type": "markdown",
   "metadata": {}
  },
  {
   "source": [
    "## TOPIC MODELING\n",
    "In the second section of this notebook, we will be topic modeling."
   ],
   "cell_type": "markdown",
   "metadata": {}
  },
  {
   "cell_type": "code",
   "execution_count": 837,
   "metadata": {},
   "outputs": [],
   "source": [
    "from sklearn.decomposition import TruncatedSVD\n",
    "from sklearn.decomposition import NMF\n",
    "from sklearn.metrics.pairwise import cosine_similarity"
   ]
  },
  {
   "source": [
    "### LSA"
   ],
   "cell_type": "markdown",
   "metadata": {}
  },
  {
   "cell_type": "code",
   "execution_count": 940,
   "metadata": {},
   "outputs": [
    {
     "output_type": "execute_result",
     "data": {
      "text/plain": [
       "array([0.00513988, 0.0050063 , 0.0041349 , 0.0035138 , 0.00252051,\n",
       "       0.00263113, 0.00248147, 0.00236477, 0.00234013, 0.00219939,\n",
       "       0.00220586, 0.002142  , 0.00209055, 0.00203364, 0.00192536,\n",
       "       0.00190596, 0.00189404, 0.00185413, 0.00185073, 0.00181862,\n",
       "       0.00177205, 0.00171688, 0.00167118, 0.00162416, 0.00157869,\n",
       "       0.00153289, 0.00152641, 0.00148511, 0.00145473, 0.00142768])"
      ]
     },
     "metadata": {},
     "execution_count": 940
    }
   ],
   "source": [
    "lsa = TruncatedSVD(30)\n",
    "doc_topic = lsa.fit_transform(doc_term_matrix)\n",
    "lsa.explained_variance_ratio_"
   ]
  },
  {
   "cell_type": "code",
   "execution_count": 285,
   "metadata": {},
   "outputs": [],
   "source": [
    "#topic_word = pd.DataFrame(lsa.components_.round(3),\n",
    "             #index = [\"component_1\",\"component_2\", \"component_3\", \"component_4\", \"component_5\", \n",
    "             #\"component_6\", \"component_7\", \"component_8\", \"component_9\", \"component_10\", \n",
    "             #\"component_11\", \"component_12\", \"component_13\", \"component_14\", \"component_15\", \n",
    "             #\"component_16\", \"component_17\", \"component_18\", \"component_19\", \"component_20\", \"component_21\", \"component_22\", \"component_23\", \"component_24\", \"component_25\", \n",
    "             #\"component_26\", \"component_27\", \"component_28\", \"component_29\", \"component_30\"],\n",
    "             #columns = tfidf.get_feature_names())"
   ]
  },
  {
   "cell_type": "code",
   "execution_count": 700,
   "metadata": {},
   "outputs": [],
   "source": [
    "def display_topics(model, feature_names, no_top_words, topic_names=None):\n",
    "    for idx, topic in enumerate(model.components_):\n",
    "        if not topic_names or not topic_names[idx]:\n",
    "            print(\"\\nTopic \", idx)\n",
    "        else:\n",
    "            print(\"\\nTopic: '\",topic_names[idx],\"'\")\n",
    "        print(\", \".join([feature_names[i]\n",
    "                        for i in topic.argsort()[:-no_top_words - 1:-1]]))"
   ]
  },
  {
   "cell_type": "code",
   "execution_count": 941,
   "metadata": {},
   "outputs": [
    {
     "output_type": "stream",
     "name": "stdout",
     "text": [
      "\nTopic  0\ncoronavirus, pandemic, trump, people, president, case, outbreak, health, donald, trumps\n\nTopic  1\ntrump, president, donald, biden, joe, election, trumps, campaign, debate, voter\n\nTopic  2\npeople, covid, home, police, company, work, virus, thousand, lot, facebook\n\nTopic  3\npandemic, company, economy, job, market, worker, home, tech, industry, money\n\nTopic  4\ncompany, market, election, stock, tech, china, covid, trumps, investor, home\n\nTopic  5\nbiden, joe, election, trumps, campaign, voter, debate, case, president, court\n\nTopic  6\ncase, covid, pandemic, court, supreme, virus, school, police, trump, child\n\nTopic  7\nelection, uk, court, trump, supreme, ballot, november, donald, voting, voter\n\nTopic  8\npresident, trumps, covid, health, police, white, court, woman, protest, response\n\nTopic  9\ncompany, case, president, trumps, election, people, pandemic, stock, court, facebook\n\nTopic  10\ncovid, market, china, stock, economy, investor, vaccine, biden, virus, price\n\nTopic  11\nchina, police, hong, kong, woman, man, protest, economy, law, officer\n\nTopic  12\nhome, market, stock, president, case, investor, economy, price, nursing, job\n\nTopic  13\nchina, home, company, hong, kong, trumps, election, virus, campaign, war\n\nTopic  14\nwoman, covid, home, police, man, trumps, vaccine, protest, election, company\n\nTopic  15\neconomy, job, woman, worker, uk, work, health, crisis, rate, unemployment\n\nTopic  16\ncourt, supreme, trumps, donald, china, covid, woman, justice, amy, coney\n\nTopic  17\ntrumps, donald, economy, police, trump, crisis, job, change, perspective, campaign\n\nTopic  18\nwoman, school, china, child, trumps, job, student, election, donald, tech\n\nTopic  19\nhealth, change, climate, expert, care, market, crisis, official, woman, stock\n\nTopic  20\nchange, crisis, climate, money, covid, president, power, problem, woman, child\n\nTopic  21\njob, worker, work, change, facebook, employee, future, office, market, white\n\nTopic  22\nuk, boris, johnson, deal, brexit, lockdown, apple, plan, ft, work\n\nTopic  23\ncrisis, facebook, apple, worker, google, app, leader, amazon, power, tech\n\nTopic  24\nwork, money, economy, facebook, family, mask, tech, campaign, datum, virus\n\nTopic  25\nwork, worker, hong, crisis, kong, perspective, company, child, car, market\n\nTopic  26\nhong, kong, woman, worker, law, mask, facebook, leader, outbreak, voter\n\nTopic  27\nmoney, worker, lockdown, deal, police, market, china, school, white, food\n\nTopic  28\nchild, virus, worker, family, mask, tech, apple, uk, lockdown, parent\n\nTopic  29\ncar, history, future, united, official, states, virus, student, place, money\n"
     ]
    }
   ],
   "source": [
    "display_topics(lsa, tfidf.get_feature_names(), 10)"
   ]
  },
  {
   "cell_type": "code",
   "execution_count": null,
   "metadata": {},
   "outputs": [],
   "source": []
  },
  {
   "source": [
    "### NMF"
   ],
   "cell_type": "markdown",
   "metadata": {}
  },
  {
   "cell_type": "code",
   "execution_count": 942,
   "metadata": {},
   "outputs": [],
   "source": [
    "nmf = NMF(30)\n",
    "doc_topic = nmf.fit_transform(doc_term_matrix)"
   ]
  },
  {
   "cell_type": "code",
   "execution_count": 290,
   "metadata": {},
   "outputs": [],
   "source": [
    "#topic_word = pd.DataFrame(nmf.components_.round(3),\n",
    "             #index = [\"component_1\",\"component_2\", \"component_3\", \"component_4\", \"component_5\", \n",
    "             #\"component_6\", \"component_7\", \"component_8\", \"component_9\", \"component_10\", \n",
    "             #\"component_11\", \"component_12\", \"component_13\", \"component_14\", \"component_15\", \n",
    "             #\"component_16\", \"component_17\", \"component_18\", \"component_19\", \"component_20\", \"component_21\", \"component_22\", \"component_23\", \"component_24\", \"component_25\", \n",
    "             #\"component_26\", \"component_27\", \"component_28\", \"component_29\", \"component_30\"],\n",
    "             #columns = tfidf.get_feature_names())\n",
    "#topic_word"
   ]
  },
  {
   "cell_type": "code",
   "execution_count": 866,
   "metadata": {},
   "outputs": [
    {
     "output_type": "stream",
     "name": "stdout",
     "text": [
      "\nTopic  0\ncoronavirus, outbreak, vaccine, infection, test, spread, response, lockdown, update, testing\n\nTopic  1\ntrump, donald, administration, white, republicans, borowitz, debate, democrats, impeachment, poll\n\nTopic  2\npeople, virus, thousand, lot, matter, color, place, mask, million, disease\n\nTopic  3\npandemic, industry, sale, response, perspective, travel, effect, restaurant, food, impact\n\nTopic  4\ncompany, employee, tech, history, ceo, technology, executive, office, worker, product\n\nTopic  5\nbiden, joe, debate, campaign, bidens, voter, race, harris, bernie, poll\n\nTopic  6\ncase, virus, surge, florida, record, california, infection, rise, texas, increase\n\nTopic  7\nelection, voter, ballot, november, voting, result, campaign, party, mail, poll\n\nTopic  8\npresident, vice, white, power, obama, mike, leader, pence, trump, impeachment\n\nTopic  9\npolice, protest, officer, man, george, protester, floyd, violence, department, video\n\nTopic  10\nmarket, stock, investor, price, oil, share, future, bank, tech, rally\n\nTopic  11\nchina, war, trade, india, outbreak, beijing, tension, russia, virus, administration\n\nTopic  12\nhome, nursing, office, family, sale, tip, resident, kid, place, lockdown\n\nTopic  13\ndeath, toll, george, rate, floyds, floyd, datum, virus, update, italy\n\nTopic  14\nnumber, datum, unemployment, infection, claim, benefit, record, rate, voter, united\n\nTopic  15\nwoman, man, child, color, history, harris, mother, kamala, right, family\n\nTopic  16\neconomy, rate, lockdown, recession, unemployment, recovery, money, bank, chinas, growth\n\nTopic  17\ncourt, supreme, justice, amy, coney, barrett, ruth, bader, judge, ginsburg\n\nTopic  18\nschool, student, child, parent, college, kid, teacher, family, fall, university\n\nTopic  19\ntrumps, donald, campaign, response, policy, white, reelection, republicans, perspective, presidency\n\nTopic  20\nhealth, official, expert, care, risk, mask, virus, organization, patient, hospital\n\nTopic  21\nchange, climate, scientist, problem, policy, issue, impact, wildfire, risk, future\n\nTopic  22\njob, worker, unemployment, benefit, loss, employee, office, industry, million, rate\n\nTopic  23\nuk, boris, johnson, brexit, deal, ft, minister, eu, lockdown, plan\n\nTopic  24\ncrisis, leader, bank, response, industry, power, food, housing, moment, history\n\nTopic  25\nfacebook, apple, tech, google, money, app, amazon, datum, group, video\n\nTopic  26\nhong, kong, law, security, kongs, chinas, protest, beijing, prodemocracy, nationalsecurity\n\nTopic  27\nwork, book, office, employee, future, art, artist, culture, perspective, writer\n\nTopic  28\ncar, tesla, future, vehicle, model, sport, race, custom, concept, elon\n\nTopic  29\ncovid, vaccine, virus, test, patient, hospital, study, doctor, symptom, disease\n"
     ]
    }
   ],
   "source": [
    "display_topics(nmf, tfidf.get_feature_names(), 10)"
   ]
  },
  {
   "cell_type": "code",
   "execution_count": 943,
   "metadata": {},
   "outputs": [
    {
     "output_type": "stream",
     "name": "stdout",
     "text": [
      "\nTopic  0\ncoronavirus, outbreak, infection, toll, test, spread, lockdown, update, response, restriction\n\nTopic  1\ntrump, donald, administration, white, republicans, borowitz, debate, democrats, impeachment, poll\n\nTopic  2\npeople, virus, thousand, lot, matter, color, place, million, mask, rate\n\nTopic  3\npandemic, industry, sale, response, travel, effect, restaurant, impact, food, demand\n\nTopic  4\ncompany, employee, tech, history, ceo, technology, executive, product, oil, startup\n\nTopic  5\nbiden, joe, debate, campaign, bidens, voter, harris, race, bernie, poll\n\nTopic  6\ncase, virus, surge, florida, infection, record, california, increase, rise, texas\n\nTopic  7\nelection, voter, ballot, november, voting, result, party, campaign, mail, vote\n\nTopic  8\npresident, vice, white, power, obama, mike, pence, leader, impeachment, trump\n\nTopic  9\ncovid, test, patient, hospital, doctor, symptom, disease, study, spread, drug\n\nTopic  10\nmarket, stock, investor, price, oil, share, future, bank, tech, rally\n\nTopic  11\npolice, protest, officer, man, george, protester, floyd, violence, department, video\n\nTopic  12\nhome, nursing, office, sale, resident, tip, place, lockdown, kid, california\n\nTopic  13\nchina, war, trade, india, outbreak, beijing, tension, russia, administration, deal\n\nTopic  14\nschool, student, college, teacher, fall, university, kid, class, plan, parent\n\nTopic  15\nwoman, man, color, harris, kamala, right, mother, group, industry, gender\n\nTopic  16\ncourt, supreme, justice, amy, coney, barrett, ruth, bader, judge, ginsburg\n\nTopic  17\nchild, family, perspective, book, parent, history, kid, friend, member, doctor\n\nTopic  18\ntrumps, donald, campaign, response, policy, white, reelection, republicans, presidency, voter\n\nTopic  19\nhealth, official, expert, care, risk, organization, patient, hospital, mask, doctor\n\nTopic  20\nchange, climate, scientist, problem, policy, issue, impact, future, wildfire, debate\n\nTopic  21\njob, unemployment, loss, industry, rate, interview, million, benefit, cut, plan\n\nTopic  22\neconomy, uk, lockdown, rate, boris, johnson, ft, brexit, minister, recession\n\nTopic  23\ncrisis, leader, bank, response, industry, power, food, ft, housing, decade\n\nTopic  24\nfacebook, apple, tech, google, app, datum, amazon, user, group, video\n\nTopic  25\nhong, kong, law, security, kongs, chinas, beijing, protest, prodemocracy, nationalsecurity\n\nTopic  26\nwork, worker, office, employee, benefit, mask, unemployment, healthcare, amazon, hospital\n\nTopic  27\nvaccine, virus, trial, race, scientist, drug, result, dose, johnson, study\n\nTopic  28\nmoney, talks, bank, plan, fund, service, podcast, lot, account, rate\n\nTopic  29\ncar, tesla, future, vehicle, model, sport, custom, concept, elon, driver\n"
     ]
    }
   ],
   "source": [
    "display_topics(nmf, tfidf.get_feature_names(), 10)"
   ]
  },
  {
   "source": [
    "### LDA"
   ],
   "cell_type": "markdown",
   "metadata": {}
  },
  {
   "cell_type": "code",
   "execution_count": 383,
   "metadata": {},
   "outputs": [],
   "source": [
    "# gensim\n",
    "from gensim import corpora, models, similarities, matutils\n",
    "from gensim.corpora import Dictionary\n",
    "\n",
    "# logging for gensim (set to INFO)\n",
    "import logging\n",
    "logging.basicConfig(format='%(asctime)s : %(levelname)s : %(message)s', level=logging.INFO)"
   ]
  },
  {
   "cell_type": "code",
   "execution_count": 379,
   "metadata": {},
   "outputs": [],
   "source": [
    "# Convert our sparse matrix of counts to a gensim corpus\n",
    "corpus = matutils.Sparse2Corpus(doc_term_matrix)"
   ]
  },
  {
   "cell_type": "code",
   "execution_count": 380,
   "metadata": {},
   "outputs": [
    {
     "output_type": "execute_result",
     "data": {
      "text/plain": [
       "10635"
      ]
     },
     "metadata": {},
     "execution_count": 380
    }
   ],
   "source": [
    "#mapping (dict) of row id to word (token) for later use by gensim\n",
    "id2word = dict((v, k) for k, v in tfidf.vocabulary_.items())\n",
    "len(id2word)"
   ]
  },
  {
   "cell_type": "code",
   "execution_count": 385,
   "metadata": {},
   "outputs": [
    {
     "output_type": "stream",
     "name": "stderr",
     "text": [
      "2020-11-08 12:04:43,211 : INFO : adding document #0 to Dictionary(0 unique tokens: [])\n"
     ]
    },
    {
     "output_type": "error",
     "ename": "TypeError",
     "evalue": "decoding to str: need a bytes-like object, tuple found",
     "traceback": [
      "\u001b[0;31m---------------------------------------------------------------------------\u001b[0m",
      "\u001b[0;31mTypeError\u001b[0m                                 Traceback (most recent call last)",
      "\u001b[0;32m<ipython-input-385-1ede025b7285>\u001b[0m in \u001b[0;36m<module>\u001b[0;34m\u001b[0m\n\u001b[0;32m----> 1\u001b[0;31m \u001b[0mdictionary\u001b[0m \u001b[0;34m=\u001b[0m \u001b[0mDictionary\u001b[0m\u001b[0;34m(\u001b[0m\u001b[0mcorpus\u001b[0m\u001b[0;34m)\u001b[0m\u001b[0;34m\u001b[0m\u001b[0;34m\u001b[0m\u001b[0m\n\u001b[0m",
      "\u001b[0;32m~/opt/anaconda3/envs/metis/lib/python3.8/site-packages/gensim/corpora/dictionary.py\u001b[0m in \u001b[0;36m__init__\u001b[0;34m(self, documents, prune_at)\u001b[0m\n\u001b[1;32m     89\u001b[0m \u001b[0;34m\u001b[0m\u001b[0m\n\u001b[1;32m     90\u001b[0m         \u001b[0;32mif\u001b[0m \u001b[0mdocuments\u001b[0m \u001b[0;32mis\u001b[0m \u001b[0;32mnot\u001b[0m \u001b[0;32mNone\u001b[0m\u001b[0;34m:\u001b[0m\u001b[0;34m\u001b[0m\u001b[0;34m\u001b[0m\u001b[0m\n\u001b[0;32m---> 91\u001b[0;31m             \u001b[0mself\u001b[0m\u001b[0;34m.\u001b[0m\u001b[0madd_documents\u001b[0m\u001b[0;34m(\u001b[0m\u001b[0mdocuments\u001b[0m\u001b[0;34m,\u001b[0m \u001b[0mprune_at\u001b[0m\u001b[0;34m=\u001b[0m\u001b[0mprune_at\u001b[0m\u001b[0;34m)\u001b[0m\u001b[0;34m\u001b[0m\u001b[0;34m\u001b[0m\u001b[0m\n\u001b[0m\u001b[1;32m     92\u001b[0m \u001b[0;34m\u001b[0m\u001b[0m\n\u001b[1;32m     93\u001b[0m     \u001b[0;32mdef\u001b[0m \u001b[0m__getitem__\u001b[0m\u001b[0;34m(\u001b[0m\u001b[0mself\u001b[0m\u001b[0;34m,\u001b[0m \u001b[0mtokenid\u001b[0m\u001b[0;34m)\u001b[0m\u001b[0;34m:\u001b[0m\u001b[0;34m\u001b[0m\u001b[0;34m\u001b[0m\u001b[0m\n",
      "\u001b[0;32m~/opt/anaconda3/envs/metis/lib/python3.8/site-packages/gensim/corpora/dictionary.py\u001b[0m in \u001b[0;36madd_documents\u001b[0;34m(self, documents, prune_at)\u001b[0m\n\u001b[1;32m    210\u001b[0m \u001b[0;34m\u001b[0m\u001b[0m\n\u001b[1;32m    211\u001b[0m             \u001b[0;31m# update Dictionary with the document\u001b[0m\u001b[0;34m\u001b[0m\u001b[0;34m\u001b[0m\u001b[0;34m\u001b[0m\u001b[0m\n\u001b[0;32m--> 212\u001b[0;31m             \u001b[0mself\u001b[0m\u001b[0;34m.\u001b[0m\u001b[0mdoc2bow\u001b[0m\u001b[0;34m(\u001b[0m\u001b[0mdocument\u001b[0m\u001b[0;34m,\u001b[0m \u001b[0mallow_update\u001b[0m\u001b[0;34m=\u001b[0m\u001b[0;32mTrue\u001b[0m\u001b[0;34m)\u001b[0m  \u001b[0;31m# ignore the result, here we only care about updating token ids\u001b[0m\u001b[0;34m\u001b[0m\u001b[0;34m\u001b[0m\u001b[0m\n\u001b[0m\u001b[1;32m    213\u001b[0m \u001b[0;34m\u001b[0m\u001b[0m\n\u001b[1;32m    214\u001b[0m         logger.info(\n",
      "\u001b[0;32m~/opt/anaconda3/envs/metis/lib/python3.8/site-packages/gensim/corpora/dictionary.py\u001b[0m in \u001b[0;36mdoc2bow\u001b[0;34m(self, document, allow_update, return_missing)\u001b[0m\n\u001b[1;32m    255\u001b[0m         \u001b[0mcounter\u001b[0m \u001b[0;34m=\u001b[0m \u001b[0mdefaultdict\u001b[0m\u001b[0;34m(\u001b[0m\u001b[0mint\u001b[0m\u001b[0;34m)\u001b[0m\u001b[0;34m\u001b[0m\u001b[0;34m\u001b[0m\u001b[0m\n\u001b[1;32m    256\u001b[0m         \u001b[0;32mfor\u001b[0m \u001b[0mw\u001b[0m \u001b[0;32min\u001b[0m \u001b[0mdocument\u001b[0m\u001b[0;34m:\u001b[0m\u001b[0;34m\u001b[0m\u001b[0;34m\u001b[0m\u001b[0m\n\u001b[0;32m--> 257\u001b[0;31m             \u001b[0mcounter\u001b[0m\u001b[0;34m[\u001b[0m\u001b[0mw\u001b[0m \u001b[0;32mif\u001b[0m \u001b[0misinstance\u001b[0m\u001b[0;34m(\u001b[0m\u001b[0mw\u001b[0m\u001b[0;34m,\u001b[0m \u001b[0municode\u001b[0m\u001b[0;34m)\u001b[0m \u001b[0;32melse\u001b[0m \u001b[0municode\u001b[0m\u001b[0;34m(\u001b[0m\u001b[0mw\u001b[0m\u001b[0;34m,\u001b[0m \u001b[0;34m'utf-8'\u001b[0m\u001b[0;34m)\u001b[0m\u001b[0;34m]\u001b[0m \u001b[0;34m+=\u001b[0m \u001b[0;36m1\u001b[0m\u001b[0;34m\u001b[0m\u001b[0;34m\u001b[0m\u001b[0m\n\u001b[0m\u001b[1;32m    258\u001b[0m \u001b[0;34m\u001b[0m\u001b[0m\n\u001b[1;32m    259\u001b[0m         \u001b[0mtoken2id\u001b[0m \u001b[0;34m=\u001b[0m \u001b[0mself\u001b[0m\u001b[0;34m.\u001b[0m\u001b[0mtoken2id\u001b[0m\u001b[0;34m\u001b[0m\u001b[0;34m\u001b[0m\u001b[0m\n",
      "\u001b[0;31mTypeError\u001b[0m: decoding to str: need a bytes-like object, tuple found"
     ]
    }
   ],
   "source": [
    "dictionary = Dictionary(corpus)"
   ]
  },
  {
   "cell_type": "code",
   "execution_count": 377,
   "metadata": {},
   "outputs": [
    {
     "output_type": "stream",
     "name": "stderr",
     "text": [
      "2020-11-08 11:56:32,291 : INFO : using symmetric alpha at 0.1\n",
      "2020-11-08 11:56:32,293 : INFO : using symmetric eta at 0.1\n",
      "2020-11-08 11:56:32,299 : INFO : using serial LDA version on this node\n",
      "2020-11-08 11:56:32,312 : INFO : running online (multi-pass) LDA training, 10 topics, 5 passes over the supplied corpus of 10635 documents, updating model once every 2000 documents, evaluating perplexity every 10635 documents, iterating 50x with a convergence threshold of 0.001000\n",
      "2020-11-08 11:56:32,361 : INFO : PROGRESS: pass 0, at document #2000/10635\n"
     ]
    },
    {
     "output_type": "error",
     "ename": "IndexError",
     "evalue": "index 41205 is out of bounds for axis 1 with size 10635",
     "traceback": [
      "\u001b[0;31m---------------------------------------------------------------------------\u001b[0m",
      "\u001b[0;31mIndexError\u001b[0m                                Traceback (most recent call last)",
      "\u001b[0;32m<ipython-input-377-89a448e2a0c6>\u001b[0m in \u001b[0;36m<module>\u001b[0;34m\u001b[0m\n\u001b[1;32m      1\u001b[0m \u001b[0;31m#create model\u001b[0m\u001b[0;34m\u001b[0m\u001b[0;34m\u001b[0m\u001b[0;34m\u001b[0m\u001b[0m\n\u001b[0;32m----> 2\u001b[0;31m \u001b[0mlda\u001b[0m \u001b[0;34m=\u001b[0m \u001b[0mmodels\u001b[0m\u001b[0;34m.\u001b[0m\u001b[0mLdaModel\u001b[0m\u001b[0;34m(\u001b[0m\u001b[0mcorpus\u001b[0m\u001b[0;34m=\u001b[0m\u001b[0mcorpus\u001b[0m\u001b[0;34m,\u001b[0m \u001b[0mnum_topics\u001b[0m\u001b[0;34m=\u001b[0m\u001b[0;36m10\u001b[0m\u001b[0;34m,\u001b[0m \u001b[0mid2word\u001b[0m\u001b[0;34m=\u001b[0m\u001b[0mid2word\u001b[0m\u001b[0;34m,\u001b[0m \u001b[0mpasses\u001b[0m\u001b[0;34m=\u001b[0m\u001b[0;36m5\u001b[0m\u001b[0;34m)\u001b[0m\u001b[0;34m\u001b[0m\u001b[0;34m\u001b[0m\u001b[0m\n\u001b[0m",
      "\u001b[0;32m~/opt/anaconda3/envs/metis/lib/python3.8/site-packages/gensim/models/ldamodel.py\u001b[0m in \u001b[0;36m__init__\u001b[0;34m(self, corpus, num_topics, id2word, distributed, chunksize, passes, update_every, alpha, eta, decay, offset, eval_every, iterations, gamma_threshold, minimum_probability, random_state, ns_conf, minimum_phi_value, per_word_topics, callbacks, dtype)\u001b[0m\n\u001b[1;32m    517\u001b[0m         \u001b[0;32mif\u001b[0m \u001b[0mcorpus\u001b[0m \u001b[0;32mis\u001b[0m \u001b[0;32mnot\u001b[0m \u001b[0;32mNone\u001b[0m\u001b[0;34m:\u001b[0m\u001b[0;34m\u001b[0m\u001b[0;34m\u001b[0m\u001b[0m\n\u001b[1;32m    518\u001b[0m             \u001b[0muse_numpy\u001b[0m \u001b[0;34m=\u001b[0m \u001b[0mself\u001b[0m\u001b[0;34m.\u001b[0m\u001b[0mdispatcher\u001b[0m \u001b[0;32mis\u001b[0m \u001b[0;32mnot\u001b[0m \u001b[0;32mNone\u001b[0m\u001b[0;34m\u001b[0m\u001b[0;34m\u001b[0m\u001b[0m\n\u001b[0;32m--> 519\u001b[0;31m             \u001b[0mself\u001b[0m\u001b[0;34m.\u001b[0m\u001b[0mupdate\u001b[0m\u001b[0;34m(\u001b[0m\u001b[0mcorpus\u001b[0m\u001b[0;34m,\u001b[0m \u001b[0mchunks_as_numpy\u001b[0m\u001b[0;34m=\u001b[0m\u001b[0muse_numpy\u001b[0m\u001b[0;34m)\u001b[0m\u001b[0;34m\u001b[0m\u001b[0;34m\u001b[0m\u001b[0m\n\u001b[0m\u001b[1;32m    520\u001b[0m \u001b[0;34m\u001b[0m\u001b[0m\n\u001b[1;32m    521\u001b[0m     \u001b[0;32mdef\u001b[0m \u001b[0minit_dir_prior\u001b[0m\u001b[0;34m(\u001b[0m\u001b[0mself\u001b[0m\u001b[0;34m,\u001b[0m \u001b[0mprior\u001b[0m\u001b[0;34m,\u001b[0m \u001b[0mname\u001b[0m\u001b[0;34m)\u001b[0m\u001b[0;34m:\u001b[0m\u001b[0;34m\u001b[0m\u001b[0;34m\u001b[0m\u001b[0m\n",
      "\u001b[0;32m~/opt/anaconda3/envs/metis/lib/python3.8/site-packages/gensim/models/ldamodel.py\u001b[0m in \u001b[0;36mupdate\u001b[0;34m(self, corpus, chunksize, decay, offset, passes, update_every, eval_every, iterations, gamma_threshold, chunks_as_numpy)\u001b[0m\n\u001b[1;32m    978\u001b[0m                         \u001b[0mpass_\u001b[0m\u001b[0;34m,\u001b[0m \u001b[0mchunk_no\u001b[0m \u001b[0;34m*\u001b[0m \u001b[0mchunksize\u001b[0m \u001b[0;34m+\u001b[0m \u001b[0mlen\u001b[0m\u001b[0;34m(\u001b[0m\u001b[0mchunk\u001b[0m\u001b[0;34m)\u001b[0m\u001b[0;34m,\u001b[0m \u001b[0mlencorpus\u001b[0m\u001b[0;34m\u001b[0m\u001b[0;34m\u001b[0m\u001b[0m\n\u001b[1;32m    979\u001b[0m                     )\n\u001b[0;32m--> 980\u001b[0;31m                     \u001b[0mgammat\u001b[0m \u001b[0;34m=\u001b[0m \u001b[0mself\u001b[0m\u001b[0;34m.\u001b[0m\u001b[0mdo_estep\u001b[0m\u001b[0;34m(\u001b[0m\u001b[0mchunk\u001b[0m\u001b[0;34m,\u001b[0m \u001b[0mother\u001b[0m\u001b[0;34m)\u001b[0m\u001b[0;34m\u001b[0m\u001b[0;34m\u001b[0m\u001b[0m\n\u001b[0m\u001b[1;32m    981\u001b[0m \u001b[0;34m\u001b[0m\u001b[0m\n\u001b[1;32m    982\u001b[0m                     \u001b[0;32mif\u001b[0m \u001b[0mself\u001b[0m\u001b[0;34m.\u001b[0m\u001b[0moptimize_alpha\u001b[0m\u001b[0;34m:\u001b[0m\u001b[0;34m\u001b[0m\u001b[0;34m\u001b[0m\u001b[0m\n",
      "\u001b[0;32m~/opt/anaconda3/envs/metis/lib/python3.8/site-packages/gensim/models/ldamodel.py\u001b[0m in \u001b[0;36mdo_estep\u001b[0;34m(self, chunk, state)\u001b[0m\n\u001b[1;32m    740\u001b[0m         \u001b[0;32mif\u001b[0m \u001b[0mstate\u001b[0m \u001b[0;32mis\u001b[0m \u001b[0;32mNone\u001b[0m\u001b[0;34m:\u001b[0m\u001b[0;34m\u001b[0m\u001b[0;34m\u001b[0m\u001b[0m\n\u001b[1;32m    741\u001b[0m             \u001b[0mstate\u001b[0m \u001b[0;34m=\u001b[0m \u001b[0mself\u001b[0m\u001b[0;34m.\u001b[0m\u001b[0mstate\u001b[0m\u001b[0;34m\u001b[0m\u001b[0;34m\u001b[0m\u001b[0m\n\u001b[0;32m--> 742\u001b[0;31m         \u001b[0mgamma\u001b[0m\u001b[0;34m,\u001b[0m \u001b[0msstats\u001b[0m \u001b[0;34m=\u001b[0m \u001b[0mself\u001b[0m\u001b[0;34m.\u001b[0m\u001b[0minference\u001b[0m\u001b[0;34m(\u001b[0m\u001b[0mchunk\u001b[0m\u001b[0;34m,\u001b[0m \u001b[0mcollect_sstats\u001b[0m\u001b[0;34m=\u001b[0m\u001b[0;32mTrue\u001b[0m\u001b[0;34m)\u001b[0m\u001b[0;34m\u001b[0m\u001b[0;34m\u001b[0m\u001b[0m\n\u001b[0m\u001b[1;32m    743\u001b[0m         \u001b[0mstate\u001b[0m\u001b[0;34m.\u001b[0m\u001b[0msstats\u001b[0m \u001b[0;34m+=\u001b[0m \u001b[0msstats\u001b[0m\u001b[0;34m\u001b[0m\u001b[0;34m\u001b[0m\u001b[0m\n\u001b[1;32m    744\u001b[0m         \u001b[0mstate\u001b[0m\u001b[0;34m.\u001b[0m\u001b[0mnumdocs\u001b[0m \u001b[0;34m+=\u001b[0m \u001b[0mgamma\u001b[0m\u001b[0;34m.\u001b[0m\u001b[0mshape\u001b[0m\u001b[0;34m[\u001b[0m\u001b[0;36m0\u001b[0m\u001b[0;34m]\u001b[0m  \u001b[0;31m# avoids calling len(chunk) on a generator\u001b[0m\u001b[0;34m\u001b[0m\u001b[0;34m\u001b[0m\u001b[0m\n",
      "\u001b[0;32m~/opt/anaconda3/envs/metis/lib/python3.8/site-packages/gensim/models/ldamodel.py\u001b[0m in \u001b[0;36minference\u001b[0;34m(self, chunk, collect_sstats)\u001b[0m\n\u001b[1;32m    678\u001b[0m             \u001b[0mElogthetad\u001b[0m \u001b[0;34m=\u001b[0m \u001b[0mElogtheta\u001b[0m\u001b[0;34m[\u001b[0m\u001b[0md\u001b[0m\u001b[0;34m,\u001b[0m \u001b[0;34m:\u001b[0m\u001b[0;34m]\u001b[0m\u001b[0;34m\u001b[0m\u001b[0;34m\u001b[0m\u001b[0m\n\u001b[1;32m    679\u001b[0m             \u001b[0mexpElogthetad\u001b[0m \u001b[0;34m=\u001b[0m \u001b[0mexpElogtheta\u001b[0m\u001b[0;34m[\u001b[0m\u001b[0md\u001b[0m\u001b[0;34m,\u001b[0m \u001b[0;34m:\u001b[0m\u001b[0;34m]\u001b[0m\u001b[0;34m\u001b[0m\u001b[0;34m\u001b[0m\u001b[0m\n\u001b[0;32m--> 680\u001b[0;31m             \u001b[0mexpElogbetad\u001b[0m \u001b[0;34m=\u001b[0m \u001b[0mself\u001b[0m\u001b[0;34m.\u001b[0m\u001b[0mexpElogbeta\u001b[0m\u001b[0;34m[\u001b[0m\u001b[0;34m:\u001b[0m\u001b[0;34m,\u001b[0m \u001b[0mids\u001b[0m\u001b[0;34m]\u001b[0m\u001b[0;34m\u001b[0m\u001b[0;34m\u001b[0m\u001b[0m\n\u001b[0m\u001b[1;32m    681\u001b[0m \u001b[0;34m\u001b[0m\u001b[0m\n\u001b[1;32m    682\u001b[0m             \u001b[0;31m# The optimal phi_{dwk} is proportional to expElogthetad_k * expElogbetad_w.\u001b[0m\u001b[0;34m\u001b[0m\u001b[0;34m\u001b[0m\u001b[0;34m\u001b[0m\u001b[0m\n",
      "\u001b[0;31mIndexError\u001b[0m: index 41205 is out of bounds for axis 1 with size 10635"
     ]
    }
   ],
   "source": [
    "#create model\n",
    "lda = models.LdaModel(corpus=corpus, num_topics=10, id2word=id2word, passes=5)"
   ]
  },
  {
   "source": [
    "NMF works better than LSA. It has been a feedback loop of topic modeling and cleaning, but I feel good about these results. They look very clean. Let's try to have more topics, because that will make the topics themselves more precise, and let's take a look at the specific tweets as well."
   ],
   "cell_type": "markdown",
   "metadata": {}
  },
  {
   "source": [
    "### Topic Interpretation"
   ],
   "cell_type": "markdown",
   "metadata": {}
  },
  {
   "cell_type": "code",
   "execution_count": 944,
   "metadata": {},
   "outputs": [],
   "source": [
    "#nmf = NMF(30)\n",
    "tweet_topic_matrix = nmf.fit_transform(doc_term_matrix)\n",
    "tweet_topic_matrix_df = pd.DataFrame(tweet_topic_matrix).add_prefix('topic_')\n",
    "\n"
   ]
  },
  {
   "cell_type": "code",
   "execution_count": 945,
   "metadata": {},
   "outputs": [],
   "source": [
    "tweet_topic_matrix_df[['content', 'clean_final']] = df_raw[['content', 'clean_final']]"
   ]
  },
  {
   "cell_type": "code",
   "execution_count": 946,
   "metadata": {},
   "outputs": [
    {
     "output_type": "execute_result",
     "data": {
      "text/plain": [
       "(200000, 32)"
      ]
     },
     "metadata": {},
     "execution_count": 946
    }
   ],
   "source": [
    "tweet_topic_matrix_df.shape"
   ]
  },
  {
   "cell_type": "code",
   "execution_count": 947,
   "metadata": {},
   "outputs": [],
   "source": [
    "word_topic_matrix_df = pd.DataFrame(nmf.components_, columns=tfidf.get_feature_names()).T.add_prefix('topic_')\n"
   ]
  },
  {
   "cell_type": "code",
   "execution_count": 948,
   "metadata": {},
   "outputs": [
    {
     "output_type": "execute_result",
     "data": {
      "text/plain": [
       "(9144, 30)"
      ]
     },
     "metadata": {},
     "execution_count": 948
    }
   ],
   "source": [
    "word_topic_matrix_df.shape"
   ]
  },
  {
   "cell_type": "code",
   "execution_count": 949,
   "metadata": {},
   "outputs": [],
   "source": [
    "def top_tweets(tweet_topic_matrix_df, topic, n_tweets):\n",
    "    \"\"\"\n",
    "    \"\"\"\n",
    "    return (tweet_topic_matrix_df\n",
    "            .sort_values(by=topic, ascending=False)\n",
    "            .head(n_tweets)['content']\n",
    "            .values)\n",
    "\n",
    "def top_words(word_topic_matrix_df, topic, n_words):\n",
    "    \"\"\"\n",
    "    \"\"\"\n",
    "    return (word_topic_matrix_df\n",
    "            .sort_values(by=topic, ascending=False)\n",
    "            .head(n_words))[topic]"
   ]
  },
  {
   "source": [
    "#### Topic 1: Coronavirus"
   ],
   "cell_type": "markdown",
   "metadata": {}
  },
  {
   "cell_type": "code",
   "execution_count": 950,
   "metadata": {},
   "outputs": [
    {
     "output_type": "execute_result",
     "data": {
      "text/plain": [
       "coronavirus    8.939366\n",
       "outbreak       1.092181\n",
       "infection      0.556388\n",
       "toll           0.482746\n",
       "test           0.409660\n",
       "spread         0.387336\n",
       "lockdown       0.319365\n",
       "update         0.306768\n",
       "response       0.297580\n",
       "testing        0.257257\n",
       "Name: topic_0, dtype: float64"
      ]
     },
     "metadata": {},
     "execution_count": 950
    }
   ],
   "source": [
    "top_words(word_topic_matrix_df, 'topic_0', 10)"
   ]
  },
  {
   "cell_type": "code",
   "execution_count": 951,
   "metadata": {},
   "outputs": [
    {
     "output_type": "execute_result",
     "data": {
      "text/plain": [
       "array(['Find all the latest on the coronavirus here https://t.co/NLp2lJgrJJ',\n",
       "       \"Here's what happens after you call 911 for the coronavirus https://t.co/c5ei3QH0o6\",\n",
       "       'How to hike — safely and responsibly — during coronavirus https://t.co/YfSOFsUuNa',\n",
       "       'New York struggles to bury its coronavirus dead https://t.co/zfRpY5Uxfj',\n",
       "       '“I’ve come close to dying a few times, and I’m not afraid anymore, just sad,” @caitlinpacific writes. “But if I die from the corona\\xadvirus, it will be one more un\\xadnecessary American death.” https://t.co/X3Q2GNoA49',\n",
       "       'She came to the U.S. legally and was trying to do everything right. Then came the coronavirus. https://t.co/10V1sGgErd',\n",
       "       'The coronavirus changed everything, but not T.J. Maxx https://t.co/mubSxdSiYt',\n",
       "       'How dangerous is new coronavirus and other questions answered https://t.co/CSJKUh4wHA',\n",
       "       'As states reopen, cities are staying shut. That could mean more coronavirus in rural America. https://t.co/SzxcUZzUoQ',\n",
       "       'Coronavirus latest: New US coronavirus deaths hold near 400 for second day https://t.co/NuBBT79GMA'],\n",
       "      dtype=object)"
      ]
     },
     "metadata": {},
     "execution_count": 951
    }
   ],
   "source": [
    "top_tweets(tweet_topic_matrix_df ,'topic_0', 10)"
   ]
  },
  {
   "source": [
    "#### Topic 2: Trump"
   ],
   "cell_type": "markdown",
   "metadata": {}
  },
  {
   "cell_type": "code",
   "execution_count": 952,
   "metadata": {},
   "outputs": [
    {
     "output_type": "execute_result",
     "data": {
      "text/plain": [
       "trump             5.248614\n",
       "donald            1.429961\n",
       "administration    0.380295\n",
       "white             0.208782\n",
       "republicans       0.137328\n",
       "borowitz          0.121526\n",
       "debate            0.113250\n",
       "democrats         0.108134\n",
       "impeachment       0.102637\n",
       "poll              0.101975\n",
       "Name: topic_1, dtype: float64"
      ]
     },
     "metadata": {},
     "execution_count": 952
    }
   ],
   "source": [
    "top_words(word_topic_matrix_df, 'topic_1', 10)"
   ]
  },
  {
   "cell_type": "code",
   "execution_count": 953,
   "metadata": {},
   "outputs": [
    {
     "output_type": "execute_result",
     "data": {
      "text/plain": [
       "array(['Opinion: The pandemic Trump cannot ignore https://t.co/eEOMwar60Y',\n",
       "       'Opinion: Why Trump can’t understand what Americans are feeling https://t.co/YISQmMEcUF',\n",
       "       'Opinion: Trump must think autoworkers are stupid https://t.co/Ubem7DL9U7',\n",
       "       'Opinion: Trump keeps claiming he cannot legitimately lose.\\n\\nWe should take that seriously. https://t.co/od4IJtBEdB',\n",
       "       'Opinion: Trump is uniting Americans — against him https://t.co/XgSWz4m375',\n",
       "       'Analysis: What Trump had in 2016 https://t.co/1b87qndlxL',\n",
       "       'Opinion: Trump might not have reached bottom https://t.co/SOlrbXJDXB',\n",
       "       'Opinion: Trump has exposed the \"deep state\" — and it is him https://t.co/p0zVzDgW5w',\n",
       "       'Opinion | Trump did get one thing right: This isn’t going to end well https://t.co/Zi2kijzEbk',\n",
       "       'Opinion: I can’t believe you’re forcing me to vote for Trump, which I definitely didn’t already want to do https://t.co/eF9n3tz4kh'],\n",
       "      dtype=object)"
      ]
     },
     "metadata": {},
     "execution_count": 953
    }
   ],
   "source": [
    "top_tweets(tweet_topic_matrix_df ,'topic_1', 10)"
   ]
  },
  {
   "source": [
    "#### Topic 3: People/human interest"
   ],
   "cell_type": "markdown",
   "metadata": {}
  },
  {
   "cell_type": "code",
   "execution_count": 954,
   "metadata": {},
   "outputs": [
    {
     "output_type": "execute_result",
     "data": {
      "text/plain": [
       "people      4.975677\n",
       "virus       0.126252\n",
       "thousand    0.124961\n",
       "lot         0.106357\n",
       "matter      0.102437\n",
       "color       0.091667\n",
       "place       0.091541\n",
       "mask        0.082126\n",
       "million     0.078380\n",
       "rate        0.069577\n",
       "Name: topic_2, dtype: float64"
      ]
     },
     "metadata": {},
     "execution_count": 954
    }
   ],
   "source": [
    "top_words(word_topic_matrix_df, 'topic_2', 10)"
   ]
  },
  {
   "cell_type": "code",
   "execution_count": 955,
   "metadata": {},
   "outputs": [
    {
     "output_type": "execute_result",
     "data": {
      "text/plain": [
       "array(['The richest people in America, ranked https://t.co/ZFeX7w5mIL',\n",
       "       'By 2025, 800 million people will identify with Pentecostalism. What is it? https://t.co/iGhYpwCmGw https://t.co/UsAx77FhUi',\n",
       "       '10 ways white people can develop more racial stamina: https://t.co/VhtZRIod9I',\n",
       "       'Average people are important, too. https://t.co/Bv3kyBapJt',\n",
       "       \"Some people still aren't taking this seriously. The TL;DR: No one is immune. https://t.co/WuUDSdcqKo\",\n",
       "       'Far from being burned out, some people are fired up by keeping busy. https://t.co/VBhpxrZR8R',\n",
       "       'Opinion: When you drown the government in the bathtub, people die https://t.co/ay6qLBsNGK',\n",
       "       '\"I know that people are just trying to help, but I also know that they don’t really understand.\" —@Rachael1013 https://t.co/00NEJMLcSL (via @humanparts)',\n",
       "       \"13 things mentally strong people don't do https://t.co/03D0pziI8E\",\n",
       "       'The 3 cities most people want to move out of right now https://t.co/cVSmKi6Ytu'],\n",
       "      dtype=object)"
      ]
     },
     "metadata": {},
     "execution_count": 955
    }
   ],
   "source": [
    "top_tweets(tweet_topic_matrix_df ,'topic_2', 10)"
   ]
  },
  {
   "source": [
    "#### Topic 4: Pandemic Impact"
   ],
   "cell_type": "markdown",
   "metadata": {}
  },
  {
   "cell_type": "code",
   "execution_count": 956,
   "metadata": {},
   "outputs": [
    {
     "output_type": "execute_result",
     "data": {
      "text/plain": [
       "pandemic       4.964991\n",
       "industry       0.108869\n",
       "sale           0.091772\n",
       "response       0.078301\n",
       "travel         0.073035\n",
       "perspective    0.072812\n",
       "effect         0.062418\n",
       "restaurant     0.059556\n",
       "impact         0.057853\n",
       "food           0.056242\n",
       "Name: topic_3, dtype: float64"
      ]
     },
     "metadata": {},
     "execution_count": 956
    }
   ],
   "source": [
    "top_words(word_topic_matrix_df, 'topic_3', 10)"
   ]
  },
  {
   "cell_type": "code",
   "execution_count": 957,
   "metadata": {},
   "outputs": [
    {
     "output_type": "execute_result",
     "data": {
      "text/plain": [
       "array(['Opinion | You can be both social and safe during the pandemic. By @birthdaymoney https://t.co/xUB6gUJ89Z',\n",
       "       'My third-grader was remote learning in a pandemic.\\n\\nI wasn’t going to worry about a C- in PE. https://t.co/Hfinec8hAT',\n",
       "       'What to know about being pregnant during the covid-19 pandemic https://t.co/HV0BxCrjC8',\n",
       "       \"9 affordable 'covid compatible interests' to actually enjoy yourself more during the pandemic https://t.co/iHw9uYYg1C\",\n",
       "       'Mask-phobic countries have fared worse in the pandemic than mask-loving ones https://t.co/qTceA0APc1',\n",
       "       'The 20 best countries for Americans to move to after the pandemic https://t.co/bJLgtnthqf',\n",
       "       'You may be exhausted but the covid-19 pandemic is barely getting started https://t.co/Y6I6lvAH7n',\n",
       "       'The recovered: How it feels to be alive on the other side of the pandemic https://t.co/27eBdnJVtF',\n",
       "       'How to protest safely in a pandemic https://t.co/bTS3OG8rSl',\n",
       "       '4 ways to rethink and pivot your business as the pandemic continues (via @Inc) https://t.co/JCbMXfVdLl'],\n",
       "      dtype=object)"
      ]
     },
     "metadata": {},
     "execution_count": 957
    }
   ],
   "source": [
    "top_tweets(tweet_topic_matrix_df ,'topic_3', 10)"
   ]
  },
  {
   "source": [
    "#### Topic 5: Business"
   ],
   "cell_type": "markdown",
   "metadata": {}
  },
  {
   "cell_type": "code",
   "execution_count": 958,
   "metadata": {},
   "outputs": [
    {
     "output_type": "execute_result",
     "data": {
      "text/plain": [
       "company       7.888003\n",
       "employee      0.754682\n",
       "tech          0.563495\n",
       "history       0.411291\n",
       "ceo           0.318969\n",
       "technology    0.300853\n",
       "executive     0.293038\n",
       "worker        0.246182\n",
       "office        0.236424\n",
       "product       0.214292\n",
       "Name: topic_4, dtype: float64"
      ]
     },
     "metadata": {},
     "execution_count": 958
    }
   ],
   "source": [
    "top_words(word_topic_matrix_df, 'topic_4', 10)"
   ]
  },
  {
   "cell_type": "code",
   "execution_count": 960,
   "metadata": {},
   "outputs": [
    {
     "output_type": "execute_result",
     "data": {
      "text/plain": [
       "array(['Three recent reports have made some foreign companies wake up https://t.co/iw3mTKyATQ',\n",
       "       'Uniqlo’s fleeces have barely changed in 20 years. How has the company sold so many? https://t.co/qqblxXIyaQ From @1843mag',\n",
       "       'Uniqlo’s fleeces have barely changed in 20 years. How has the company sold so many? https://t.co/Pz5IEMedrL From @1843mag',\n",
       "       'Uniqlo’s fleeces have barely changed in 20 years. How has the company sold so many? https://t.co/xtSYsakq2n From @1843mag',\n",
       "       \"How Taboola and Outbrain's plan to create a $2 billion clickbait company fell apart https://t.co/REcQaNUSPQ\",\n",
       "       '10 in-demand skills companies are hiring for right now — and how to learn them for free https://t.co/cziPtAcT1G',\n",
       "       'Here are the seven most diverse and inclusive companies headquartered in the US https://t.co/5VarGLfcvB',\n",
       "       'Would you discuss your horoscope in polite company? https://t.co/pwSacKhz2n',\n",
       "       'Companies like @away are indeed changing the world, and not always for the better (via @MRKR) https://t.co/VaWzBbEPkJ',\n",
       "       '“Why We Hate Working for Big Companies” by @puppetmasterd https://t.co/7YemZwfRKU',\n",
       "       '\"It feels like I have worked at three different companies in the last six years.\" https://t.co/kd4CNlbEBQ',\n",
       "       \"Opinion: @Airbnb is the most valuable private company in America — here's why you should expect it to take off in a year https://t.co/Lo25HgiNUD\",\n",
       "       \"If you're looking to support your favorite cause, your company might help amplify your giving. @amberbburton explains. #WSJWhatsNow\\xa0https://t.co/KA4OaCl4Jo https://t.co/UdcYSZbxWM\",\n",
       "       'It’s been a bad few years for investors in shale companies, but a pretty good few years for shale company CEOs https://t.co/3XCZyXfyAZ https://t.co/CjtWJpIpmF',\n",
       "       \"Some people can't stop starting companies https://t.co/Jv5R1XPsnd\",\n",
       "       'How did small, family-owned companies make it through the pandemic? We spent five months with one to find out https://t.co/Pi9FyBYrRw',\n",
       "       'As pandemics become the new normal, companies need to expect the unexpected. (via @MRKR) https://t.co/V0jCIcksXk',\n",
       "       'How did small, family-owned companies make it through the pandemic? We spent five months with one to find out https://t.co/W7CECQiiKg',\n",
       "       'Nothing has blindsided Turkish companies as badly as the pandemic https://t.co/DMNw7AnwJa',\n",
       "       'Your data might be safer from hackers with a big company, but it might be less safe from, well, the big company itself. (via @ozm) https://t.co/6AwzACZEA7'],\n",
       "      dtype=object)"
      ]
     },
     "metadata": {},
     "execution_count": 960
    }
   ],
   "source": [
    "top_tweets(tweet_topic_matrix_df ,'topic_4', 20)"
   ]
  },
  {
   "source": [
    "#### Topic 6: Biden"
   ],
   "cell_type": "markdown",
   "metadata": {}
  },
  {
   "cell_type": "code",
   "execution_count": 961,
   "metadata": {},
   "outputs": [
    {
     "output_type": "execute_result",
     "data": {
      "text/plain": [
       "biden       3.517683\n",
       "joe         2.904160\n",
       "debate      0.726015\n",
       "campaign    0.635360\n",
       "bidens      0.415304\n",
       "voter       0.344113\n",
       "harris      0.286956\n",
       "race        0.280959\n",
       "bernie      0.279985\n",
       "poll        0.271599\n",
       "Name: topic_5, dtype: float64"
      ]
     },
     "metadata": {},
     "execution_count": 961
    }
   ],
   "source": [
    "top_words(word_topic_matrix_df, 'topic_5', 10)"
   ]
  },
  {
   "cell_type": "code",
   "execution_count": 962,
   "metadata": {},
   "outputs": [
    {
     "output_type": "execute_result",
     "data": {
      "text/plain": [
       "array(['Opinion: Joe Biden must be doing something right https://t.co/fiZQrJcpKC',\n",
       "       \"Analysis: Who's afraid of Joe Biden? https://t.co/9pF4ExJH5D\",\n",
       "       'Opinion: Does Joe Biden have to be inspiring to win? Probably not. https://t.co/0v0zdLXrow',\n",
       "       'From @WSJopinion: Now we know who knew about the Russian calls, including Joe Biden https://t.co/WRgq9Tjp1M',\n",
       "       'Analysis: Joe Biden has shifted left https://t.co/TJYcKU9iar',\n",
       "       'Opinion: Joe Biden, the inspirational plodder https://t.co/Nm126lmW6I',\n",
       "       'Opinion: How Joe Biden — yes, Joe Biden — could revolutionize American politics https://t.co/2Kx1d5d1Tc',\n",
       "       'Joe Biden tests negative for coronavirus https://t.co/4pneXbiAkO',\n",
       "       'From @WSJopinion: A media-and-tech wall has been built to protect Joe Biden in the final days of the campaign, writes @gerardtbaker https://t.co/1QQuOm3zsx',\n",
       "       'Joe Biden rises with a less-is-more campaign https://t.co/rpIx2qpnTQ'],\n",
       "      dtype=object)"
      ]
     },
     "metadata": {},
     "execution_count": 962
    }
   ],
   "source": [
    "top_tweets(tweet_topic_matrix_df ,'topic_5', 10)"
   ]
  },
  {
   "source": [
    "#### Topic 7: Covid spread"
   ],
   "cell_type": "markdown",
   "metadata": {}
  },
  {
   "cell_type": "code",
   "execution_count": 963,
   "metadata": {},
   "outputs": [
    {
     "output_type": "execute_result",
     "data": {
      "text/plain": [
       "case          4.784447\n",
       "virus         0.275697\n",
       "surge         0.216582\n",
       "florida       0.201637\n",
       "infection     0.194398\n",
       "record        0.188892\n",
       "california    0.150953\n",
       "increase      0.142977\n",
       "rate          0.140180\n",
       "rise          0.137798\n",
       "Name: topic_6, dtype: float64"
      ]
     },
     "metadata": {},
     "execution_count": 963
    }
   ],
   "source": [
    "top_words(word_topic_matrix_df, 'topic_6', 10)"
   ]
  },
  {
   "cell_type": "code",
   "execution_count": 964,
   "metadata": {},
   "outputs": [
    {
     "output_type": "execute_result",
     "data": {
      "text/plain": [
       "array(['In case you know someone who needs this. https://t.co/Flou7OLaZj',\n",
       "       \"Just in case you're looking ... https://t.co/1hVXxtieJY\",\n",
       "       'Just in case you know someone who needs this. https://t.co/2gsiRBqhA8',\n",
       "       'Confirmed cases globally have passed 2.06 million, about a third of them in the U.S., which has logged over 30,000 of the more than 137,000 deaths world-wide https://t.co/E2QFKJkIdf',\n",
       "       'World-wide, there were 310,000 new confirmed cases added on Saturday, after three straight days of about 280,000 new cases https://t.co/dbrO0i9haU',\n",
       "       'In case you missed it:\\nhttps://t.co/NtR1VG2RJN',\n",
       "       'Confirmed cases near 84,000 in New York https://t.co/FtNUBO2DR2',\n",
       "       'You might want to know this ... just in case https://t.co/pHf7YiobqL',\n",
       "       'In case you missed it: \\nhttps://t.co/NGAwWMj8cE',\n",
       "       'Just in case you know someone who needs this. https://t.co/C2480wLK4k'],\n",
       "      dtype=object)"
      ]
     },
     "metadata": {},
     "execution_count": 964
    }
   ],
   "source": [
    "top_tweets(tweet_topic_matrix_df ,'topic_6', 10)"
   ]
  },
  {
   "source": [
    "#### Topic 8: Election"
   ],
   "cell_type": "markdown",
   "metadata": {}
  },
  {
   "cell_type": "code",
   "execution_count": 965,
   "metadata": {},
   "outputs": [
    {
     "output_type": "execute_result",
     "data": {
      "text/plain": [
       "election    4.055427\n",
       "voter       0.463508\n",
       "ballot      0.383116\n",
       "november    0.353057\n",
       "voting      0.342344\n",
       "result      0.322172\n",
       "campaign    0.259658\n",
       "party       0.254662\n",
       "mail        0.228394\n",
       "poll        0.210834\n",
       "Name: topic_7, dtype: float64"
      ]
     },
     "metadata": {},
     "execution_count": 965
    }
   ],
   "source": [
    "top_words(word_topic_matrix_df, 'topic_7', 10)"
   ]
  },
  {
   "cell_type": "code",
   "execution_count": 966,
   "metadata": {},
   "outputs": [
    {
     "output_type": "execute_result",
     "data": {
      "text/plain": [
       "array(['Zoran Milanovic wins Croatia’s presidential election https://t.co/cFRS0pNJDT',\n",
       "       'Opinion: This election is all about who gets to vote https://t.co/St6cpvlf4n',\n",
       "       'Of course, there’s no way to really know if our election was safe and secure until after it’s over. Here’s how we’ll be able to tell: 7/ https://t.co/AReC0OQeEF',\n",
       "       'If you have an election question that we haven’t covered, let us know here: https://t.co/gXhd7fKK4S',\n",
       "       'Opinion: Could Trump steal the election? Here’s one way to find out. https://t.co/FGnOh4EDJp',\n",
       "       \"Do you know the ins and outs of your local elections? Here's how to find out. https://t.co/TacTHw6wVH\",\n",
       "       '“Egypt’s Undemocratic Election” by @ForeignPolicy https://t.co/7Lufv3fB6S',\n",
       "       'Americans will vote in 11 gubernatorial elections in 2020. Only one is considered a toss-up. https://t.co/EEuj2dDphw',\n",
       "       'Analysis: What’s happened in the last 20 days of the last 13 elections https://t.co/F8JWhipxje',\n",
       "       '\"The year ahead will be no ordinary year,\" writes @brooks_rosa—and it\\'s not just because of the 2020 election. https://t.co/Rb7Dw3IQkY'],\n",
       "      dtype=object)"
      ]
     },
     "metadata": {},
     "execution_count": 966
    }
   ],
   "source": [
    "top_tweets(tweet_topic_matrix_df ,'topic_7', 10)"
   ]
  },
  {
   "source": [
    "#### Topic 9: World leadership"
   ],
   "cell_type": "markdown",
   "metadata": {}
  },
  {
   "cell_type": "code",
   "execution_count": 967,
   "metadata": {},
   "outputs": [
    {
     "output_type": "execute_result",
     "data": {
      "text/plain": [
       "president      5.195691\n",
       "vice           0.299896\n",
       "white          0.234035\n",
       "power          0.224681\n",
       "obama          0.153108\n",
       "mike           0.135055\n",
       "leader         0.130674\n",
       "pence          0.129769\n",
       "trump          0.122139\n",
       "impeachment    0.122087\n",
       "Name: topic_8, dtype: float64"
      ]
     },
     "metadata": {},
     "execution_count": 967
    }
   ],
   "source": [
    "top_words(word_topic_matrix_df, 'topic_8', 10)"
   ]
  },
  {
   "cell_type": "code",
   "execution_count": 968,
   "metadata": {},
   "outputs": [
    {
     "output_type": "execute_result",
     "data": {
      "text/plain": [
       "array(['Analysis: An isolated Trump receives an eager Polish president https://t.co/SfiijCcyHS',\n",
       "       'Opinion: The \"wartime president\" has gone AWOL. More Americans will die. https://t.co/weOno4rwf9',\n",
       "       'President Milo Djukanovic has ruled Montenegro since 1989. But things have not been entirely placid https://t.co/a1si20tbtZ',\n",
       "       '“We are witnessing the steady, uninterrupted intellectual and psychological decomposition of an American president,” @Peter_Wehner argues. https://t.co/G2MiNZMBD9',\n",
       "       'Opinion: The cowardly president hides — again https://t.co/6HX8RKzlxn',\n",
       "       'Opinion: The worst president ever keeps getting worse https://t.co/oWIRjeJxnG',\n",
       "       'Former Egyptian president Hosni Mubarak dies aged 91 https://t.co/gfKqQquQvt',\n",
       "       'It’s 5 o’clock. Do you know where your president is? https://t.co/e6Qmf74UID',\n",
       "       'It looks as if the country, abetted by its President, is self-destructing, @johncassidy writes. https://t.co/rCYy6LsQAv',\n",
       "       'Opinion: One president pinned it. The other one nailed it. https://t.co/uvgFENRrqF'],\n",
       "      dtype=object)"
      ]
     },
     "metadata": {},
     "execution_count": 968
    }
   ],
   "source": [
    "top_tweets(tweet_topic_matrix_df ,'topic_8', 10)"
   ]
  },
  {
   "source": [
    "#### Topic 10: Covid "
   ],
   "cell_type": "markdown",
   "metadata": {}
  },
  {
   "cell_type": "code",
   "execution_count": 969,
   "metadata": {},
   "outputs": [
    {
     "output_type": "execute_result",
     "data": {
      "text/plain": [
       "covid       11.046658\n",
       "test         0.799889\n",
       "patient      0.767636\n",
       "hospital     0.620734\n",
       "doctor       0.532481\n",
       "symptom      0.500157\n",
       "disease      0.447184\n",
       "study        0.445934\n",
       "spread       0.397324\n",
       "risk         0.335668\n",
       "Name: topic_9, dtype: float64"
      ]
     },
     "metadata": {},
     "execution_count": 969
    }
   ],
   "source": [
    "top_words(word_topic_matrix_df, 'topic_9', 10)"
   ]
  },
  {
   "cell_type": "code",
   "execution_count": 970,
   "metadata": {},
   "outputs": [
    {
     "output_type": "execute_result",
     "data": {
      "text/plain": [
       "array(['Are you under 35 and sick with or recovered from Covid-19? We want to hear your story, big or small. Tell us here: https://t.co/Jm912Yg6J5',\n",
       "       'Opinion: Covid-19 threatens to overwhelm the developing world https://t.co/52Kc7KkUt7',\n",
       "       '.@Elemental explains how to protect yourself\\u200a—\\u200aand others\\u200a—\\u200afrom COVID-19. https://t.co/mXBHqVtmWo',\n",
       "       '#Covid19 now appears to invade more than the respiratory and digestive systems. https://t.co/dEMW4aRRrj',\n",
       "       'With 1m dead, are we any better at treating Covid-19? https://t.co/XXjIBojEFU',\n",
       "       '‘Covid-19 has planted political time-bombs,’ says @KuperSimon\\nhttps://t.co/XW4MCWHHl5',\n",
       "       'Covid-19 is helping wealthy countries talk about death https://t.co/q9ZqMb4NNe',\n",
       "       'Read more about how it actually feels to have Covid-19, from people who’ve had it. https://t.co/jqxyLJH7pa',\n",
       "       'Within the next few days the global recorded deaths from covid-19 will surpass 1m. Too many governments are still failing their people. What can be done? https://t.co/NWhDutbLMA',\n",
       "       \"Eric Trump says that all Democrats 'can talk about' is 'COVID, COVID, COVID' as US death toll exceeds 180,000 https://t.co/cO9T8a7zIu\"],\n",
       "      dtype=object)"
      ]
     },
     "metadata": {},
     "execution_count": 970
    }
   ],
   "source": [
    "top_tweets(tweet_topic_matrix_df ,'topic_9', 10)"
   ]
  },
  {
   "source": [
    "#### Topic 11: Stock market"
   ],
   "cell_type": "markdown",
   "metadata": {}
  },
  {
   "cell_type": "code",
   "execution_count": 971,
   "metadata": {},
   "outputs": [
    {
     "output_type": "execute_result",
     "data": {
      "text/plain": [
       "market      4.200785\n",
       "stock       3.698759\n",
       "investor    1.640727\n",
       "price       0.639436\n",
       "oil         0.462679\n",
       "share       0.449003\n",
       "future      0.415987\n",
       "bank        0.355038\n",
       "tech        0.330312\n",
       "rally       0.297121\n",
       "Name: topic_10, dtype: float64"
      ]
     },
     "metadata": {},
     "execution_count": 971
    }
   ],
   "source": [
    "top_words(word_topic_matrix_df, 'topic_10', 10)"
   ]
  },
  {
   "cell_type": "code",
   "execution_count": 972,
   "metadata": {},
   "outputs": [
    {
     "output_type": "execute_result",
     "data": {
      "text/plain": [
       "array(['Analysis: The world is falling apart. But the stock market keeps surging. https://t.co/sd9undf2xH',\n",
       "       '#WSJWhatsNow: While U.S. stocks are up Thursday, @AmrithRamkumar explains why stocks have fallen this week and what the market is looking forward to https://t.co/Gjzip6MeLD',\n",
       "       \"The stock market is about to enter its worst month of the year after a historic August — but that doesn't mean investors should sell stock, LPL says https://t.co/JCaBRiGQv4\",\n",
       "       'Despite the market’s bounce off its March lows, investors who rely on technical analysis remain skeptical about stocks https://t.co/mw2bvNNlvg',\n",
       "       'Analysis: Now more than ever, the stock market is not the economy https://t.co/27wfxW18tS',\n",
       "       'Opinion: The stock market’s \"fear gague\" hit its highest point ever. Here’s why. https://t.co/3KkidCvZrZ',\n",
       "       'Heard on the Street: China’s stock market suddenly has its mojo back https://t.co/JsOk748kBc',\n",
       "       '5 reasons to be bullish on the US stock market, according to LPL https://t.co/GUjf3S1tJQ',\n",
       "       'Breaking News: U.S. stocks had their worst day since the 1987 stock market crash, with the S&amp;P 500 now in a bear market.\\nhttps://t.co/87PTOCUjDK',\n",
       "       '‘Fomo feeling’ propels Indian investors into stock market https://t.co/iuWehn1UUk'],\n",
       "      dtype=object)"
      ]
     },
     "metadata": {},
     "execution_count": 972
    }
   ],
   "source": [
    "top_tweets(tweet_topic_matrix_df ,'topic_10', 10)"
   ]
  },
  {
   "source": [
    "#### Topic 12: Police/protests"
   ],
   "cell_type": "markdown",
   "metadata": {}
  },
  {
   "cell_type": "code",
   "execution_count": 973,
   "metadata": {},
   "outputs": [
    {
     "output_type": "execute_result",
     "data": {
      "text/plain": [
       "police        4.201453\n",
       "protest       1.602029\n",
       "officer       1.434913\n",
       "man           0.961998\n",
       "george        0.933267\n",
       "protester     0.745213\n",
       "floyd         0.711075\n",
       "violence      0.564586\n",
       "department    0.491017\n",
       "video         0.481483\n",
       "Name: topic_11, dtype: float64"
      ]
     },
     "metadata": {},
     "execution_count": 973
    }
   ],
   "source": [
    "top_words(word_topic_matrix_df, 'topic_11', 10)"
   ]
  },
  {
   "cell_type": "code",
   "execution_count": 974,
   "metadata": {},
   "outputs": [
    {
     "output_type": "execute_result",
     "data": {
      "text/plain": [
       "array(['Online rabble-rousers are intimidated by the police into keeping quiet https://t.co/jYC2m5oeMH',\n",
       "       'Opinion: We are the governed. We no longer consent to let the police kill us. https://t.co/5sOtJEWsmI',\n",
       "       'Opinion: Defund the police? Here’s what that really means. https://t.co/lwh5ODaCiC',\n",
       "       'Analysis: What \"defund the police\" might look like https://t.co/NM9Sa2TUjK',\n",
       "       'Defund the police? Here’s what has worked in other countries. https://t.co/pVrNcIkYvv',\n",
       "       'Opinion: Prosecuting police officers won’t make us safer. Here’s what’s needed. https://t.co/kVAhEPW36G',\n",
       "       'Clare Ramirez-Raftree, 23, said that when officers finally removed her zip-tie cuffs, she had large, red welts that were visible for more than a week afterward. “Seeing just how blatant the police were with everything, it kind of just spurred me on to go out again,” she said. https://t.co/EospVCbeh5',\n",
       "       'Breaking News: At least one police officer was injured and a suspect was shot by police in Glasgow, according to the Scottish police https://t.co/togON5XSLu',\n",
       "       'The New York Police Department is the most expensive police force in the US https://t.co/jG3aUQmQrB',\n",
       "       'Protests spread over police shootings.\\n\\nPolice promised reforms.\\n\\nEvery year, they still shoot and kill nearly 1,000 people. https://t.co/xLoWOrijsP'],\n",
       "      dtype=object)"
      ]
     },
     "metadata": {},
     "execution_count": 974
    }
   ],
   "source": [
    "top_tweets(tweet_topic_matrix_df ,'topic_11', 10)"
   ]
  },
  {
   "source": [
    "#### Topic 13: Staying at Home"
   ],
   "cell_type": "markdown",
   "metadata": {}
  },
  {
   "cell_type": "code",
   "execution_count": 975,
   "metadata": {},
   "outputs": [
    {
     "output_type": "execute_result",
     "data": {
      "text/plain": [
       "home        4.692780\n",
       "nursing     0.431144\n",
       "office      0.359644\n",
       "family      0.307796\n",
       "sale        0.166931\n",
       "resident    0.161789\n",
       "tip         0.159341\n",
       "kid         0.128124\n",
       "place       0.124506\n",
       "employee    0.106067\n",
       "Name: topic_12, dtype: float64"
      ]
     },
     "metadata": {},
     "execution_count": 975
    }
   ],
   "source": [
    "top_words(word_topic_matrix_df, 'topic_12', 10)"
   ]
  },
  {
   "cell_type": "code",
   "execution_count": 976,
   "metadata": {},
   "outputs": [
    {
     "output_type": "execute_result",
     "data": {
      "text/plain": [
       "array([\"Peek inside 'the most beautiful home in the world' https://t.co/0HUkDDDS0z\",\n",
       "       'Three ways in which our homes have changed in the past 10 years https://t.co/MuVgaEmoit',\n",
       "       'Working from home does not always mean working at home.\\nhttps://t.co/2yd1327mKF',\n",
       "       'How to actually do this remote-learning thing while also working from home https://t.co/G2dcSKSl7G',\n",
       "       'Would you live in this tech-filled tiny home? https://t.co/fNBhRDhZ8H',\n",
       "       '⚡️ “Where Americans are still staying at home the most”\\n\\nhttps://t.co/GAwMALyrbH',\n",
       "       \"Don't try this at home. https://t.co/zR8THul0mL\",\n",
       "       'Working from home is starting to pall https://t.co/InXwdBb2T4',\n",
       "       \"A wildly hyped $95,000 'Loft' tiny home will be available in the US soon — see inside https://t.co/HsX2CCFl4k\",\n",
       "       'Americans working from home are producing more waste—and it costs more to get rid of it https://t.co/34wmYVpLJo'],\n",
       "      dtype=object)"
      ]
     },
     "metadata": {},
     "execution_count": 976
    }
   ],
   "source": [
    "top_tweets(tweet_topic_matrix_df ,'topic_12', 10)"
   ]
  },
  {
   "source": [
    "#### Topic 14: Asia"
   ],
   "cell_type": "markdown",
   "metadata": {}
  },
  {
   "cell_type": "code",
   "execution_count": 977,
   "metadata": {},
   "outputs": [
    {
     "output_type": "execute_result",
     "data": {
      "text/plain": [
       "china             4.607835\n",
       "war               0.381923\n",
       "trade             0.286697\n",
       "india             0.208873\n",
       "outbreak          0.198531\n",
       "beijing           0.190847\n",
       "tension           0.183361\n",
       "russia            0.163867\n",
       "administration    0.152042\n",
       "south             0.136322\n",
       "Name: topic_13, dtype: float64"
      ]
     },
     "metadata": {},
     "execution_count": 977
    }
   ],
   "source": [
    "top_words(word_topic_matrix_df, 'topic_13', 10)"
   ]
  },
  {
   "cell_type": "code",
   "execution_count": 980,
   "metadata": {},
   "outputs": [
    {
     "output_type": "execute_result",
     "data": {
      "text/plain": [
       "array(['Analysis: China strangles its world city https://t.co/Ei4Y4Zeoyd',\n",
       "       'We’ve grown used to Americans getting fired for social media posts that offend other Americans. Now it’s clear they can also be punished for posts that offend China. @willoremus writes. https://t.co/lpBv0l9th5',\n",
       "       'Opinion: \"Decoupling\" the U.S. from China would backfire https://t.co/q0ae4XsxoV',\n",
       "       'Several countries have castigated China but few have done much about it https://t.co/8TPEmq0MYV',\n",
       "       'Analysis: It’s not just Trump who’s angry at China https://t.co/RJABiYxNBR',\n",
       "       '“I Modeled in China” by @karengeier https://t.co/pfy9THsb1W',\n",
       "       '“#FakeNews: Made in China” by @DFRLab https://t.co/bwAZAbP3xj',\n",
       "       'How China Inc can be tripped up by miscalculations abroad https://t.co/qcd3H31pJA',\n",
       "       'Analysis: The world doesn’t want to pick between the U.S. and China https://t.co/gXfSeHpw67',\n",
       "       '“This Is How China Is Feeding Itself” by @tomassidenfaden https://t.co/yFJstfrVsg'],\n",
       "      dtype=object)"
      ]
     },
     "metadata": {},
     "execution_count": 980
    }
   ],
   "source": [
    "top_tweets(tweet_topic_matrix_df ,'topic_13', 10)"
   ]
  },
  {
   "source": [
    "#### Topic 15: Economy\n",
    "focused on cornavirus "
   ],
   "cell_type": "markdown",
   "metadata": {}
  },
  {
   "cell_type": "code",
   "execution_count": 981,
   "metadata": {},
   "outputs": [
    {
     "output_type": "execute_result",
     "data": {
      "text/plain": [
       "economy         6.330098\n",
       "rate            0.526465\n",
       "lockdown        0.476092\n",
       "recession       0.323982\n",
       "unemployment    0.295928\n",
       "recovery        0.260892\n",
       "chinas          0.237053\n",
       "growth          0.215992\n",
       "bank            0.210637\n",
       "record          0.209990\n",
       "Name: topic_14, dtype: float64"
      ]
     },
     "metadata": {},
     "execution_count": 981
    }
   ],
   "source": [
    "top_words(word_topic_matrix_df, 'topic_14', 10)"
   ]
  },
  {
   "cell_type": "code",
   "execution_count": 982,
   "metadata": {},
   "outputs": [
    {
     "output_type": "execute_result",
     "data": {
      "text/plain": [
       "array(['How the nesting economy is changing the way Americans consume, maybe forever https://t.co/TfH8DjUmZU',\n",
       "       '“The Life and Death of an Economy” by @umairh https://t.co/O3iVj3gAJM',\n",
       "       'Analysis: What’s happening in states that reopened their economies? It’s complicated. https://t.co/KO2HBfeNJG',\n",
       "       'No one knows for sure yet which countries’ economies have fared well or badly https://t.co/75dyLJ9Rni',\n",
       "       'What will it take to create a post-pandemic economy that is fairer, more unified, and more resilient?\\nhttps://t.co/qmjPtOKdAN',\n",
       "       'Millennial-bashing is not funny or cute — it’s classism, and it’s destroying our economy, @MattiasLehman writes  https://t.co/oeX3D1Zh19',\n",
       "       'The dire state of the global economy has economists asking whether more can be done https://t.co/OMcEJDsil4',\n",
       "       'Don’t count on a fast global economy bounceback https://t.co/46WrLxINda',\n",
       "       'Consciously decoupling the US economy https://t.co/rjl9fOM8sn',\n",
       "       'Opinion: The sad death of the \"hot\" economy https://t.co/MJbF2YUlsb'],\n",
       "      dtype=object)"
      ]
     },
     "metadata": {},
     "execution_count": 982
    }
   ],
   "source": [
    "top_tweets(tweet_topic_matrix_df ,'topic_14', 10)"
   ]
  },
  {
   "source": [
    "#### Topic 16: Education"
   ],
   "cell_type": "markdown",
   "metadata": {}
  },
  {
   "cell_type": "code",
   "execution_count": 983,
   "metadata": {},
   "outputs": [
    {
     "output_type": "execute_result",
     "data": {
      "text/plain": [
       "school        3.508265\n",
       "student       1.511556\n",
       "child         1.063251\n",
       "parent        0.696992\n",
       "college       0.565868\n",
       "kid           0.534637\n",
       "teacher       0.454093\n",
       "family        0.395875\n",
       "fall          0.385628\n",
       "university    0.330183\n",
       "Name: topic_15, dtype: float64"
      ]
     },
     "metadata": {},
     "execution_count": 983
    }
   ],
   "source": [
    "top_words(word_topic_matrix_df, 'topic_15', 10)"
   ]
  },
  {
   "cell_type": "code",
   "execution_count": 984,
   "metadata": {},
   "outputs": [
    {
     "output_type": "execute_result",
     "data": {
      "text/plain": [
       "array(['The world’s toughest business school https://t.co/zj1tWxh6bb',\n",
       "       'Here’s how countries around the world are preparing to go back to school safely https://t.co/llJxHGveBl',\n",
       "       'Reopening the world’s schools safely will not be cheap. But it is essential  https://t.co/G9yW9c1c8A',\n",
       "       '“These schools should be applying to have me”: inside the world of tutoring for the super rich https://t.co/TRVDWDRkg8 From @1843mag',\n",
       "       'Can schools actually reopen safely? https://t.co/jAb9yDc0Hg',\n",
       "       'Governments should be working out how to reopen schools as soon as it is safe https://t.co/RvQQAT6BH0',\n",
       "       '“These schools should be applying to have me”: inside the world of tutoring for the super rich https://t.co/Q6V0YMAdyP From @1843mag',\n",
       "       'From @petridishes in Opinions: We can’t wait for schools to reopen safely! https://t.co/AbsRDpeAeI',\n",
       "       '“Like many rich Americans, I used to think better schools could heal the country’s ills,” writes @NickHanauer, “but I was wrong.”\\nhttps://t.co/yJBFnN7Pn7',\n",
       "       '“Random Encounters at School” by @DaphneKMoore https://t.co/rUWCZG6a8u'],\n",
       "      dtype=object)"
      ]
     },
     "metadata": {},
     "execution_count": 984
    }
   ],
   "source": [
    "top_tweets(tweet_topic_matrix_df ,'topic_15', 10)"
   ]
  },
  {
   "source": [
    "#### Topic 17: Supreme Court"
   ],
   "cell_type": "markdown",
   "metadata": {}
  },
  {
   "cell_type": "code",
   "execution_count": 985,
   "metadata": {},
   "outputs": [
    {
     "output_type": "execute_result",
     "data": {
      "text/plain": [
       "court       3.189040\n",
       "supreme     2.454603\n",
       "justice     0.773789\n",
       "amy         0.499676\n",
       "coney       0.486853\n",
       "barrett     0.421772\n",
       "ruth        0.347114\n",
       "bader       0.346876\n",
       "judge       0.339498\n",
       "ginsburg    0.338543\n",
       "Name: topic_16, dtype: float64"
      ]
     },
     "metadata": {},
     "execution_count": 985
    }
   ],
   "source": [
    "top_words(word_topic_matrix_df, 'topic_16', 10)"
   ]
  },
  {
   "cell_type": "code",
   "execution_count": 986,
   "metadata": {},
   "outputs": [
    {
     "output_type": "execute_result",
     "data": {
      "text/plain": [
       "array(['Perspective: The Supreme Court is leaking. That’s a good thing. https://t.co/e7yVURnHWY',\n",
       "       'Opinion: Raging Trump wants the Supreme Court to save him.\\n\\nHere’s why it probably won’t. https://t.co/2XjXVmZft0',\n",
       "       'Analysis: Who Trump might pick for the Supreme Court https://t.co/bNJb2DovIm',\n",
       "       '\"This advice may sound strange, but anyone who cares about the future of the Supreme Court needs to speak as little as possible about the Supreme Court,\" @anneapplebaum writes: https://t.co/WgWGxhNFKr',\n",
       "       'Perspective: The Supreme Court just made the president more powerful https://t.co/vJGOBnXFW7',\n",
       "       'Efforts to reform the Supreme Court should \"recognize that the problem is not who serves on the Supreme Court but what power it has,\" @rddoerfler and @samuelmoyn write: https://t.co/okHOi3LLBr',\n",
       "       'Perspective: The Supreme Court rules us. Here’s how to curb its power. https://t.co/uO7chabgpX',\n",
       "       'Trump and Biden quickly clash over Supreme Court https://t.co/1sWjLlJ3NP',\n",
       "       'Last week, five conservatives on the Supreme Court let the Trump Administration proceed with its border-wall plans. Will the Supreme Court continue to bend over backward to give the government whatever it asks for? https://t.co/0urS2rjtPT',\n",
       "       '.@GaneshSitaraman has a plan for how to rein in an all-too-powerful Supreme Court. https://t.co/s5CHlfknfF'],\n",
       "      dtype=object)"
      ]
     },
     "metadata": {},
     "execution_count": 986
    }
   ],
   "source": [
    "top_tweets(tweet_topic_matrix_df ,'topic_16', 10)"
   ]
  },
  {
   "source": [
    "#### Topic 18: U.S. Gender equality"
   ],
   "cell_type": "markdown",
   "metadata": {}
  },
  {
   "cell_type": "code",
   "execution_count": 987,
   "metadata": {},
   "outputs": [
    {
     "output_type": "execute_result",
     "data": {
      "text/plain": [
       "woman      4.621350\n",
       "man        1.150727\n",
       "child      0.287562\n",
       "color      0.273561\n",
       "history    0.173704\n",
       "harris     0.148753\n",
       "mother     0.138528\n",
       "kamala     0.126687\n",
       "right      0.120364\n",
       "group      0.110477\n",
       "Name: topic_17, dtype: float64"
      ]
     },
     "metadata": {},
     "execution_count": 987
    }
   ],
   "source": [
    "top_words(word_topic_matrix_df, 'topic_17', 10)"
   ]
  },
  {
   "cell_type": "code",
   "execution_count": 988,
   "metadata": {},
   "outputs": [
    {
     "output_type": "execute_result",
     "data": {
      "text/plain": [
       "array(['“How to ‘Make’ a Woman” by @BexvanKoot https://t.co/0qBHTB7wm4',\n",
       "       '“How To Talk To A Woman” by @ThisIsGorman https://t.co/v0domU0xh0',\n",
       "       '“Tiny Women,” “Where the Heck Are You, Godot?,” and other upcoming prequels. https://t.co/PCAEAcHWP2',\n",
       "       'For conservative women, it’s still the 1980s https://t.co/9OyFZpZwFw',\n",
       "       'Bacardi targeted women with its new reduced-alcohol vodkas. It went over as well as you’d expect. https://t.co/G28neAQXVE',\n",
       "       'When Pocahontas is dehumanized and objectified, all Native women are (via @zoramag) https://t.co/jf1oYl0YAq',\n",
       "       'Women are not monolithic. Pretending they are holds everyone back. https://t.co/vn33WcIyTH (via @genmag)',\n",
       "       '“These women came ready to fight” by @meaganmday https://t.co/s9OnZE79kt',\n",
       "       'Opinion: America hates to let Black women speak https://t.co/dqtNh24PNN',\n",
       "       '“If Franken resigns, women lose twice” by @amandarosewhy https://t.co/U0mwARD6Lw'],\n",
       "      dtype=object)"
      ]
     },
     "metadata": {},
     "execution_count": 988
    }
   ],
   "source": [
    "top_tweets(tweet_topic_matrix_df ,'topic_17', 10)"
   ]
  },
  {
   "source": [
    "#### Topic 19: Trump"
   ],
   "cell_type": "markdown",
   "metadata": {}
  },
  {
   "cell_type": "code",
   "execution_count": 989,
   "metadata": {},
   "outputs": [
    {
     "output_type": "execute_result",
     "data": {
      "text/plain": [
       "trumps         4.609630\n",
       "donald         1.117977\n",
       "campaign       0.550484\n",
       "response       0.218502\n",
       "policy         0.215458\n",
       "white          0.203167\n",
       "reelection     0.198600\n",
       "republicans    0.183089\n",
       "presidency     0.177242\n",
       "voter          0.174994\n",
       "Name: topic_18, dtype: float64"
      ]
     },
     "metadata": {},
     "execution_count": 989
    }
   ],
   "source": [
    "top_words(word_topic_matrix_df, 'topic_18', 10)"
   ]
  },
  {
   "cell_type": "code",
   "execution_count": 990,
   "metadata": {},
   "outputs": [
    {
     "output_type": "execute_result",
     "data": {
      "text/plain": [
       "array([\"Opinion: New numbers suggest Trump's magical race-baiting demagoguery is failing him https://t.co/adv757wzba\",\n",
       "       'Analysis: Trump’s playbook on \"Obamagate\" is extremely — and dubiously — familiar https://t.co/x5ntqAXCq7',\n",
       "       'Opinion: Trump’s bizarre ranting isn’t good for the country — or for him https://t.co/tnYBJejYBI',\n",
       "       'Opinion: Trump’s latest rage-fest is one of his most absurd and dangerous yet https://t.co/ad9o2fVv09',\n",
       "       'Opinion: Trump’s name should live in infamy https://t.co/DKlijxRjTX',\n",
       "       'Opinion: The media still hasn’t learned to corner Trump’s lackeys https://t.co/LEVhQgH71L',\n",
       "       'Analysis: Trump’s coronavirus briefings were a political \"Groundhog Day\" https://t.co/249Yz8UtMC',\n",
       "       'Analysis: Trump’s propaganda-laden, off-the-rails coronavirus briefing https://t.co/1Y7nvhBv1Z',\n",
       "       'Opinion: Get ready, America. Trump’s campaign is just getting started. https://t.co/h7NVexUxLD',\n",
       "       'What we know — and still want to know — about Trump’s company https://t.co/chTlpZe6O2'],\n",
       "      dtype=object)"
      ]
     },
     "metadata": {},
     "execution_count": 990
    }
   ],
   "source": [
    "top_tweets(tweet_topic_matrix_df ,'topic_18', 10)"
   ]
  },
  {
   "source": [
    "#### Topic 20: Health & Wellness"
   ],
   "cell_type": "markdown",
   "metadata": {}
  },
  {
   "cell_type": "code",
   "execution_count": 991,
   "metadata": {},
   "outputs": [
    {
     "output_type": "execute_result",
     "data": {
      "text/plain": [
       "health          4.003602\n",
       "official        1.000889\n",
       "care            0.935071\n",
       "expert          0.930891\n",
       "risk            0.371318\n",
       "mask            0.311777\n",
       "organization    0.271794\n",
       "hospital        0.260898\n",
       "patient         0.256943\n",
       "worker          0.254370\n",
       "Name: topic_19, dtype: float64"
      ]
     },
     "metadata": {},
     "execution_count": 991
    }
   ],
   "source": [
    "top_words(word_topic_matrix_df, 'topic_19', 10)"
   ]
  },
  {
   "cell_type": "code",
   "execution_count": 992,
   "metadata": {},
   "outputs": [
    {
     "output_type": "execute_result",
     "data": {
      "text/plain": [
       "array(['Trump increasingly preoccupied with defending his physical and mental health https://t.co/WWeLkvTIPY',\n",
       "       \"Eight exciting new health technologies—and where they're headed next https://t.co/E8ZOzrALBs\",\n",
       "       'Both regular and decaf boost your health (via @elemental) https://t.co/eZEMOoXrmd',\n",
       "       \"A hot toddy may *sound* nice, but it won't actually do very much for your health. (via @elemental) https://t.co/Z67DScPo44\",\n",
       "       'Bausch Health skyrockets 27% after saying it will spin off its eye-care business https://t.co/aHSPnwgzqj',\n",
       "       \"7 questions you should ask someone if you're worried about their mental health (via @AmyMorinLCSW) https://t.co/w9RxihBf4u\",\n",
       "       'The Borowitz Report: “For the past two months, it’s all I’ve been hearing about, health this, health that,” the President said. “I wish health would just disappear.”\\nhttps://t.co/ydn9dga7aX',\n",
       "       'When it comes to choosing a health plan, health care and policy experts are just as confused as you. https://t.co/EPBfuyDo2B',\n",
       "       'Wondering what’s safe as states start to reopen? Here’s what some public health experts say. https://t.co/IysQRWUsxU',\n",
       "       \"Here's how the founder and CEO of Parsley Health keeps herself living well, when she's not redefining primary care and nutritional health https://t.co/89GWbysbmV\"],\n",
       "      dtype=object)"
      ]
     },
     "metadata": {},
     "execution_count": 992
    }
   ],
   "source": [
    "top_tweets(tweet_topic_matrix_df ,'topic_19', 10)"
   ]
  },
  {
   "source": [
    "#### Topic 21: Climate Change"
   ],
   "cell_type": "markdown",
   "metadata": {}
  },
  {
   "cell_type": "code",
   "execution_count": 993,
   "metadata": {},
   "outputs": [
    {
     "output_type": "execute_result",
     "data": {
      "text/plain": [
       "change       3.198692\n",
       "climate      2.732013\n",
       "scientist    0.314765\n",
       "problem      0.264981\n",
       "policy       0.241382\n",
       "issue        0.200067\n",
       "impact       0.151704\n",
       "wildfire     0.138354\n",
       "future       0.137654\n",
       "risk         0.136558\n",
       "Name: topic_20, dtype: float64"
      ]
     },
     "metadata": {},
     "execution_count": 993
    }
   ],
   "source": [
    "top_words(word_topic_matrix_df, 'topic_20', 10)"
   ]
  },
  {
   "cell_type": "code",
   "execution_count": 994,
   "metadata": {},
   "outputs": [
    {
     "output_type": "execute_result",
     "data": {
      "text/plain": [
       "array(['If you’re looking for a new normal when it comes to climate change, you’re not going to find it. There isn’t one. https://t.co/gVuHhMekkZ',\n",
       "       'If anything is going to be done about climate change, it may have to be led by cities. https://t.co/F95EY5ckuO',\n",
       "       'If anything is going to be done about climate change, it may have to be led by cities. https://t.co/qHDZ8rVFFH',\n",
       "       'How bad is climate change now? Here are 7 fundamental things to know. https://t.co/MDZAHzZddW',\n",
       "       '“Climate Change, My Microbiome, and Me” by @grist https://t.co/Kc1ZvAkyzZ',\n",
       "       'Climate change affects everything — even the coronavirus https://t.co/zamNVKZ2mF',\n",
       "       '1/ We are now living through one of the first pandemics brought on by climate change. https://t.co/zjAg1lO48i https://t.co/SIg1lEKQOT',\n",
       "       \"Tackling climate change is a global political problem. Here's why https://t.co/08hd0nowEJ https://t.co/s20hPaEFiQ\",\n",
       "       \"Tackling climate change is a global political problem. Here's why https://t.co/zeTrDPvGYF https://t.co/eKQ6pdrp9C\",\n",
       "       '\"When scientists talk about climate change making parts of the world uninhabitable, this is what it looks like.\" https://t.co/9Owoa0dGTo'],\n",
       "      dtype=object)"
      ]
     },
     "metadata": {},
     "execution_count": 994
    }
   ],
   "source": [
    "top_tweets(tweet_topic_matrix_df ,'topic_20', 10)"
   ]
  },
  {
   "source": [
    "#### Topic 22: Un(employeement)"
   ],
   "cell_type": "markdown",
   "metadata": {}
  },
  {
   "cell_type": "code",
   "execution_count": 995,
   "metadata": {},
   "outputs": [
    {
     "output_type": "execute_result",
     "data": {
      "text/plain": [
       "job             3.493465\n",
       "worker          1.664617\n",
       "unemployment    0.462153\n",
       "benefit         0.276424\n",
       "loss            0.242148\n",
       "employee        0.197977\n",
       "rate            0.166513\n",
       "industry        0.163773\n",
       "office          0.162800\n",
       "million         0.157345\n",
       "Name: topic_21, dtype: float64"
      ]
     },
     "metadata": {},
     "execution_count": 995
    }
   ],
   "source": [
    "top_words(word_topic_matrix_df, 'topic_21', 10)"
   ]
  },
  {
   "cell_type": "code",
   "execution_count": 996,
   "metadata": {},
   "outputs": [
    {
     "output_type": "execute_result",
     "data": {
      "text/plain": [
       "array(['1m more British workers set to lose jobs this year, warn economists https://t.co/H3Z590I5hS',\n",
       "       \"You're doing a great job. But if you're having a hard time keeping it together, we're here to help.  https://t.co/hKHqdmdH6T\",\n",
       "       'The 9 most in-demand jobs hiring right now that pay $50,000 or more https://t.co/bqDjyUWSBj',\n",
       "       'Opinion: The job numbers are much-needed good news. And they’re likely to get better. https://t.co/vp35UMrlfm',\n",
       "       \"These are the highest-paying remote jobs in computing that you can do anywhere in the world, and they're all hiring right now https://t.co/1rvN6ghYD9\",\n",
       "       'Some Americans fear their jobs will be lost forever https://t.co/ysaFQBt7XF',\n",
       "       \"4. You'll learn on the job in more ways than one. https://t.co/IMSZROWSCj https://t.co/MXycOWflRT\",\n",
       "       'First of all, you’re doing a great job.  https://t.co/yuRMZL993h',\n",
       "       \"These are the 20 highest-paying remote jobs you can do from anywhere in the world, and they're all hiring right now https://t.co/wGr7wcbm70\",\n",
       "       'Losing your job can be devastating—but it helps to be prepared https://t.co/EiljXm8rxf'],\n",
       "      dtype=object)"
      ]
     },
     "metadata": {},
     "execution_count": 996
    }
   ],
   "source": [
    "top_tweets(tweet_topic_matrix_df ,'topic_21', 10)"
   ]
  },
  {
   "source": [
    "#### Topic 23: Europe"
   ],
   "cell_type": "markdown",
   "metadata": {}
  },
  {
   "cell_type": "code",
   "execution_count": 997,
   "metadata": {},
   "outputs": [
    {
     "output_type": "execute_result",
     "data": {
      "text/plain": [
       "uk          3.081612\n",
       "boris       1.138090\n",
       "johnson     1.037765\n",
       "brexit      0.676449\n",
       "deal        0.655482\n",
       "ft          0.564709\n",
       "minister    0.558994\n",
       "eu          0.547404\n",
       "lockdown    0.512748\n",
       "prime       0.363423\n",
       "Name: topic_22, dtype: float64"
      ]
     },
     "metadata": {},
     "execution_count": 997
    }
   ],
   "source": [
    "top_words(word_topic_matrix_df, 'topic_22', 10)"
   ]
  },
  {
   "cell_type": "code",
   "execution_count": 999,
   "metadata": {},
   "outputs": [
    {
     "output_type": "execute_result",
     "data": {
      "text/plain": [
       "array(['Just published: front page of the Financial Times, UK edition, Monday 25 May           https://t.co/vurYm4KtdG https://t.co/r75KZVoHzA',\n",
       "       'Just published: front page of the Financial Times UK edition Saturday May 30 https://t.co/xsGMtpJUdA https://t.co/soR1s61ZeE',\n",
       "       'Just published: front page of the Financial Times UK edition Tuesday May 19\\xa0https://t.co/SZIyZ564k8 https://t.co/0El8ArNByR',\n",
       "       'Just published: front page of the Financial Times, UK edition, Wednesday 13 May https://t.co/I4GjQQgTcN https://t.co/ucoAaPiHbh',\n",
       "       'Just published: front page of the Financial Times, UK edition, Tuesday 26 May       https://t.co/tNGqCfXXdN https://t.co/8sxwBf8Yli',\n",
       "       'Just published: front page of the Financial Times UK edition, https://t.co/5gXWtrt5I2 https://t.co/d1nwuJ3lyq',\n",
       "       'Just published: front page of the Financial Times UK edition Monday May 18\\xa0https://t.co/yGEHS9H0Bx https://t.co/U9fBIWyOzc',\n",
       "       '⚡️ “Will coronavirus break the UK?” by @FinancialTimes https://t.co/3yFqVH4oLz',\n",
       "       'Just published: front page of the Financial Times UK edition Friday May 29 https://t.co/JbB7bT2G98 https://t.co/VJqxDERoBY',\n",
       "       'The UK https://t.co/IwJrQ6sxIa',\n",
       "       'Just published: front page of the Financial Times, UK edition, Tuesday 12 May           https://t.co/bupWI96Ura https://t.co/1x4Jk1V28u',\n",
       "       'Just published: front page of the Financial Times, UK edition, Thursday 28 May           https://t.co/5Wrk6z0Ver https://t.co/0ckW7LigEl',\n",
       "       'Just published: front page of the Financial Times, UK edition, Wednesday 27 May           https://t.co/7jYtttaX2N https://t.co/kmh6R1KYSO',\n",
       "       'Just published: front page of the Financial Times, UK edition, Friday 22 May           https://t.co/fpgFL1Cp9v https://t.co/lL8aLJRj1p',\n",
       "       'Front page of the Financial Times, UK edition, for Tuesday 20-10-2020: https://t.co/P0u5UxGxek',\n",
       "       'Boris Johnson claims UK would ‘prosper’ in no-deal Brexit https://t.co/6538lJ1Xpc',\n",
       "       \"'I almost think that being in the EU is a bigger thing than being in the UK.' While the Scots pressure Boris Johnson, hardline Brexiters are also demanding that he doesn't compromise on negotiations. The future is uncertain for the UK prime minister https://t.co/HZha0f5VeZ\",\n",
       "       'Boris Johnson warns UK must prepare for ‘no deal’ with EU https://t.co/esvFIX7OEo',\n",
       "       'The EU threatens to sue the UK unless Boris Johnson scraps his plan to rip up the Brexit deal https://t.co/tXDWQ8fluQ',\n",
       "       'Boris Johnson believes the UK could be hit by a second coronavirus wave in just 2 weeks https://t.co/ooFynRXZ2c'],\n",
       "      dtype=object)"
      ]
     },
     "metadata": {},
     "execution_count": 999
    }
   ],
   "source": [
    "top_tweets(tweet_topic_matrix_df ,'topic_22', 20)"
   ]
  },
  {
   "source": [
    "#### Topic 24: Crises"
   ],
   "cell_type": "markdown",
   "metadata": {}
  },
  {
   "cell_type": "code",
   "execution_count": 1000,
   "metadata": {},
   "outputs": [
    {
     "output_type": "execute_result",
     "data": {
      "text/plain": [
       "crisis      4.502173\n",
       "leader      0.301858\n",
       "bank        0.217256\n",
       "response    0.165888\n",
       "industry    0.151905\n",
       "power       0.122101\n",
       "food        0.106583\n",
       "housing     0.095988\n",
       "moment      0.095483\n",
       "history     0.092001\n",
       "Name: topic_23, dtype: float64"
      ]
     },
     "metadata": {},
     "execution_count": 1000
    }
   ],
   "source": [
    "top_words(word_topic_matrix_df, 'topic_23', 10)"
   ]
  },
  {
   "cell_type": "code",
   "execution_count": 1001,
   "metadata": {},
   "outputs": [
    {
     "output_type": "execute_result",
     "data": {
      "text/plain": [
       "array(['Opinion | The US government finally figured out how to help average Americans during an economic crisis. And then it all fell apart. By @MattZeitlin. https://t.co/d4baMvxWm4',\n",
       "       '“Don’t tell anyone, but we’re thinking to ride this whole thing out in Zurich, where the numbers are better.”\\n\\nTo be privileged during a global crisis: https://t.co/n8iNubzWiT',\n",
       "       'The midlife crisis is no longer about yearning to be young again https://t.co/rHbR7xxjm2',\n",
       "       'Opinion: Trump refuses to lead a country in crisis https://t.co/oU9whPxZA5',\n",
       "       '⚡️ “What does it take to lead during a crisis?”\\n\\nhttps://t.co/KBMWY1JbPu',\n",
       "       '⚡️ “What does it take to lead during a crisis?” by @FinancialTimes https://t.co/XbpVaXWsdR',\n",
       "       'It\\'s not a midlife crisis, it\\'s just plain \"stupid,\" says @ChrisHogan360 https://t.co/Uv5gzhkVCK',\n",
       "       'The only epiphany you need to have in a crisis is that you deserve to be happy. https://t.co/26FWRFtsu8',\n",
       "       'Nothing symbolizes the crises of our times quite like the doggie björn https://t.co/SmFQL5fdYi',\n",
       "       'Analysis: America was unprepared for a major crisis. Again. https://t.co/y1U3UuXu63'],\n",
       "      dtype=object)"
      ]
     },
     "metadata": {},
     "execution_count": 1001
    }
   ],
   "source": [
    "top_tweets(tweet_topic_matrix_df ,'topic_23', 10)"
   ]
  },
  {
   "source": [
    "#### Topic 25: Technology"
   ],
   "cell_type": "markdown",
   "metadata": {}
  },
  {
   "cell_type": "code",
   "execution_count": 1002,
   "metadata": {},
   "outputs": [
    {
     "output_type": "execute_result",
     "data": {
      "text/plain": [
       "facebook    2.213741\n",
       "apple       1.469661\n",
       "tech        1.354153\n",
       "google      1.258868\n",
       "app         0.964057\n",
       "datum       0.860694\n",
       "amazon      0.794331\n",
       "user        0.539059\n",
       "group       0.529596\n",
       "video       0.521765\n",
       "Name: topic_24, dtype: float64"
      ]
     },
     "metadata": {},
     "execution_count": 1002
    }
   ],
   "source": [
    "top_words(word_topic_matrix_df, 'topic_24', 10)"
   ]
  },
  {
   "cell_type": "code",
   "execution_count": 1003,
   "metadata": {},
   "outputs": [
    {
     "output_type": "execute_result",
     "data": {
      "text/plain": [
       "array(['Apple is reacting differently to Facebook, Google, and Twitter. https://t.co/C8B35MqcIw',\n",
       "       'A damning Congressional antitrust report into Amazon, Apple, Google and Facebook outlined the biggest assault on corporate power in the tech industry since the 1990s https://t.co/1jcbBrDwR7',\n",
       "       '25 questions Congress should ask the CEOs of Apple, Amazon, Facebook, and Google when they testify, according to @profgalloway https://t.co/iUWPZ8jA8i',\n",
       "       \"Congress is gearing up to grill the CEOs of Facebook, Google, Amazon, and Apple in an antitrust hearing Wednesday — here's how to watch it https://t.co/HJP4AmoTFN\",\n",
       "       'A big day in tech: Amazon, Apple, Facebook, Google and Twitter report earnings after the market closes. Follow along for results and analysis. https://t.co/yqw8eUVaP6',\n",
       "       'Find Out What Google and Facebook Know About You, by @baratunde https://t.co/tk11IHaKQA',\n",
       "       'The combined market value of Apple, Amazon, Google and Facebook soared by $230bn after a blowout quarter for Big Tech https://t.co/LiIMbpphQV',\n",
       "       'Apple, Amazon, Facebook and Google all reported better-than-expected quarterly results during the pandemic #WSJWhatsNow https://t.co/BpSyYvl62n',\n",
       "       \"Where was Microsoft? Antitrust experts explain why they think the company managed to avoid testifying alongside Amazon, Apple, Google, and Facebook in this week's Big Tech hearing https://t.co/75SpgMrtUJ\",\n",
       "       'Facebook also actively pushed a VPN that allowed it to track the activity of anyone who installed it not JUST within the Facebook app but anywhere on their phone. When Apple finally banned that app, Facebook snuck it in again through a backdoor 4/ https://t.co/ThhmOwu9ZA'],\n",
       "      dtype=object)"
      ]
     },
     "metadata": {},
     "execution_count": 1003
    }
   ],
   "source": [
    "top_tweets(tweet_topic_matrix_df ,'topic_24', 10)"
   ]
  },
  {
   "source": [
    "#### Topic 26: Asia"
   ],
   "cell_type": "markdown",
   "metadata": {}
  },
  {
   "cell_type": "code",
   "execution_count": 1004,
   "metadata": {},
   "outputs": [
    {
     "output_type": "execute_result",
     "data": {
      "text/plain": [
       "hong                2.855730\n",
       "kong                2.488578\n",
       "law                 1.118356\n",
       "security            0.687658\n",
       "kongs               0.511221\n",
       "chinas              0.467829\n",
       "beijing             0.349034\n",
       "protest             0.345457\n",
       "prodemocracy        0.197372\n",
       "nationalsecurity    0.178600\n",
       "Name: topic_25, dtype: float64"
      ]
     },
     "metadata": {},
     "execution_count": 1004
    }
   ],
   "source": [
    "top_words(word_topic_matrix_df, 'topic_25', 10)"
   ]
  },
  {
   "cell_type": "code",
   "execution_count": 1005,
   "metadata": {},
   "outputs": [
    {
     "output_type": "execute_result",
     "data": {
      "text/plain": [
       "array(['Hello, Hong Kong. While you were sleeping, this was one of our most read stories: https://t.co/m1cxY8jcGh',\n",
       "       'Good morning, Hong Kong. While you were sleeping, this was our most read story: https://t.co/uHMn867XBR',\n",
       "       'Good morning, Hong Kong. While you were sleeping, this was one of our most read stories: https://t.co/PvX3eO17NW',\n",
       "       'Good morning, Hong Kong. While you were sleeping, this was our most ready story: https://t.co/MNx1jlJs2A',\n",
       "       'Good morning Hong Kong. While you were sleeping this was one of our most-read stories: https://t.co/7GbuaKj0wp',\n",
       "       'Why business in Hong Kong should be worried https://t.co/rprnDMRXoT',\n",
       "       'Good morning Hong Kong, while you were sleeping, this was our most read story: https://t.co/7BB4xNXbGs',\n",
       "       'Hello, Hong Kong. While you were sleeping, this was our most read story:  https://t.co/jQSjZtfWbZ',\n",
       "       'Hello, Hong Kong. While you were sleeping, this was one of our most read stories: https://t.co/5Vmj9z5vx8',\n",
       "       'Hello, Hong Kong. While you were sleeping, this was our most read story (free to read): https://t.co/aGtBba085n',\n",
       "       'Hello, Hong Kong. Whiile you were sleeping, this was our most read story:  https://t.co/zE3EwMpuoG',\n",
       "       'Hello, Hong Kong. While you were sleeping, this was our most read story: https://t.co/qp8TtIDo7s',\n",
       "       'Good morning, Hong Kong. While you were sleeping, this is our most read story: https://t.co/PHGfNPNdiT',\n",
       "       'Hello, Hong Kong. while you were sleeping, this was our most read story: https://t.co/S632LQPsCm',\n",
       "       'Hello, Hong Kong. While you were sleeping, this was our most read story: https://t.co/Z5jZ1ZWPKd',\n",
       "       'There are some things you can no longer freely say in Hong Kong. Or write. Or tweet. Or draw. Or sing.\\nhttps://t.co/rNtF3ZVeW6',\n",
       "       'Hello, Hong Kong. While you were sleeping, this was one of our most read stories:  https://t.co/4scMt4Oul1',\n",
       "       'Chinese official calls for stronger Hong Kong security laws https://t.co/wKGcVfON50',\n",
       "       'Just 0.4% of those who have tested positive for the coronavirus have died in Hong Kong. In Singapore—less than 0.1%. In the U.S., it’s 6%. https://t.co/NQx3Oo6H93',\n",
       "       'Opinion: China’s national security law in Hong Kong doubles down on imperialism https://t.co/plDITsMAak'],\n",
       "      dtype=object)"
      ]
     },
     "metadata": {},
     "execution_count": 1005
    }
   ],
   "source": [
    "top_tweets(tweet_topic_matrix_df ,'topic_25', 20)"
   ]
  },
  {
   "source": [
    "#### Topic 27: Self-Help / Personal Development"
   ],
   "cell_type": "markdown",
   "metadata": {}
  },
  {
   "cell_type": "code",
   "execution_count": 1006,
   "metadata": {},
   "outputs": [
    {
     "output_type": "execute_result",
     "data": {
      "text/plain": [
       "work           3.952141\n",
       "book           0.465716\n",
       "office         0.370224\n",
       "employee       0.283743\n",
       "future         0.201817\n",
       "art            0.188304\n",
       "artist         0.147435\n",
       "culture        0.145909\n",
       "writer         0.127777\n",
       "perspective    0.127231\n",
       "Name: topic_26, dtype: float64"
      ]
     },
     "metadata": {},
     "execution_count": 1006
    }
   ],
   "source": [
    "top_words(word_topic_matrix_df, 'topic_26', 10)"
   ]
  },
  {
   "cell_type": "code",
   "execution_count": 1007,
   "metadata": {},
   "outputs": [
    {
     "output_type": "execute_result",
     "data": {
      "text/plain": [
       "array(['If you want to do better, you have to put in the work to unlearn. Here’s why you should. (via @levelmag) https://t.co/yek8FXZakd',\n",
       "       'With a little mechanical work, the three-wheeled Piaggo Ape makes an impressive racecar https://t.co/sqaDjhmAYL',\n",
       "       'How you should respond when someone tells you no at work (via @Entrepreneur) https://t.co/5UPd43mVVE',\n",
       "       'Perspective: What you need to know about going back to work https://t.co/QpSYXYUPou',\n",
       "       'Sometimes things happen at work that are inherently ridiculous. Laughter is the only recourse https://t.co/umNxycTeFK',\n",
       "       'Come work with us! https://t.co/JgyrnWMv1s',\n",
       "       'Perspective: What you need to know about going back to work https://t.co/BaWgfEXsqQ',\n",
       "       'Not everyone can, or should, go back to work. https://t.co/YWz8gVgkp2',\n",
       "       'There’s much more work to be done to take down machismo (via @levelmag) https://t.co/a3uTONp1dC',\n",
       "       'Five smart ways to handle remote work, and two dumb ones https://t.co/YYlMwYR1N2',\n",
       "       '4 things you should do if you get demoted at work, and how to bounce back (via @Monster) https://t.co/PXaoo1XZsI',\n",
       "       \"It's not bragging to list all of the work you're balancing. https://t.co/ib9XjRqaoG\",\n",
       "       \"How to apologize if you accidentally said something at work that's racist, sexist, or offensive https://t.co/IVHCbEh5xY\",\n",
       "       '“How to Navigate Gaslighting at Work” by @MelodyWilding https://t.co/usukoeae2H',\n",
       "       '\"Given how the federal government has been hollowed out, the work of the states has been nation-saving,\" @glgerstle writes: https://t.co/2FDKg2QTUD',\n",
       "       '\"Most survived. A few prospered. But those of us who went through it will never again feel truly safe at work.\" https://t.co/FdxLplexQj',\n",
       "       'How to recognize gaslighting at work, and what to do about it (via @Monster) https://t.co/cdK85B7ilS',\n",
       "       'Ever find yourself at work wondering “Am I crazy, or…\"? It is likely that you are not crazy, says @rachelsklar (via @ForgeMag) https://t.co/utW4TXqRXk',\n",
       "       'It will only make your work life more difficult. (via @forgemag) https://t.co/HLy7KMTbqv',\n",
       "       'Are you putting your work out there? (via @forgemag) https://t.co/qCZv1clKXZ'],\n",
       "      dtype=object)"
      ]
     },
     "metadata": {},
     "execution_count": 1007
    }
   ],
   "source": [
    "top_tweets(tweet_topic_matrix_df ,'topic_26', 20)"
   ]
  },
  {
   "source": [
    "#### Topic 28: Cars"
   ],
   "cell_type": "markdown",
   "metadata": {}
  },
  {
   "cell_type": "code",
   "execution_count": 1008,
   "metadata": {},
   "outputs": [
    {
     "output_type": "execute_result",
     "data": {
      "text/plain": [
       "car        3.851752\n",
       "tesla      0.356559\n",
       "future     0.291703\n",
       "vehicle    0.260003\n",
       "model      0.229848\n",
       "sport      0.226277\n",
       "custom     0.173571\n",
       "concept    0.172030\n",
       "elon       0.162479\n",
       "driver     0.160584\n",
       "Name: topic_27, dtype: float64"
      ]
     },
     "metadata": {},
     "execution_count": 1008
    }
   ],
   "source": [
    "top_words(word_topic_matrix_df, 'topic_27', 10)"
   ]
  },
  {
   "cell_type": "code",
   "execution_count": 1009,
   "metadata": {},
   "outputs": [
    {
     "output_type": "execute_result",
     "data": {
      "text/plain": [
       "array(['Flying cars are coming. https://t.co/fl2a4NN4Xo',\n",
       "       'Why the SYMBIOZ is the smartest car https://t.co/SRhqGpGUjp',\n",
       "       'The SYMBIOZ is the smartest car https://t.co/gWYKTKay7W',\n",
       "       'Forget cars. These are the world’s 20 most bicycle-friendly cities. https://t.co/UQQaYeaHYX',\n",
       "       'This is how car parts get recycled https://t.co/NLWi5ZEUgi',\n",
       "       'Check out how a car is transformed into a limousine https://t.co/xxYZV3mzSB',\n",
       "       'The Autozam AZ-1 is a highly sought-after car https://t.co/BISZFzUnp2',\n",
       "       'Forget cars. These are the world’s 20 most bicycle-friendly cities. https://t.co/k6DqQ4p5Ur',\n",
       "       'How soon until we have self-driving cars? https://t.co/othCz7LA2u',\n",
       "       'This is how some of the most classic car looks are achieved https://t.co/qpp4d8K6FV',\n",
       "       'This car with bench-style seating for two is unlike any you have ever seen https://t.co/kLbWSPyY6b',\n",
       "       'Driverless cars could be coming sooner than you think — are you ready? https://t.co/bDnS1JMXuw',\n",
       "       'The SYMBIOZ is the smartest car https://t.co/m6ZZbBWvvC',\n",
       "       'Anything that can be done to a normal car can be done to a KidStance car https://t.co/YNOURE1yzq',\n",
       "       'A clever way to recycle car parts https://t.co/PIAOlOhsKQ',\n",
       "       'How soon until we have self-driving cars? https://t.co/40Nx0c1rgk',\n",
       "       \"Did you know you can't get a sunburn in your car? https://t.co/OPRoY3qSCa\",\n",
       "       'Could this be what cars look like in 2030? https://t.co/LxWMXNFpQd',\n",
       "       'Which of these electric cars would you be more inclined to buy? https://t.co/0eyzGMTiuW',\n",
       "       'This is how some of the most classic car looks are achieved https://t.co/lJ5FCQqQaG'],\n",
       "      dtype=object)"
      ]
     },
     "metadata": {},
     "execution_count": 1009
    }
   ],
   "source": [
    "top_tweets(tweet_topic_matrix_df ,'topic_27', 20)"
   ]
  },
  {
   "source": [
    "#### Topic 29: Personal Finance"
   ],
   "cell_type": "markdown",
   "metadata": {}
  },
  {
   "cell_type": "code",
   "execution_count": 1010,
   "metadata": {},
   "outputs": [
    {
     "output_type": "execute_result",
     "data": {
      "text/plain": [
       "money      3.905622\n",
       "talks      0.333282\n",
       "bank       0.311538\n",
       "fund       0.170065\n",
       "service    0.163045\n",
       "lot        0.156441\n",
       "podcast    0.154100\n",
       "rate       0.150018\n",
       "account    0.149463\n",
       "plan       0.146684\n",
       "Name: topic_28, dtype: float64"
      ]
     },
     "metadata": {},
     "execution_count": 1010
    }
   ],
   "source": [
    "top_words(word_topic_matrix_df, 'topic_28', 10)"
   ]
  },
  {
   "cell_type": "code",
   "execution_count": 1011,
   "metadata": {},
   "outputs": [
    {
     "output_type": "execute_result",
     "data": {
      "text/plain": [
       "array(['“How to Reinvent Money” by @umairh https://t.co/bZECx0wJVf',\n",
       "       '\"If you want to be successful, you must be able to account for how much and where you are spending your money\" https://t.co/mwwnFAzwUM',\n",
       "       '\"I always think about losing money as opposed to making money.\" https://t.co/oXqfjvRL6P',\n",
       "       \"If you need to wire money, here's what you should expect https://t.co/vtrzj8nnbm\",\n",
       "       '\"Ever since we combined our money, we’ve been fighting all the time.\" (via @forgemag) https://t.co/kunlK7zOdZ',\n",
       "       'How will you manage your money post Covid-19? https://t.co/XZFCCAKbLV',\n",
       "       'Economists would have to consider two questions: how much to pay, and how best to spend the money https://t.co/RSz2HcOauG',\n",
       "       '\"It\\'s easy to just kill yourself,\" Sullins said, \"and, be like, \\'Yay, I made some money!\\' But you can\\'t keep that up forever.\" https://t.co/YfNonAO3hQ',\n",
       "       \"If you're looking for a stylish, customizable PC/PS4 gamepad, and you don't mind spending top-shelf-keyboard money on it, you can't do much better than the Astro C40 TR. Just don't put your DualShock 4 out to pasture quite yet. https://t.co/zf5sbe5kMi\",\n",
       "       \"Analysis: Who's got money https://t.co/5scEJ3DDy9\",\n",
       "       'When you come into money, “the first thing to do is nothing\" https://t.co/HbqoMoP1mZ',\n",
       "       '“‘If You Have Money, You Can Think Whatever You Want’” by Abby Seiff https://t.co/pPI1fhNYAn',\n",
       "       '👏Get 👏 your 👏money👏 https://t.co/pLBajjoSfB',\n",
       "       \"Don't worry about moving money around just yet https://t.co/RgV4tiflIb\",\n",
       "       'Everyone should be talking more openly about how much money they make https://t.co/iOvujfPZBr',\n",
       "       \"If your money order is lost or stolen, you'll usually be able to get your money refunded https://t.co/8Q6LEfEchf\",\n",
       "       \"You can see if your state treasury is holding money in your name by locating your state's unclaimed money portal https://t.co/1CZ9I3YaCO\",\n",
       "       \"The world's richest people are getting more and more annoyed at how much it costs them to look after their money https://t.co/tfcKk2GHQ2\",\n",
       "       \"Some super rich people don't believe it's greedy to want to have more money https://t.co/jO3VyEjYb9\",\n",
       "       'Sneaky ways H&amp;M gets you to spend money\\n\\nFor more on how companies get your money, visit @PrimeVideo: https://t.co/nHwtNqGCd6 https://t.co/eowzu97kRZ'],\n",
       "      dtype=object)"
      ]
     },
     "metadata": {},
     "execution_count": 1011
    }
   ],
   "source": [
    "top_tweets(tweet_topic_matrix_df ,'topic_28', 20)"
   ]
  },
  {
   "source": [
    "#### Topic 30: Covid Vaccine Research"
   ],
   "cell_type": "markdown",
   "metadata": {}
  },
  {
   "cell_type": "code",
   "execution_count": 1012,
   "metadata": {},
   "outputs": [
    {
     "output_type": "execute_result",
     "data": {
      "text/plain": [
       "vaccine        3.833632\n",
       "virus          1.520065\n",
       "trial          0.742382\n",
       "race           0.578194\n",
       "scientist      0.392905\n",
       "result         0.226542\n",
       "drug           0.222187\n",
       "perspective    0.207619\n",
       "expert         0.196578\n",
       "study          0.187622\n",
       "Name: topic_29, dtype: float64"
      ]
     },
     "metadata": {},
     "execution_count": 1012
    }
   ],
   "source": [
    "top_words(word_topic_matrix_df, 'topic_29', 10)"
   ]
  },
  {
   "cell_type": "code",
   "execution_count": 1013,
   "metadata": {},
   "outputs": [
    {
     "output_type": "execute_result",
     "data": {
      "text/plain": [
       "array(['“The fastest vaccine we previously developed was for mumps, and that took four years to develop. And typically it takes 10 to 15 years to develop a vaccine. So 12 to 18 months would be record-breaking.” https://t.co/5iTJHk1irY',\n",
       "       '⚡️ “How close are we to having a Covid-19 vaccine?”\\n\\nhttps://t.co/H38f1LMI06',\n",
       "       'An inside look at why we are so far from a Covid-19 vaccine: https://t.co/dIJTex9Kx0',\n",
       "       'There will not be a vaccine soon. https://t.co/2ZsWd5NX4H https://t.co/QKF3NWNUVs',\n",
       "       'We could know if a vaccine works this month https://t.co/uauVAtqr6j',\n",
       "       \"We are so far from a Covid-19 vaccine. Here's why: https://t.co/U1BL3Glxq6\",\n",
       "       'Perspective: Here’s how hard it will be to distribute a covid-19 vaccine https://t.co/0tJzLPwr7T',\n",
       "       'Opinion: What the government must do to successfully administer a covid-19 vaccine https://t.co/g7leVRPzR5',\n",
       "       'A vaccine is coming soon. https://t.co/9XC71BoIeH',\n",
       "       'No matter who develops an effective vaccine first, those clamouring for it may be disappointed https://t.co/WwTcfO49z3'],\n",
       "      dtype=object)"
      ]
     },
     "metadata": {},
     "execution_count": 1013
    }
   ],
   "source": [
    "top_tweets(tweet_topic_matrix_df ,'topic_29', 10)"
   ]
  },
  {
   "source": [
    "### Next Steps: \n",
    "Our topics look really great, but...\n",
    "The financial times has a number of repeat tweet templates like \"__ Hong Kong, While you were sleeping, this was our most read story\" and \"Just published: front page of the Financial Times, UK edition\" which may be skewing certain topics and become visible when we look at top tweets. Let's clean those out before we finalize our topics, just to be safe."
   ],
   "cell_type": "markdown",
   "metadata": {}
  },
  {
   "cell_type": "code",
   "execution_count": null,
   "metadata": {},
   "outputs": [],
   "source": []
  }
 ]
}