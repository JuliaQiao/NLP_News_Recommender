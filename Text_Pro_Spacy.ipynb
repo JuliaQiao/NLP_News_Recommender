{
 "cells": [
  {
   "cell_type": "markdown",
   "metadata": {},
   "source": [
    "# News Recommender: Natural Language Processing"
   ]
  },
  {
   "cell_type": "markdown",
   "metadata": {},
   "source": [
    "*insert title page* with links"
   ]
  },
  {
   "cell_type": "markdown",
   "metadata": {},
   "source": [
    "## CLEANING AND VECTORIZATION\n",
    "In the first section of this notebook, we will be pre-processing, cleaning, lemmatizing, tagging, and vectorizing our webscraped tweets. The goal is to create an optimized document-term matrix for topic modeling."
   ]
  },
  {
   "cell_type": "code",
   "execution_count": 145,
   "metadata": {},
   "outputs": [],
   "source": [
    "import pandas as pd\n",
    "import numpy as np\n",
    "import spacy\n",
    "import re\n",
    "from sklearn.feature_extraction.text import TfidfVectorizer\n",
    "from langdetect import detect, DetectorFactory\n",
    "DetectorFactory.seed = 0\n",
    "import unicodedata\n",
    "from wordcloud import WordCloud\n",
    "import matplotlib.pyplot as plt \n",
    "import nltk.corpus\n",
    "from sklearn.decomposition import TruncatedSVD\n",
    "from sklearn.decomposition import NMF\n",
    "from sklearn.metrics.pairwise import cosine_similarity"
   ]
  },
  {
   "cell_type": "markdown",
   "metadata": {},
   "source": [
    "### Prepare Dataframe\n",
    "\n",
    "Read in CSV as dataframe, edit columns, drop unnecessary columns."
   ]
  },
  {
   "cell_type": "code",
   "execution_count": 475,
   "metadata": {},
   "outputs": [],
   "source": [
    "df_raw = pd.read_csv('df_raw.csv', encoding='utf-8')"
   ]
  },
  {
   "cell_type": "code",
   "execution_count": 476,
   "metadata": {},
   "outputs": [],
   "source": [
    "#drop old index as we've reindex when reading in our CSV\n",
    "df_raw = df_raw.drop(columns = 'Unnamed: 0')"
   ]
  },
  {
   "cell_type": "code",
   "execution_count": 477,
   "metadata": {},
   "outputs": [
    {
     "data": {
      "text/html": [
       "<div>\n",
       "<style scoped>\n",
       "    .dataframe tbody tr th:only-of-type {\n",
       "        vertical-align: middle;\n",
       "    }\n",
       "\n",
       "    .dataframe tbody tr th {\n",
       "        vertical-align: top;\n",
       "    }\n",
       "\n",
       "    .dataframe thead th {\n",
       "        text-align: right;\n",
       "    }\n",
       "</style>\n",
       "<table border=\"1\" class=\"dataframe\">\n",
       "  <thead>\n",
       "    <tr style=\"text-align: right;\">\n",
       "      <th></th>\n",
       "      <th>user</th>\n",
       "      <th>date</th>\n",
       "      <th>outlinks</th>\n",
       "      <th>content</th>\n",
       "      <th>url</th>\n",
       "    </tr>\n",
       "  </thead>\n",
       "  <tbody>\n",
       "    <tr>\n",
       "      <th>0</th>\n",
       "      <td>{'username': 'TheAtlantic', 'displayname': 'Th...</td>\n",
       "      <td>2020-11-01T01:08:48+00:00</td>\n",
       "      <td>['http://on.theatln.tc/YXH6gyR']</td>\n",
       "      <td>The Atlantic Daily: Will this decade be the ne...</td>\n",
       "      <td>https://twitter.com/TheAtlantic/status/1322707...</td>\n",
       "    </tr>\n",
       "    <tr>\n",
       "      <th>1</th>\n",
       "      <td>{'username': 'TheAtlantic', 'displayname': 'Th...</td>\n",
       "      <td>2020-11-01T00:38:45+00:00</td>\n",
       "      <td>['http://on.theatln.tc/l89Uzv7']</td>\n",
       "      <td>There's plenty that's going wrong for Trump. H...</td>\n",
       "      <td>https://twitter.com/TheAtlantic/status/1322699...</td>\n",
       "    </tr>\n",
       "    <tr>\n",
       "      <th>2</th>\n",
       "      <td>{'username': 'TheAtlantic', 'displayname': 'Th...</td>\n",
       "      <td>2020-11-01T00:06:48+00:00</td>\n",
       "      <td>['http://on.theatln.tc/ZGvkM7u']</td>\n",
       "      <td>If Trump tries to steal the election, people w...</td>\n",
       "      <td>https://twitter.com/TheAtlantic/status/1322691...</td>\n",
       "    </tr>\n",
       "    <tr>\n",
       "      <th>3</th>\n",
       "      <td>{'username': 'TheAtlantic', 'displayname': 'Th...</td>\n",
       "      <td>2020-10-31T23:34:45+00:00</td>\n",
       "      <td>['http://on.theatln.tc/kypt5Zc']</td>\n",
       "      <td>The Trump campaign's “election-security operat...</td>\n",
       "      <td>https://twitter.com/TheAtlantic/status/1322683...</td>\n",
       "    </tr>\n",
       "    <tr>\n",
       "      <th>4</th>\n",
       "      <td>{'username': 'TheAtlantic', 'displayname': 'Th...</td>\n",
       "      <td>2020-10-31T23:04:31+00:00</td>\n",
       "      <td>['http://on.theatln.tc/rNbarVc']</td>\n",
       "      <td>Even if Joe Biden wins decisively next week, t...</td>\n",
       "      <td>https://twitter.com/TheAtlantic/status/1322675...</td>\n",
       "    </tr>\n",
       "  </tbody>\n",
       "</table>\n",
       "</div>"
      ],
      "text/plain": [
       "                                                user  \\\n",
       "0  {'username': 'TheAtlantic', 'displayname': 'Th...   \n",
       "1  {'username': 'TheAtlantic', 'displayname': 'Th...   \n",
       "2  {'username': 'TheAtlantic', 'displayname': 'Th...   \n",
       "3  {'username': 'TheAtlantic', 'displayname': 'Th...   \n",
       "4  {'username': 'TheAtlantic', 'displayname': 'Th...   \n",
       "\n",
       "                        date                          outlinks  \\\n",
       "0  2020-11-01T01:08:48+00:00  ['http://on.theatln.tc/YXH6gyR']   \n",
       "1  2020-11-01T00:38:45+00:00  ['http://on.theatln.tc/l89Uzv7']   \n",
       "2  2020-11-01T00:06:48+00:00  ['http://on.theatln.tc/ZGvkM7u']   \n",
       "3  2020-10-31T23:34:45+00:00  ['http://on.theatln.tc/kypt5Zc']   \n",
       "4  2020-10-31T23:04:31+00:00  ['http://on.theatln.tc/rNbarVc']   \n",
       "\n",
       "                                             content  \\\n",
       "0  The Atlantic Daily: Will this decade be the ne...   \n",
       "1  There's plenty that's going wrong for Trump. H...   \n",
       "2  If Trump tries to steal the election, people w...   \n",
       "3  The Trump campaign's “election-security operat...   \n",
       "4  Even if Joe Biden wins decisively next week, t...   \n",
       "\n",
       "                                                 url  \n",
       "0  https://twitter.com/TheAtlantic/status/1322707...  \n",
       "1  https://twitter.com/TheAtlantic/status/1322699...  \n",
       "2  https://twitter.com/TheAtlantic/status/1322691...  \n",
       "3  https://twitter.com/TheAtlantic/status/1322683...  \n",
       "4  https://twitter.com/TheAtlantic/status/1322675...  "
      ]
     },
     "execution_count": 477,
     "metadata": {},
     "output_type": "execute_result"
    }
   ],
   "source": [
    "df_raw.head()"
   ]
  },
  {
   "cell_type": "markdown",
   "metadata": {},
   "source": [
    "Let's also add in a column to easily distinguish our different news outlets."
   ]
  },
  {
   "cell_type": "code",
   "execution_count": 478,
   "metadata": {},
   "outputs": [],
   "source": [
    "#create new column of outlet names based off tweet urls\n",
    "df_raw['outlet'] = df_raw['url'].apply(lambda url: (url.split(\".com/\", 2)[-1]).split('/')[0])\n"
   ]
  },
  {
   "cell_type": "markdown",
   "metadata": {},
   "source": [
    "Check to see if all of our outlets are represented with 20k tweets/rows each:"
   ]
  },
  {
   "cell_type": "code",
   "execution_count": 479,
   "metadata": {
    "scrolled": false
   },
   "outputs": [
    {
     "data": {
      "text/plain": [
       "nytimes            20000\n",
       "washingtonpost     20000\n",
       "Medium             20000\n",
       "TheEconomist       20000\n",
       "TheAtlantic        20000\n",
       "WSJ                20000\n",
       "FinancialTimes     20000\n",
       "NewYorker          20000\n",
       "WIRED              20000\n",
       "businessinsider    20000\n",
       "Name: outlet, dtype: int64"
      ]
     },
     "execution_count": 479,
     "metadata": {},
     "output_type": "execute_result"
    }
   ],
   "source": [
    "df_raw.outlet.value_counts()"
   ]
  },
  {
   "cell_type": "markdown",
   "metadata": {},
   "source": [
    "Let's now drop the columns we don't need and reindex the remaining ones for easier querying."
   ]
  },
  {
   "cell_type": "code",
   "execution_count": 480,
   "metadata": {},
   "outputs": [
    {
     "data": {
      "text/plain": [
       "Index(['user', 'date', 'outlinks', 'content', 'url', 'outlet'], dtype='object')"
      ]
     },
     "execution_count": 480,
     "metadata": {},
     "output_type": "execute_result"
    }
   ],
   "source": [
    "df_raw.columns"
   ]
  },
  {
   "cell_type": "code",
   "execution_count": 481,
   "metadata": {},
   "outputs": [],
   "source": [
    "#drop our original \"user\" column now that we have \"outlet\"\n",
    "df_raw.drop(columns = ['user'], inplace = True)"
   ]
  },
  {
   "cell_type": "code",
   "execution_count": 482,
   "metadata": {},
   "outputs": [],
   "source": [
    "#reindex the columns for easier viewing\n",
    "cols = df_raw.columns.tolist()\n",
    "\n",
    "cols.insert(0, cols.pop(cols.index('outlet')))\n",
    "cols.insert(2, cols.pop(cols.index('url')))\n",
    "\n",
    "df_raw= df_raw.reindex(columns= cols)"
   ]
  },
  {
   "cell_type": "code",
   "execution_count": 483,
   "metadata": {},
   "outputs": [
    {
     "data": {
      "text/html": [
       "<div>\n",
       "<style scoped>\n",
       "    .dataframe tbody tr th:only-of-type {\n",
       "        vertical-align: middle;\n",
       "    }\n",
       "\n",
       "    .dataframe tbody tr th {\n",
       "        vertical-align: top;\n",
       "    }\n",
       "\n",
       "    .dataframe thead th {\n",
       "        text-align: right;\n",
       "    }\n",
       "</style>\n",
       "<table border=\"1\" class=\"dataframe\">\n",
       "  <thead>\n",
       "    <tr style=\"text-align: right;\">\n",
       "      <th></th>\n",
       "      <th>outlet</th>\n",
       "      <th>date</th>\n",
       "      <th>url</th>\n",
       "      <th>outlinks</th>\n",
       "      <th>content</th>\n",
       "    </tr>\n",
       "  </thead>\n",
       "  <tbody>\n",
       "    <tr>\n",
       "      <th>0</th>\n",
       "      <td>TheAtlantic</td>\n",
       "      <td>2020-11-01T01:08:48+00:00</td>\n",
       "      <td>https://twitter.com/TheAtlantic/status/1322707...</td>\n",
       "      <td>['http://on.theatln.tc/YXH6gyR']</td>\n",
       "      <td>The Atlantic Daily: Will this decade be the ne...</td>\n",
       "    </tr>\n",
       "    <tr>\n",
       "      <th>1</th>\n",
       "      <td>TheAtlantic</td>\n",
       "      <td>2020-11-01T00:38:45+00:00</td>\n",
       "      <td>https://twitter.com/TheAtlantic/status/1322699...</td>\n",
       "      <td>['http://on.theatln.tc/l89Uzv7']</td>\n",
       "      <td>There's plenty that's going wrong for Trump. H...</td>\n",
       "    </tr>\n",
       "    <tr>\n",
       "      <th>2</th>\n",
       "      <td>TheAtlantic</td>\n",
       "      <td>2020-11-01T00:06:48+00:00</td>\n",
       "      <td>https://twitter.com/TheAtlantic/status/1322691...</td>\n",
       "      <td>['http://on.theatln.tc/ZGvkM7u']</td>\n",
       "      <td>If Trump tries to steal the election, people w...</td>\n",
       "    </tr>\n",
       "    <tr>\n",
       "      <th>3</th>\n",
       "      <td>TheAtlantic</td>\n",
       "      <td>2020-10-31T23:34:45+00:00</td>\n",
       "      <td>https://twitter.com/TheAtlantic/status/1322683...</td>\n",
       "      <td>['http://on.theatln.tc/kypt5Zc']</td>\n",
       "      <td>The Trump campaign's “election-security operat...</td>\n",
       "    </tr>\n",
       "    <tr>\n",
       "      <th>4</th>\n",
       "      <td>TheAtlantic</td>\n",
       "      <td>2020-10-31T23:04:31+00:00</td>\n",
       "      <td>https://twitter.com/TheAtlantic/status/1322675...</td>\n",
       "      <td>['http://on.theatln.tc/rNbarVc']</td>\n",
       "      <td>Even if Joe Biden wins decisively next week, t...</td>\n",
       "    </tr>\n",
       "  </tbody>\n",
       "</table>\n",
       "</div>"
      ],
      "text/plain": [
       "        outlet                       date  \\\n",
       "0  TheAtlantic  2020-11-01T01:08:48+00:00   \n",
       "1  TheAtlantic  2020-11-01T00:38:45+00:00   \n",
       "2  TheAtlantic  2020-11-01T00:06:48+00:00   \n",
       "3  TheAtlantic  2020-10-31T23:34:45+00:00   \n",
       "4  TheAtlantic  2020-10-31T23:04:31+00:00   \n",
       "\n",
       "                                                 url  \\\n",
       "0  https://twitter.com/TheAtlantic/status/1322707...   \n",
       "1  https://twitter.com/TheAtlantic/status/1322699...   \n",
       "2  https://twitter.com/TheAtlantic/status/1322691...   \n",
       "3  https://twitter.com/TheAtlantic/status/1322683...   \n",
       "4  https://twitter.com/TheAtlantic/status/1322675...   \n",
       "\n",
       "                           outlinks  \\\n",
       "0  ['http://on.theatln.tc/YXH6gyR']   \n",
       "1  ['http://on.theatln.tc/l89Uzv7']   \n",
       "2  ['http://on.theatln.tc/ZGvkM7u']   \n",
       "3  ['http://on.theatln.tc/kypt5Zc']   \n",
       "4  ['http://on.theatln.tc/rNbarVc']   \n",
       "\n",
       "                                             content  \n",
       "0  The Atlantic Daily: Will this decade be the ne...  \n",
       "1  There's plenty that's going wrong for Trump. H...  \n",
       "2  If Trump tries to steal the election, people w...  \n",
       "3  The Trump campaign's “election-security operat...  \n",
       "4  Even if Joe Biden wins decisively next week, t...  "
      ]
     },
     "execution_count": 483,
     "metadata": {},
     "output_type": "execute_result"
    }
   ],
   "source": [
    "df_raw.head()"
   ]
  },
  {
   "cell_type": "markdown",
   "metadata": {},
   "source": [
    "### Preprocessing\n",
    "\n",
    "Clean our text for special characters using regex and encode to ascii to get rid of any emojis."
   ]
  },
  {
   "cell_type": "code",
   "execution_count": 484,
   "metadata": {},
   "outputs": [],
   "source": [
    "def preprocess(tweet):\n",
    "    \"\"\"\n",
    "    Takes in tweet and performs initial text cleaning/preprocessing.\n",
    "    \"\"\"\n",
    "    #make sure doc is string\n",
    "    tweet=str(tweet)\n",
    "    #get rid of urls\n",
    "    rem_url=re.sub(r'http\\S+', '', tweet)\n",
    "    #gets rid of @ tags\n",
    "    rem_tag = re.sub('@\\S+', '', rem_url)\n",
    "    #gets rid of # in hashtag but keeps content of hashtag\n",
    "    rem_hashtag = re.sub('#', '', rem_tag)\n",
    "    #gets rid of apostrophes \n",
    "    rem_apos = re.sub(\"'.\\S\", '', rem_hashtag)\n",
    "    rem_apos_0 = re.sub(\"’.\\S\", '', rem_apos)\n",
    "    rem_apos_1 = re.sub(\"'\\S\", '', rem_apos_0)\n",
    "    rem_apos_2 = re.sub(\"’\\S\", '', rem_apos_1)\n",
    "    #gets rid of special characters, numbers, etc.\n",
    "    clean_text = re.sub(r'[^A-Za-z\\s]','', rem_apos_2)\n",
    "\n",
    "    return clean_text"
   ]
  },
  {
   "cell_type": "code",
   "execution_count": 485,
   "metadata": {},
   "outputs": [],
   "source": [
    "df_raw['clean']=df_raw['content'].map(preprocess)"
   ]
  },
  {
   "cell_type": "markdown",
   "metadata": {},
   "source": [
    "Decode our webscrapped tweets into ascii so we can remove emojis and foreign characters easily during our pre-processing steps."
   ]
  },
  {
   "cell_type": "code",
   "execution_count": 486,
   "metadata": {},
   "outputs": [],
   "source": [
    "#decoded unicode into ascii\n",
    "df_raw['clean'] = df_raw['clean'].apply(lambda x: unicodedata.normalize('NFKD', x).encode('ascii', 'ignore').decode('ascii'))"
   ]
  },
  {
   "cell_type": "markdown",
   "metadata": {},
   "source": [
    "Run our clean code through our preprocessing function again in case we missed anything the first time around when the code wasn't in ascii."
   ]
  },
  {
   "cell_type": "code",
   "execution_count": 487,
   "metadata": {},
   "outputs": [],
   "source": [
    "df_raw['clean']=df_raw['clean'].map(preprocess)"
   ]
  },
  {
   "cell_type": "markdown",
   "metadata": {},
   "source": [
    "### Standardize Language\n",
    "\n",
    "Let's remove any foreign language tweets to make sure we're only focusing on English. "
   ]
  },
  {
   "cell_type": "code",
   "execution_count": 489,
   "metadata": {},
   "outputs": [],
   "source": [
    "def english_only(x):\n",
    "    \"\"\"\n",
    "    Take tweet, detect language, and only return English tweets, coding foreign language tweets as NaNs.\n",
    "    \"\"\"\n",
    "    try:\n",
    "        if detect(x) == 'en':\n",
    "            return x\n",
    "        else:\n",
    "            return np.nan\n",
    "    except:\n",
    "        pass\n"
   ]
  },
  {
   "cell_type": "code",
   "execution_count": 490,
   "metadata": {},
   "outputs": [
    {
     "name": "stdout",
     "output_type": "stream",
     "text": [
      "CPU times: user 10min 48s, sys: 3.87 s, total: 10min 52s\n",
      "Wall time: 10min 55s\n"
     ]
    }
   ],
   "source": [
    "%%time\n",
    "#  Remove any non english tweets\n",
    "df_raw['clean_eng'] = df_raw['clean'].apply(lambda x: english_only(x))\n"
   ]
  },
  {
   "cell_type": "code",
   "execution_count": 491,
   "metadata": {},
   "outputs": [
    {
     "data": {
      "text/plain": [
       "1287"
      ]
     },
     "execution_count": 491,
     "metadata": {},
     "output_type": "execute_result"
    }
   ],
   "source": [
    "df_raw.clean_eng.isnull().sum()\n"
   ]
  },
  {
   "cell_type": "code",
   "execution_count": 492,
   "metadata": {},
   "outputs": [],
   "source": [
    "#fill our null value non-English tweets with empty string\n",
    "df_raw = df_raw.fillna(\" \")"
   ]
  },
  {
   "cell_type": "markdown",
   "metadata": {},
   "source": [
    "### Remove Duplicate Tweets\n",
    "Let's make sure we remove any duplicate tweets from the same news source"
   ]
  },
  {
   "cell_type": "code",
   "execution_count": 496,
   "metadata": {},
   "outputs": [
    {
     "data": {
      "text/html": [
       "<div>\n",
       "<style scoped>\n",
       "    .dataframe tbody tr th:only-of-type {\n",
       "        vertical-align: middle;\n",
       "    }\n",
       "\n",
       "    .dataframe tbody tr th {\n",
       "        vertical-align: top;\n",
       "    }\n",
       "\n",
       "    .dataframe thead th {\n",
       "        text-align: right;\n",
       "    }\n",
       "</style>\n",
       "<table border=\"1\" class=\"dataframe\">\n",
       "  <thead>\n",
       "    <tr style=\"text-align: right;\">\n",
       "      <th></th>\n",
       "      <th>outlet</th>\n",
       "      <th>date</th>\n",
       "      <th>url</th>\n",
       "      <th>outlinks</th>\n",
       "      <th>content</th>\n",
       "      <th>clean</th>\n",
       "      <th>clean_eng</th>\n",
       "      <th>Is_Duplicate</th>\n",
       "    </tr>\n",
       "  </thead>\n",
       "  <tbody>\n",
       "    <tr>\n",
       "      <th>16</th>\n",
       "      <td>TheAtlantic</td>\n",
       "      <td>2020-10-31T14:42:13+00:00</td>\n",
       "      <td>https://twitter.com/TheAtlantic/status/1322549...</td>\n",
       "      <td>['http://on.theatln.tc/6QI8XY4']</td>\n",
       "      <td>If Trump tries to steal the election, people w...</td>\n",
       "      <td>If Trump tries to steal the election people wi...</td>\n",
       "      <td>NaN</td>\n",
       "      <td>True</td>\n",
       "    </tr>\n",
       "    <tr>\n",
       "      <th>17</th>\n",
       "      <td>TheAtlantic</td>\n",
       "      <td>2020-10-31T14:19:17+00:00</td>\n",
       "      <td>https://twitter.com/TheAtlantic/status/1322543...</td>\n",
       "      <td>['http://on.theatln.tc/VURlE4o']</td>\n",
       "      <td>Endings are seductive. They suggest order, and...</td>\n",
       "      <td>Endings are seductive They suggest order and r...</td>\n",
       "      <td>NaN</td>\n",
       "      <td>True</td>\n",
       "    </tr>\n",
       "    <tr>\n",
       "      <th>18</th>\n",
       "      <td>TheAtlantic</td>\n",
       "      <td>2020-10-31T13:58:37+00:00</td>\n",
       "      <td>https://twitter.com/TheAtlantic/status/1322538...</td>\n",
       "      <td>['http://on.theatln.tc/dNldIY4']</td>\n",
       "      <td>The Trump campaign's “election-security operat...</td>\n",
       "      <td>The Trump campaign electionsecurity operation ...</td>\n",
       "      <td>NaN</td>\n",
       "      <td>True</td>\n",
       "    </tr>\n",
       "    <tr>\n",
       "      <th>20</th>\n",
       "      <td>TheAtlantic</td>\n",
       "      <td>2020-10-31T13:02:02+00:00</td>\n",
       "      <td>https://twitter.com/TheAtlantic/status/1322524...</td>\n",
       "      <td>['http://on.theatln.tc/sUR08l8']</td>\n",
       "      <td>The Atlantic Daily: Will this decade be the ne...</td>\n",
       "      <td>The Atlantic Daily Will this decade be the new s</td>\n",
       "      <td>NaN</td>\n",
       "      <td>True</td>\n",
       "    </tr>\n",
       "    <tr>\n",
       "      <th>21</th>\n",
       "      <td>TheAtlantic</td>\n",
       "      <td>2020-10-30T19:04:48+00:00</td>\n",
       "      <td>https://twitter.com/TheAtlantic/status/1322253...</td>\n",
       "      <td>['http://on.theatln.tc/8KBTKT7']</td>\n",
       "      <td>\"When Trump is gone (whether after this electi...</td>\n",
       "      <td>When Trump is gone whether after this election...</td>\n",
       "      <td>NaN</td>\n",
       "      <td>True</td>\n",
       "    </tr>\n",
       "  </tbody>\n",
       "</table>\n",
       "</div>"
      ],
      "text/plain": [
       "         outlet                       date  \\\n",
       "16  TheAtlantic  2020-10-31T14:42:13+00:00   \n",
       "17  TheAtlantic  2020-10-31T14:19:17+00:00   \n",
       "18  TheAtlantic  2020-10-31T13:58:37+00:00   \n",
       "20  TheAtlantic  2020-10-31T13:02:02+00:00   \n",
       "21  TheAtlantic  2020-10-30T19:04:48+00:00   \n",
       "\n",
       "                                                  url  \\\n",
       "16  https://twitter.com/TheAtlantic/status/1322549...   \n",
       "17  https://twitter.com/TheAtlantic/status/1322543...   \n",
       "18  https://twitter.com/TheAtlantic/status/1322538...   \n",
       "20  https://twitter.com/TheAtlantic/status/1322524...   \n",
       "21  https://twitter.com/TheAtlantic/status/1322253...   \n",
       "\n",
       "                            outlinks  \\\n",
       "16  ['http://on.theatln.tc/6QI8XY4']   \n",
       "17  ['http://on.theatln.tc/VURlE4o']   \n",
       "18  ['http://on.theatln.tc/dNldIY4']   \n",
       "20  ['http://on.theatln.tc/sUR08l8']   \n",
       "21  ['http://on.theatln.tc/8KBTKT7']   \n",
       "\n",
       "                                              content  \\\n",
       "16  If Trump tries to steal the election, people w...   \n",
       "17  Endings are seductive. They suggest order, and...   \n",
       "18  The Trump campaign's “election-security operat...   \n",
       "20  The Atlantic Daily: Will this decade be the ne...   \n",
       "21  \"When Trump is gone (whether after this electi...   \n",
       "\n",
       "                                                clean clean_eng  Is_Duplicate  \n",
       "16  If Trump tries to steal the election people wi...       NaN          True  \n",
       "17  Endings are seductive They suggest order and r...       NaN          True  \n",
       "18  The Trump campaign electionsecurity operation ...       NaN          True  \n",
       "20  The Atlantic Daily Will this decade be the new s        NaN          True  \n",
       "21  When Trump is gone whether after this election...       NaN          True  "
      ]
     },
     "execution_count": 496,
     "metadata": {},
     "output_type": "execute_result"
    }
   ],
   "source": [
    "#explore duplicate tweets from the same account\n",
    "df_raw['Is_Duplicate']= df_raw.duplicated(subset = ['outlet', 'clean_eng'])\n",
    "df_raw[df_raw['Is_Duplicate']== True].sort_values(by=['clean_eng']).head()\n"
   ]
  },
  {
   "cell_type": "code",
   "execution_count": 497,
   "metadata": {},
   "outputs": [
    {
     "name": "stderr",
     "output_type": "stream",
     "text": [
      "/Users/juliaqiao/opt/anaconda3/envs/metis/lib/python3.8/site-packages/pandas/core/indexing.py:670: SettingWithCopyWarning: \n",
      "A value is trying to be set on a copy of a slice from a DataFrame\n",
      "\n",
      "See the caveats in the documentation: https://pandas.pydata.org/pandas-docs/stable/user_guide/indexing.html#returning-a-view-versus-a-copy\n",
      "  iloc._setitem_with_indexer(indexer, value)\n"
     ]
    }
   ],
   "source": [
    "#get index values of duplicate rows\n",
    "dupe_index = df_raw[df_raw['Is_Duplicate']==True].index\n",
    "#change \"clean_eng\" column of these rows to NaN\n",
    "df_raw['clean_eng'].iloc[dupe_index] = np.nan\n",
    "#fill the NaNs with empty string\n",
    "df_raw = df_raw.fillna(\" \")\n",
    "#drop the duplicate row\n",
    "df_raw.drop(columns = 'Is_Duplicate', inplace = True)"
   ]
  },
  {
   "cell_type": "markdown",
   "metadata": {},
   "source": [
    "### Remove Repetitive Article Introductions:\n",
    "As we saw later in our topic modeling, a number of Financial Times tweets are part of series and thus have the same type of introduction containing keywords that do not speak to the article itself, but to its audience:\n",
    "\n",
    "\"Good Morning, Hong Kong. While you were sleeping, this was our most read story\"\n",
    "\n",
    "\"Hello, Hong Kong. While you were sleeping, this was our most read story\"\n",
    "\n",
    "\"Just published: front page of the Financial Times, UK edition\""
   ]
  },
  {
   "cell_type": "code",
   "execution_count": 498,
   "metadata": {},
   "outputs": [
    {
     "data": {
      "text/html": [
       "<div>\n",
       "<style scoped>\n",
       "    .dataframe tbody tr th:only-of-type {\n",
       "        vertical-align: middle;\n",
       "    }\n",
       "\n",
       "    .dataframe tbody tr th {\n",
       "        vertical-align: top;\n",
       "    }\n",
       "\n",
       "    .dataframe thead th {\n",
       "        text-align: right;\n",
       "    }\n",
       "</style>\n",
       "<table border=\"1\" class=\"dataframe\">\n",
       "  <thead>\n",
       "    <tr style=\"text-align: right;\">\n",
       "      <th></th>\n",
       "      <th>outlet</th>\n",
       "      <th>date</th>\n",
       "      <th>url</th>\n",
       "      <th>outlinks</th>\n",
       "      <th>content</th>\n",
       "      <th>clean</th>\n",
       "      <th>clean_eng</th>\n",
       "    </tr>\n",
       "  </thead>\n",
       "  <tbody>\n",
       "    <tr>\n",
       "      <th>60033</th>\n",
       "      <td>FinancialTimes</td>\n",
       "      <td>2020-10-30T20:45:06+00:00</td>\n",
       "      <td>https://twitter.com/FinancialTimes/status/1322...</td>\n",
       "      <td>['https://on.ft.com/3jFO57j']</td>\n",
       "      <td>Just published: front page of the Financial Ti...</td>\n",
       "      <td>Just published front page of the Financial Tim...</td>\n",
       "      <td>Just published front page of the Financial Tim...</td>\n",
       "    </tr>\n",
       "    <tr>\n",
       "      <th>60034</th>\n",
       "      <td>FinancialTimes</td>\n",
       "      <td>2020-10-30T20:45:05+00:00</td>\n",
       "      <td>https://twitter.com/FinancialTimes/status/1322...</td>\n",
       "      <td>['https://on.ft.com/35O6euX']</td>\n",
       "      <td>Just published: front page of the Financial Ti...</td>\n",
       "      <td>Just published front page of the Financial Tim...</td>\n",
       "      <td>Just published front page of the Financial Tim...</td>\n",
       "    </tr>\n",
       "    <tr>\n",
       "      <th>60110</th>\n",
       "      <td>FinancialTimes</td>\n",
       "      <td>2020-10-30T00:01:04+00:00</td>\n",
       "      <td>https://twitter.com/FinancialTimes/status/1321...</td>\n",
       "      <td>['https://on.ft.com/3kJOLtU']</td>\n",
       "      <td>Hello, Hong Kong. While you were sleeping, thi...</td>\n",
       "      <td>Hello Hong Kong While you were sleeping this w...</td>\n",
       "      <td>Hello Hong Kong While you were sleeping this w...</td>\n",
       "    </tr>\n",
       "    <tr>\n",
       "      <th>60114</th>\n",
       "      <td>FinancialTimes</td>\n",
       "      <td>2020-10-29T21:44:07+00:00</td>\n",
       "      <td>https://twitter.com/FinancialTimes/status/1321...</td>\n",
       "      <td>['https://on.ft.com/3efjL2j']</td>\n",
       "      <td>Just published: front page of the Financial Ti...</td>\n",
       "      <td>Just published front page of the Financial Tim...</td>\n",
       "      <td>Just published front page of the Financial Tim...</td>\n",
       "    </tr>\n",
       "    <tr>\n",
       "      <th>60121</th>\n",
       "      <td>FinancialTimes</td>\n",
       "      <td>2020-10-29T20:54:04+00:00</td>\n",
       "      <td>https://twitter.com/FinancialTimes/status/1321...</td>\n",
       "      <td>['https://on.ft.com/37P8iFz']</td>\n",
       "      <td>Just published: front page of the Financial Ti...</td>\n",
       "      <td>Just published front page of the Financial Tim...</td>\n",
       "      <td>Just published front page of the Financial Tim...</td>\n",
       "    </tr>\n",
       "    <tr>\n",
       "      <th>...</th>\n",
       "      <td>...</td>\n",
       "      <td>...</td>\n",
       "      <td>...</td>\n",
       "      <td>...</td>\n",
       "      <td>...</td>\n",
       "      <td>...</td>\n",
       "      <td>...</td>\n",
       "    </tr>\n",
       "    <tr>\n",
       "      <th>79883</th>\n",
       "      <td>FinancialTimes</td>\n",
       "      <td>2019-10-11T12:20:02+00:00</td>\n",
       "      <td>https://twitter.com/FinancialTimes/status/1182...</td>\n",
       "      <td>['https://on.ft.com/328GjLc']</td>\n",
       "      <td>Good morning New York. While you were sleeping...</td>\n",
       "      <td>Good morning New York While you were sleeping ...</td>\n",
       "      <td></td>\n",
       "    </tr>\n",
       "    <tr>\n",
       "      <th>79922</th>\n",
       "      <td>FinancialTimes</td>\n",
       "      <td>2019-10-10T21:30:15+00:00</td>\n",
       "      <td>https://twitter.com/FinancialTimes/status/1182...</td>\n",
       "      <td>['https://on.ft.com/33jJ9NF']</td>\n",
       "      <td>Just published: front page of the Financial Ti...</td>\n",
       "      <td>Just published front page of the Financial Tim...</td>\n",
       "      <td></td>\n",
       "    </tr>\n",
       "    <tr>\n",
       "      <th>79953</th>\n",
       "      <td>FinancialTimes</td>\n",
       "      <td>2019-10-10T12:20:08+00:00</td>\n",
       "      <td>https://twitter.com/FinancialTimes/status/1182...</td>\n",
       "      <td>['https://ft.trib.al/vqvB9Ve']</td>\n",
       "      <td>Good morning New York. While you were sleeping...</td>\n",
       "      <td>Good morning New York While you were sleeping ...</td>\n",
       "      <td></td>\n",
       "    </tr>\n",
       "    <tr>\n",
       "      <th>79986</th>\n",
       "      <td>FinancialTimes</td>\n",
       "      <td>2019-10-09T21:30:16+00:00</td>\n",
       "      <td>https://twitter.com/FinancialTimes/status/1182...</td>\n",
       "      <td>['https://on.ft.com/35mxbVx']</td>\n",
       "      <td>Just published: front page of the Financial Ti...</td>\n",
       "      <td>Just published front page of the Financial Tim...</td>\n",
       "      <td></td>\n",
       "    </tr>\n",
       "    <tr>\n",
       "      <th>79990</th>\n",
       "      <td>FinancialTimes</td>\n",
       "      <td>2019-10-09T20:15:06+00:00</td>\n",
       "      <td>https://twitter.com/FinancialTimes/status/1182...</td>\n",
       "      <td>['https://on.ft.com/2AW41yn']</td>\n",
       "      <td>Just published: front page of the Financial Ti...</td>\n",
       "      <td>Just published front page of the Financial Tim...</td>\n",
       "      <td></td>\n",
       "    </tr>\n",
       "  </tbody>\n",
       "</table>\n",
       "<p>1010 rows × 7 columns</p>\n",
       "</div>"
      ],
      "text/plain": [
       "               outlet                       date  \\\n",
       "60033  FinancialTimes  2020-10-30T20:45:06+00:00   \n",
       "60034  FinancialTimes  2020-10-30T20:45:05+00:00   \n",
       "60110  FinancialTimes  2020-10-30T00:01:04+00:00   \n",
       "60114  FinancialTimes  2020-10-29T21:44:07+00:00   \n",
       "60121  FinancialTimes  2020-10-29T20:54:04+00:00   \n",
       "...               ...                        ...   \n",
       "79883  FinancialTimes  2019-10-11T12:20:02+00:00   \n",
       "79922  FinancialTimes  2019-10-10T21:30:15+00:00   \n",
       "79953  FinancialTimes  2019-10-10T12:20:08+00:00   \n",
       "79986  FinancialTimes  2019-10-09T21:30:16+00:00   \n",
       "79990  FinancialTimes  2019-10-09T20:15:06+00:00   \n",
       "\n",
       "                                                     url  \\\n",
       "60033  https://twitter.com/FinancialTimes/status/1322...   \n",
       "60034  https://twitter.com/FinancialTimes/status/1322...   \n",
       "60110  https://twitter.com/FinancialTimes/status/1321...   \n",
       "60114  https://twitter.com/FinancialTimes/status/1321...   \n",
       "60121  https://twitter.com/FinancialTimes/status/1321...   \n",
       "...                                                  ...   \n",
       "79883  https://twitter.com/FinancialTimes/status/1182...   \n",
       "79922  https://twitter.com/FinancialTimes/status/1182...   \n",
       "79953  https://twitter.com/FinancialTimes/status/1182...   \n",
       "79986  https://twitter.com/FinancialTimes/status/1182...   \n",
       "79990  https://twitter.com/FinancialTimes/status/1182...   \n",
       "\n",
       "                             outlinks  \\\n",
       "60033   ['https://on.ft.com/3jFO57j']   \n",
       "60034   ['https://on.ft.com/35O6euX']   \n",
       "60110   ['https://on.ft.com/3kJOLtU']   \n",
       "60114   ['https://on.ft.com/3efjL2j']   \n",
       "60121   ['https://on.ft.com/37P8iFz']   \n",
       "...                               ...   \n",
       "79883   ['https://on.ft.com/328GjLc']   \n",
       "79922   ['https://on.ft.com/33jJ9NF']   \n",
       "79953  ['https://ft.trib.al/vqvB9Ve']   \n",
       "79986   ['https://on.ft.com/35mxbVx']   \n",
       "79990   ['https://on.ft.com/2AW41yn']   \n",
       "\n",
       "                                                 content  \\\n",
       "60033  Just published: front page of the Financial Ti...   \n",
       "60034  Just published: front page of the Financial Ti...   \n",
       "60110  Hello, Hong Kong. While you were sleeping, thi...   \n",
       "60114  Just published: front page of the Financial Ti...   \n",
       "60121  Just published: front page of the Financial Ti...   \n",
       "...                                                  ...   \n",
       "79883  Good morning New York. While you were sleeping...   \n",
       "79922  Just published: front page of the Financial Ti...   \n",
       "79953  Good morning New York. While you were sleeping...   \n",
       "79986  Just published: front page of the Financial Ti...   \n",
       "79990  Just published: front page of the Financial Ti...   \n",
       "\n",
       "                                                   clean  \\\n",
       "60033  Just published front page of the Financial Tim...   \n",
       "60034  Just published front page of the Financial Tim...   \n",
       "60110  Hello Hong Kong While you were sleeping this w...   \n",
       "60114  Just published front page of the Financial Tim...   \n",
       "60121  Just published front page of the Financial Tim...   \n",
       "...                                                  ...   \n",
       "79883  Good morning New York While you were sleeping ...   \n",
       "79922  Just published front page of the Financial Tim...   \n",
       "79953  Good morning New York While you were sleeping ...   \n",
       "79986  Just published front page of the Financial Tim...   \n",
       "79990  Just published front page of the Financial Tim...   \n",
       "\n",
       "                                               clean_eng  \n",
       "60033  Just published front page of the Financial Tim...  \n",
       "60034  Just published front page of the Financial Tim...  \n",
       "60110  Hello Hong Kong While you were sleeping this w...  \n",
       "60114  Just published front page of the Financial Tim...  \n",
       "60121  Just published front page of the Financial Tim...  \n",
       "...                                                  ...  \n",
       "79883                                                     \n",
       "79922                                                     \n",
       "79953                                                     \n",
       "79986                                                     \n",
       "79990                                                     \n",
       "\n",
       "[1010 rows x 7 columns]"
      ]
     },
     "execution_count": 498,
     "metadata": {},
     "output_type": "execute_result"
    }
   ],
   "source": [
    "#let's find the indexes of any tweets we might've missed where Fin Times introduces articles with the same description that speaks to audience not content\n",
    "\n",
    "fin_times = df_raw[df_raw['outlet'].str.contains('FinancialTimes') & (df_raw['clean'].str.contains('Hello') | df_raw['clean'].str.contains('Good morning') | df_raw['clean'].str.contains('Just published'))]\n",
    "fin_times_index = fin_times.index\n",
    "fin_times\n"
   ]
  },
  {
   "cell_type": "code",
   "execution_count": 499,
   "metadata": {},
   "outputs": [],
   "source": [
    "#change \"clean\" column of these rows to NaN\n",
    "df_raw['clean_eng'].iloc[fin_times_index] = np.nan"
   ]
  },
  {
   "cell_type": "markdown",
   "metadata": {},
   "source": [
    "Before we move onto further processing, let's fill our rows with nans and create a copy of the dataframe for manipulation later:"
   ]
  },
  {
   "cell_type": "code",
   "execution_count": 500,
   "metadata": {},
   "outputs": [],
   "source": [
    "#fill the NaNs with empty string\n",
    "df_raw = df_raw.fillna(\" \")"
   ]
  },
  {
   "cell_type": "code",
   "execution_count": 501,
   "metadata": {},
   "outputs": [],
   "source": [
    "df = df_raw.copy()"
   ]
  },
  {
   "cell_type": "code",
   "execution_count": 502,
   "metadata": {},
   "outputs": [
    {
     "data": {
      "text/plain": [
       "(200000, 7)"
      ]
     },
     "execution_count": 502,
     "metadata": {},
     "output_type": "execute_result"
    }
   ],
   "source": [
    "df.shape"
   ]
  },
  {
   "cell_type": "markdown",
   "metadata": {},
   "source": [
    "### Tagging and Lemmatizing\n",
    "\n",
    "We only want the nouns (and proper nouns) in each tweet for topic modeling, as they are the essence of article subjects. Let's tag the nouns and return the lemmatized versions of tehm in a single step.\n",
    "\n",
    "Because we also have so much data, we will incoporate the NLP pipeline in order to shorten the processing time. Tips on how to do this were found here: https://towardsdatascience.com/turbo-charge-your-spacy-nlp-pipeline-551435b664ad"
   ]
  },
  {
   "cell_type": "code",
   "execution_count": 503,
   "metadata": {},
   "outputs": [],
   "source": [
    "nlp = spacy.load('en_core_web_sm', disable=[ 'parser', 'ner'])"
   ]
  },
  {
   "cell_type": "code",
   "execution_count": 504,
   "metadata": {},
   "outputs": [],
   "source": [
    "def noun_lemmatize_pipe(doc):\n",
    "    \"\"\"\n",
    "    Takes in tweet and returns only the lemmatized version of nouns (including proper nouns).\n",
    "    \"\"\"\n",
    "    lemma_list = [token.lemma_.lower() for token in doc\n",
    "                  if token.pos_ == \"NOUN\" or token.pos_ ==\"PROPN\"] \n",
    "    return lemma_list\n",
    "\n",
    "#create a pipeline in order to shorten processing time\n",
    "def preprocess_pipe(texts):\n",
    "    \"\"\"\n",
    "    Inputs noun_lemmative_pipe function into NLP pipeline for faster processing.\n",
    "    \"\"\"\n",
    "    preproc_pipe = []\n",
    "    for doc in nlp.pipe(texts, batch_size=50):\n",
    "        preproc_pipe.append(noun_lemmatize_pipe(doc))\n",
    "    return preproc_pipe"
   ]
  },
  {
   "cell_type": "code",
   "execution_count": 505,
   "metadata": {},
   "outputs": [
    {
     "name": "stdout",
     "output_type": "stream",
     "text": [
      "CPU times: user 1min 52s, sys: 1.27 s, total: 1min 53s\n",
      "Wall time: 2min\n"
     ]
    }
   ],
   "source": [
    "%%time\n",
    "#apply function and create a new column to house the outputs\n",
    "df['clean_lemmatized'] = preprocess_pipe(df['clean_eng'])\n"
   ]
  },
  {
   "cell_type": "code",
   "execution_count": 506,
   "metadata": {
    "scrolled": true
   },
   "outputs": [
    {
     "data": {
      "text/html": [
       "<div>\n",
       "<style scoped>\n",
       "    .dataframe tbody tr th:only-of-type {\n",
       "        vertical-align: middle;\n",
       "    }\n",
       "\n",
       "    .dataframe tbody tr th {\n",
       "        vertical-align: top;\n",
       "    }\n",
       "\n",
       "    .dataframe thead th {\n",
       "        text-align: right;\n",
       "    }\n",
       "</style>\n",
       "<table border=\"1\" class=\"dataframe\">\n",
       "  <thead>\n",
       "    <tr style=\"text-align: right;\">\n",
       "      <th></th>\n",
       "      <th>content</th>\n",
       "      <th>clean_eng</th>\n",
       "      <th>clean_lemmatized</th>\n",
       "    </tr>\n",
       "  </thead>\n",
       "  <tbody>\n",
       "    <tr>\n",
       "      <th>0</th>\n",
       "      <td>The Atlantic Daily: Will this decade be the ne...</td>\n",
       "      <td>The Atlantic Daily Will this decade be the new s</td>\n",
       "      <td>[atlantic, daily, decade, s]</td>\n",
       "    </tr>\n",
       "    <tr>\n",
       "      <th>1</th>\n",
       "      <td>There's plenty that's going wrong for Trump. H...</td>\n",
       "      <td>There plenty that going wrong for Trump Here a...</td>\n",
       "      <td>[trump, thing, campaign, gap, joe, biden, report]</td>\n",
       "    </tr>\n",
       "    <tr>\n",
       "      <th>2</th>\n",
       "      <td>If Trump tries to steal the election, people w...</td>\n",
       "      <td>If Trump tries to steal the election people wi...</td>\n",
       "      <td>[trump, election, people, coup, strategy, write]</td>\n",
       "    </tr>\n",
       "  </tbody>\n",
       "</table>\n",
       "</div>"
      ],
      "text/plain": [
       "                                             content  \\\n",
       "0  The Atlantic Daily: Will this decade be the ne...   \n",
       "1  There's plenty that's going wrong for Trump. H...   \n",
       "2  If Trump tries to steal the election, people w...   \n",
       "\n",
       "                                           clean_eng  \\\n",
       "0  The Atlantic Daily Will this decade be the new s    \n",
       "1  There plenty that going wrong for Trump Here a...   \n",
       "2  If Trump tries to steal the election people wi...   \n",
       "\n",
       "                                    clean_lemmatized  \n",
       "0                       [atlantic, daily, decade, s]  \n",
       "1  [trump, thing, campaign, gap, joe, biden, report]  \n",
       "2   [trump, election, people, coup, strategy, write]  "
      ]
     },
     "execution_count": 506,
     "metadata": {},
     "output_type": "execute_result"
    }
   ],
   "source": [
    "df[['content', 'clean_eng', 'clean_lemmatized']].head(3)"
   ]
  },
  {
   "cell_type": "markdown",
   "metadata": {},
   "source": [
    "We've successfully filtered out the nouns and proper nouns, lemmitized them, while making sure our function runs on optimized time!"
   ]
  },
  {
   "cell_type": "markdown",
   "metadata": {},
   "source": [
    "### Remove Additional Words\n",
    "\n",
    "Let's filter out any additional words that may appear in the tweets but aren't related to article subjects, like the names of the publications and common headline section titles.\n",
    "\n",
    "Our removal words also include ones that have surfaced in our continuously iterative topic modeling process--any words that pop up as sigfnicant 'topic words' but do not have signficant meaning/are blanket terms will hinder our models and are thus added to this list."
   ]
  },
  {
   "cell_type": "code",
   "execution_count": 889,
   "metadata": {},
   "outputs": [],
   "source": [
    "removal_words= [\"times\", \"wall\", \"street\", \"journal\", \"new\", \"yorker\", \"york\", \"medium\", \"wired\", \"financial\", \"washington\", \"post\", \"business\", \"insider\", \"economist\", \"the\", \"atlantic\", \"daily\", \"weekly\", \"monthly\", \"week\", \"day\", \"month\", \"quarter\", \"year\", \"sponsored\", \"Breaking\", \"news\", 'way', 'page', 'edition', 'morning', 'monday', 'tuesday', 'wednesday', 'thursday','friday','saturday','sunday', 'thing', 'briefing', 'day', 'story', 'year', 'life', 'write', 'wrote', 'time', 'closer', 'look', 'opinion', 'opinions', 'looks', 'wsjwhatsnow', 'analysis', 'world', 'today', 'house', \"today's\", 'tomorrow', 'yesterday', 'question', 'questions', 'report', 'reports', 'number', 'thing', 'one', 'opinion', 'perspective']"
   ]
  },
  {
   "cell_type": "code",
   "execution_count": 890,
   "metadata": {
    "scrolled": true
   },
   "outputs": [],
   "source": [
    "df['clean_removed'] = df['clean_lemmatized'].apply(lambda x: [word for word in x if word not in removal_words])"
   ]
  },
  {
   "cell_type": "markdown",
   "metadata": {},
   "source": [
    "One last check to make sure we don't have any outstanding null values:"
   ]
  },
  {
   "cell_type": "code",
   "execution_count": 891,
   "metadata": {},
   "outputs": [
    {
     "data": {
      "text/plain": [
       "False"
      ]
     },
     "execution_count": 891,
     "metadata": {},
     "output_type": "execute_result"
    }
   ],
   "source": [
    "df.isnull().values.any()"
   ]
  },
  {
   "cell_type": "markdown",
   "metadata": {},
   "source": [
    "### Vectorize\n",
    "Now let's rejoin our twice cleaned, lemmatized list of nouns and pronouns!"
   ]
  },
  {
   "cell_type": "code",
   "execution_count": 892,
   "metadata": {},
   "outputs": [],
   "source": [
    "df['clean_final'] = df['clean_removed'].apply(lambda x: ' '.join(x))"
   ]
  },
  {
   "cell_type": "code",
   "execution_count": 893,
   "metadata": {
    "scrolled": true
   },
   "outputs": [
    {
     "data": {
      "text/html": [
       "<div>\n",
       "<style scoped>\n",
       "    .dataframe tbody tr th:only-of-type {\n",
       "        vertical-align: middle;\n",
       "    }\n",
       "\n",
       "    .dataframe tbody tr th {\n",
       "        vertical-align: top;\n",
       "    }\n",
       "\n",
       "    .dataframe thead th {\n",
       "        text-align: right;\n",
       "    }\n",
       "</style>\n",
       "<table border=\"1\" class=\"dataframe\">\n",
       "  <thead>\n",
       "    <tr style=\"text-align: right;\">\n",
       "      <th></th>\n",
       "      <th>content</th>\n",
       "      <th>clean_eng</th>\n",
       "      <th>clean_lemmatized</th>\n",
       "      <th>clean_removed</th>\n",
       "      <th>clean_final</th>\n",
       "    </tr>\n",
       "  </thead>\n",
       "  <tbody>\n",
       "    <tr>\n",
       "      <th>0</th>\n",
       "      <td>The Atlantic Daily: Will this decade be the ne...</td>\n",
       "      <td>The Atlantic Daily Will this decade be the new s</td>\n",
       "      <td>[atlantic, daily, decade, s]</td>\n",
       "      <td>[decade, s]</td>\n",
       "      <td>decade s</td>\n",
       "    </tr>\n",
       "    <tr>\n",
       "      <th>1</th>\n",
       "      <td>There's plenty that's going wrong for Trump. H...</td>\n",
       "      <td>There plenty that going wrong for Trump Here a...</td>\n",
       "      <td>[trump, thing, campaign, gap, joe, biden, report]</td>\n",
       "      <td>[trump, campaign, gap, joe, biden]</td>\n",
       "      <td>trump campaign gap joe biden</td>\n",
       "    </tr>\n",
       "    <tr>\n",
       "      <th>2</th>\n",
       "      <td>If Trump tries to steal the election, people w...</td>\n",
       "      <td>If Trump tries to steal the election people wi...</td>\n",
       "      <td>[trump, election, people, coup, strategy, write]</td>\n",
       "      <td>[trump, election, people, coup, strategy]</td>\n",
       "      <td>trump election people coup strategy</td>\n",
       "    </tr>\n",
       "  </tbody>\n",
       "</table>\n",
       "</div>"
      ],
      "text/plain": [
       "                                             content  \\\n",
       "0  The Atlantic Daily: Will this decade be the ne...   \n",
       "1  There's plenty that's going wrong for Trump. H...   \n",
       "2  If Trump tries to steal the election, people w...   \n",
       "\n",
       "                                           clean_eng  \\\n",
       "0  The Atlantic Daily Will this decade be the new s    \n",
       "1  There plenty that going wrong for Trump Here a...   \n",
       "2  If Trump tries to steal the election people wi...   \n",
       "\n",
       "                                    clean_lemmatized  \\\n",
       "0                       [atlantic, daily, decade, s]   \n",
       "1  [trump, thing, campaign, gap, joe, biden, report]   \n",
       "2   [trump, election, people, coup, strategy, write]   \n",
       "\n",
       "                               clean_removed  \\\n",
       "0                                [decade, s]   \n",
       "1         [trump, campaign, gap, joe, biden]   \n",
       "2  [trump, election, people, coup, strategy]   \n",
       "\n",
       "                           clean_final  \n",
       "0                             decade s  \n",
       "1         trump campaign gap joe biden  \n",
       "2  trump election people coup strategy  "
      ]
     },
     "execution_count": 893,
     "metadata": {},
     "output_type": "execute_result"
    }
   ],
   "source": [
    "df[['content', 'clean_eng', 'clean_lemmatized', 'clean_removed', 'clean_final']].head(3)"
   ]
  },
  {
   "cell_type": "markdown",
   "metadata": {},
   "source": [
    "We will be using TFID Vectorizer as opposed to Count Vectorizer, so we can give equal weight to rare words. Because our focus is on nouns and pronouns, rare words are likely to be just as, if not more impactful, as words that are frequently used. \n",
    "\n",
    "We'll also be using some of the built in parameters in the TFID Vectorizer as last checks before we output our doc-term matrix. "
   ]
  },
  {
   "cell_type": "markdown",
   "metadata": {},
   "source": [
    "We'll be adding a few stopwords specific to our dataset:"
   ]
  },
  {
   "cell_type": "code",
   "execution_count": 1047,
   "metadata": {},
   "outputs": [],
   "source": [
    "stopwords = nltk.corpus.stopwords.words('english')\n",
    "newStopWords = ['worker', 'coronavirus', 'virus', 'covid', 'president', 'death',\n",
    "                'american', 'americans', \"america's\", 'america', \"american's\", 'government', \n",
    "            'governments', 'city', 'country', 'state', 'us', 'official', 'crisis', 'mask', 'people']\n",
    "stopwords.extend(newStopWords)"
   ]
  },
  {
   "cell_type": "code",
   "execution_count": 1048,
   "metadata": {},
   "outputs": [],
   "source": [
    "#define vectorizer and set parameters in order to standardize everything to lowercase, remove any stop words, and remove any word that appears below 0.005%, about 10 times, and max of more than 30%.\n",
    "tfidf = TfidfVectorizer(lowercase = True, stop_words= stopwords, min_df = 0.00005, max_df = 0.30)\n",
    "#fit on fully cleaned dataframe column\n",
    "doc_term_matrix = tfidf.fit_transform(df['clean_final'])\n",
    "#turn matrix into a dataframe with words as columns\n",
    "matrix_df = pd.DataFrame(doc_term_matrix.toarray(), columns=tfidf.get_feature_names())"
   ]
  },
  {
   "cell_type": "code",
   "execution_count": 1049,
   "metadata": {},
   "outputs": [
    {
     "data": {
      "text/html": [
       "<div>\n",
       "<style scoped>\n",
       "    .dataframe tbody tr th:only-of-type {\n",
       "        vertical-align: middle;\n",
       "    }\n",
       "\n",
       "    .dataframe tbody tr th {\n",
       "        vertical-align: top;\n",
       "    }\n",
       "\n",
       "    .dataframe thead th {\n",
       "        text-align: right;\n",
       "    }\n",
       "</style>\n",
       "<table border=\"1\" class=\"dataframe\">\n",
       "  <thead>\n",
       "    <tr style=\"text-align: right;\">\n",
       "      <th></th>\n",
       "      <th>aaron</th>\n",
       "      <th>ab</th>\n",
       "      <th>abbey</th>\n",
       "      <th>abbott</th>\n",
       "      <th>abby</th>\n",
       "      <th>abc</th>\n",
       "      <th>abe</th>\n",
       "      <th>abigail</th>\n",
       "      <th>ability</th>\n",
       "      <th>abiy</th>\n",
       "      <th>...</th>\n",
       "      <th>zhiqiang</th>\n",
       "      <th>zimbabwe</th>\n",
       "      <th>zip</th>\n",
       "      <th>zombie</th>\n",
       "      <th>zone</th>\n",
       "      <th>zoo</th>\n",
       "      <th>zoological</th>\n",
       "      <th>zoom</th>\n",
       "      <th>zora</th>\n",
       "      <th>zuckerberg</th>\n",
       "    </tr>\n",
       "  </thead>\n",
       "  <tbody>\n",
       "    <tr>\n",
       "      <th>0</th>\n",
       "      <td>0.0</td>\n",
       "      <td>0.0</td>\n",
       "      <td>0.0</td>\n",
       "      <td>0.0</td>\n",
       "      <td>0.0</td>\n",
       "      <td>0.0</td>\n",
       "      <td>0.0</td>\n",
       "      <td>0.0</td>\n",
       "      <td>0.0</td>\n",
       "      <td>0.0</td>\n",
       "      <td>...</td>\n",
       "      <td>0.0</td>\n",
       "      <td>0.0</td>\n",
       "      <td>0.0</td>\n",
       "      <td>0.0</td>\n",
       "      <td>0.0</td>\n",
       "      <td>0.0</td>\n",
       "      <td>0.0</td>\n",
       "      <td>0.0</td>\n",
       "      <td>0.0</td>\n",
       "      <td>0.0</td>\n",
       "    </tr>\n",
       "    <tr>\n",
       "      <th>1</th>\n",
       "      <td>0.0</td>\n",
       "      <td>0.0</td>\n",
       "      <td>0.0</td>\n",
       "      <td>0.0</td>\n",
       "      <td>0.0</td>\n",
       "      <td>0.0</td>\n",
       "      <td>0.0</td>\n",
       "      <td>0.0</td>\n",
       "      <td>0.0</td>\n",
       "      <td>0.0</td>\n",
       "      <td>...</td>\n",
       "      <td>0.0</td>\n",
       "      <td>0.0</td>\n",
       "      <td>0.0</td>\n",
       "      <td>0.0</td>\n",
       "      <td>0.0</td>\n",
       "      <td>0.0</td>\n",
       "      <td>0.0</td>\n",
       "      <td>0.0</td>\n",
       "      <td>0.0</td>\n",
       "      <td>0.0</td>\n",
       "    </tr>\n",
       "    <tr>\n",
       "      <th>2</th>\n",
       "      <td>0.0</td>\n",
       "      <td>0.0</td>\n",
       "      <td>0.0</td>\n",
       "      <td>0.0</td>\n",
       "      <td>0.0</td>\n",
       "      <td>0.0</td>\n",
       "      <td>0.0</td>\n",
       "      <td>0.0</td>\n",
       "      <td>0.0</td>\n",
       "      <td>0.0</td>\n",
       "      <td>...</td>\n",
       "      <td>0.0</td>\n",
       "      <td>0.0</td>\n",
       "      <td>0.0</td>\n",
       "      <td>0.0</td>\n",
       "      <td>0.0</td>\n",
       "      <td>0.0</td>\n",
       "      <td>0.0</td>\n",
       "      <td>0.0</td>\n",
       "      <td>0.0</td>\n",
       "      <td>0.0</td>\n",
       "    </tr>\n",
       "    <tr>\n",
       "      <th>3</th>\n",
       "      <td>0.0</td>\n",
       "      <td>0.0</td>\n",
       "      <td>0.0</td>\n",
       "      <td>0.0</td>\n",
       "      <td>0.0</td>\n",
       "      <td>0.0</td>\n",
       "      <td>0.0</td>\n",
       "      <td>0.0</td>\n",
       "      <td>0.0</td>\n",
       "      <td>0.0</td>\n",
       "      <td>...</td>\n",
       "      <td>0.0</td>\n",
       "      <td>0.0</td>\n",
       "      <td>0.0</td>\n",
       "      <td>0.0</td>\n",
       "      <td>0.0</td>\n",
       "      <td>0.0</td>\n",
       "      <td>0.0</td>\n",
       "      <td>0.0</td>\n",
       "      <td>0.0</td>\n",
       "      <td>0.0</td>\n",
       "    </tr>\n",
       "    <tr>\n",
       "      <th>4</th>\n",
       "      <td>0.0</td>\n",
       "      <td>0.0</td>\n",
       "      <td>0.0</td>\n",
       "      <td>0.0</td>\n",
       "      <td>0.0</td>\n",
       "      <td>0.0</td>\n",
       "      <td>0.0</td>\n",
       "      <td>0.0</td>\n",
       "      <td>0.0</td>\n",
       "      <td>0.0</td>\n",
       "      <td>...</td>\n",
       "      <td>0.0</td>\n",
       "      <td>0.0</td>\n",
       "      <td>0.0</td>\n",
       "      <td>0.0</td>\n",
       "      <td>0.0</td>\n",
       "      <td>0.0</td>\n",
       "      <td>0.0</td>\n",
       "      <td>0.0</td>\n",
       "      <td>0.0</td>\n",
       "      <td>0.0</td>\n",
       "    </tr>\n",
       "    <tr>\n",
       "      <th>...</th>\n",
       "      <td>...</td>\n",
       "      <td>...</td>\n",
       "      <td>...</td>\n",
       "      <td>...</td>\n",
       "      <td>...</td>\n",
       "      <td>...</td>\n",
       "      <td>...</td>\n",
       "      <td>...</td>\n",
       "      <td>...</td>\n",
       "      <td>...</td>\n",
       "      <td>...</td>\n",
       "      <td>...</td>\n",
       "      <td>...</td>\n",
       "      <td>...</td>\n",
       "      <td>...</td>\n",
       "      <td>...</td>\n",
       "      <td>...</td>\n",
       "      <td>...</td>\n",
       "      <td>...</td>\n",
       "      <td>...</td>\n",
       "      <td>...</td>\n",
       "    </tr>\n",
       "    <tr>\n",
       "      <th>199995</th>\n",
       "      <td>0.0</td>\n",
       "      <td>0.0</td>\n",
       "      <td>0.0</td>\n",
       "      <td>0.0</td>\n",
       "      <td>0.0</td>\n",
       "      <td>0.0</td>\n",
       "      <td>0.0</td>\n",
       "      <td>0.0</td>\n",
       "      <td>0.0</td>\n",
       "      <td>0.0</td>\n",
       "      <td>...</td>\n",
       "      <td>0.0</td>\n",
       "      <td>0.0</td>\n",
       "      <td>0.0</td>\n",
       "      <td>0.0</td>\n",
       "      <td>0.0</td>\n",
       "      <td>0.0</td>\n",
       "      <td>0.0</td>\n",
       "      <td>0.0</td>\n",
       "      <td>0.0</td>\n",
       "      <td>0.0</td>\n",
       "    </tr>\n",
       "    <tr>\n",
       "      <th>199996</th>\n",
       "      <td>0.0</td>\n",
       "      <td>0.0</td>\n",
       "      <td>0.0</td>\n",
       "      <td>0.0</td>\n",
       "      <td>0.0</td>\n",
       "      <td>0.0</td>\n",
       "      <td>0.0</td>\n",
       "      <td>0.0</td>\n",
       "      <td>0.0</td>\n",
       "      <td>0.0</td>\n",
       "      <td>...</td>\n",
       "      <td>0.0</td>\n",
       "      <td>0.0</td>\n",
       "      <td>0.0</td>\n",
       "      <td>0.0</td>\n",
       "      <td>0.0</td>\n",
       "      <td>0.0</td>\n",
       "      <td>0.0</td>\n",
       "      <td>0.0</td>\n",
       "      <td>0.0</td>\n",
       "      <td>0.0</td>\n",
       "    </tr>\n",
       "    <tr>\n",
       "      <th>199997</th>\n",
       "      <td>0.0</td>\n",
       "      <td>0.0</td>\n",
       "      <td>0.0</td>\n",
       "      <td>0.0</td>\n",
       "      <td>0.0</td>\n",
       "      <td>0.0</td>\n",
       "      <td>0.0</td>\n",
       "      <td>0.0</td>\n",
       "      <td>0.0</td>\n",
       "      <td>0.0</td>\n",
       "      <td>...</td>\n",
       "      <td>0.0</td>\n",
       "      <td>0.0</td>\n",
       "      <td>0.0</td>\n",
       "      <td>0.0</td>\n",
       "      <td>0.0</td>\n",
       "      <td>0.0</td>\n",
       "      <td>0.0</td>\n",
       "      <td>0.0</td>\n",
       "      <td>0.0</td>\n",
       "      <td>0.0</td>\n",
       "    </tr>\n",
       "    <tr>\n",
       "      <th>199998</th>\n",
       "      <td>0.0</td>\n",
       "      <td>0.0</td>\n",
       "      <td>0.0</td>\n",
       "      <td>0.0</td>\n",
       "      <td>0.0</td>\n",
       "      <td>0.0</td>\n",
       "      <td>0.0</td>\n",
       "      <td>0.0</td>\n",
       "      <td>0.0</td>\n",
       "      <td>0.0</td>\n",
       "      <td>...</td>\n",
       "      <td>0.0</td>\n",
       "      <td>0.0</td>\n",
       "      <td>0.0</td>\n",
       "      <td>0.0</td>\n",
       "      <td>0.0</td>\n",
       "      <td>0.0</td>\n",
       "      <td>0.0</td>\n",
       "      <td>0.0</td>\n",
       "      <td>0.0</td>\n",
       "      <td>0.0</td>\n",
       "    </tr>\n",
       "    <tr>\n",
       "      <th>199999</th>\n",
       "      <td>0.0</td>\n",
       "      <td>0.0</td>\n",
       "      <td>0.0</td>\n",
       "      <td>0.0</td>\n",
       "      <td>0.0</td>\n",
       "      <td>0.0</td>\n",
       "      <td>0.0</td>\n",
       "      <td>0.0</td>\n",
       "      <td>0.0</td>\n",
       "      <td>0.0</td>\n",
       "      <td>...</td>\n",
       "      <td>0.0</td>\n",
       "      <td>0.0</td>\n",
       "      <td>0.0</td>\n",
       "      <td>0.0</td>\n",
       "      <td>0.0</td>\n",
       "      <td>0.0</td>\n",
       "      <td>0.0</td>\n",
       "      <td>0.0</td>\n",
       "      <td>0.0</td>\n",
       "      <td>0.0</td>\n",
       "    </tr>\n",
       "  </tbody>\n",
       "</table>\n",
       "<p>200000 rows × 8851 columns</p>\n",
       "</div>"
      ],
      "text/plain": [
       "        aaron   ab  abbey  abbott  abby  abc  abe  abigail  ability  abiy  \\\n",
       "0         0.0  0.0    0.0     0.0   0.0  0.0  0.0      0.0      0.0   0.0   \n",
       "1         0.0  0.0    0.0     0.0   0.0  0.0  0.0      0.0      0.0   0.0   \n",
       "2         0.0  0.0    0.0     0.0   0.0  0.0  0.0      0.0      0.0   0.0   \n",
       "3         0.0  0.0    0.0     0.0   0.0  0.0  0.0      0.0      0.0   0.0   \n",
       "4         0.0  0.0    0.0     0.0   0.0  0.0  0.0      0.0      0.0   0.0   \n",
       "...       ...  ...    ...     ...   ...  ...  ...      ...      ...   ...   \n",
       "199995    0.0  0.0    0.0     0.0   0.0  0.0  0.0      0.0      0.0   0.0   \n",
       "199996    0.0  0.0    0.0     0.0   0.0  0.0  0.0      0.0      0.0   0.0   \n",
       "199997    0.0  0.0    0.0     0.0   0.0  0.0  0.0      0.0      0.0   0.0   \n",
       "199998    0.0  0.0    0.0     0.0   0.0  0.0  0.0      0.0      0.0   0.0   \n",
       "199999    0.0  0.0    0.0     0.0   0.0  0.0  0.0      0.0      0.0   0.0   \n",
       "\n",
       "        ...  zhiqiang  zimbabwe  zip  zombie  zone  zoo  zoological  zoom  \\\n",
       "0       ...       0.0       0.0  0.0     0.0   0.0  0.0         0.0   0.0   \n",
       "1       ...       0.0       0.0  0.0     0.0   0.0  0.0         0.0   0.0   \n",
       "2       ...       0.0       0.0  0.0     0.0   0.0  0.0         0.0   0.0   \n",
       "3       ...       0.0       0.0  0.0     0.0   0.0  0.0         0.0   0.0   \n",
       "4       ...       0.0       0.0  0.0     0.0   0.0  0.0         0.0   0.0   \n",
       "...     ...       ...       ...  ...     ...   ...  ...         ...   ...   \n",
       "199995  ...       0.0       0.0  0.0     0.0   0.0  0.0         0.0   0.0   \n",
       "199996  ...       0.0       0.0  0.0     0.0   0.0  0.0         0.0   0.0   \n",
       "199997  ...       0.0       0.0  0.0     0.0   0.0  0.0         0.0   0.0   \n",
       "199998  ...       0.0       0.0  0.0     0.0   0.0  0.0         0.0   0.0   \n",
       "199999  ...       0.0       0.0  0.0     0.0   0.0  0.0         0.0   0.0   \n",
       "\n",
       "        zora  zuckerberg  \n",
       "0        0.0         0.0  \n",
       "1        0.0         0.0  \n",
       "2        0.0         0.0  \n",
       "3        0.0         0.0  \n",
       "4        0.0         0.0  \n",
       "...      ...         ...  \n",
       "199995   0.0         0.0  \n",
       "199996   0.0         0.0  \n",
       "199997   0.0         0.0  \n",
       "199998   0.0         0.0  \n",
       "199999   0.0         0.0  \n",
       "\n",
       "[200000 rows x 8851 columns]"
      ]
     },
     "execution_count": 1049,
     "metadata": {},
     "output_type": "execute_result"
    }
   ],
   "source": [
    "matrix_df"
   ]
  },
  {
   "cell_type": "markdown",
   "metadata": {},
   "source": [
    "Our doc-term matrix looks great! We have fully cleaned out all special characters and foreign language. We have extracted the nouns and pronouns in their lemmatized forms. Now we can topic model!\n"
   ]
  },
  {
   "cell_type": "markdown",
   "metadata": {},
   "source": [
    "## VISUALIZATON\n",
    "\n",
    "Before we topic model, let's visualize our word frequency from our final doc term matrix using a word cloud!"
   ]
  },
  {
   "cell_type": "code",
   "execution_count": 710,
   "metadata": {
    "scrolled": false
   },
   "outputs": [
    {
     "data": {
      "image/png": "[encoded data removed]",
      "text/plain": [
       "<Figure size 576x576 with 1 Axes>"
      ]
     },
     "metadata": {
      "needs_background": "light"
     },
     "output_type": "display_data"
    }
   ],
   "source": [
    "clean_words = ' '.join([doc for doc in df['clean_final']])\n",
    "\n",
    "wordcloud = WordCloud(width = 900, height = 700, \n",
    "                background_color ='black', \n",
    "                min_font_size = 10).generate(clean_words) \n",
    "  \n",
    "# plot word cloud                        \n",
    "plt.figure(figsize = (8, 8), facecolor = None) \n",
    "plt.imshow(wordcloud) \n",
    "plt.axis(\"off\") \n",
    "plt.tight_layout(pad = 0) \n",
    "plt.savefig('wordcloud.png', dpi=300)"
   ]
  },
  {
   "cell_type": "markdown",
   "metadata": {},
   "source": [
    "Our most commonly occuring word is \"people.\" Let's see how many times it appears (which should be under 30% of the entire corpus due to the maximum_df we set during vectorization)."
   ]
  },
  {
   "cell_type": "code",
   "execution_count": 393,
   "metadata": {},
   "outputs": [
    {
     "name": "stdout",
     "output_type": "stream",
     "text": [
      "8234\n"
     ]
    }
   ],
   "source": [
    "#how many times does our top word appear?\n",
    "counter = 0\n",
    "for word in df['clean_final']:\n",
    "    if \"people\" in word:\n",
    "        counter = counter +1\n",
    "print(counter)"
   ]
  },
  {
   "cell_type": "markdown",
   "metadata": {},
   "source": [
    "That looks good. We can now move on to..."
   ]
  },
  {
   "cell_type": "markdown",
   "metadata": {},
   "source": [
    "## TOPIC MODELING\n",
    "In the second section of this notebook, we will be topic modeling."
   ]
  },
  {
   "cell_type": "markdown",
   "metadata": {},
   "source": [
    "### LSA"
   ]
  },
  {
   "cell_type": "code",
   "execution_count": 970,
   "metadata": {},
   "outputs": [],
   "source": [
    "lsa = TruncatedSVD(30)\n",
    "doc_topic = lsa.fit_transform(doc_term_matrix)"
   ]
  },
  {
   "cell_type": "code",
   "execution_count": 686,
   "metadata": {},
   "outputs": [],
   "source": [
    "def display_topics(model, feature_names, no_top_words, topic_names=None):\n",
    "    for idx, topic in enumerate(model.components_):\n",
    "        if not topic_names or not topic_names[idx]:\n",
    "            print(\"\\nTopic \", idx)\n",
    "        else:\n",
    "            print(\"\\nTopic: '\",topic_names[idx],\"'\")\n",
    "        print(\", \".join([feature_names[i]\n",
    "                        for i in topic.argsort()[:-no_top_words - 1:-1]]))"
   ]
  },
  {
   "cell_type": "code",
   "execution_count": 971,
   "metadata": {
    "scrolled": true
   },
   "outputs": [
    {
     "name": "stdout",
     "output_type": "stream",
     "text": [
      "\n",
      "Topic  0\n",
      "trump, people, pandemic, donald, biden, joe, election, case, china, company\n",
      "\n",
      "Topic  1\n",
      "people, pandemic, home, company, case, health, china, work, job, economy\n",
      "\n",
      "Topic  2\n",
      "pandemic, company, economy, china, market, stock, job, health, case, school\n",
      "\n",
      "Topic  3\n",
      "case, company, china, market, stock, election, tech, hong, kong, economy\n",
      "\n",
      "Topic  4\n",
      "biden, joe, election, campaign, debate, company, voter, woman, harris, party\n",
      "\n",
      "Topic  5\n",
      "case, biden, joe, pandemic, court, debate, infection, campaign, supreme, florida\n",
      "\n",
      "Topic  6\n",
      "china, hong, kong, economy, beijing, law, outbreak, trade, war, security\n",
      "\n",
      "Topic  7\n",
      "election, court, supreme, ballot, voter, uk, voting, johnson, november, party\n",
      "\n",
      "Topic  8\n",
      "woman, home, police, man, school, health, child, family, protest, work\n",
      "\n",
      "Topic  9\n",
      "market, stock, economy, home, investor, job, health, uk, lockdown, price\n",
      "\n",
      "Topic  10\n",
      "home, health, school, election, child, china, care, student, company, vaccine\n",
      "\n",
      "Topic  11\n",
      "home, market, case, stock, woman, china, election, court, man, police\n",
      "\n",
      "Topic  12\n",
      "court, supreme, justice, barrett, amy, coney, school, market, ginsburg, home\n",
      "\n",
      "Topic  13\n",
      "woman, economy, china, job, home, work, election, company, outbreak, court\n",
      "\n",
      "Topic  14\n",
      "economy, job, uk, johnson, school, boris, lockdown, police, money, rate\n",
      "\n",
      "Topic  15\n",
      "school, student, child, parent, college, kid, teacher, stock, woman, fall\n",
      "\n",
      "Topic  16\n",
      "johnson, boris, uk, deal, brexit, britain, change, minister, eu, climate\n",
      "\n",
      "Topic  17\n",
      "change, climate, job, facebook, apple, datum, google, work, app, book\n",
      "\n",
      "Topic  18\n",
      "job, work, hong, kong, health, market, law, unemployment, company, security\n",
      "\n",
      "Topic  19\n",
      "change, climate, company, vaccine, police, china, debate, car, johnson, stock\n",
      "\n",
      "Topic  20\n",
      "hong, kong, change, climate, law, economy, woman, security, work, beijing\n",
      "\n",
      "Topic  21\n",
      "work, family, car, child, office, future, outbreak, tech, power, war\n",
      "\n",
      "Topic  22\n",
      "vaccine, trial, hong, kong, race, plan, money, job, car, tech\n",
      "\n",
      "Topic  23\n",
      "money, lockdown, rate, book, bank, datum, outbreak, service, family, history\n",
      "\n",
      "Topic  24\n",
      "car, man, child, book, history, part, lockdown, datum, outbreak, game\n",
      "\n",
      "Topic  25\n",
      "facebook, child, money, family, campaign, debate, market, uk, lockdown, change\n",
      "\n",
      "Topic  26\n",
      "tech, debate, child, man, family, plan, book, stock, democrats, republicans\n",
      "\n",
      "Topic  27\n",
      "history, book, outbreak, facebook, expert, white, lockdown, protest, market, biden\n",
      "\n",
      "Topic  28\n",
      "apple, lockdown, family, plan, white, bank, rate, tech, administration, infection\n",
      "\n",
      "Topic  29\n",
      "plan, facebook, white, child, lockdown, leader, united, states, policy, expert\n"
     ]
    }
   ],
   "source": [
    "display_topics(lsa, tfidf.get_feature_names(), 10)"
   ]
  },
  {
   "cell_type": "markdown",
   "metadata": {},
   "source": [
    "We see a lot of words repeated across categories, so let's try another model--NMF"
   ]
  },
  {
   "cell_type": "markdown",
   "metadata": {},
   "source": [
    "### NMF\n",
    "\n",
    "NMF works very well for our dataset and it is the model we will be sticking to for topic modeling!\n",
    "\n",
    "After a few iterations, going back and forth in the process of cleaning and using NMF to model topics, I've selected 26 topics as my optimal number. \n",
    "\n",
    "After testing NMF for 10, 20, 25, then 30 topics, 26 topics met our expectation of nuance while also being as concise enough. It is a large number, but the topics easily fit into themes, so it is not a concern."
   ]
  },
  {
   "cell_type": "code",
   "execution_count": 1058,
   "metadata": {},
   "outputs": [],
   "source": [
    "nmf = NMF(26, max_iter = 500)\n",
    "doc_topic = nmf.fit_transform(doc_term_matrix)"
   ]
  },
  {
   "cell_type": "code",
   "execution_count": 1059,
   "metadata": {
    "scrolled": true
   },
   "outputs": [
    {
     "name": "stdout",
     "output_type": "stream",
     "text": [
      "\n",
      "Topic  0\n",
      "trump, donald, administration, white, campaign, impeachment, republicans, poll, reelection, rally\n",
      "\n",
      "Topic  1\n",
      "pandemic, response, sale, industry, toll, travel, food, restaurant, demand, million\n",
      "\n",
      "Topic  2\n",
      "company, employee, tech, ceo, executive, technology, office, product, startup, share\n",
      "\n",
      "Topic  3\n",
      "biden, joe, debate, campaign, voter, harris, poll, kamala, bernie, sanders\n",
      "\n",
      "Topic  4\n",
      "case, infection, outbreak, surge, florida, toll, record, rate, update, lockdown\n",
      "\n",
      "Topic  5\n",
      "china, outbreak, trade, war, beijing, india, tension, wuhan, administration, taiwan\n",
      "\n",
      "Topic  6\n",
      "election, voter, ballot, november, voting, result, campaign, mail, vote, poll\n",
      "\n",
      "Topic  7\n",
      "home, nursing, office, resident, sale, tip, lockdown, place, employee, california\n",
      "\n",
      "Topic  8\n",
      "market, stock, investor, price, tech, oil, share, future, bank, rally\n",
      "\n",
      "Topic  9\n",
      "police, protest, officer, george, floyd, man, protester, violence, department, video\n",
      "\n",
      "Topic  10\n",
      "health, expert, care, system, risk, hospital, patient, doctor, organization, outbreak\n",
      "\n",
      "Topic  11\n",
      "court, supreme, justice, barrett, amy, coney, ginsburg, bader, ruth, judge\n",
      "\n",
      "Topic  12\n",
      "woman, man, color, right, harris, group, kamala, mother, gender, abortion\n",
      "\n",
      "Topic  13\n",
      "economy, rate, lockdown, unemployment, recession, recovery, record, growth, bank, stimulus\n",
      "\n",
      "Topic  14\n",
      "school, student, college, teacher, fall, university, kid, class, plan, parent\n",
      "\n",
      "Topic  15\n",
      "johnson, uk, boris, britain, brexit, minister, lockdown, deal, eu, prime\n",
      "\n",
      "Topic  16\n",
      "facebook, apple, google, tech, app, amazon, datum, twitter, tiktok, user\n",
      "\n",
      "Topic  17\n",
      "job, unemployment, loss, rate, benefit, industry, million, interview, part, employee\n",
      "\n",
      "Topic  18\n",
      "change, climate, scientist, problem, policy, issue, risk, california, wildfire, impact\n",
      "\n",
      "Topic  19\n",
      "hong, kong, law, security, beijing, protest, prodemocracy, nationalsecurity, protester, territory\n",
      "\n",
      "Topic  20\n",
      "work, office, employee, art, artist, test, culture, million, writer, problem\n",
      "\n",
      "Topic  21\n",
      "vaccine, trial, race, scientist, drug, result, study, expert, treatment, moderna\n",
      "\n",
      "Topic  22\n",
      "history, power, book, leader, party, white, future, place, part, moment\n",
      "\n",
      "Topic  23\n",
      "child, family, parent, kid, friend, adult, doctor, mother, member, risk\n",
      "\n",
      "Topic  24\n",
      "car, tesla, part, vehicle, elon, model, musk, sport, future, sale\n",
      "\n",
      "Topic  25\n",
      "money, bank, campaign, talks, rate, plan, fund, lot, food, loan\n"
     ]
    }
   ],
   "source": [
    "display_topics(nmf, tfidf.get_feature_names(), 10)"
   ]
  },
  {
   "cell_type": "markdown",
   "metadata": {},
   "source": [
    "NMF works better than LSA. It has been a feedback loop of topic modeling and cleaning, but I feel good about these results. They look very clean. Let's try to have more topics, because that will make the topics themselves more precise, and let's take a look at the specific tweets as well."
   ]
  },
  {
   "cell_type": "markdown",
   "metadata": {},
   "source": [
    "### NMF Topic Interpretation\n",
    "\n",
    "Now that I've decided on NMF, I will be going through an interative process of interpreting and optimizing our topics. \n",
    "\n",
    "I'll be interpreting the top words and top tweets of each topic, going down the list of 30, then jotting down any words I need to add to our removal list, adding those words, vectorizing again, and then going through this topic interpretation workflow again, until I am happy with the topics. I will not be displaying the results of each optimization iteration--only the final results:"
   ]
  },
  {
   "cell_type": "code",
   "execution_count": 1060,
   "metadata": {},
   "outputs": [],
   "source": [
    "tweet_topic_matrix = nmf.fit_transform(doc_term_matrix)\n",
    "tweet_topic_matrix_df = pd.DataFrame(tweet_topic_matrix).add_prefix('topic_')\n"
   ]
  },
  {
   "cell_type": "code",
   "execution_count": 1148,
   "metadata": {},
   "outputs": [],
   "source": [
    "#pickle out tweet topic matrix dataframe\n",
    "tweet_topic_matrix_df.to_pickle('tweet_topic_matrix_df.pickle')"
   ]
  },
  {
   "cell_type": "code",
   "execution_count": 1061,
   "metadata": {},
   "outputs": [
    {
     "data": {
      "text/plain": [
       "(200000, 26)"
      ]
     },
     "execution_count": 1061,
     "metadata": {},
     "output_type": "execute_result"
    }
   ],
   "source": [
    "tweet_topic_matrix.shape"
   ]
  },
  {
   "cell_type": "code",
   "execution_count": 1146,
   "metadata": {},
   "outputs": [],
   "source": [
    "tweet_topic_matrix_df[['outlet','content', 'clean_final']] = df[['outlet', 'content', 'clean_final']]"
   ]
  },
  {
   "cell_type": "code",
   "execution_count": 1147,
   "metadata": {},
   "outputs": [
    {
     "data": {
      "text/plain": [
       "(200000, 29)"
      ]
     },
     "execution_count": 1147,
     "metadata": {},
     "output_type": "execute_result"
    }
   ],
   "source": [
    "tweet_topic_matrix_df.shape"
   ]
  },
  {
   "cell_type": "code",
   "execution_count": 1064,
   "metadata": {},
   "outputs": [],
   "source": [
    "word_topic_matrix_df = pd.DataFrame(nmf.components_, columns=tfidf.get_feature_names()).T.add_prefix('topic_')\n"
   ]
  },
  {
   "cell_type": "code",
   "execution_count": 1128,
   "metadata": {},
   "outputs": [],
   "source": [
    "#pickle our word topic dataframe\n",
    "word_topic_matrix_df.to_pickle('word_topic_matrix_df.pickle')"
   ]
  },
  {
   "cell_type": "code",
   "execution_count": 1065,
   "metadata": {},
   "outputs": [
    {
     "data": {
      "text/plain": [
       "(8851, 26)"
      ]
     },
     "execution_count": 1065,
     "metadata": {},
     "output_type": "execute_result"
    }
   ],
   "source": [
    "word_topic_matrix_df.shape"
   ]
  },
  {
   "cell_type": "code",
   "execution_count": 981,
   "metadata": {},
   "outputs": [],
   "source": [
    "def top_tweets(tweet_topic_matrix_df, topic, n_tweets):\n",
    "    \"\"\"\n",
    "    \"\"\"\n",
    "    return (tweet_topic_matrix_df\n",
    "            .sort_values(by=topic, ascending=False)\n",
    "            .head(n_tweets)['content']\n",
    "            .values)\n",
    "\n",
    "def top_words(word_topic_matrix_df, topic, n_words):\n",
    "    \"\"\"\n",
    "    \"\"\"\n",
    "    return (word_topic_matrix_df\n",
    "            .sort_values(by=topic, ascending=False)\n",
    "            .head(n_words))[topic]\n",
    "\n",
    "\n"
   ]
  },
  {
   "cell_type": "markdown",
   "metadata": {},
   "source": [
    "#### Topic 1: Trump"
   ]
  },
  {
   "cell_type": "code",
   "execution_count": 1066,
   "metadata": {},
   "outputs": [
    {
     "data": {
      "text/plain": [
       "trump             6.504658\n",
       "donald            2.035211\n",
       "administration    0.464550\n",
       "white             0.414955\n",
       "campaign          0.236943\n",
       "impeachment       0.213118\n",
       "republicans       0.195825\n",
       "reelection        0.154541\n",
       "poll              0.152163\n",
       "democrats         0.149445\n",
       "Name: topic_0, dtype: float64"
      ]
     },
     "execution_count": 1066,
     "metadata": {},
     "output_type": "execute_result"
    }
   ],
   "source": [
    "top_words(word_topic_matrix_df, 'topic_0', 10)"
   ]
  },
  {
   "cell_type": "code",
   "execution_count": 1149,
   "metadata": {},
   "outputs": [
    {
     "data": {
      "text/plain": [
       "array(['Here’s what we know so far about where President Trump traveled and the people he met in the days before he tested positive. https://t.co/pXKYNIA2FX',\n",
       "       'Analysis: Why Trump is losing https://t.co/MMSYZwRbvS',\n",
       "       'Opinion: Even whites — except the right-wing media profiteers — are abandoning Trump https://t.co/PoPN6sl7G2',\n",
       "       'Opinion: It is easy to explain why Trump is losing https://t.co/dK4x9dc6LH',\n",
       "       'Analysis: Trump claims nothing more could have been done to defeat the coronavirus. He’s wrong. https://t.co/pw7n38oCWw',\n",
       "       'As bigots blame them for the coronavirus and President Trump labels it the \"Chinese virus,\" many Chinese-Americans say they are terrified of what could come next. https://t.co/7REdgT0wnI',\n",
       "       'Opinion: Reelect President Trump or he’ll sue you! https://t.co/gK0oseI4hs',\n",
       "       'Here’s what we know so far about where President Trump traveled and the people he met in the days before he tested positive for the coronavirus.\\nhttps://t.co/d2n60nB2Bh',\n",
       "       'Analysis: 34 times Trump downplayed the coronavirus https://t.co/z8InffQlfg\\n\\nhttps://t.co/1O9J54yBjT',\n",
       "       'Analysis: What Trump had in 2016 https://t.co/1b87qndlxL'],\n",
       "      dtype=object)"
      ]
     },
     "execution_count": 1149,
     "metadata": {},
     "output_type": "execute_result"
    }
   ],
   "source": [
    "top_tweets(tweet_topic_matrix_df ,'topic_0', 10)"
   ]
  },
  {
   "cell_type": "markdown",
   "metadata": {},
   "source": [
    "#### Topic 2: Pandemic impact"
   ]
  },
  {
   "cell_type": "code",
   "execution_count": 1068,
   "metadata": {},
   "outputs": [
    {
     "data": {
      "text/plain": [
       "pandemic      5.508052\n",
       "response      0.151369\n",
       "industry      0.115295\n",
       "sale          0.106443\n",
       "toll          0.085198\n",
       "travel        0.074874\n",
       "food          0.066309\n",
       "restaurant    0.064115\n",
       "demand        0.063367\n",
       "million       0.062996\n",
       "Name: topic_1, dtype: float64"
      ]
     },
     "execution_count": 1068,
     "metadata": {},
     "output_type": "execute_result"
    }
   ],
   "source": [
    "top_words(word_topic_matrix_df, 'topic_1', 10)"
   ]
  },
  {
   "cell_type": "code",
   "execution_count": 1069,
   "metadata": {},
   "outputs": [
    {
     "data": {
      "text/plain": [
       "array(['Required reading during the pandemic. https://t.co/XKYyVony9Z',\n",
       "       'More Americans are being infected with the coronavirus than at any time during the pandemic, but people are too tired to care https://t.co/CPiQfKufKq',\n",
       "       'The pandemic may have changed employers\\' thinking about the \"ideal worker,\" said @KristinaDurante of @RutgersBSchool https://t.co/mbqoUolMOn',\n",
       "       '4 ways to rethink and pivot your business as the pandemic continues (via @Inc) https://t.co/JCbMXfVdLl',\n",
       "       'What the last six months of the coronavirus pandemic have looked like in the US https://t.co/0kvjBWjWM8',\n",
       "       'As the pandemic drags, the people who once traveled constantly say they question whether they will ever fully return to their old lives https://t.co/vUkuAagskO',\n",
       "       'The 20 best countries for Americans to move to after the pandemic https://t.co/bJLgtnthqf',\n",
       "       'What do we lose if we allow ourselves to become numb to the coronavirus pandemic?\\nhttps://t.co/U3YEzuriXy',\n",
       "       'The coronavirus pandemic emptied America’s roadways. Now speeders have taken over. https://t.co/EzNAFWYSLQ',\n",
       "       'So, you’re getting into running during a pandemic. Here’s what you need to know. https://t.co/6GDrhuUE2o',\n",
       "       '\"We got crushed.\" How the pandemic affected people across America on one of the year\\'s worst days. https://t.co/YABJf0Zmth',\n",
       "       'Analysis: The coronavirus pandemic isn’t ending — it’s surging https://t.co/sM1kH8UWPu',\n",
       "       \"The coronavirus pandemic is the best thing that has ever happened to Tesla's business https://t.co/4c8Z4eYtG4\",\n",
       "       '.@olgakhazan advises @jameshamblin and @katlwells on the least unethical way to eat during a pandemic https://t.co/E8OgKrlDVR',\n",
       "       'Perspective: The pandemic is changing how we eat. But not for the better. https://t.co/IYjRFNroha',\n",
       "       'New York City faces its worst fiscal crisis since the 1970s because of the coronavirus pandemic, according to a new report https://t.co/o62Si60Vkx',\n",
       "       '4 things to consider before moving to a new city, state, or country during the pandemic (via @TheMuse) https://t.co/cwefW7R0hu',\n",
       "       'We feel powerless over so many things in the pandemic. But learning to practice better self-control can help. https://t.co/ZgWUDQKedP',\n",
       "       'This pandemic will change us in big ways and small ways. ☀️ https://t.co/eYK4qXOba3',\n",
       "       \"US billionaires' wealth grew by $845 billion during the first six months of the pandemic https://t.co/vmuSbmKFOE\"],\n",
       "      dtype=object)"
      ]
     },
     "execution_count": 1069,
     "metadata": {},
     "output_type": "execute_result"
    }
   ],
   "source": [
    "top_tweets(tweet_topic_matrix_df ,'topic_1', 20)"
   ]
  },
  {
   "cell_type": "markdown",
   "metadata": {},
   "source": [
    "#### Topic 3: Business"
   ]
  },
  {
   "cell_type": "code",
   "execution_count": 1070,
   "metadata": {},
   "outputs": [
    {
     "data": {
      "text/plain": [
       "company       7.462008\n",
       "employee      0.764822\n",
       "tech          0.604656\n",
       "ceo           0.400163\n",
       "executive     0.314919\n",
       "history       0.307913\n",
       "technology    0.270945\n",
       "office        0.264905\n",
       "product       0.205443\n",
       "startup       0.199945\n",
       "Name: topic_2, dtype: float64"
      ]
     },
     "execution_count": 1070,
     "metadata": {},
     "output_type": "execute_result"
    }
   ],
   "source": [
    "top_words(word_topic_matrix_df, 'topic_2', 10)"
   ]
  },
  {
   "cell_type": "code",
   "execution_count": 1071,
   "metadata": {},
   "outputs": [
    {
     "data": {
      "text/plain": [
       "array([\"Some people can't stop starting companies https://t.co/Jv5R1XPsnd\",\n",
       "       'Would you discuss your horoscope in polite company? https://t.co/pwSacKhz2n',\n",
       "       'Uniqlo’s fleeces have barely changed in 20 years. How has the company sold so many? https://t.co/xtSYsakq2n From @1843mag',\n",
       "       'Three recent reports have made some foreign companies wake up https://t.co/iw3mTKyATQ',\n",
       "       '\"It feels like I have worked at three different companies in the last six years.\" https://t.co/kd4CNlbEBQ',\n",
       "       'Here are the seven most diverse and inclusive companies headquartered in the US https://t.co/5VarGLfcvB',\n",
       "       'What we know — and still want to know — about Trump’s company https://t.co/chTlpZe6O2',\n",
       "       \"If you're looking to support your favorite cause, your company might help amplify your giving. @amberbburton explains. #WSJWhatsNow\\xa0https://t.co/KA4OaCl4Jo https://t.co/UdcYSZbxWM\",\n",
       "       '10 in-demand skills companies are hiring for right now — and how to learn them for free https://t.co/cziPtAcT1G',\n",
       "       'Companies like @away are indeed changing the world, and not always for the better (via @MRKR) https://t.co/VaWzBbEPkJ'],\n",
       "      dtype=object)"
      ]
     },
     "execution_count": 1071,
     "metadata": {},
     "output_type": "execute_result"
    }
   ],
   "source": [
    "top_tweets(tweet_topic_matrix_df ,'topic_2', 10)"
   ]
  },
  {
   "cell_type": "markdown",
   "metadata": {},
   "source": [
    "#### Topic 4: Biden"
   ]
  },
  {
   "cell_type": "code",
   "execution_count": 1074,
   "metadata": {},
   "outputs": [
    {
     "data": {
      "text/plain": [
       "biden       3.791793\n",
       "joe         2.931344\n",
       "debate      0.695313\n",
       "campaign    0.662188\n",
       "voter       0.329495\n",
       "harris      0.324082\n",
       "kamala      0.274307\n",
       "bernie      0.271764\n",
       "poll        0.267663\n",
       "sanders     0.266872\n",
       "Name: topic_3, dtype: float64"
      ]
     },
     "execution_count": 1074,
     "metadata": {},
     "output_type": "execute_result"
    }
   ],
   "source": [
    "top_words(word_topic_matrix_df, 'topic_3', 10)"
   ]
  },
  {
   "cell_type": "code",
   "execution_count": 1150,
   "metadata": {},
   "outputs": [
    {
     "data": {
      "text/plain": [
       "array(['Opinion: Joe Biden, the inspirational plodder https://t.co/Nm126lmW6I',\n",
       "       \"Why Joe Biden's so-called 'war on the suburbs' is not a real thing https://t.co/vyazWRP9Op\",\n",
       "       'Opinion: Joe Biden must be doing something right https://t.co/fiZQrJcpKC',\n",
       "       'Opinion: Joe Biden is the only one trying to act like a president https://t.co/2eXZTfhrNu',\n",
       "       \"Analysis: Who's afraid of Joe Biden? https://t.co/9pF4ExJH5D\",\n",
       "       'Opinion: Does Joe Biden have to be inspiring to win? Probably not. https://t.co/0v0zdLXrow',\n",
       "       'Analysis: Joe Biden has shifted left https://t.co/TJYcKU9iar',\n",
       "       'Joe Biden tests negative for coronavirus https://t.co/4pneXbiAkO',\n",
       "       'Opinion: How Joe Biden — yes, Joe Biden — could revolutionize American politics https://t.co/2Kx1d5d1Tc',\n",
       "       'From @WSJopinion: A media-and-tech wall has been built to protect Joe Biden in the final days of the campaign, writes @gerardtbaker https://t.co/1QQuOm3zsx'],\n",
       "      dtype=object)"
      ]
     },
     "execution_count": 1150,
     "metadata": {},
     "output_type": "execute_result"
    }
   ],
   "source": [
    "top_tweets(tweet_topic_matrix_df ,'topic_3', 10)"
   ]
  },
  {
   "cell_type": "markdown",
   "metadata": {},
   "source": [
    "#### Topic 5: Coronavirus Spread"
   ]
  },
  {
   "cell_type": "code",
   "execution_count": 1076,
   "metadata": {},
   "outputs": [
    {
     "data": {
      "text/plain": [
       "case          4.353583\n",
       "florida       0.194920\n",
       "surge         0.193144\n",
       "record        0.161293\n",
       "toll          0.149715\n",
       "texas         0.130467\n",
       "update        0.129824\n",
       "california    0.128591\n",
       "infection     0.128054\n",
       "increase      0.126331\n",
       "Name: topic_4, dtype: float64"
      ]
     },
     "execution_count": 1076,
     "metadata": {},
     "output_type": "execute_result"
    }
   ],
   "source": [
    "top_words(word_topic_matrix_df, 'topic_4', 10)"
   ]
  },
  {
   "cell_type": "code",
   "execution_count": 1077,
   "metadata": {},
   "outputs": [
    {
     "data": {
      "text/plain": [
       "array([\"Here's where in the U.S. the number of new coronavirus cases is increasing and where it's decreasing https://t.co/aVzzEDY5U5 https://t.co/T3KSkSmVYT\",\n",
       "       'Coronavirus cases soar in US with New York worst hit https://t.co/TmHerZ62M6',\n",
       "       'Analysis: It took four days to add the most recent 200,000 coronavirus cases. It took 16 to add 10,000 more deaths. https://t.co/eoKvdfZyOr',\n",
       "       'New coronavirus cases in the U.S. climbed to nearly 49,000 while the total number of deaths topped 175,000 across the country, as new cases in more than 10 states trend upward https://t.co/v1zIisQj8D',\n",
       "       \"In case you're tossing and turning lately: https://t.co/Xln6X0jxf5\",\n",
       "       'Coronavirus latest: US reports more than 23,000 cases for second straight day https://t.co/ODdFFWYJyA',\n",
       "       'In case you missed it: https://t.co/ChcaG6NKet',\n",
       "       'You might want to know this ... just in case https://t.co/pHf7YiobqL',\n",
       "       'Analysis: Seven-in-10 new coronavirus cases are emerging in red states https://t.co/ZoAehDmIOm',\n",
       "       'But in the U.S. and 5 other countries, the number of known coronavirus cases is still growing rapidly https://t.co/bwYRSlqlX9 https://t.co/fpLR8Y7ykI'],\n",
       "      dtype=object)"
      ]
     },
     "execution_count": 1077,
     "metadata": {},
     "output_type": "execute_result"
    }
   ],
   "source": [
    "top_tweets(tweet_topic_matrix_df ,'topic_4', 10)"
   ]
  },
  {
   "cell_type": "markdown",
   "metadata": {},
   "source": [
    "#### Topic 6: China"
   ]
  },
  {
   "cell_type": "code",
   "execution_count": 1078,
   "metadata": {},
   "outputs": [
    {
     "data": {
      "text/plain": [
       "china      4.175270\n",
       "war        0.240388\n",
       "trade      0.211044\n",
       "beijing    0.190731\n",
       "india      0.152968\n",
       "tension    0.148747\n",
       "power      0.123019\n",
       "taiwan     0.116954\n",
       "russia     0.115366\n",
       "xi         0.111674\n",
       "Name: topic_5, dtype: float64"
      ]
     },
     "execution_count": 1078,
     "metadata": {},
     "output_type": "execute_result"
    }
   ],
   "source": [
    "top_words(word_topic_matrix_df, 'topic_5', 10)"
   ]
  },
  {
   "cell_type": "code",
   "execution_count": 1079,
   "metadata": {},
   "outputs": [
    {
     "data": {
      "text/plain": [
       "array(['Central Asian governments do not know how to talk about China https://t.co/wwgFgaB0A7',\n",
       "       '“I Modeled in China” by @karengeier https://t.co/pfy9THsb1W',\n",
       "       'China’s lonely fight to eliminate coronavirus https://t.co/9Cbm01sADJ',\n",
       "       'Is the world closer to learning where covid-19 came from? Last month we explained why some think the virus may not have been born in China https://t.co/QmnNeHLN57',\n",
       "       'We’ve grown used to Americans getting fired for social media posts that offend other Americans. Now it’s clear they can also be punished for posts that offend China. @willoremus writes. https://t.co/lpBv0l9th5',\n",
       "       '“This Is How China Is Feeding Itself” by @tomassidenfaden https://t.co/yFJstfrVsg',\n",
       "       'China’s migrant workers spurn cherished ‘hukou’ https://t.co/M5Dau80EJh',\n",
       "       'Analysis: The world doesn’t want to pick between the U.S. and China https://t.co/gXfSeHpw67',\n",
       "       'Analysis: China strangles its world city https://t.co/Ei4Y4Zeoyd',\n",
       "       '“#FakeNews: Made in China” by @DFRLab https://t.co/bwAZAbP3xj'],\n",
       "      dtype=object)"
      ]
     },
     "execution_count": 1079,
     "metadata": {},
     "output_type": "execute_result"
    }
   ],
   "source": [
    "top_tweets(tweet_topic_matrix_df ,'topic_5', 10)"
   ]
  },
  {
   "cell_type": "markdown",
   "metadata": {},
   "source": [
    "#### Topic 7: Election 2020"
   ]
  },
  {
   "cell_type": "code",
   "execution_count": 1080,
   "metadata": {},
   "outputs": [
    {
     "data": {
      "text/plain": [
       "election    4.308814\n",
       "voter       0.491867\n",
       "ballot      0.403233\n",
       "november    0.387303\n",
       "voting      0.349703\n",
       "result      0.337542\n",
       "campaign    0.308604\n",
       "party       0.271499\n",
       "mail        0.240364\n",
       "vote        0.227663\n",
       "Name: topic_6, dtype: float64"
      ]
     },
     "execution_count": 1080,
     "metadata": {},
     "output_type": "execute_result"
    }
   ],
   "source": [
    "top_words(word_topic_matrix_df, 'topic_6', 10)"
   ]
  },
  {
   "cell_type": "code",
   "execution_count": 1151,
   "metadata": {},
   "outputs": [
    {
     "data": {
      "text/plain": [
       "array([\"Do you know the ins and outs of your local elections? Here's how to find out. https://t.co/TacTHw6wVH\",\n",
       "       'She’s 70 years old and had never voted. But this election was too important to sit out. https://t.co/iPtkqpipe1',\n",
       "       \"America's 1.3 million Jehovah's Witnesses will be sitting out this election https://t.co/fBoAVSCM4G\",\n",
       "       'She’s voted in every election since 1940. A pandemic wasn’t going to stop her this year. https://t.co/rGJ5QkWATF',\n",
       "       \"Suburbia is an ever-changing 'microcosm of America' that could dominate the upcoming election https://t.co/5IJiR9kXsV\",\n",
       "       'The world must prepare for a contested US election https://t.co/NKlTrfu5CG',\n",
       "       'Analysis: What’s happened in the last 20 days of the last 13 elections https://t.co/F8JWhipxje',\n",
       "       'More than 60m people have already voted in the US election: https://t.co/jPkgfu7VPI https://t.co/AZ7w0JvNVK',\n",
       "       'How to vote in your state in the 2020 election https://t.co/4Z5q1E831m',\n",
       "       'Opinion: This election is all about who gets to vote https://t.co/St6cpvlf4n'],\n",
       "      dtype=object)"
      ]
     },
     "execution_count": 1151,
     "metadata": {},
     "output_type": "execute_result"
    }
   ],
   "source": [
    "top_tweets(tweet_topic_matrix_df ,'topic_6', 10)"
   ]
  },
  {
   "cell_type": "markdown",
   "metadata": {},
   "source": [
    "#### Topic 8: Working from Home"
   ]
  },
  {
   "cell_type": "code",
   "execution_count": 1082,
   "metadata": {},
   "outputs": [
    {
     "data": {
      "text/plain": [
       "home          6.628929\n",
       "nursing       0.652685\n",
       "office        0.525073\n",
       "resident      0.232376\n",
       "sale          0.211652\n",
       "tip           0.210123\n",
       "employee      0.161596\n",
       "kid           0.148526\n",
       "care          0.147894\n",
       "california    0.144937\n",
       "Name: topic_7, dtype: float64"
      ]
     },
     "execution_count": 1082,
     "metadata": {},
     "output_type": "execute_result"
    }
   ],
   "source": [
    "top_words(word_topic_matrix_df, 'topic_7', 10)"
   ]
  },
  {
   "cell_type": "code",
   "execution_count": 1083,
   "metadata": {},
   "outputs": [
    {
     "data": {
      "text/plain": [
       "array(['Working from home is starting to pall https://t.co/InXwdBb2T4',\n",
       "       'The US cities with the most million-dollar homes https://t.co/IYXQfMqeVo',\n",
       "       'Working from home leaves people wondering: Why do I live here? https://t.co/5I5FfoycVB',\n",
       "       'We wanted to know how people who are living together — romantically or otherwise — have fared after months of sheltering at home. Here are their stories of what so much togetherness looks like. https://t.co/G6ohoC5wfE https://t.co/VBV2U4TS5U',\n",
       "       'Can working from home make you happier and more efficient? https://t.co/EISfJgq6i6',\n",
       "       \"Here's what Americans are doing while confined to their homes https://t.co/p1HlecuWG5\",\n",
       "       'Where Americans are still staying at home the most https://t.co/kPAoQCRFW0',\n",
       "       'Three ways in which our homes have changed in the past 10 years https://t.co/MuVgaEmoit',\n",
       "       'Some of us are just fine giving single life a forever home https://t.co/i2CQNVmaNw',\n",
       "       \"Don't try this at home. https://t.co/zR8THul0mL\"], dtype=object)"
      ]
     },
     "execution_count": 1083,
     "metadata": {},
     "output_type": "execute_result"
    }
   ],
   "source": [
    "top_tweets(tweet_topic_matrix_df ,'topic_7', 10)"
   ]
  },
  {
   "cell_type": "markdown",
   "metadata": {},
   "source": [
    "#### Topic 9: Stock Market"
   ]
  },
  {
   "cell_type": "code",
   "execution_count": 1084,
   "metadata": {},
   "outputs": [
    {
     "data": {
      "text/plain": [
       "market      3.564225\n",
       "stock       3.203888\n",
       "investor    1.329709\n",
       "price       0.525457\n",
       "oil         0.384887\n",
       "share       0.377013\n",
       "tech        0.373273\n",
       "future      0.341564\n",
       "bank        0.298131\n",
       "rally       0.265004\n",
       "Name: topic_8, dtype: float64"
      ]
     },
     "execution_count": 1084,
     "metadata": {},
     "output_type": "execute_result"
    }
   ],
   "source": [
    "top_words(word_topic_matrix_df, 'topic_8', 10)"
   ]
  },
  {
   "cell_type": "code",
   "execution_count": 1085,
   "metadata": {},
   "outputs": [
    {
     "data": {
      "text/plain": [
       "array(['Analysis: The world is falling apart. But the stock market keeps surging. https://t.co/sd9undf2xH',\n",
       "       '‘Fomo feeling’ propels Indian investors into stock market https://t.co/iuWehn1UUk',\n",
       "       '#WSJWhatsNow: While U.S. stocks are up Thursday, @AmrithRamkumar explains why stocks have fallen this week and what the market is looking forward to https://t.co/Gjzip6MeLD',\n",
       "       \"The stock market is about to enter its worst month of the year after a historic August — but that doesn't mean investors should sell stock, LPL says https://t.co/JCaBRiGQv4\",\n",
       "       'Chinese stocks had their best day in a year as global markets ignore surging COVID cases and keep rising https://t.co/w4DX0ZVPfJ',\n",
       "       'Heard on the Street: China’s stock market suddenly has its mojo back https://t.co/JsOk748kBc',\n",
       "       '‘More fragile than people think’: A Wall Street expert warns that the emerging ‘species’ of risk-loving day-traders is threatening to upend an already-vulnerable stock market https://t.co/Vj97SLeYVH',\n",
       "       'Perspective: Don’t think a great stock market means we’ve got a great economy https://t.co/RalyeLNEQP',\n",
       "       'Analysis: Now more than ever, the stock market is not the economy https://t.co/27wfxW18tS',\n",
       "       'The latest on stock market and business news during the coronavirus outbreak https://t.co/RvRGLNNEi1'],\n",
       "      dtype=object)"
      ]
     },
     "execution_count": 1085,
     "metadata": {},
     "output_type": "execute_result"
    }
   ],
   "source": [
    "top_tweets(tweet_topic_matrix_df ,'topic_8', 10)"
   ]
  },
  {
   "cell_type": "markdown",
   "metadata": {},
   "source": [
    "#### Topic 10: Police / Protests"
   ]
  },
  {
   "cell_type": "code",
   "execution_count": 1086,
   "metadata": {},
   "outputs": [
    {
     "data": {
      "text/plain": [
       "police        3.832719\n",
       "protest       1.574177\n",
       "officer       1.278909\n",
       "george        1.009892\n",
       "floyd         0.999656\n",
       "man           0.950430\n",
       "protester     0.664408\n",
       "violence      0.515599\n",
       "department    0.465625\n",
       "video         0.437137\n",
       "Name: topic_9, dtype: float64"
      ]
     },
     "execution_count": 1086,
     "metadata": {},
     "output_type": "execute_result"
    }
   ],
   "source": [
    "top_words(word_topic_matrix_df, 'topic_9', 10)"
   ]
  },
  {
   "cell_type": "code",
   "execution_count": 1152,
   "metadata": {},
   "outputs": [
    {
     "data": {
      "text/plain": [
       "array(['How will Americans react to a coronavirus police state? asks @ibogost: https://t.co/VvxIBQkah6',\n",
       "       'Opinion: We are the governed. We no longer consent to let the police kill us. https://t.co/5sOtJEWsmI',\n",
       "       'Analysis: What \"defund the police\" might look like https://t.co/NM9Sa2TUjK',\n",
       "       'Black people in America are three times more likely to be killed by police than white people are https://t.co/rfIv6Qmk5t',\n",
       "       'Online rabble-rousers are intimidated by the police into keeping quiet https://t.co/jYC2m5oeMH',\n",
       "       'Opinion: Defund the police? Here’s what that really means. https://t.co/lwh5ODaCiC',\n",
       "       'Defund the police? Here’s what has worked in other countries. https://t.co/pVrNcIkYvv',\n",
       "       '⚡️ “Police partially blinded 8 people in one day at George Floyd protests”\\n\\nhttps://t.co/uXInwabVfB',\n",
       "       'Former Minneapolis police officer charged in George Floyd’s death as protests continue nationwide https://t.co/4RZBk01Dfq',\n",
       "       'Clare Ramirez-Raftree, 23, said that when officers finally removed her zip-tie cuffs, she had large, red welts that were visible for more than a week afterward. “Seeing just how blatant the police were with everything, it kind of just spurred me on to go out again,” she said. https://t.co/EospVCbeh5'],\n",
       "      dtype=object)"
      ]
     },
     "execution_count": 1152,
     "metadata": {},
     "output_type": "execute_result"
    }
   ],
   "source": [
    "top_tweets(tweet_topic_matrix_df ,'topic_9', 10)"
   ]
  },
  {
   "cell_type": "markdown",
   "metadata": {},
   "source": [
    "#### Topic 11: Health/Wellness"
   ]
  },
  {
   "cell_type": "code",
   "execution_count": 1088,
   "metadata": {},
   "outputs": [
    {
     "data": {
      "text/plain": [
       "health          3.543922\n",
       "expert          0.846414\n",
       "care            0.832769\n",
       "system          0.350740\n",
       "risk            0.323129\n",
       "organization    0.252045\n",
       "patient         0.226788\n",
       "hospital        0.217740\n",
       "doctor          0.203093\n",
       "disease         0.142939\n",
       "Name: topic_10, dtype: float64"
      ]
     },
     "execution_count": 1088,
     "metadata": {},
     "output_type": "execute_result"
    }
   ],
   "source": [
    "top_words(word_topic_matrix_df, 'topic_10', 10)"
   ]
  },
  {
   "cell_type": "code",
   "execution_count": 1129,
   "metadata": {},
   "outputs": [
    {
     "data": {
      "text/plain": [
       "array(['Both regular and decaf boost your health (via @elemental) https://t.co/eZEMOoXrmd',\n",
       "       'Fauci, other health officials expected to caution at hearing that coronavirus could continue for \"some time\" https://t.co/Tlu70a9sLy',\n",
       "       'On masks, Biden cites Trump’s own health officials as Trump sows doubt https://t.co/NIiULhMe0g',\n",
       "       'Bausch Health skyrockets 27% after saying it will spin off its eye-care business https://t.co/aHSPnwgzqj',\n",
       "       \"A hot toddy may *sound* nice, but it won't actually do very much for your health. (via @elemental) https://t.co/Z67DScPo44\",\n",
       "       \"7 questions you should ask someone if you're worried about their mental health (via @AmyMorinLCSW) https://t.co/w9RxihBf4u\",\n",
       "       'How can people safeguard their mental health during a pandemic? @AnneMcElvoy asks @BreneBrown on “The Economist Asks” https://t.co/MEw6qf8Esh',\n",
       "       \"Lonely, burned out, and depressed: The state of millennials' mental health in 2020 https://t.co/Pt7os5MHDw\",\n",
       "       'How can people safeguard their mental health during a pandemic? @AnneMcElvoy asks @BreneBrown on “The Economist Asks” https://t.co/Yp4I2UWs2T https://t.co/4B4QdymJVQ',\n",
       "       'This could change the way health officials battle coronavirus. https://t.co/woHoZeuMob'],\n",
       "      dtype=object)"
      ]
     },
     "execution_count": 1129,
     "metadata": {},
     "output_type": "execute_result"
    }
   ],
   "source": [
    "top_tweets(tweet_topic_matrix_df ,'topic_10', 10)"
   ]
  },
  {
   "cell_type": "markdown",
   "metadata": {},
   "source": [
    "#### Topic 12: U.S. Supreme Court"
   ]
  },
  {
   "cell_type": "code",
   "execution_count": 1090,
   "metadata": {},
   "outputs": [
    {
     "data": {
      "text/plain": [
       "court       2.864105\n",
       "supreme     2.205303\n",
       "justice     0.678549\n",
       "barrett     0.504179\n",
       "amy         0.460426\n",
       "coney       0.451908\n",
       "ginsburg    0.391416\n",
       "bader       0.320306\n",
       "ruth        0.320185\n",
       "judge       0.301967\n",
       "Name: topic_11, dtype: float64"
      ]
     },
     "execution_count": 1090,
     "metadata": {},
     "output_type": "execute_result"
    }
   ],
   "source": [
    "top_words(word_topic_matrix_df, 'topic_11', 10)"
   ]
  },
  {
   "cell_type": "code",
   "execution_count": 1091,
   "metadata": {},
   "outputs": [
    {
     "data": {
      "text/plain": [
       "array(['Perspective: The Supreme Court is leaking. That’s a good thing. https://t.co/e7yVURnHWY',\n",
       "       'Perspective: The Supreme Court just made the president more powerful https://t.co/vJGOBnXFW7',\n",
       "       'Perspective: Presidents don’t usually lose as badly at the Supreme Court as Trump did https://t.co/JhZCiO1cTy',\n",
       "       'Opinion: Raging Trump wants the Supreme Court to save him.\\n\\nHere’s why it probably won’t. https://t.co/2XjXVmZft0',\n",
       "       'Analysis: Who Trump might pick for the Supreme Court https://t.co/bNJb2DovIm',\n",
       "       '\"This advice may sound strange, but anyone who cares about the future of the Supreme Court needs to speak as little as possible about the Supreme Court,\" @anneapplebaum writes: https://t.co/WgWGxhNFKr',\n",
       "       'Efforts to reform the Supreme Court should \"recognize that the problem is not who serves on the Supreme Court but what power it has,\" @rddoerfler and @samuelmoyn write: https://t.co/okHOi3LLBr',\n",
       "       'Opinion: Bad presidents risk making bad law. The Supreme Court avoided just that. https://t.co/sjotdv0Xnz',\n",
       "       'Perspective: The Supreme Court rules us. Here’s how to curb its power. https://t.co/uO7chabgpX',\n",
       "       'Opinion: Do swing state voters care more about the Supreme Court than coronavirus? @@WaldmeirPatti finds other issues take precedence over the court https://t.co/TV6FhJpEPD'],\n",
       "      dtype=object)"
      ]
     },
     "execution_count": 1091,
     "metadata": {},
     "output_type": "execute_result"
    }
   ],
   "source": [
    "top_tweets(tweet_topic_matrix_df ,'topic_11', 10)"
   ]
  },
  {
   "cell_type": "markdown",
   "metadata": {},
   "source": [
    "#### Topic 13: Gender Equality"
   ]
  },
  {
   "cell_type": "code",
   "execution_count": 1130,
   "metadata": {},
   "outputs": [
    {
     "data": {
      "text/plain": [
       "woman      3.934425\n",
       "man        0.918798\n",
       "color      0.208590\n",
       "history    0.157933\n",
       "right      0.141763\n",
       "harris     0.135703\n",
       "kamala     0.105948\n",
       "group      0.101365\n",
       "mother     0.095112\n",
       "gender     0.085646\n",
       "Name: topic_12, dtype: float64"
      ]
     },
     "execution_count": 1130,
     "metadata": {},
     "output_type": "execute_result"
    }
   ],
   "source": [
    "top_words(word_topic_matrix_df, 'topic_12', 10)"
   ]
  },
  {
   "cell_type": "code",
   "execution_count": 1093,
   "metadata": {},
   "outputs": [
    {
     "data": {
      "text/plain": [
       "array(['When Pocahontas is dehumanized and objectified, all Native women are (via @zoramag) https://t.co/jf1oYl0YAq',\n",
       "       '“How To Talk To A Woman” by @ThisIsGorman https://t.co/v0domU0xh0',\n",
       "       '“In my time, women usually had their life stories written for them. But I didn’t like the story I was given, so I wrote a new one.” From @theatlvideo: https://t.co/jiNdZ0XzsX',\n",
       "       'It’s okay to not be a strong black woman (via @zoramag) https://t.co/6EJn0Ndkks',\n",
       "       'Not only is it rude, but it can make Black women feel unsafe and unwelcome (via @zoramag) https://t.co/XHRSAU0a6V',\n",
       "       \"Black women's tumors are usually larger—and they're more likely to be hospitalized. This is a crisis. (via @zoramag) https://t.co/9QOVsMeHw0\",\n",
       "       'Is the coronavirus crisis taking women back to the 1950s? https://t.co/gHYLTEJs73',\n",
       "       'Opinion: America hates to let Black women speak https://t.co/dqtNh24PNN',\n",
       "       'Women are not monolithic. Pretending they are holds everyone back. https://t.co/vn33WcIyTH (via @genmag)',\n",
       "       \"'Ambition' is often used as a 'dirty word' to describe a woman, said @meenaharris https://t.co/r3UCQ338B0\"],\n",
       "      dtype=object)"
      ]
     },
     "execution_count": 1093,
     "metadata": {},
     "output_type": "execute_result"
    }
   ],
   "source": [
    "top_tweets(tweet_topic_matrix_df ,'topic_12', 10)"
   ]
  },
  {
   "cell_type": "markdown",
   "metadata": {},
   "source": [
    "#### Topic 14: Economy"
   ]
  },
  {
   "cell_type": "code",
   "execution_count": 1131,
   "metadata": {},
   "outputs": [
    {
     "data": {
      "text/plain": [
       "economy         4.149229\n",
       "rate            0.203701\n",
       "recession       0.203420\n",
       "recovery        0.201167\n",
       "unemployment    0.197807\n",
       "growth          0.134030\n",
       "record          0.132539\n",
       "bank            0.126244\n",
       "stimulus        0.114453\n",
       "benefit         0.103323\n",
       "Name: topic_13, dtype: float64"
      ]
     },
     "execution_count": 1131,
     "metadata": {},
     "output_type": "execute_result"
    }
   ],
   "source": [
    "top_words(word_topic_matrix_df, 'topic_13', 10)"
   ]
  },
  {
   "cell_type": "code",
   "execution_count": 1132,
   "metadata": {},
   "outputs": [
    {
     "data": {
      "text/plain": [
       "array(['Millennial-bashing is not funny or cute — it’s classism, and it’s destroying our economy, @MattiasLehman writes  https://t.co/oeX3D1Zh19',\n",
       "       'Opinion | No one is coming to save the global economy this time. By @lopezlinette https://t.co/PKZUIzTLhQ',\n",
       "       'That old truism of American politics—“It’s the economy, stupid”—could come back to haunt the money-minded president in 2020, @PeterAtlantic reports: https://t.co/rRK9Bk6JkX',\n",
       "       'We’re now debating whether it’s safe to reopen the economy, but for essential workers it never closed. https://t.co/yYm2X55B9G',\n",
       "       'The dire state of the global economy has economists asking whether more can be done https://t.co/OMcEJDsil4',\n",
       "       'Perspective: The right way to reopen the economy https://t.co/ouHFyw4He0',\n",
       "       'Chinese economy expands 4.9% in third quarter https://t.co/9HzSDUXdh2',\n",
       "       'The monopolization of the American economy will continue apace unless something is done—soon. https://t.co/eVLk6uenW3',\n",
       "       'Asian developing economies set to shrink for first time since 1961 https://t.co/jD6qhXnIeX',\n",
       "       'Coronavirus latest: US economy expected to shrink 38% on year in Q2 https://t.co/au2v3AlmqB'],\n",
       "      dtype=object)"
      ]
     },
     "execution_count": 1132,
     "metadata": {},
     "output_type": "execute_result"
    }
   ],
   "source": [
    "top_tweets(tweet_topic_matrix_df ,'topic_13', 10)"
   ]
  },
  {
   "cell_type": "markdown",
   "metadata": {},
   "source": [
    "#### Topic 15: Education"
   ]
  },
  {
   "cell_type": "code",
   "execution_count": 1096,
   "metadata": {},
   "outputs": [
    {
     "data": {
      "text/plain": [
       "school        3.412898\n",
       "student       1.523508\n",
       "college       0.578056\n",
       "teacher       0.440194\n",
       "fall          0.394594\n",
       "university    0.354971\n",
       "kid           0.331239\n",
       "class         0.321555\n",
       "plan          0.276881\n",
       "parent        0.265782\n",
       "Name: topic_14, dtype: float64"
      ]
     },
     "execution_count": 1096,
     "metadata": {},
     "output_type": "execute_result"
    }
   ],
   "source": [
    "top_words(word_topic_matrix_df, 'topic_14', 10)"
   ]
  },
  {
   "cell_type": "code",
   "execution_count": 1097,
   "metadata": {},
   "outputs": [
    {
     "data": {
      "text/plain": [
       "array([\"We're live now discussing how coronavirus is impacting schools and students. Join us: https://t.co/w0f54zlyBv https://t.co/fhGJyo44b1\",\n",
       "       'How many students are attending school virtually each day? Coronavirus is making it hard to tell. https://t.co/nvQKPGa690 https://t.co/KKbXIl4qjZ',\n",
       "       'The Archdiocese of New York will close its elementary schools next week, affecting more than 19,000 students\\nhttps://t.co/pQbTglkzeT',\n",
       "       'Governments should be working out how to reopen schools as soon as it is safe https://t.co/RvQQAT6BH0',\n",
       "       'The states that spend the most on their public schools https://t.co/vmHIISgWSs',\n",
       "       'Can schools actually reopen safely? https://t.co/jAb9yDc0Hg',\n",
       "       'Opinion: Covid-19 isn’t going anywhere. So schools must reopen. https://t.co/ixNnxjZmMQ',\n",
       "       'GDPR comes to Sunday school.\\n\\nBy @bentschwartz with @collectcartoons \\nhttps://t.co/bqUfR23EE3 https://t.co/JWxT1z2fSg',\n",
       "       'Reopening the world’s schools safely will not be cheap. But it is essential  https://t.co/G9yW9c1c8A',\n",
       "       '“How’d he get all those blurbs from famous plumbers? His plumbing sucks! He must have gone to trade school with these people.” https://t.co/8hNgrBj5MB'],\n",
       "      dtype=object)"
      ]
     },
     "execution_count": 1097,
     "metadata": {},
     "output_type": "execute_result"
    }
   ],
   "source": [
    "top_tweets(tweet_topic_matrix_df ,'topic_14', 10)"
   ]
  },
  {
   "cell_type": "markdown",
   "metadata": {},
   "source": [
    "#### Topic 16: Brexit/ EU"
   ]
  },
  {
   "cell_type": "code",
   "execution_count": 1133,
   "metadata": {},
   "outputs": [
    {
     "data": {
      "text/plain": [
       "johnson     2.115067\n",
       "boris       1.891199\n",
       "uk          1.826406\n",
       "brexit      0.873702\n",
       "britain     0.871230\n",
       "minister    0.797389\n",
       "deal        0.765622\n",
       "eu          0.628695\n",
       "prime       0.562492\n",
       "ft          0.457430\n",
       "Name: topic_15, dtype: float64"
      ]
     },
     "execution_count": 1133,
     "metadata": {},
     "output_type": "execute_result"
    }
   ],
   "source": [
    "top_words(word_topic_matrix_df, 'topic_15', 10)"
   ]
  },
  {
   "cell_type": "code",
   "execution_count": 1099,
   "metadata": {},
   "outputs": [
    {
     "data": {
      "text/plain": [
       "array(['Boris Johnson believes the UK could be hit by a second coronavirus wave in just 2 weeks https://t.co/ooFynRXZ2c',\n",
       "       'Boris Johnson claims UK would ‘prosper’ in no-deal Brexit https://t.co/6538lJ1Xpc',\n",
       "       'The EU threatens to sue the UK unless Boris Johnson scraps his plan to rip up the Brexit deal https://t.co/tXDWQ8fluQ',\n",
       "       'Boris Johnson warns UK must prepare for ‘no deal’ with EU https://t.co/esvFIX7OEo',\n",
       "       'Former UK leaders unite to condemn Boris Johnson’s Brexit move https://t.co/PXY1kej8st',\n",
       "       \"⚡️ “Here's what Boris Johnson's Brexit plan could do to the UK's economy”\\n\\nhttps://t.co/U6XJJ81esw\",\n",
       "       \"A no-deal Brexit seems to be Boris Johnson's plan for the UK. Here's what this could cost the economy\\nhttps://t.co/lMwC7wKbHh\",\n",
       "       \"Joe Biden has been told to stop 'lecturing' the UK after he warned Boris Johnson not to break his Brexit deal with the EU https://t.co/XJR8FVWiCa\",\n",
       "       \"Boris Johnson says the UK should 'get ready' for a no-deal Brexit after trade talks stall with the EU https://t.co/gaJK1ZB5HZ\",\n",
       "       'Boris Johnson might return to work as soon as Monday, according to government officials who say the UK prime minister is making a rapid recovery from coronavirus https://t.co/RtWBNfppRA'],\n",
       "      dtype=object)"
      ]
     },
     "execution_count": 1099,
     "metadata": {},
     "output_type": "execute_result"
    }
   ],
   "source": [
    "top_tweets(tweet_topic_matrix_df ,'topic_15', 10)"
   ]
  },
  {
   "cell_type": "markdown",
   "metadata": {},
   "source": [
    "#### Topic 17: Climate Change"
   ]
  },
  {
   "cell_type": "code",
   "execution_count": 1134,
   "metadata": {},
   "outputs": [
    {
     "data": {
      "text/plain": [
       "change        3.247200\n",
       "climate       2.712018\n",
       "scientist     0.295559\n",
       "problem       0.265578\n",
       "policy        0.261894\n",
       "issue         0.188535\n",
       "wildfire      0.153765\n",
       "california    0.153328\n",
       "debate        0.150631\n",
       "decade        0.149089\n",
       "Name: topic_16, dtype: float64"
      ]
     },
     "execution_count": 1134,
     "metadata": {},
     "output_type": "execute_result"
    }
   ],
   "source": [
    "top_words(word_topic_matrix_df, 'topic_16', 10)"
   ]
  },
  {
   "cell_type": "code",
   "execution_count": 1101,
   "metadata": {},
   "outputs": [
    {
     "data": {
      "text/plain": [
       "array(['Climate change affects everything — even the coronavirus https://t.co/zamNVKZ2mF',\n",
       "       'Perspective: Stopping climate change could cost less than fighting covid-19 https://t.co/jLcBIJXPoq',\n",
       "       '“Climate Change, My Microbiome, and Me” by @grist https://t.co/Kc1ZvAkyzZ',\n",
       "       'How America’s hottest city will survive climate change https://t.co/0obj57sdLv',\n",
       "       'If you’re looking for a new normal when it comes to climate change, you’re not going to find it. There isn’t one. https://t.co/gVuHhMekkZ',\n",
       "       'How bad is climate change now? Here are 7 fundamental things to know. https://t.co/MDZAHzZddW',\n",
       "       'If anything is going to be done about climate change, it may have to be led by cities. https://t.co/F95EY5ckuO',\n",
       "       'What can the coronavirus pandemic teach us about fighting climate change?\\n\\nhttps://t.co/lfOJnlg2wD',\n",
       "       '1/ We are now living through one of the first pandemics brought on by climate change. https://t.co/zjAg1lO48i https://t.co/SIg1lEKQOT',\n",
       "       \"Tackling climate change is a global political problem. Here's why https://t.co/08hd0nowEJ https://t.co/s20hPaEFiQ\"],\n",
       "      dtype=object)"
      ]
     },
     "execution_count": 1101,
     "metadata": {},
     "output_type": "execute_result"
    }
   ],
   "source": [
    "top_tweets(tweet_topic_matrix_df ,'topic_16', 10)"
   ]
  },
  {
   "cell_type": "markdown",
   "metadata": {},
   "source": [
    "#### Topic 18: (Un)employeement"
   ]
  },
  {
   "cell_type": "code",
   "execution_count": 1135,
   "metadata": {},
   "outputs": [
    {
     "data": {
      "text/plain": [
       "job             3.908655\n",
       "unemployment    0.389860\n",
       "loss            0.278707\n",
       "industry        0.192165\n",
       "benefit         0.179753\n",
       "million         0.143526\n",
       "interview       0.129858\n",
       "employee        0.120666\n",
       "rate            0.119016\n",
       "cut             0.115585\n",
       "Name: topic_17, dtype: float64"
      ]
     },
     "execution_count": 1135,
     "metadata": {},
     "output_type": "execute_result"
    }
   ],
   "source": [
    "top_words(word_topic_matrix_df, 'topic_17', 10)"
   ]
  },
  {
   "cell_type": "code",
   "execution_count": 1103,
   "metadata": {},
   "outputs": [
    {
     "data": {
      "text/plain": [
       "array([\"You're doing a bad job at going to sleep. https://t.co/bDenSHZefF\",\n",
       "       'Losing your job can be devastating—but it helps to be prepared https://t.co/EiljXm8rxf',\n",
       "       \"4. You'll learn on the job in more ways than one. https://t.co/IMSZROWSCj https://t.co/MXycOWflRT\",\n",
       "       'Opinion: The job numbers are horrible. But there’s more to this story. https://t.co/AKv7dWcyWX',\n",
       "       'Think your job is boring? https://t.co/7CJGnQ4g5D',\n",
       "       \"You're doing a great job. But if you're having a hard time keeping it together, we're here to help.  https://t.co/hKHqdmdH6T\",\n",
       "       'Most of the jobs are US-wide, and some are worldwide. Some require you to be based in a specific state. https://t.co/buC55IuCqx',\n",
       "       \"These are the highest-paying remote jobs in computing that you can do anywhere in the world, and they're all hiring right now https://t.co/1rvN6ghYD9\",\n",
       "       \"It's Day 1 of your new job. Now what? https://t.co/divxZHE5IQ\",\n",
       "       'Opinion: The job numbers are much-needed good news. And they’re likely to get better. https://t.co/vp35UMrlfm'],\n",
       "      dtype=object)"
      ]
     },
     "execution_count": 1103,
     "metadata": {},
     "output_type": "execute_result"
    }
   ],
   "source": [
    "top_tweets(tweet_topic_matrix_df ,'topic_17', 10)"
   ]
  },
  {
   "cell_type": "markdown",
   "metadata": {},
   "source": [
    "#### Topic 19: Technlology"
   ]
  },
  {
   "cell_type": "code",
   "execution_count": 1136,
   "metadata": {},
   "outputs": [
    {
     "data": {
      "text/plain": [
       "facebook    2.084194\n",
       "apple       1.292375\n",
       "google      1.151066\n",
       "tech        0.915351\n",
       "app         0.747026\n",
       "amazon      0.680734\n",
       "datum       0.584654\n",
       "twitter     0.430148\n",
       "tiktok      0.404337\n",
       "user        0.389664\n",
       "Name: topic_18, dtype: float64"
      ]
     },
     "execution_count": 1136,
     "metadata": {},
     "output_type": "execute_result"
    }
   ],
   "source": [
    "top_words(word_topic_matrix_df, 'topic_18', 10)"
   ]
  },
  {
   "cell_type": "code",
   "execution_count": 1106,
   "metadata": {},
   "outputs": [
    {
     "data": {
      "text/plain": [
       "array(['Apple is reacting differently to Facebook, Google, and Twitter. https://t.co/C8B35MqcIw',\n",
       "       'Find Out What Google and Facebook Know About You, by @baratunde https://t.co/tk11IHaKQA',\n",
       "       '25 questions Congress should ask the CEOs of Apple, Amazon, Facebook, and Google when they testify, according to @profgalloway https://t.co/iUWPZ8jA8i',\n",
       "       \"Congress is gearing up to grill the CEOs of Facebook, Google, Amazon, and Apple in an antitrust hearing Wednesday — here's how to watch it https://t.co/HJP4AmoTFN\",\n",
       "       'A damning Congressional antitrust report into Amazon, Apple, Google and Facebook outlined the biggest assault on corporate power in the tech industry since the 1990s https://t.co/1jcbBrDwR7',\n",
       "       'Apple, Amazon, Facebook and Google all reported better-than-expected quarterly results during the pandemic #WSJWhatsNow https://t.co/BpSyYvl62n',\n",
       "       'A big day in tech: Amazon, Apple, Facebook, Google and Twitter report earnings after the market closes. Follow along for results and analysis. https://t.co/yqw8eUVaP6',\n",
       "       'The combined market value of Apple, Amazon, Google and Facebook soared by $230bn after a blowout quarter for Big Tech https://t.co/LiIMbpphQV',\n",
       "       'Strong results from Apple, Amazon, Google and Facebook leave investors mostly unimpressed explains @StephenWilmot #WSJWhatsNow https://t.co/UyDVlWiE06',\n",
       "       'Facebook also actively pushed a VPN that allowed it to track the activity of anyone who installed it not JUST within the Facebook app but anywhere on their phone. When Apple finally banned that app, Facebook snuck it in again through a backdoor 4/ https://t.co/ThhmOwu9ZA'],\n",
       "      dtype=object)"
      ]
     },
     "execution_count": 1106,
     "metadata": {},
     "output_type": "execute_result"
    }
   ],
   "source": [
    "top_tweets(tweet_topic_matrix_df ,'topic_18', 10)"
   ]
  },
  {
   "cell_type": "markdown",
   "metadata": {},
   "source": [
    "#### Topic 20: Hong Kong"
   ]
  },
  {
   "cell_type": "code",
   "execution_count": 1137,
   "metadata": {},
   "outputs": [
    {
     "data": {
      "text/plain": [
       "hong                2.792539\n",
       "kong                2.754020\n",
       "law                 1.116908\n",
       "security            0.668428\n",
       "beijing             0.449744\n",
       "protest             0.360920\n",
       "prodemocracy        0.206270\n",
       "nationalsecurity    0.184134\n",
       "protester           0.177903\n",
       "territory           0.171807\n",
       "Name: topic_19, dtype: float64"
      ]
     },
     "execution_count": 1137,
     "metadata": {},
     "output_type": "execute_result"
    }
   ],
   "source": [
    "top_words(word_topic_matrix_df, 'topic_19', 10)"
   ]
  },
  {
   "cell_type": "code",
   "execution_count": 1153,
   "metadata": {},
   "outputs": [
    {
     "data": {
      "text/plain": [
       "array(['There are some things you can no longer freely say in Hong Kong. Or write. Or tweet. Or draw. Or sing.\\nhttps://t.co/rNtF3ZVeW6',\n",
       "       'Why business in Hong Kong should be worried https://t.co/rprnDMRXoT',\n",
       "       'Just 0.4% of those who have tested positive for the coronavirus have died in Hong Kong. In Singapore—less than 0.1%. In the U.S., it’s 6%. https://t.co/NQx3Oo6H93',\n",
       "       \"Hong Kong's leader insists that, as these laws go, Hong Kong’s is “relatively mild” https://t.co/ku6IlQcAfY\",\n",
       "       'Hong Kong’s pre-eminence threatened by new law https://t.co/J6Uk9m0iQS',\n",
       "       'Chinese official calls for stronger Hong Kong security laws https://t.co/wKGcVfON50',\n",
       "       'Analysis: China’s new national security law for Hong Kong will erode Hong Kong’s autonomy https://t.co/lHZBaxAsE5',\n",
       "       'Hong Kong: ‘You either have the rule of law or you don’t’ https://t.co/Ex1PG1oVp7',\n",
       "       'Opinion: China’s national security law in Hong Kong doubles down on imperialism https://t.co/plDITsMAak',\n",
       "       'Seemingly overnight, Hong Kong was visibly and viscerally different, its more than 7 million people left to navigate what China’s new security law would mean to their lives https://t.co/wamZnGZQ90'],\n",
       "      dtype=object)"
      ]
     },
     "execution_count": 1153,
     "metadata": {},
     "output_type": "execute_result"
    }
   ],
   "source": [
    "top_tweets(tweet_topic_matrix_df ,'topic_19', 10)"
   ]
  },
  {
   "cell_type": "markdown",
   "metadata": {},
   "source": [
    "#### Topic 21: Self Help/Personal Development "
   ]
  },
  {
   "cell_type": "code",
   "execution_count": 1138,
   "metadata": {},
   "outputs": [
    {
     "data": {
      "text/plain": [
       "work        3.742456\n",
       "office      0.342709\n",
       "employee    0.254706\n",
       "book        0.189678\n",
       "art         0.156673\n",
       "future      0.145375\n",
       "artist      0.128030\n",
       "culture     0.125547\n",
       "writer      0.101765\n",
       "million     0.088929\n",
       "Name: topic_20, dtype: float64"
      ]
     },
     "execution_count": 1138,
     "metadata": {},
     "output_type": "execute_result"
    }
   ],
   "source": [
    "top_words(word_topic_matrix_df, 'topic_20', 10)"
   ]
  },
  {
   "cell_type": "code",
   "execution_count": 1110,
   "metadata": {},
   "outputs": [
    {
     "data": {
      "text/plain": [
       "array(['You can do better than \"so, how\\'s work?\" https://t.co/actInK3Kch (via @ForgeMag)',\n",
       "       '“How to Navigate Gaslighting at Work” by @MelodyWilding https://t.co/usukoeae2H',\n",
       "       'How to recognize gaslighting at work, and what to do about it (via @Monster) https://t.co/cdK85B7ilS',\n",
       "       'Come work with us! https://t.co/JgyrnWMv1s',\n",
       "       'If you want to do better, you have to put in the work to unlearn. Here’s why you should. (via @levelmag) https://t.co/yek8FXZakd',\n",
       "       'Are you putting your work out there? (via @forgemag) https://t.co/qCZv1clKXZ',\n",
       "       \"It's more critical than ever to take time off of work — here are 6 ways you can make the most of it (via @TheMuse) https://t.co/Fl5fjz5WsN\",\n",
       "       \"5 things mentally strong people do in work and life that seem counterintuitive (but they're not) (by @AmyMorinLCSW) https://t.co/BzLOgJHwxx\",\n",
       "       'You can only smile and nod at work for so long. Once you hit a wall, try this: https://t.co/1UPAOOG7OT (via @ForgeMag)',\n",
       "       'There’s much more work to be done to take down machismo (via @levelmag) https://t.co/a3uTONp1dC'],\n",
       "      dtype=object)"
      ]
     },
     "execution_count": 1110,
     "metadata": {},
     "output_type": "execute_result"
    }
   ],
   "source": [
    "top_tweets(tweet_topic_matrix_df ,'topic_20', 10)"
   ]
  },
  {
   "cell_type": "markdown",
   "metadata": {},
   "source": [
    "#### Topic 22: Covid Vaccine"
   ]
  },
  {
   "cell_type": "code",
   "execution_count": 1139,
   "metadata": {},
   "outputs": [
    {
     "data": {
      "text/plain": [
       "vaccine      4.071563\n",
       "trial        0.766587\n",
       "race         0.523424\n",
       "scientist    0.310418\n",
       "drug         0.260168\n",
       "expert       0.247861\n",
       "result       0.231465\n",
       "study        0.220344\n",
       "moderna      0.198513\n",
       "treatment    0.196012\n",
       "Name: topic_21, dtype: float64"
      ]
     },
     "execution_count": 1139,
     "metadata": {},
     "output_type": "execute_result"
    }
   ],
   "source": [
    "top_words(word_topic_matrix_df, 'topic_21', 10)"
   ]
  },
  {
   "cell_type": "code",
   "execution_count": 1154,
   "metadata": {},
   "outputs": [
    {
     "data": {
      "text/plain": [
       "array([\"Analysis: Most Americans won't be allowed to get a coronavirus vaccine as soon as it's approved https://t.co/G09G82RABV\",\n",
       "       'An inside look at why we are so far from a Covid-19 vaccine: https://t.co/dIJTex9Kx0',\n",
       "       'We could know if a vaccine works this month https://t.co/uauVAtqr6j',\n",
       "       'There will not be a vaccine soon. https://t.co/2ZsWd5NX4H https://t.co/QKF3NWNUVs',\n",
       "       '“The fastest vaccine we previously developed was for mumps, and that took four years to develop. And typically it takes 10 to 15 years to develop a vaccine. So 12 to 18 months would be record-breaking.” https://t.co/5iTJHk1irY',\n",
       "       'Perspective: Here’s how hard it will be to distribute a covid-19 vaccine https://t.co/0tJzLPwr7T',\n",
       "       'A world free of viruses is an impossibility, so deeply unachievable that its desirability is meaningless. But vaccines can make them less deadly https://t.co/eQYu3d511D',\n",
       "       'The WHO says healthy young people may not receive a COVID-19 vaccine until 2022 https://t.co/U3obE4nWgT',\n",
       "       '⚡️ “How close are we to having a Covid-19 vaccine?”\\n\\nhttps://t.co/H38f1LMI06',\n",
       "       'A coronavirus vaccine could split America https://t.co/cSifmls8S1'],\n",
       "      dtype=object)"
      ]
     },
     "execution_count": 1154,
     "metadata": {},
     "output_type": "execute_result"
    }
   ],
   "source": [
    "top_tweets(tweet_topic_matrix_df ,'topic_21', 10)"
   ]
  },
  {
   "cell_type": "markdown",
   "metadata": {},
   "source": [
    "#### Topic 23: Personal Finance"
   ]
  },
  {
   "cell_type": "code",
   "execution_count": 1140,
   "metadata": {},
   "outputs": [
    {
     "data": {
      "text/plain": [
       "money       3.836114\n",
       "bank        0.383004\n",
       "campaign    0.310305\n",
       "talks       0.287988\n",
       "plan        0.239425\n",
       "lot         0.191232\n",
       "fund        0.188333\n",
       "food        0.182691\n",
       "service     0.176819\n",
       "loan        0.168607\n",
       "Name: topic_22, dtype: float64"
      ]
     },
     "execution_count": 1140,
     "metadata": {},
     "output_type": "execute_result"
    }
   ],
   "source": [
    "top_words(word_topic_matrix_df, 'topic_22', 10)"
   ]
  },
  {
   "cell_type": "code",
   "execution_count": 1114,
   "metadata": {},
   "outputs": [
    {
     "data": {
      "text/plain": [
       "array(['Economists would have to consider two questions: how much to pay, and how best to spend the money https://t.co/RSz2HcOauG',\n",
       "       'When you come into money, “the first thing to do is nothing\" https://t.co/HbqoMoP1mZ',\n",
       "       \"Analysis: Who's got money https://t.co/5scEJ3DDy9\",\n",
       "       '\"Ever since we combined our money, we’ve been fighting all the time.\" (via @forgemag) https://t.co/kunlK7zOdZ',\n",
       "       'How will you manage your money post Covid-19? https://t.co/XZFCCAKbLV',\n",
       "       '\"I always think about losing money as opposed to making money.\" https://t.co/oXqfjvRL6P',\n",
       "       \"Don't worry about moving money around just yet https://t.co/RgV4tiflIb\",\n",
       "       \"If you need to wire money, here's what you should expect https://t.co/vtrzj8nnbm\",\n",
       "       \"Some super rich people don't believe it's greedy to want to have more money https://t.co/jO3VyEjYb9\",\n",
       "       '\"If you want to be successful, you must be able to account for how much and where you are spending your money\" https://t.co/mwwnFAzwUM'],\n",
       "      dtype=object)"
      ]
     },
     "execution_count": 1114,
     "metadata": {},
     "output_type": "execute_result"
    }
   ],
   "source": [
    "top_tweets(tweet_topic_matrix_df ,'topic_22', 10)"
   ]
  },
  {
   "cell_type": "markdown",
   "metadata": {},
   "source": [
    "#### Topic 24: Parenting"
   ]
  },
  {
   "cell_type": "code",
   "execution_count": 1141,
   "metadata": {},
   "outputs": [
    {
     "data": {
      "text/plain": [
       "child     2.766167\n",
       "family    1.701499\n",
       "parent    0.876250\n",
       "book      0.501610\n",
       "kid       0.325226\n",
       "friend    0.232816\n",
       "adult     0.190135\n",
       "member    0.185940\n",
       "mother    0.184778\n",
       "doctor    0.161029\n",
       "Name: topic_23, dtype: float64"
      ]
     },
     "execution_count": 1141,
     "metadata": {},
     "output_type": "execute_result"
    }
   ],
   "source": [
    "top_words(word_topic_matrix_df, 'topic_23', 10)"
   ]
  },
  {
   "cell_type": "code",
   "execution_count": 1116,
   "metadata": {},
   "outputs": [
    {
     "data": {
      "text/plain": [
       "array(['This is what happens when children are forcibly separated from their families https://t.co/IBVNYNQ8kz',\n",
       "       'Sometimes children just need to fail https://t.co/a6A1Ol91uk',\n",
       "       'The 19 children he never expected to meet https://t.co/wWiStILqLe',\n",
       "       'You may be asking yourself: How will I even know if my child is learning anything this year?\\n\\nRead the full story from the New York Times on Medium: https://t.co/SdEFHM8XoI',\n",
       "       'What to do if your child may have been exposed to Covid-19 https://t.co/AujWkGUs44',\n",
       "       \"There's no *one thing* that will make it easier to travel with small children. But there are a few things that can help.  https://t.co/mPomsv8cN5\",\n",
       "       'He grew up with a 1962 Starfire, and so did his children https://t.co/uNsBLcp3B8',\n",
       "       '“Will I Ever Have a Child?” by @jessicaolien https://t.co/opDpcmSg8P',\n",
       "       'There were 343,000 children in orphanages in 2018, down from 570,000 in 2012 https://t.co/BBX8k6bxAu',\n",
       "       'How to raise a successful child https://t.co/KbEcWN7hYd'],\n",
       "      dtype=object)"
      ]
     },
     "execution_count": 1116,
     "metadata": {},
     "output_type": "execute_result"
    }
   ],
   "source": [
    "top_tweets(tweet_topic_matrix_df ,'topic_23', 10)"
   ]
  },
  {
   "cell_type": "markdown",
   "metadata": {},
   "source": [
    "#### Topic 25: Cars"
   ]
  },
  {
   "cell_type": "code",
   "execution_count": 1142,
   "metadata": {},
   "outputs": [
    {
     "data": {
      "text/plain": [
       "car         3.556341\n",
       "tesla       0.563101\n",
       "future      0.408068\n",
       "part        0.390078\n",
       "vehicle     0.273689\n",
       "model       0.244636\n",
       "elon        0.243519\n",
       "musk        0.239596\n",
       "sport       0.220870\n",
       "industry    0.186143\n",
       "Name: topic_24, dtype: float64"
      ]
     },
     "execution_count": 1142,
     "metadata": {},
     "output_type": "execute_result"
    }
   ],
   "source": [
    "top_words(word_topic_matrix_df, 'topic_24', 10)"
   ]
  },
  {
   "cell_type": "code",
   "execution_count": 1118,
   "metadata": {},
   "outputs": [
    {
     "data": {
      "text/plain": [
       "array(['Could this be what cars look like in 2030? https://t.co/LxWMXNFpQd',\n",
       "       'Which of these electric cars would you be more inclined to buy? https://t.co/0eyzGMTiuW',\n",
       "       'This fully autonomous car offers a new way of hailing a cab https://t.co/FxNb6q8v51',\n",
       "       'Forget cars. These are the world’s 20 most bicycle-friendly cities. https://t.co/UQQaYeaHYX',\n",
       "       'This is Genesis’ interpretation of an all-electric city car https://t.co/bmN5NkYDN3',\n",
       "       \"Lamborghini's first hybrid isn't actually that eco-friendly \\n\\nLearn more about cars on @PrimeVideo: https://t.co/RbjMwOjvaG https://t.co/AeABM4TaSQ\",\n",
       "       'How soon until we have self-driving cars? https://t.co/othCz7LA2u',\n",
       "       'The SYMBIOZ is the smartest car https://t.co/gWYKTKay7W',\n",
       "       'Check out how a car is transformed into a limousine https://t.co/xxYZV3mzSB',\n",
       "       'Driverless cars could be coming sooner than you think — are you ready? https://t.co/bDnS1JMXuw'],\n",
       "      dtype=object)"
      ]
     },
     "execution_count": 1118,
     "metadata": {},
     "output_type": "execute_result"
    }
   ],
   "source": [
    "top_tweets(tweet_topic_matrix_df ,'topic_24', 10)"
   ]
  },
  {
   "cell_type": "markdown",
   "metadata": {},
   "source": [
    "#### Topic 26: Global Lockdowns"
   ]
  },
  {
   "cell_type": "code",
   "execution_count": 1143,
   "metadata": {},
   "outputs": [
    {
     "data": {
      "text/plain": [
       "lockdown       2.177992\n",
       "outbreak       1.867530\n",
       "infection      1.008798\n",
       "rate           0.799333\n",
       "white          0.689594\n",
       "test           0.650918\n",
       "europe         0.509286\n",
       "restriction    0.466554\n",
       "place          0.458110\n",
       "datum          0.387824\n",
       "Name: topic_25, dtype: float64"
      ]
     },
     "execution_count": 1143,
     "metadata": {},
     "output_type": "execute_result"
    }
   ],
   "source": [
    "top_words(word_topic_matrix_df, 'topic_25', 10)"
   ]
  },
  {
   "cell_type": "code",
   "execution_count": 1121,
   "metadata": {
    "scrolled": false
   },
   "outputs": [
    {
     "data": {
      "text/plain": [
       "array(['The Scottish government has reimposed Covid-19 lockdown restrictions in the north-eastern city of Aberdeen following a “significant outbreak” in infections https://t.co/02G82JfG6d',\n",
       "       'Italy underestimated the coronavirus outbreak at first, then officials ordered a national lockdown to contain it.\\n\\nA month later, officials warn it is still too soon to reopen. https://t.co/7wfdPtWeaw',\n",
       "       'Concerns rise that easing lockdowns could spur new outbreaks of the coronavirus that has claimed more than 114,000 lives globally https://t.co/CzxFX6iKsz',\n",
       "       'The coronavirus outbreak in the U.S. right now rivals any in the world.\\n\\nIt has been surging since mid-June, and the country’s rate of infection now puts it squarely in the top 10 countries with the worst outbreaks. https://t.co/fEPcbyzm9j',\n",
       "       'Coronavirus infections could surge back if lockdowns are eased too soon, WHO’s director-general says https://t.co/Z76qt7Qy85',\n",
       "       'The first thing I’ll do after lockdown is... https://t.co/WtX49SiZ4z',\n",
       "       '\"It’s not really acceptable to have a mullet most of the time. But we went into lockdown, so things changed.\" https://t.co/RvyGcOwc65',\n",
       "       'New York City plans to reinstate some lockdowns as Covid surges https://t.co/7yQfuYzz5r',\n",
       "       'From @WSJopinion: As the lockdown forces us to turn inward, we rethink what’s important and what we were meant to do, writes @peggynoonannyc https://t.co/MP6xemZGGf',\n",
       "       'Perspective: How to listen alone in a lockdown https://t.co/XRYp6sv6s2'],\n",
       "      dtype=object)"
      ]
     },
     "execution_count": 1121,
     "metadata": {},
     "output_type": "execute_result"
    }
   ],
   "source": [
    "top_tweets(tweet_topic_matrix_df ,'topic_25', 10)"
   ]
  },
  {
   "cell_type": "code",
   "execution_count": null,
   "metadata": {},
   "outputs": [],
   "source": []
  },
  {
   "cell_type": "markdown",
   "metadata": {},
   "source": [
    "### Word Clouds: \n",
    "Let's visually plot out some of our topics"
   ]
  },
  {
   "cell_type": "code",
   "execution_count": 1174,
   "metadata": {},
   "outputs": [
    {
     "data": {
      "text/html": [
       "<div>\n",
       "<style scoped>\n",
       "    .dataframe tbody tr th:only-of-type {\n",
       "        vertical-align: middle;\n",
       "    }\n",
       "\n",
       "    .dataframe tbody tr th {\n",
       "        vertical-align: top;\n",
       "    }\n",
       "\n",
       "    .dataframe thead th {\n",
       "        text-align: right;\n",
       "    }\n",
       "</style>\n",
       "<table border=\"1\" class=\"dataframe\">\n",
       "  <thead>\n",
       "    <tr style=\"text-align: right;\">\n",
       "      <th></th>\n",
       "      <th>topic_0</th>\n",
       "      <th>topic_1</th>\n",
       "      <th>topic_2</th>\n",
       "      <th>topic_3</th>\n",
       "      <th>topic_4</th>\n",
       "      <th>topic_5</th>\n",
       "      <th>topic_6</th>\n",
       "      <th>topic_7</th>\n",
       "      <th>topic_8</th>\n",
       "      <th>topic_9</th>\n",
       "      <th>...</th>\n",
       "      <th>topic_16</th>\n",
       "      <th>topic_17</th>\n",
       "      <th>topic_18</th>\n",
       "      <th>topic_19</th>\n",
       "      <th>topic_20</th>\n",
       "      <th>topic_21</th>\n",
       "      <th>topic_22</th>\n",
       "      <th>topic_23</th>\n",
       "      <th>topic_24</th>\n",
       "      <th>topic_25</th>\n",
       "    </tr>\n",
       "  </thead>\n",
       "  <tbody>\n",
       "    <tr>\n",
       "      <th>aaron</th>\n",
       "      <td>0.000000</td>\n",
       "      <td>0.0</td>\n",
       "      <td>0.000000</td>\n",
       "      <td>0.000284</td>\n",
       "      <td>0.00000</td>\n",
       "      <td>0.000000</td>\n",
       "      <td>0.001014</td>\n",
       "      <td>0.000000</td>\n",
       "      <td>0.000000</td>\n",
       "      <td>0.001849</td>\n",
       "      <td>...</td>\n",
       "      <td>0.000000</td>\n",
       "      <td>0.000000</td>\n",
       "      <td>0.001134</td>\n",
       "      <td>0.000586</td>\n",
       "      <td>0.002180</td>\n",
       "      <td>0.001945</td>\n",
       "      <td>0.000155</td>\n",
       "      <td>0.001769</td>\n",
       "      <td>0.000007</td>\n",
       "      <td>0.002193</td>\n",
       "    </tr>\n",
       "    <tr>\n",
       "      <th>ab</th>\n",
       "      <td>0.000000</td>\n",
       "      <td>0.0</td>\n",
       "      <td>0.000605</td>\n",
       "      <td>0.000045</td>\n",
       "      <td>0.00002</td>\n",
       "      <td>0.001123</td>\n",
       "      <td>0.000000</td>\n",
       "      <td>0.000224</td>\n",
       "      <td>0.000000</td>\n",
       "      <td>0.000059</td>\n",
       "      <td>...</td>\n",
       "      <td>0.000264</td>\n",
       "      <td>0.000065</td>\n",
       "      <td>0.000271</td>\n",
       "      <td>0.000147</td>\n",
       "      <td>0.000253</td>\n",
       "      <td>0.000000</td>\n",
       "      <td>0.000250</td>\n",
       "      <td>0.000004</td>\n",
       "      <td>0.000743</td>\n",
       "      <td>0.000119</td>\n",
       "    </tr>\n",
       "    <tr>\n",
       "      <th>abbey</th>\n",
       "      <td>0.000000</td>\n",
       "      <td>0.0</td>\n",
       "      <td>0.000003</td>\n",
       "      <td>0.000013</td>\n",
       "      <td>0.00000</td>\n",
       "      <td>0.000000</td>\n",
       "      <td>0.000055</td>\n",
       "      <td>0.000431</td>\n",
       "      <td>0.000394</td>\n",
       "      <td>0.000035</td>\n",
       "      <td>...</td>\n",
       "      <td>0.000033</td>\n",
       "      <td>0.000000</td>\n",
       "      <td>0.000062</td>\n",
       "      <td>0.000000</td>\n",
       "      <td>0.000417</td>\n",
       "      <td>0.000249</td>\n",
       "      <td>0.000108</td>\n",
       "      <td>0.000177</td>\n",
       "      <td>0.000523</td>\n",
       "      <td>0.000200</td>\n",
       "    </tr>\n",
       "    <tr>\n",
       "      <th>abbott</th>\n",
       "      <td>0.004519</td>\n",
       "      <td>0.0</td>\n",
       "      <td>0.001447</td>\n",
       "      <td>0.000000</td>\n",
       "      <td>0.00498</td>\n",
       "      <td>0.000000</td>\n",
       "      <td>0.000000</td>\n",
       "      <td>0.000000</td>\n",
       "      <td>0.000000</td>\n",
       "      <td>0.003052</td>\n",
       "      <td>...</td>\n",
       "      <td>0.001374</td>\n",
       "      <td>0.000000</td>\n",
       "      <td>0.000000</td>\n",
       "      <td>0.000000</td>\n",
       "      <td>0.000000</td>\n",
       "      <td>0.006988</td>\n",
       "      <td>0.000000</td>\n",
       "      <td>0.000000</td>\n",
       "      <td>0.000000</td>\n",
       "      <td>0.012121</td>\n",
       "    </tr>\n",
       "    <tr>\n",
       "      <th>abby</th>\n",
       "      <td>0.000000</td>\n",
       "      <td>0.0</td>\n",
       "      <td>0.000000</td>\n",
       "      <td>0.000000</td>\n",
       "      <td>0.00000</td>\n",
       "      <td>0.000000</td>\n",
       "      <td>0.000000</td>\n",
       "      <td>0.000000</td>\n",
       "      <td>0.000000</td>\n",
       "      <td>0.000000</td>\n",
       "      <td>...</td>\n",
       "      <td>0.000000</td>\n",
       "      <td>0.004554</td>\n",
       "      <td>0.000000</td>\n",
       "      <td>0.000000</td>\n",
       "      <td>0.000000</td>\n",
       "      <td>0.000000</td>\n",
       "      <td>0.006944</td>\n",
       "      <td>0.001769</td>\n",
       "      <td>0.000000</td>\n",
       "      <td>0.000000</td>\n",
       "    </tr>\n",
       "  </tbody>\n",
       "</table>\n",
       "<p>5 rows × 26 columns</p>\n",
       "</div>"
      ],
      "text/plain": [
       "         topic_0  topic_1   topic_2   topic_3  topic_4   topic_5   topic_6  \\\n",
       "aaron   0.000000      0.0  0.000000  0.000284  0.00000  0.000000  0.001014   \n",
       "ab      0.000000      0.0  0.000605  0.000045  0.00002  0.001123  0.000000   \n",
       "abbey   0.000000      0.0  0.000003  0.000013  0.00000  0.000000  0.000055   \n",
       "abbott  0.004519      0.0  0.001447  0.000000  0.00498  0.000000  0.000000   \n",
       "abby    0.000000      0.0  0.000000  0.000000  0.00000  0.000000  0.000000   \n",
       "\n",
       "         topic_7   topic_8   topic_9  ...  topic_16  topic_17  topic_18  \\\n",
       "aaron   0.000000  0.000000  0.001849  ...  0.000000  0.000000  0.001134   \n",
       "ab      0.000224  0.000000  0.000059  ...  0.000264  0.000065  0.000271   \n",
       "abbey   0.000431  0.000394  0.000035  ...  0.000033  0.000000  0.000062   \n",
       "abbott  0.000000  0.000000  0.003052  ...  0.001374  0.000000  0.000000   \n",
       "abby    0.000000  0.000000  0.000000  ...  0.000000  0.004554  0.000000   \n",
       "\n",
       "        topic_19  topic_20  topic_21  topic_22  topic_23  topic_24  topic_25  \n",
       "aaron   0.000586  0.002180  0.001945  0.000155  0.001769  0.000007  0.002193  \n",
       "ab      0.000147  0.000253  0.000000  0.000250  0.000004  0.000743  0.000119  \n",
       "abbey   0.000000  0.000417  0.000249  0.000108  0.000177  0.000523  0.000200  \n",
       "abbott  0.000000  0.000000  0.006988  0.000000  0.000000  0.000000  0.012121  \n",
       "abby    0.000000  0.000000  0.000000  0.006944  0.001769  0.000000  0.000000  \n",
       "\n",
       "[5 rows x 26 columns]"
      ]
     },
     "execution_count": 1174,
     "metadata": {},
     "output_type": "execute_result"
    }
   ],
   "source": [
    "word_topic_matrix_df.head()"
   ]
  },
  {
   "cell_type": "code",
   "execution_count": 1175,
   "metadata": {},
   "outputs": [],
   "source": [
    "#rename each topic column with our topic names:\n",
    "topics = ['Trump', 'Pandemic_Impact', 'Business', 'Biden', \n",
    "          'Covid_Spread', 'China', 'US_Election', 'Work_From_Home', \n",
    "          'Stock_Market', 'Police_Protests', 'Health_Wellness', \n",
    "          'US_Supreme_Court', 'Gender_Equality', 'Economy', 'Education', \n",
    "          'Brexit_EU', 'Climate_Change', '(Un)employeement', 'Technology', \n",
    "          'Hong_Kong', 'Self-Help', 'Covid_Vaccine', 'Personal_Finance', \n",
    "          'Parenting', 'Cars', 'Global_Lockdown']\n",
    "word_topic_matrix_df.columns = topics"
   ]
  },
  {
   "cell_type": "code",
   "execution_count": 1176,
   "metadata": {
    "scrolled": true
   },
   "outputs": [
    {
     "data": {
      "text/html": [
       "<div>\n",
       "<style scoped>\n",
       "    .dataframe tbody tr th:only-of-type {\n",
       "        vertical-align: middle;\n",
       "    }\n",
       "\n",
       "    .dataframe tbody tr th {\n",
       "        vertical-align: top;\n",
       "    }\n",
       "\n",
       "    .dataframe thead th {\n",
       "        text-align: right;\n",
       "    }\n",
       "</style>\n",
       "<table border=\"1\" class=\"dataframe\">\n",
       "  <thead>\n",
       "    <tr style=\"text-align: right;\">\n",
       "      <th></th>\n",
       "      <th>Trump</th>\n",
       "      <th>Pandemic_Impact</th>\n",
       "      <th>Business</th>\n",
       "      <th>Biden</th>\n",
       "      <th>Covid_Spread</th>\n",
       "      <th>China</th>\n",
       "      <th>US_Election</th>\n",
       "      <th>Work_From_Home</th>\n",
       "      <th>Stock_Market</th>\n",
       "      <th>Police_Protests</th>\n",
       "      <th>...</th>\n",
       "      <th>Climate_Change</th>\n",
       "      <th>(Un)employeement</th>\n",
       "      <th>Technology</th>\n",
       "      <th>Hong_Kong</th>\n",
       "      <th>Self-Help</th>\n",
       "      <th>Covid_Vaccine</th>\n",
       "      <th>Personal_Finance</th>\n",
       "      <th>Parenting</th>\n",
       "      <th>Cars</th>\n",
       "      <th>Global_Lockdown</th>\n",
       "    </tr>\n",
       "  </thead>\n",
       "  <tbody>\n",
       "    <tr>\n",
       "      <th>aaron</th>\n",
       "      <td>0.000000</td>\n",
       "      <td>0.0</td>\n",
       "      <td>0.000000</td>\n",
       "      <td>0.000284</td>\n",
       "      <td>0.00000</td>\n",
       "      <td>0.000000</td>\n",
       "      <td>0.001014</td>\n",
       "      <td>0.000000</td>\n",
       "      <td>0.000000</td>\n",
       "      <td>0.001849</td>\n",
       "      <td>...</td>\n",
       "      <td>0.000000</td>\n",
       "      <td>0.000000</td>\n",
       "      <td>0.001134</td>\n",
       "      <td>0.000586</td>\n",
       "      <td>0.002180</td>\n",
       "      <td>0.001945</td>\n",
       "      <td>0.000155</td>\n",
       "      <td>0.001769</td>\n",
       "      <td>0.000007</td>\n",
       "      <td>0.002193</td>\n",
       "    </tr>\n",
       "    <tr>\n",
       "      <th>ab</th>\n",
       "      <td>0.000000</td>\n",
       "      <td>0.0</td>\n",
       "      <td>0.000605</td>\n",
       "      <td>0.000045</td>\n",
       "      <td>0.00002</td>\n",
       "      <td>0.001123</td>\n",
       "      <td>0.000000</td>\n",
       "      <td>0.000224</td>\n",
       "      <td>0.000000</td>\n",
       "      <td>0.000059</td>\n",
       "      <td>...</td>\n",
       "      <td>0.000264</td>\n",
       "      <td>0.000065</td>\n",
       "      <td>0.000271</td>\n",
       "      <td>0.000147</td>\n",
       "      <td>0.000253</td>\n",
       "      <td>0.000000</td>\n",
       "      <td>0.000250</td>\n",
       "      <td>0.000004</td>\n",
       "      <td>0.000743</td>\n",
       "      <td>0.000119</td>\n",
       "    </tr>\n",
       "    <tr>\n",
       "      <th>abbey</th>\n",
       "      <td>0.000000</td>\n",
       "      <td>0.0</td>\n",
       "      <td>0.000003</td>\n",
       "      <td>0.000013</td>\n",
       "      <td>0.00000</td>\n",
       "      <td>0.000000</td>\n",
       "      <td>0.000055</td>\n",
       "      <td>0.000431</td>\n",
       "      <td>0.000394</td>\n",
       "      <td>0.000035</td>\n",
       "      <td>...</td>\n",
       "      <td>0.000033</td>\n",
       "      <td>0.000000</td>\n",
       "      <td>0.000062</td>\n",
       "      <td>0.000000</td>\n",
       "      <td>0.000417</td>\n",
       "      <td>0.000249</td>\n",
       "      <td>0.000108</td>\n",
       "      <td>0.000177</td>\n",
       "      <td>0.000523</td>\n",
       "      <td>0.000200</td>\n",
       "    </tr>\n",
       "    <tr>\n",
       "      <th>abbott</th>\n",
       "      <td>0.004519</td>\n",
       "      <td>0.0</td>\n",
       "      <td>0.001447</td>\n",
       "      <td>0.000000</td>\n",
       "      <td>0.00498</td>\n",
       "      <td>0.000000</td>\n",
       "      <td>0.000000</td>\n",
       "      <td>0.000000</td>\n",
       "      <td>0.000000</td>\n",
       "      <td>0.003052</td>\n",
       "      <td>...</td>\n",
       "      <td>0.001374</td>\n",
       "      <td>0.000000</td>\n",
       "      <td>0.000000</td>\n",
       "      <td>0.000000</td>\n",
       "      <td>0.000000</td>\n",
       "      <td>0.006988</td>\n",
       "      <td>0.000000</td>\n",
       "      <td>0.000000</td>\n",
       "      <td>0.000000</td>\n",
       "      <td>0.012121</td>\n",
       "    </tr>\n",
       "    <tr>\n",
       "      <th>abby</th>\n",
       "      <td>0.000000</td>\n",
       "      <td>0.0</td>\n",
       "      <td>0.000000</td>\n",
       "      <td>0.000000</td>\n",
       "      <td>0.00000</td>\n",
       "      <td>0.000000</td>\n",
       "      <td>0.000000</td>\n",
       "      <td>0.000000</td>\n",
       "      <td>0.000000</td>\n",
       "      <td>0.000000</td>\n",
       "      <td>...</td>\n",
       "      <td>0.000000</td>\n",
       "      <td>0.004554</td>\n",
       "      <td>0.000000</td>\n",
       "      <td>0.000000</td>\n",
       "      <td>0.000000</td>\n",
       "      <td>0.000000</td>\n",
       "      <td>0.006944</td>\n",
       "      <td>0.001769</td>\n",
       "      <td>0.000000</td>\n",
       "      <td>0.000000</td>\n",
       "    </tr>\n",
       "  </tbody>\n",
       "</table>\n",
       "<p>5 rows × 26 columns</p>\n",
       "</div>"
      ],
      "text/plain": [
       "           Trump  Pandemic_Impact  Business     Biden  Covid_Spread     China  \\\n",
       "aaron   0.000000              0.0  0.000000  0.000284       0.00000  0.000000   \n",
       "ab      0.000000              0.0  0.000605  0.000045       0.00002  0.001123   \n",
       "abbey   0.000000              0.0  0.000003  0.000013       0.00000  0.000000   \n",
       "abbott  0.004519              0.0  0.001447  0.000000       0.00498  0.000000   \n",
       "abby    0.000000              0.0  0.000000  0.000000       0.00000  0.000000   \n",
       "\n",
       "        US_Election  Work_From_Home  Stock_Market  Police_Protests  ...  \\\n",
       "aaron      0.001014        0.000000      0.000000         0.001849  ...   \n",
       "ab         0.000000        0.000224      0.000000         0.000059  ...   \n",
       "abbey      0.000055        0.000431      0.000394         0.000035  ...   \n",
       "abbott     0.000000        0.000000      0.000000         0.003052  ...   \n",
       "abby       0.000000        0.000000      0.000000         0.000000  ...   \n",
       "\n",
       "        Climate_Change  (Un)employeement  Technology  Hong_Kong  Self-Help  \\\n",
       "aaron         0.000000          0.000000    0.001134   0.000586   0.002180   \n",
       "ab            0.000264          0.000065    0.000271   0.000147   0.000253   \n",
       "abbey         0.000033          0.000000    0.000062   0.000000   0.000417   \n",
       "abbott        0.001374          0.000000    0.000000   0.000000   0.000000   \n",
       "abby          0.000000          0.004554    0.000000   0.000000   0.000000   \n",
       "\n",
       "        Covid_Vaccine  Personal_Finance  Parenting      Cars  Global_Lockdown  \n",
       "aaron        0.001945          0.000155   0.001769  0.000007         0.002193  \n",
       "ab           0.000000          0.000250   0.000004  0.000743         0.000119  \n",
       "abbey        0.000249          0.000108   0.000177  0.000523         0.000200  \n",
       "abbott       0.006988          0.000000   0.000000  0.000000         0.012121  \n",
       "abby         0.000000          0.006944   0.001769  0.000000         0.000000  \n",
       "\n",
       "[5 rows x 26 columns]"
      ]
     },
     "execution_count": 1176,
     "metadata": {},
     "output_type": "execute_result"
    }
   ],
   "source": [
    "word_topic_matrix_df.head()"
   ]
  },
  {
   "cell_type": "code",
   "execution_count": null,
   "metadata": {},
   "outputs": [],
   "source": [
    "clean_words = ' '.join([doc for doc in df['Trump', '' ]])\n",
    "\n",
    "wordcloud = WordCloud(width = 900, height = 700, \n",
    "                background_color ='black', \n",
    "                min_font_size = 10).generate(clean_words) \n",
    "  \n",
    "# plot word cloud                        \n",
    "plt.figure(figsize = (8, 8), facecolor = None) \n",
    "plt.imshow(wordcloud) \n",
    "plt.axis(\"off\") \n",
    "plt.tight_layout(pad = 0) \n",
    "plt.savefig('wordcloud.png', dpi=300)"
   ]
  },
  {
   "cell_type": "markdown",
   "metadata": {},
   "source": [
    "### Recommender System\n",
    "Let's clean up out tweet_topic_matrix_df, take a look at the topic vector for each outlet, and create our recommender system."
   ]
  },
  {
   "cell_type": "code",
   "execution_count": 5,
   "metadata": {},
   "outputs": [
    {
     "data": {
      "text/plain": [
       "Index(['topic_0', 'topic_1', 'topic_2', 'topic_3', 'topic_4', 'topic_5',\n",
       "       'topic_6', 'topic_7', 'topic_8', 'topic_9', 'topic_10', 'topic_11',\n",
       "       'topic_12', 'topic_13', 'topic_14', 'topic_15', 'topic_16', 'topic_17',\n",
       "       'topic_18', 'topic_19', 'topic_20', 'topic_21', 'topic_22', 'topic_23',\n",
       "       'topic_24', 'topic_25', 'content', 'clean_final', 'outlet'],\n",
       "      dtype='object')"
      ]
     },
     "execution_count": 5,
     "metadata": {},
     "output_type": "execute_result"
    }
   ],
   "source": [
    "tweet_topic_matrix_df.columns"
   ]
  },
  {
   "cell_type": "code",
   "execution_count": 6,
   "metadata": {},
   "outputs": [],
   "source": [
    "#rename each topic column with our topic names:\n",
    "topics = ['Trump', 'Pandemic_Impact', 'Business', 'Biden', \n",
    "          'Covid_Spread', 'China', 'US_Election', 'Work_From_Home', \n",
    "          'Stock_Market', 'Police_Protests', 'Health_Wellness', \n",
    "          'US_Supreme_Court', 'Gender_Equality', 'Economy', 'Education', \n",
    "          'Brexit_EU', 'Climate_Change', '(Un)employeement', 'Technology', \n",
    "          'Hong_Kong', 'Self-Help', 'Covid_Vaccine', 'Personal_Finance', \n",
    "          'Parenting', 'Cars', 'Global_Lockdown', 'content', 'clean_final', 'outlet']\n",
    "tweet_topic_matrix_df.columns = topics\n"
   ]
  },
  {
   "cell_type": "code",
   "execution_count": 7,
   "metadata": {},
   "outputs": [],
   "source": [
    "#reindex the columns for easier viewing\n",
    "cols = tweet_topic_matrix_df.columns.tolist()\n",
    "\n",
    "cols.insert(0, cols.pop(cols.index('outlet')))\n",
    "cols.insert(1, cols.pop(cols.index('content')))\n",
    "cols.insert(2, cols.pop(cols.index('clean_final')))\n",
    "\n",
    "tweet_topic_matrix_df= tweet_topic_matrix_df.reindex(columns= cols)"
   ]
  },
  {
   "cell_type": "code",
   "execution_count": 8,
   "metadata": {
    "scrolled": true
   },
   "outputs": [
    {
     "data": {
      "text/html": [
       "<div>\n",
       "<style scoped>\n",
       "    .dataframe tbody tr th:only-of-type {\n",
       "        vertical-align: middle;\n",
       "    }\n",
       "\n",
       "    .dataframe tbody tr th {\n",
       "        vertical-align: top;\n",
       "    }\n",
       "\n",
       "    .dataframe thead th {\n",
       "        text-align: right;\n",
       "    }\n",
       "</style>\n",
       "<table border=\"1\" class=\"dataframe\">\n",
       "  <thead>\n",
       "    <tr style=\"text-align: right;\">\n",
       "      <th></th>\n",
       "      <th>outlet</th>\n",
       "      <th>content</th>\n",
       "      <th>clean_final</th>\n",
       "      <th>Trump</th>\n",
       "      <th>Pandemic_Impact</th>\n",
       "      <th>Business</th>\n",
       "      <th>Biden</th>\n",
       "      <th>Covid_Spread</th>\n",
       "      <th>China</th>\n",
       "      <th>US_Election</th>\n",
       "      <th>...</th>\n",
       "      <th>Climate_Change</th>\n",
       "      <th>(Un)employeement</th>\n",
       "      <th>Technology</th>\n",
       "      <th>Hong_Kong</th>\n",
       "      <th>Self-Help</th>\n",
       "      <th>Covid_Vaccine</th>\n",
       "      <th>Personal_Finance</th>\n",
       "      <th>Parenting</th>\n",
       "      <th>Cars</th>\n",
       "      <th>Global_Lockdown</th>\n",
       "    </tr>\n",
       "  </thead>\n",
       "  <tbody>\n",
       "    <tr>\n",
       "      <th>0</th>\n",
       "      <td>TheAtlantic</td>\n",
       "      <td>The Atlantic Daily: Will this decade be the ne...</td>\n",
       "      <td>decade s</td>\n",
       "      <td>0.000000</td>\n",
       "      <td>0.000453</td>\n",
       "      <td>0.000193</td>\n",
       "      <td>0.000199</td>\n",
       "      <td>0.000000</td>\n",
       "      <td>0.003599</td>\n",
       "      <td>0.000000</td>\n",
       "      <td>...</td>\n",
       "      <td>0.007431</td>\n",
       "      <td>0.002398</td>\n",
       "      <td>0.000584</td>\n",
       "      <td>0.000000</td>\n",
       "      <td>0.002143</td>\n",
       "      <td>0.000363</td>\n",
       "      <td>0.000000</td>\n",
       "      <td>0.00271</td>\n",
       "      <td>0.001237</td>\n",
       "      <td>0.000733</td>\n",
       "    </tr>\n",
       "    <tr>\n",
       "      <th>1</th>\n",
       "      <td>TheAtlantic</td>\n",
       "      <td>There's plenty that's going wrong for Trump. H...</td>\n",
       "      <td>trump campaign gap joe biden</td>\n",
       "      <td>0.043749</td>\n",
       "      <td>0.000000</td>\n",
       "      <td>0.000000</td>\n",
       "      <td>0.122931</td>\n",
       "      <td>0.000000</td>\n",
       "      <td>0.000000</td>\n",
       "      <td>0.000370</td>\n",
       "      <td>...</td>\n",
       "      <td>0.000000</td>\n",
       "      <td>0.000000</td>\n",
       "      <td>0.000000</td>\n",
       "      <td>0.000000</td>\n",
       "      <td>0.000000</td>\n",
       "      <td>0.000000</td>\n",
       "      <td>0.005413</td>\n",
       "      <td>0.00000</td>\n",
       "      <td>0.000000</td>\n",
       "      <td>0.000000</td>\n",
       "    </tr>\n",
       "    <tr>\n",
       "      <th>2</th>\n",
       "      <td>TheAtlantic</td>\n",
       "      <td>If Trump tries to steal the election, people w...</td>\n",
       "      <td>trump election people coup strategy</td>\n",
       "      <td>0.042045</td>\n",
       "      <td>0.000000</td>\n",
       "      <td>0.000000</td>\n",
       "      <td>0.000000</td>\n",
       "      <td>0.000000</td>\n",
       "      <td>0.000000</td>\n",
       "      <td>0.083164</td>\n",
       "      <td>...</td>\n",
       "      <td>0.000000</td>\n",
       "      <td>0.000000</td>\n",
       "      <td>0.000000</td>\n",
       "      <td>0.000000</td>\n",
       "      <td>0.000000</td>\n",
       "      <td>0.000000</td>\n",
       "      <td>0.000000</td>\n",
       "      <td>0.00000</td>\n",
       "      <td>0.000000</td>\n",
       "      <td>0.000000</td>\n",
       "    </tr>\n",
       "    <tr>\n",
       "      <th>3</th>\n",
       "      <td>TheAtlantic</td>\n",
       "      <td>The Trump campaign's “election-security operat...</td>\n",
       "      <td>campaign electionsecurity operation element pr...</td>\n",
       "      <td>0.001484</td>\n",
       "      <td>0.000247</td>\n",
       "      <td>0.000750</td>\n",
       "      <td>0.008520</td>\n",
       "      <td>0.000363</td>\n",
       "      <td>0.001000</td>\n",
       "      <td>0.005066</td>\n",
       "      <td>...</td>\n",
       "      <td>0.000179</td>\n",
       "      <td>0.000000</td>\n",
       "      <td>0.003071</td>\n",
       "      <td>0.000214</td>\n",
       "      <td>0.000000</td>\n",
       "      <td>0.000084</td>\n",
       "      <td>0.006802</td>\n",
       "      <td>0.00000</td>\n",
       "      <td>0.000000</td>\n",
       "      <td>0.001548</td>\n",
       "    </tr>\n",
       "    <tr>\n",
       "      <th>4</th>\n",
       "      <td>TheAtlantic</td>\n",
       "      <td>Even if Joe Biden wins decisively next week, t...</td>\n",
       "      <td>joe biden decade america extent civil war</td>\n",
       "      <td>0.000000</td>\n",
       "      <td>0.000110</td>\n",
       "      <td>0.000000</td>\n",
       "      <td>0.085195</td>\n",
       "      <td>0.000000</td>\n",
       "      <td>0.005893</td>\n",
       "      <td>0.000000</td>\n",
       "      <td>...</td>\n",
       "      <td>0.002385</td>\n",
       "      <td>0.000586</td>\n",
       "      <td>0.000000</td>\n",
       "      <td>0.000000</td>\n",
       "      <td>0.001523</td>\n",
       "      <td>0.000000</td>\n",
       "      <td>0.000000</td>\n",
       "      <td>0.00186</td>\n",
       "      <td>0.000035</td>\n",
       "      <td>0.000000</td>\n",
       "    </tr>\n",
       "  </tbody>\n",
       "</table>\n",
       "<p>5 rows × 29 columns</p>\n",
       "</div>"
      ],
      "text/plain": [
       "        outlet                                            content  \\\n",
       "0  TheAtlantic  The Atlantic Daily: Will this decade be the ne...   \n",
       "1  TheAtlantic  There's plenty that's going wrong for Trump. H...   \n",
       "2  TheAtlantic  If Trump tries to steal the election, people w...   \n",
       "3  TheAtlantic  The Trump campaign's “election-security operat...   \n",
       "4  TheAtlantic  Even if Joe Biden wins decisively next week, t...   \n",
       "\n",
       "                                         clean_final     Trump  \\\n",
       "0                                           decade s  0.000000   \n",
       "1                       trump campaign gap joe biden  0.043749   \n",
       "2                trump election people coup strategy  0.042045   \n",
       "3  campaign electionsecurity operation element pr...  0.001484   \n",
       "4          joe biden decade america extent civil war  0.000000   \n",
       "\n",
       "   Pandemic_Impact  Business     Biden  Covid_Spread     China  US_Election  \\\n",
       "0         0.000453  0.000193  0.000199      0.000000  0.003599     0.000000   \n",
       "1         0.000000  0.000000  0.122931      0.000000  0.000000     0.000370   \n",
       "2         0.000000  0.000000  0.000000      0.000000  0.000000     0.083164   \n",
       "3         0.000247  0.000750  0.008520      0.000363  0.001000     0.005066   \n",
       "4         0.000110  0.000000  0.085195      0.000000  0.005893     0.000000   \n",
       "\n",
       "   ...  Climate_Change  (Un)employeement  Technology  Hong_Kong  Self-Help  \\\n",
       "0  ...        0.007431          0.002398    0.000584   0.000000   0.002143   \n",
       "1  ...        0.000000          0.000000    0.000000   0.000000   0.000000   \n",
       "2  ...        0.000000          0.000000    0.000000   0.000000   0.000000   \n",
       "3  ...        0.000179          0.000000    0.003071   0.000214   0.000000   \n",
       "4  ...        0.002385          0.000586    0.000000   0.000000   0.001523   \n",
       "\n",
       "   Covid_Vaccine  Personal_Finance  Parenting      Cars  Global_Lockdown  \n",
       "0       0.000363          0.000000    0.00271  0.001237         0.000733  \n",
       "1       0.000000          0.005413    0.00000  0.000000         0.000000  \n",
       "2       0.000000          0.000000    0.00000  0.000000         0.000000  \n",
       "3       0.000084          0.006802    0.00000  0.000000         0.001548  \n",
       "4       0.000000          0.000000    0.00186  0.000035         0.000000  \n",
       "\n",
       "[5 rows x 29 columns]"
      ]
     },
     "execution_count": 8,
     "metadata": {},
     "output_type": "execute_result"
    }
   ],
   "source": [
    "tweet_topic_matrix_df.head()"
   ]
  },
  {
   "cell_type": "markdown",
   "metadata": {},
   "source": [
    "Our dataframe gives us the topic vectors for each tweet but we need the vector for each outlet instead for our recommender system. \n",
    "Let's create a new dataframe that gives us the aggregated topic vector for each outlet."
   ]
  },
  {
   "cell_type": "code",
   "execution_count": 3,
   "metadata": {},
   "outputs": [],
   "source": [
    "tweet_topic_matrix_df = pd.read_pickle('tweet_topic_matrix_df.pickle')"
   ]
  },
  {
   "cell_type": "code",
   "execution_count": 4,
   "metadata": {
    "scrolled": false
   },
   "outputs": [
    {
     "data": {
      "text/html": [
       "<div>\n",
       "<style scoped>\n",
       "    .dataframe tbody tr th:only-of-type {\n",
       "        vertical-align: middle;\n",
       "    }\n",
       "\n",
       "    .dataframe tbody tr th {\n",
       "        vertical-align: top;\n",
       "    }\n",
       "\n",
       "    .dataframe thead th {\n",
       "        text-align: right;\n",
       "    }\n",
       "</style>\n",
       "<table border=\"1\" class=\"dataframe\">\n",
       "  <thead>\n",
       "    <tr style=\"text-align: right;\">\n",
       "      <th></th>\n",
       "      <th>outlet</th>\n",
       "      <th>Trump</th>\n",
       "      <th>Pandemic_Impact</th>\n",
       "      <th>Business</th>\n",
       "      <th>Biden</th>\n",
       "      <th>Covid_Spread</th>\n",
       "      <th>China</th>\n",
       "      <th>US_Election</th>\n",
       "      <th>Work_From_Home</th>\n",
       "      <th>Stock_Market</th>\n",
       "      <th>...</th>\n",
       "      <th>Climate_Change</th>\n",
       "      <th>(Un)employeement</th>\n",
       "      <th>Technology</th>\n",
       "      <th>Hong_Kong</th>\n",
       "      <th>Self-Help</th>\n",
       "      <th>Covid_Vaccine</th>\n",
       "      <th>Personal_Finance</th>\n",
       "      <th>Parenting</th>\n",
       "      <th>Cars</th>\n",
       "      <th>Global_Lockdown</th>\n",
       "    </tr>\n",
       "  </thead>\n",
       "  <tbody>\n",
       "    <tr>\n",
       "      <th>0</th>\n",
       "      <td>FinancialTimes</td>\n",
       "      <td>0.002097</td>\n",
       "      <td>0.001850</td>\n",
       "      <td>0.001701</td>\n",
       "      <td>0.001309</td>\n",
       "      <td>0.002443</td>\n",
       "      <td>0.004224</td>\n",
       "      <td>0.002391</td>\n",
       "      <td>0.000939</td>\n",
       "      <td>0.002885</td>\n",
       "      <td>...</td>\n",
       "      <td>0.001495</td>\n",
       "      <td>0.001479</td>\n",
       "      <td>0.002795</td>\n",
       "      <td>0.003110</td>\n",
       "      <td>0.001315</td>\n",
       "      <td>0.001446</td>\n",
       "      <td>0.001667</td>\n",
       "      <td>0.001297</td>\n",
       "      <td>0.001113</td>\n",
       "      <td>0.005063</td>\n",
       "    </tr>\n",
       "    <tr>\n",
       "      <th>1</th>\n",
       "      <td>Medium</td>\n",
       "      <td>0.000576</td>\n",
       "      <td>0.000609</td>\n",
       "      <td>0.000702</td>\n",
       "      <td>0.000304</td>\n",
       "      <td>0.000704</td>\n",
       "      <td>0.000459</td>\n",
       "      <td>0.000545</td>\n",
       "      <td>0.000492</td>\n",
       "      <td>0.000458</td>\n",
       "      <td>...</td>\n",
       "      <td>0.001280</td>\n",
       "      <td>0.000906</td>\n",
       "      <td>0.002952</td>\n",
       "      <td>0.000269</td>\n",
       "      <td>0.001780</td>\n",
       "      <td>0.000686</td>\n",
       "      <td>0.000923</td>\n",
       "      <td>0.002043</td>\n",
       "      <td>0.000786</td>\n",
       "      <td>0.001131</td>\n",
       "    </tr>\n",
       "    <tr>\n",
       "      <th>2</th>\n",
       "      <td>NewYorker</td>\n",
       "      <td>0.002584</td>\n",
       "      <td>0.000958</td>\n",
       "      <td>0.000254</td>\n",
       "      <td>0.001412</td>\n",
       "      <td>0.000647</td>\n",
       "      <td>0.000527</td>\n",
       "      <td>0.001215</td>\n",
       "      <td>0.000481</td>\n",
       "      <td>0.000298</td>\n",
       "      <td>...</td>\n",
       "      <td>0.001507</td>\n",
       "      <td>0.000523</td>\n",
       "      <td>0.001379</td>\n",
       "      <td>0.000493</td>\n",
       "      <td>0.001761</td>\n",
       "      <td>0.000581</td>\n",
       "      <td>0.000691</td>\n",
       "      <td>0.002175</td>\n",
       "      <td>0.000713</td>\n",
       "      <td>0.001488</td>\n",
       "    </tr>\n",
       "    <tr>\n",
       "      <th>3</th>\n",
       "      <td>TheAtlantic</td>\n",
       "      <td>0.001784</td>\n",
       "      <td>0.001000</td>\n",
       "      <td>0.000300</td>\n",
       "      <td>0.001116</td>\n",
       "      <td>0.000762</td>\n",
       "      <td>0.000698</td>\n",
       "      <td>0.001106</td>\n",
       "      <td>0.000379</td>\n",
       "      <td>0.000281</td>\n",
       "      <td>...</td>\n",
       "      <td>0.001131</td>\n",
       "      <td>0.000543</td>\n",
       "      <td>0.001297</td>\n",
       "      <td>0.000690</td>\n",
       "      <td>0.001171</td>\n",
       "      <td>0.000489</td>\n",
       "      <td>0.000627</td>\n",
       "      <td>0.001904</td>\n",
       "      <td>0.000498</td>\n",
       "      <td>0.001406</td>\n",
       "    </tr>\n",
       "    <tr>\n",
       "      <th>4</th>\n",
       "      <td>TheEconomist</td>\n",
       "      <td>0.001077</td>\n",
       "      <td>0.001623</td>\n",
       "      <td>0.000568</td>\n",
       "      <td>0.001123</td>\n",
       "      <td>0.000796</td>\n",
       "      <td>0.002706</td>\n",
       "      <td>0.001767</td>\n",
       "      <td>0.000443</td>\n",
       "      <td>0.000914</td>\n",
       "      <td>...</td>\n",
       "      <td>0.001379</td>\n",
       "      <td>0.000729</td>\n",
       "      <td>0.001454</td>\n",
       "      <td>0.001177</td>\n",
       "      <td>0.000963</td>\n",
       "      <td>0.000930</td>\n",
       "      <td>0.001504</td>\n",
       "      <td>0.001232</td>\n",
       "      <td>0.000676</td>\n",
       "      <td>0.002167</td>\n",
       "    </tr>\n",
       "    <tr>\n",
       "      <th>5</th>\n",
       "      <td>WIRED</td>\n",
       "      <td>0.000638</td>\n",
       "      <td>0.000751</td>\n",
       "      <td>0.001426</td>\n",
       "      <td>0.000334</td>\n",
       "      <td>0.000950</td>\n",
       "      <td>0.000857</td>\n",
       "      <td>0.000835</td>\n",
       "      <td>0.000892</td>\n",
       "      <td>0.000662</td>\n",
       "      <td>...</td>\n",
       "      <td>0.002079</td>\n",
       "      <td>0.000769</td>\n",
       "      <td>0.007508</td>\n",
       "      <td>0.000560</td>\n",
       "      <td>0.001588</td>\n",
       "      <td>0.000978</td>\n",
       "      <td>0.001196</td>\n",
       "      <td>0.001739</td>\n",
       "      <td>0.002421</td>\n",
       "      <td>0.001907</td>\n",
       "    </tr>\n",
       "    <tr>\n",
       "      <th>6</th>\n",
       "      <td>WSJ</td>\n",
       "      <td>0.002055</td>\n",
       "      <td>0.003996</td>\n",
       "      <td>0.002182</td>\n",
       "      <td>0.002279</td>\n",
       "      <td>0.002427</td>\n",
       "      <td>0.002813</td>\n",
       "      <td>0.001742</td>\n",
       "      <td>0.001551</td>\n",
       "      <td>0.003374</td>\n",
       "      <td>...</td>\n",
       "      <td>0.001057</td>\n",
       "      <td>0.001865</td>\n",
       "      <td>0.003329</td>\n",
       "      <td>0.001776</td>\n",
       "      <td>0.001519</td>\n",
       "      <td>0.001769</td>\n",
       "      <td>0.001668</td>\n",
       "      <td>0.002131</td>\n",
       "      <td>0.001381</td>\n",
       "      <td>0.004342</td>\n",
       "    </tr>\n",
       "    <tr>\n",
       "      <th>7</th>\n",
       "      <td>businessinsider</td>\n",
       "      <td>0.001241</td>\n",
       "      <td>0.002518</td>\n",
       "      <td>0.002545</td>\n",
       "      <td>0.000997</td>\n",
       "      <td>0.000951</td>\n",
       "      <td>0.000993</td>\n",
       "      <td>0.001445</td>\n",
       "      <td>0.001326</td>\n",
       "      <td>0.004581</td>\n",
       "      <td>...</td>\n",
       "      <td>0.000858</td>\n",
       "      <td>0.002731</td>\n",
       "      <td>0.006354</td>\n",
       "      <td>0.000534</td>\n",
       "      <td>0.001667</td>\n",
       "      <td>0.001183</td>\n",
       "      <td>0.003529</td>\n",
       "      <td>0.001331</td>\n",
       "      <td>0.004414</td>\n",
       "      <td>0.001854</td>\n",
       "    </tr>\n",
       "    <tr>\n",
       "      <th>8</th>\n",
       "      <td>nytimes</td>\n",
       "      <td>0.003340</td>\n",
       "      <td>0.003165</td>\n",
       "      <td>0.000935</td>\n",
       "      <td>0.003486</td>\n",
       "      <td>0.003790</td>\n",
       "      <td>0.001922</td>\n",
       "      <td>0.002553</td>\n",
       "      <td>0.001423</td>\n",
       "      <td>0.000989</td>\n",
       "      <td>...</td>\n",
       "      <td>0.001909</td>\n",
       "      <td>0.001639</td>\n",
       "      <td>0.002481</td>\n",
       "      <td>0.001551</td>\n",
       "      <td>0.001541</td>\n",
       "      <td>0.001665</td>\n",
       "      <td>0.001366</td>\n",
       "      <td>0.003393</td>\n",
       "      <td>0.001265</td>\n",
       "      <td>0.005753</td>\n",
       "    </tr>\n",
       "    <tr>\n",
       "      <th>9</th>\n",
       "      <td>washingtonpost</td>\n",
       "      <td>0.004698</td>\n",
       "      <td>0.002791</td>\n",
       "      <td>0.000470</td>\n",
       "      <td>0.003110</td>\n",
       "      <td>0.002152</td>\n",
       "      <td>0.001385</td>\n",
       "      <td>0.002808</td>\n",
       "      <td>0.000885</td>\n",
       "      <td>0.000628</td>\n",
       "      <td>...</td>\n",
       "      <td>0.001283</td>\n",
       "      <td>0.001097</td>\n",
       "      <td>0.002068</td>\n",
       "      <td>0.001056</td>\n",
       "      <td>0.001048</td>\n",
       "      <td>0.001528</td>\n",
       "      <td>0.001055</td>\n",
       "      <td>0.002246</td>\n",
       "      <td>0.000695</td>\n",
       "      <td>0.003429</td>\n",
       "    </tr>\n",
       "  </tbody>\n",
       "</table>\n",
       "<p>10 rows × 27 columns</p>\n",
       "</div>"
      ],
      "text/plain": [
       "            outlet     Trump  Pandemic_Impact  Business     Biden  \\\n",
       "0   FinancialTimes  0.002097         0.001850  0.001701  0.001309   \n",
       "1           Medium  0.000576         0.000609  0.000702  0.000304   \n",
       "2        NewYorker  0.002584         0.000958  0.000254  0.001412   \n",
       "3      TheAtlantic  0.001784         0.001000  0.000300  0.001116   \n",
       "4     TheEconomist  0.001077         0.001623  0.000568  0.001123   \n",
       "5            WIRED  0.000638         0.000751  0.001426  0.000334   \n",
       "6              WSJ  0.002055         0.003996  0.002182  0.002279   \n",
       "7  businessinsider  0.001241         0.002518  0.002545  0.000997   \n",
       "8          nytimes  0.003340         0.003165  0.000935  0.003486   \n",
       "9   washingtonpost  0.004698         0.002791  0.000470  0.003110   \n",
       "\n",
       "   Covid_Spread     China  US_Election  Work_From_Home  Stock_Market  ...  \\\n",
       "0      0.002443  0.004224     0.002391        0.000939      0.002885  ...   \n",
       "1      0.000704  0.000459     0.000545        0.000492      0.000458  ...   \n",
       "2      0.000647  0.000527     0.001215        0.000481      0.000298  ...   \n",
       "3      0.000762  0.000698     0.001106        0.000379      0.000281  ...   \n",
       "4      0.000796  0.002706     0.001767        0.000443      0.000914  ...   \n",
       "5      0.000950  0.000857     0.000835        0.000892      0.000662  ...   \n",
       "6      0.002427  0.002813     0.001742        0.001551      0.003374  ...   \n",
       "7      0.000951  0.000993     0.001445        0.001326      0.004581  ...   \n",
       "8      0.003790  0.001922     0.002553        0.001423      0.000989  ...   \n",
       "9      0.002152  0.001385     0.002808        0.000885      0.000628  ...   \n",
       "\n",
       "   Climate_Change  (Un)employeement  Technology  Hong_Kong  Self-Help  \\\n",
       "0        0.001495          0.001479    0.002795   0.003110   0.001315   \n",
       "1        0.001280          0.000906    0.002952   0.000269   0.001780   \n",
       "2        0.001507          0.000523    0.001379   0.000493   0.001761   \n",
       "3        0.001131          0.000543    0.001297   0.000690   0.001171   \n",
       "4        0.001379          0.000729    0.001454   0.001177   0.000963   \n",
       "5        0.002079          0.000769    0.007508   0.000560   0.001588   \n",
       "6        0.001057          0.001865    0.003329   0.001776   0.001519   \n",
       "7        0.000858          0.002731    0.006354   0.000534   0.001667   \n",
       "8        0.001909          0.001639    0.002481   0.001551   0.001541   \n",
       "9        0.001283          0.001097    0.002068   0.001056   0.001048   \n",
       "\n",
       "   Covid_Vaccine  Personal_Finance  Parenting      Cars  Global_Lockdown  \n",
       "0       0.001446          0.001667   0.001297  0.001113         0.005063  \n",
       "1       0.000686          0.000923   0.002043  0.000786         0.001131  \n",
       "2       0.000581          0.000691   0.002175  0.000713         0.001488  \n",
       "3       0.000489          0.000627   0.001904  0.000498         0.001406  \n",
       "4       0.000930          0.001504   0.001232  0.000676         0.002167  \n",
       "5       0.000978          0.001196   0.001739  0.002421         0.001907  \n",
       "6       0.001769          0.001668   0.002131  0.001381         0.004342  \n",
       "7       0.001183          0.003529   0.001331  0.004414         0.001854  \n",
       "8       0.001665          0.001366   0.003393  0.001265         0.005753  \n",
       "9       0.001528          0.001055   0.002246  0.000695         0.003429  \n",
       "\n",
       "[10 rows x 27 columns]"
      ]
     },
     "execution_count": 4,
     "metadata": {},
     "output_type": "execute_result"
    }
   ],
   "source": [
    "#create new DF that groups together each topic coefficient by mean.\n",
    "outlet_df = tweet_topic_matrix_df.groupby(by=[\"outlet\"], as_index=False).mean()\n",
    "outlet_df"
   ]
  },
  {
   "cell_type": "code",
   "execution_count": 146,
   "metadata": {},
   "outputs": [],
   "source": [
    "#let's pickle this df as we'll be using it later in our recommender\n",
    "outlet_df.to_pickle('outlet_df.pickle')"
   ]
  },
  {
   "cell_type": "markdown",
   "metadata": {},
   "source": [
    "We want to find the average tweet--the average vector-- in our corpus, to use it as the basis for the user's vector inputs:"
   ]
  },
  {
   "cell_type": "code",
   "execution_count": 31,
   "metadata": {
    "scrolled": true
   },
   "outputs": [
    {
     "data": {
      "text/plain": [
       "Trump               0.002009\n",
       "Pandemic_Impact     0.001926\n",
       "Business            0.001108\n",
       "Biden               0.001547\n",
       "Covid_Spread        0.001562\n",
       "China               0.001658\n",
       "US_Election         0.001641\n",
       "Work_From_Home      0.000881\n",
       "Stock_Market        0.001507\n",
       "Police_Protests     0.001695\n",
       "Health_Wellness     0.001782\n",
       "US_Supreme_Court    0.001547\n",
       "Gender_Equality     0.001547\n",
       "Economy             0.001177\n",
       "Education           0.001512\n",
       "Brexit_EU           0.001893\n",
       "Climate_Change      0.001398\n",
       "(Un)employeement    0.001228\n",
       "Technology          0.003162\n",
       "Hong_Kong           0.001121\n",
       "Self-Help           0.001435\n",
       "Covid_Vaccine       0.001125\n",
       "Personal_Finance    0.001422\n",
       "Parenting           0.001949\n",
       "Cars                0.001396\n",
       "Global_Lockdown     0.002854\n",
       "Name: mean, dtype: float64"
      ]
     },
     "execution_count": 31,
     "metadata": {},
     "output_type": "execute_result"
    }
   ],
   "source": [
    "average_tweet  = outlet_df.describe().iloc[1]\n",
    "average_tweet"
   ]
  },
  {
   "cell_type": "markdown",
   "metadata": {},
   "source": [
    "Let's now group our topics by theme:"
   ]
  },
  {
   "cell_type": "code",
   "execution_count": 1180,
   "metadata": {
    "scrolled": true
   },
   "outputs": [
    {
     "data": {
      "text/plain": [
       "Index(['outlet', 'Trump', 'Pandemic_Impact', 'Business', 'Biden',\n",
       "       'Covid_Spread', 'China', 'US_Election', 'Work_From_Home',\n",
       "       'Stock_Market', 'Police_Protests', 'Health_Wellness',\n",
       "       'US_Supreme_Court', 'Gender_Equality', 'Economy', 'Education',\n",
       "       'Brexit_EU', 'Climate_Change', '(Un)employeement', 'Technology',\n",
       "       'Hong_Kong', 'Self-Help', 'Covid_Vaccine', 'Personal_Finance',\n",
       "       'Parenting', 'Cars', 'Global_Lockdown'],\n",
       "      dtype='object')"
      ]
     },
     "execution_count": 1180,
     "metadata": {},
     "output_type": "execute_result"
    }
   ],
   "source": [
    "outlet_df.columns"
   ]
  },
  {
   "cell_type": "code",
   "execution_count": 313,
   "metadata": {},
   "outputs": [],
   "source": [
    "def News_Outlet_Recommender(outlet_df, Covid = 1, Staying_at_Home = 1, US_Politics = 1, Global_Politics = 1, Global_Economy = 1, Social_Issues = 1, Business = 1, Personal_Development =1, Hobbies=1):\n",
    "#def News_Outlet_Recommender(outlet_df, Covid, Staying_at_Home, US_Politics, Global_Politics, Global_Economy, Social_Issues, Business, Personal_Development, Hobbies):\n",
    "    \"\"\"\n",
    "    Takes in weights for each news theme and returns recommended news outlet based on topics behind each theme.\n",
    "    \"\"\"\n",
    "    \n",
    "    #define themes for our topics\n",
    "    Covid_topics = ['Pandemic_Impact','Covid_Spread', 'Covid_Vaccine', 'Global_Lockdown']\n",
    "    Staying_at_Home_topics = ['Work_From_Home', 'Education', 'Parenting']\n",
    "    US_Politics_topics = ['Trump', 'Biden', 'US_Election', 'US_Supreme_Court']\n",
    "    Global_Politics_topics = ['China', 'Brexit_EU', 'Hong_Kong']\n",
    "    Global_Economy_topics = ['Economy', '(Un)employeement']\n",
    "    Social_Issues_topics = ['Police_Protests', 'Gender_Equality', 'Climate_Change']\n",
    "    Business_topics = ['Business', 'Stock_Market', 'Technology' ]\n",
    "    Personal_Development_topics = [ 'Health_Wellness', 'Self-Help', 'Personal_Finance']\n",
    "    Hobbies_topics = ['Cars']\n",
    "    \n",
    "    #define our average tweet\n",
    "    average_tweet  = outlet_df.describe().iloc[1]\n",
    "    \n",
    "    #find each topic using the topic themes and multiply the average tweet's topic coefficient by the user weights, averaged out across theme. \n",
    "    for i in average_tweet.index:\n",
    "        if str(i) in Covid_topics:\n",
    "            weight = Covid/len(Covid_topics)\n",
    "        elif str(i) in Staying_at_Home_topics:\n",
    "            weight = Staying_at_Home/len(Staying_at_Home_topics)\n",
    "        elif str(i) in US_Politics_topics:\n",
    "            weight = US_Politics/len(US_Politics_topics)\n",
    "        elif str(i) in Global_Politics_topics:\n",
    "            weight = Global_Politics/len(Global_Politics_topics)\n",
    "        elif str(i) in Global_Economy_topics:\n",
    "            weight = Global_Economy/len(Global_Economy_topics)\n",
    "        elif str(i) in Social_Issues_topics:\n",
    "            weight = Social_Issues/len(Social_Issues_topics)\n",
    "        elif str(i) in Business_topics:\n",
    "            weight = Business/len(Business_topics)\n",
    "        elif str(i) in Personal_Development_topics:\n",
    "            weight = Personal_Development/len(Personal_Development_topics)\n",
    "        elif str(i) in Hobbies_topics:\n",
    "            weight = Hobbies\n",
    "        else:\n",
    "            weight = 1\n",
    "        \n",
    "        #apply weights to each average tweet topic coefficient, transforming vector into one that contains user topic preferences\n",
    "        average_tweet[str(i)] = average_tweet[str(i)]*weight\n",
    "        user_vector = average_tweet.values.reshape(1,-1)\n",
    "    \n",
    "    #compare the average tweet--now manipulated with user weights to be the user vector, to the outlet vectors in the dataframe\n",
    "    similarity_matrix = []\n",
    "    #loop through each row in outlet_df, computing the cosine similarity between said row and the user vector(average_tweet)    \n",
    "    for index, row in outlet_df.iloc[: ,1: ].iterrows():\n",
    "        outlet_vector = row.values.reshape(1,-1)\n",
    "        #calculate cosine similarity\n",
    "        similarity_score = cosine_similarity(user_vector, outlet_vector)\n",
    "        #append each cosine simiilarity score onto our list\n",
    "        similarity_matrix.append(similarity_score)\n",
    "\n",
    "    #find the max index of list\n",
    "    max_index = np.argmax(similarity_matrix)\n",
    "    #use max index to find its referred outlet\n",
    "    similar_outlet = outlet_df.iloc[max_index, 0]\n",
    "    \n",
    "    #return the outlet with the highest cosine similarity to our user vector\n",
    "    print(similar_outlet)\n",
    "\n",
    "    \n",
    "    "
   ]
  },
  {
   "cell_type": "markdown",
   "metadata": {},
   "source": [
    "Now let's run our recommender a few times and see if we get different outputs:"
   ]
  },
  {
   "cell_type": "code",
   "execution_count": 323,
   "metadata": {},
   "outputs": [
    {
     "name": "stdout",
     "output_type": "stream",
     "text": [
      "nytimes\n"
     ]
    }
   ],
   "source": [
    "News_Outlet_Recommender(outlet_df, Covid = 2, Staying_at_Home = 2, US_Politics = 0, Global_Politics = 0, \n",
    "                        Global_Economy = 0, Social_Issues = 0, Business = 0, Personal_Development =0, Hobbies=0)\n"
   ]
  },
  {
   "cell_type": "code",
   "execution_count": 322,
   "metadata": {
    "scrolled": true
   },
   "outputs": [
    {
     "name": "stdout",
     "output_type": "stream",
     "text": [
      "WSJ\n"
     ]
    }
   ],
   "source": [
    "News_Outlet_Recommender(outlet_df, Covid = 0, Staying_at_Home = 0, US_Politics = 0, Global_Politics = 0, \n",
    "                        Global_Economy = 1, Social_Issues = 0, Business = 0, Personal_Development =0, Hobbies=0)\n"
   ]
  },
  {
   "cell_type": "code",
   "execution_count": 324,
   "metadata": {},
   "outputs": [
    {
     "name": "stdout",
     "output_type": "stream",
     "text": [
      "businessinsider\n"
     ]
    }
   ],
   "source": [
    "News_Outlet_Recommender(outlet_df, Covid = 1, Staying_at_Home = 1, US_Politics = 1, Global_Politics = 1, \n",
    "                        Global_Economy = 1, Social_Issues = 0, Business = 2, Personal_Development =2, Hobbies=2)\n"
   ]
  },
  {
   "cell_type": "code",
   "execution_count": 311,
   "metadata": {
    "scrolled": true
   },
   "outputs": [
    {
     "data": {
      "text/html": [
       "<div>\n",
       "<style scoped>\n",
       "    .dataframe tbody tr th:only-of-type {\n",
       "        vertical-align: middle;\n",
       "    }\n",
       "\n",
       "    .dataframe tbody tr th {\n",
       "        vertical-align: top;\n",
       "    }\n",
       "\n",
       "    .dataframe thead th {\n",
       "        text-align: right;\n",
       "    }\n",
       "</style>\n",
       "<table border=\"1\" class=\"dataframe\">\n",
       "  <thead>\n",
       "    <tr style=\"text-align: right;\">\n",
       "      <th></th>\n",
       "      <th>outlet</th>\n",
       "      <th>Trump</th>\n",
       "      <th>Pandemic_Impact</th>\n",
       "      <th>Business</th>\n",
       "      <th>Biden</th>\n",
       "      <th>Covid_Spread</th>\n",
       "      <th>China</th>\n",
       "      <th>US_Election</th>\n",
       "      <th>Work_From_Home</th>\n",
       "      <th>Stock_Market</th>\n",
       "      <th>...</th>\n",
       "      <th>Climate_Change</th>\n",
       "      <th>(Un)employeement</th>\n",
       "      <th>Technology</th>\n",
       "      <th>Hong_Kong</th>\n",
       "      <th>Self-Help</th>\n",
       "      <th>Covid_Vaccine</th>\n",
       "      <th>Personal_Finance</th>\n",
       "      <th>Parenting</th>\n",
       "      <th>Cars</th>\n",
       "      <th>Global_Lockdown</th>\n",
       "    </tr>\n",
       "  </thead>\n",
       "  <tbody>\n",
       "    <tr>\n",
       "      <th>0</th>\n",
       "      <td>FinancialTimes</td>\n",
       "      <td>0.002097</td>\n",
       "      <td>0.001850</td>\n",
       "      <td>0.001701</td>\n",
       "      <td>0.001309</td>\n",
       "      <td>0.002443</td>\n",
       "      <td>0.004224</td>\n",
       "      <td>0.002391</td>\n",
       "      <td>0.000939</td>\n",
       "      <td>0.002885</td>\n",
       "      <td>...</td>\n",
       "      <td>0.001495</td>\n",
       "      <td>0.001479</td>\n",
       "      <td>0.002795</td>\n",
       "      <td>0.003110</td>\n",
       "      <td>0.001315</td>\n",
       "      <td>0.001446</td>\n",
       "      <td>0.001667</td>\n",
       "      <td>0.001297</td>\n",
       "      <td>0.001113</td>\n",
       "      <td>0.005063</td>\n",
       "    </tr>\n",
       "    <tr>\n",
       "      <th>1</th>\n",
       "      <td>Medium</td>\n",
       "      <td>0.000576</td>\n",
       "      <td>0.000609</td>\n",
       "      <td>0.000702</td>\n",
       "      <td>0.000304</td>\n",
       "      <td>0.000704</td>\n",
       "      <td>0.000459</td>\n",
       "      <td>0.000545</td>\n",
       "      <td>0.000492</td>\n",
       "      <td>0.000458</td>\n",
       "      <td>...</td>\n",
       "      <td>0.001280</td>\n",
       "      <td>0.000906</td>\n",
       "      <td>0.002952</td>\n",
       "      <td>0.000269</td>\n",
       "      <td>0.001780</td>\n",
       "      <td>0.000686</td>\n",
       "      <td>0.000923</td>\n",
       "      <td>0.002043</td>\n",
       "      <td>0.000786</td>\n",
       "      <td>0.001131</td>\n",
       "    </tr>\n",
       "    <tr>\n",
       "      <th>2</th>\n",
       "      <td>NewYorker</td>\n",
       "      <td>0.002584</td>\n",
       "      <td>0.000958</td>\n",
       "      <td>0.000254</td>\n",
       "      <td>0.001412</td>\n",
       "      <td>0.000647</td>\n",
       "      <td>0.000527</td>\n",
       "      <td>0.001215</td>\n",
       "      <td>0.000481</td>\n",
       "      <td>0.000298</td>\n",
       "      <td>...</td>\n",
       "      <td>0.001507</td>\n",
       "      <td>0.000523</td>\n",
       "      <td>0.001379</td>\n",
       "      <td>0.000493</td>\n",
       "      <td>0.001761</td>\n",
       "      <td>0.000581</td>\n",
       "      <td>0.000691</td>\n",
       "      <td>0.002175</td>\n",
       "      <td>0.000713</td>\n",
       "      <td>0.001488</td>\n",
       "    </tr>\n",
       "    <tr>\n",
       "      <th>3</th>\n",
       "      <td>TheAtlantic</td>\n",
       "      <td>0.001784</td>\n",
       "      <td>0.001000</td>\n",
       "      <td>0.000300</td>\n",
       "      <td>0.001116</td>\n",
       "      <td>0.000762</td>\n",
       "      <td>0.000698</td>\n",
       "      <td>0.001106</td>\n",
       "      <td>0.000379</td>\n",
       "      <td>0.000281</td>\n",
       "      <td>...</td>\n",
       "      <td>0.001131</td>\n",
       "      <td>0.000543</td>\n",
       "      <td>0.001297</td>\n",
       "      <td>0.000690</td>\n",
       "      <td>0.001171</td>\n",
       "      <td>0.000489</td>\n",
       "      <td>0.000627</td>\n",
       "      <td>0.001904</td>\n",
       "      <td>0.000498</td>\n",
       "      <td>0.001406</td>\n",
       "    </tr>\n",
       "    <tr>\n",
       "      <th>4</th>\n",
       "      <td>TheEconomist</td>\n",
       "      <td>0.001077</td>\n",
       "      <td>0.001623</td>\n",
       "      <td>0.000568</td>\n",
       "      <td>0.001123</td>\n",
       "      <td>0.000796</td>\n",
       "      <td>0.002706</td>\n",
       "      <td>0.001767</td>\n",
       "      <td>0.000443</td>\n",
       "      <td>0.000914</td>\n",
       "      <td>...</td>\n",
       "      <td>0.001379</td>\n",
       "      <td>0.000729</td>\n",
       "      <td>0.001454</td>\n",
       "      <td>0.001177</td>\n",
       "      <td>0.000963</td>\n",
       "      <td>0.000930</td>\n",
       "      <td>0.001504</td>\n",
       "      <td>0.001232</td>\n",
       "      <td>0.000676</td>\n",
       "      <td>0.002167</td>\n",
       "    </tr>\n",
       "    <tr>\n",
       "      <th>5</th>\n",
       "      <td>WIRED</td>\n",
       "      <td>0.000638</td>\n",
       "      <td>0.000751</td>\n",
       "      <td>0.001426</td>\n",
       "      <td>0.000334</td>\n",
       "      <td>0.000950</td>\n",
       "      <td>0.000857</td>\n",
       "      <td>0.000835</td>\n",
       "      <td>0.000892</td>\n",
       "      <td>0.000662</td>\n",
       "      <td>...</td>\n",
       "      <td>0.002079</td>\n",
       "      <td>0.000769</td>\n",
       "      <td>0.007508</td>\n",
       "      <td>0.000560</td>\n",
       "      <td>0.001588</td>\n",
       "      <td>0.000978</td>\n",
       "      <td>0.001196</td>\n",
       "      <td>0.001739</td>\n",
       "      <td>0.002421</td>\n",
       "      <td>0.001907</td>\n",
       "    </tr>\n",
       "    <tr>\n",
       "      <th>6</th>\n",
       "      <td>WSJ</td>\n",
       "      <td>0.002055</td>\n",
       "      <td>0.003996</td>\n",
       "      <td>0.002182</td>\n",
       "      <td>0.002279</td>\n",
       "      <td>0.002427</td>\n",
       "      <td>0.002813</td>\n",
       "      <td>0.001742</td>\n",
       "      <td>0.001551</td>\n",
       "      <td>0.003374</td>\n",
       "      <td>...</td>\n",
       "      <td>0.001057</td>\n",
       "      <td>0.001865</td>\n",
       "      <td>0.003329</td>\n",
       "      <td>0.001776</td>\n",
       "      <td>0.001519</td>\n",
       "      <td>0.001769</td>\n",
       "      <td>0.001668</td>\n",
       "      <td>0.002131</td>\n",
       "      <td>0.001381</td>\n",
       "      <td>0.004342</td>\n",
       "    </tr>\n",
       "    <tr>\n",
       "      <th>7</th>\n",
       "      <td>businessinsider</td>\n",
       "      <td>0.001241</td>\n",
       "      <td>0.002518</td>\n",
       "      <td>0.002545</td>\n",
       "      <td>0.000997</td>\n",
       "      <td>0.000951</td>\n",
       "      <td>0.000993</td>\n",
       "      <td>0.001445</td>\n",
       "      <td>0.001326</td>\n",
       "      <td>0.004581</td>\n",
       "      <td>...</td>\n",
       "      <td>0.000858</td>\n",
       "      <td>0.002731</td>\n",
       "      <td>0.006354</td>\n",
       "      <td>0.000534</td>\n",
       "      <td>0.001667</td>\n",
       "      <td>0.001183</td>\n",
       "      <td>0.003529</td>\n",
       "      <td>0.001331</td>\n",
       "      <td>0.004414</td>\n",
       "      <td>0.001854</td>\n",
       "    </tr>\n",
       "    <tr>\n",
       "      <th>8</th>\n",
       "      <td>nytimes</td>\n",
       "      <td>0.003340</td>\n",
       "      <td>0.003165</td>\n",
       "      <td>0.000935</td>\n",
       "      <td>0.003486</td>\n",
       "      <td>0.003790</td>\n",
       "      <td>0.001922</td>\n",
       "      <td>0.002553</td>\n",
       "      <td>0.001423</td>\n",
       "      <td>0.000989</td>\n",
       "      <td>...</td>\n",
       "      <td>0.001909</td>\n",
       "      <td>0.001639</td>\n",
       "      <td>0.002481</td>\n",
       "      <td>0.001551</td>\n",
       "      <td>0.001541</td>\n",
       "      <td>0.001665</td>\n",
       "      <td>0.001366</td>\n",
       "      <td>0.003393</td>\n",
       "      <td>0.001265</td>\n",
       "      <td>0.005753</td>\n",
       "    </tr>\n",
       "    <tr>\n",
       "      <th>9</th>\n",
       "      <td>washingtonpost</td>\n",
       "      <td>0.004698</td>\n",
       "      <td>0.002791</td>\n",
       "      <td>0.000470</td>\n",
       "      <td>0.003110</td>\n",
       "      <td>0.002152</td>\n",
       "      <td>0.001385</td>\n",
       "      <td>0.002808</td>\n",
       "      <td>0.000885</td>\n",
       "      <td>0.000628</td>\n",
       "      <td>...</td>\n",
       "      <td>0.001283</td>\n",
       "      <td>0.001097</td>\n",
       "      <td>0.002068</td>\n",
       "      <td>0.001056</td>\n",
       "      <td>0.001048</td>\n",
       "      <td>0.001528</td>\n",
       "      <td>0.001055</td>\n",
       "      <td>0.002246</td>\n",
       "      <td>0.000695</td>\n",
       "      <td>0.003429</td>\n",
       "    </tr>\n",
       "  </tbody>\n",
       "</table>\n",
       "<p>10 rows × 27 columns</p>\n",
       "</div>"
      ],
      "text/plain": [
       "            outlet     Trump  Pandemic_Impact  Business     Biden  \\\n",
       "0   FinancialTimes  0.002097         0.001850  0.001701  0.001309   \n",
       "1           Medium  0.000576         0.000609  0.000702  0.000304   \n",
       "2        NewYorker  0.002584         0.000958  0.000254  0.001412   \n",
       "3      TheAtlantic  0.001784         0.001000  0.000300  0.001116   \n",
       "4     TheEconomist  0.001077         0.001623  0.000568  0.001123   \n",
       "5            WIRED  0.000638         0.000751  0.001426  0.000334   \n",
       "6              WSJ  0.002055         0.003996  0.002182  0.002279   \n",
       "7  businessinsider  0.001241         0.002518  0.002545  0.000997   \n",
       "8          nytimes  0.003340         0.003165  0.000935  0.003486   \n",
       "9   washingtonpost  0.004698         0.002791  0.000470  0.003110   \n",
       "\n",
       "   Covid_Spread     China  US_Election  Work_From_Home  Stock_Market  ...  \\\n",
       "0      0.002443  0.004224     0.002391        0.000939      0.002885  ...   \n",
       "1      0.000704  0.000459     0.000545        0.000492      0.000458  ...   \n",
       "2      0.000647  0.000527     0.001215        0.000481      0.000298  ...   \n",
       "3      0.000762  0.000698     0.001106        0.000379      0.000281  ...   \n",
       "4      0.000796  0.002706     0.001767        0.000443      0.000914  ...   \n",
       "5      0.000950  0.000857     0.000835        0.000892      0.000662  ...   \n",
       "6      0.002427  0.002813     0.001742        0.001551      0.003374  ...   \n",
       "7      0.000951  0.000993     0.001445        0.001326      0.004581  ...   \n",
       "8      0.003790  0.001922     0.002553        0.001423      0.000989  ...   \n",
       "9      0.002152  0.001385     0.002808        0.000885      0.000628  ...   \n",
       "\n",
       "   Climate_Change  (Un)employeement  Technology  Hong_Kong  Self-Help  \\\n",
       "0        0.001495          0.001479    0.002795   0.003110   0.001315   \n",
       "1        0.001280          0.000906    0.002952   0.000269   0.001780   \n",
       "2        0.001507          0.000523    0.001379   0.000493   0.001761   \n",
       "3        0.001131          0.000543    0.001297   0.000690   0.001171   \n",
       "4        0.001379          0.000729    0.001454   0.001177   0.000963   \n",
       "5        0.002079          0.000769    0.007508   0.000560   0.001588   \n",
       "6        0.001057          0.001865    0.003329   0.001776   0.001519   \n",
       "7        0.000858          0.002731    0.006354   0.000534   0.001667   \n",
       "8        0.001909          0.001639    0.002481   0.001551   0.001541   \n",
       "9        0.001283          0.001097    0.002068   0.001056   0.001048   \n",
       "\n",
       "   Covid_Vaccine  Personal_Finance  Parenting      Cars  Global_Lockdown  \n",
       "0       0.001446          0.001667   0.001297  0.001113         0.005063  \n",
       "1       0.000686          0.000923   0.002043  0.000786         0.001131  \n",
       "2       0.000581          0.000691   0.002175  0.000713         0.001488  \n",
       "3       0.000489          0.000627   0.001904  0.000498         0.001406  \n",
       "4       0.000930          0.001504   0.001232  0.000676         0.002167  \n",
       "5       0.000978          0.001196   0.001739  0.002421         0.001907  \n",
       "6       0.001769          0.001668   0.002131  0.001381         0.004342  \n",
       "7       0.001183          0.003529   0.001331  0.004414         0.001854  \n",
       "8       0.001665          0.001366   0.003393  0.001265         0.005753  \n",
       "9       0.001528          0.001055   0.002246  0.000695         0.003429  \n",
       "\n",
       "[10 rows x 27 columns]"
      ]
     },
     "execution_count": 311,
     "metadata": {},
     "output_type": "execute_result"
    }
   ],
   "source": [
    "outlet_df"
   ]
  },
  {
   "cell_type": "code",
   "execution_count": null,
   "metadata": {},
   "outputs": [],
   "source": []
  }
 ],
 "metadata": {
  "kernelspec": {
   "display_name": "Python 3",
   "language": "python",
   "name": "python3"
  },
  "language_info": {
   "codemirror_mode": {
    "name": "ipython",
    "version": 3
   },
   "file_extension": ".py",
   "mimetype": "text/x-python",
   "name": "python",
   "nbconvert_exporter": "python",
   "pygments_lexer": "ipython3",
   "version": "3.8.5"
  }
 },
 "nbformat": 4,
 "nbformat_minor": 2
}
