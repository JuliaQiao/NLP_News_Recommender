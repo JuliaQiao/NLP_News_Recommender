{
 "metadata": {
  "language_info": {
   "codemirror_mode": {
    "name": "ipython",
    "version": 3
   },
   "file_extension": ".py",
   "mimetype": "text/x-python",
   "name": "python",
   "nbconvert_exporter": "python",
   "pygments_lexer": "ipython3",
   "version": "3.8.5-final"
  },
  "orig_nbformat": 2,
  "kernelspec": {
   "name": "python3",
   "display_name": "Python 3"
  }
 },
 "nbformat": 4,
 "nbformat_minor": 2,
 "cells": [
  {
   "cell_type": "code",
   "execution_count": 8,
   "metadata": {},
   "outputs": [],
   "source": [
    "import numpy as np\n",
    "\n",
    "import random"
   ]
  },
  {
   "cell_type": "code",
   "execution_count": 2,
   "metadata": {},
   "outputs": [],
   "source": [
    "docs = [[0.98, 0.01, 0.01],\n",
    "        [0.01, 0.98, 0.01],\n",
    "        [0.01, 0.01, 0.98]]\n",
    "topics = [[ 0.4,      0.4,   0.01,        0.01,    0.01,       0.01,\n",
    "            0.1,     0.04,   0.01,        0.01],\n",
    "          [0.01,     0.01,    0.4,         0.4,    0.01,       0.01,\n",
    "            0.1,     0.04,   0.01,        0.01],\n",
    "          [0.02,     0.02,   0.01,        0.01,     0.4,        0.4,\n",
    "           0.02,      0.1,   0.01,        0.01]]\n",
    "words =  ['cat', 'kitten',  'dog',     'puppy',  'deep', 'learning',\n",
    "          'fur',  'image',  'GPU', 'asparagus']\n",
    "\n"
   ]
  },
  {
   "cell_type": "code",
   "execution_count": 6,
   "metadata": {},
   "outputs": [
    {
     "output_type": "execute_result",
     "data": {
      "text/plain": [
       "array([[0.3923, 0.3923, 0.0139, 0.0139, 0.0139, 0.0139, 0.0992, 0.0406,\n",
       "        0.01  , 0.01  ],\n",
       "       [0.014 , 0.014 , 0.3922, 0.3922, 0.0139, 0.0139, 0.0992, 0.0406,\n",
       "        0.01  , 0.01  ],\n",
       "       [0.0237, 0.0237, 0.0139, 0.0139, 0.3922, 0.3922, 0.0216, 0.0988,\n",
       "        0.01  , 0.01  ]])"
      ]
     },
     "metadata": {},
     "execution_count": 6
    }
   ],
   "source": [
    "topic_probs= np.dot(docs,topics)\n",
    "topic_probs"
   ]
  },
  {
   "cell_type": "code",
   "execution_count": 21,
   "metadata": {},
   "outputs": [],
   "source": [
    "def make_doc(topic_probs, n_words):\n",
    "    doc_made = ''\n",
    "    weights = np.dot(topic_probs,topics)\n",
    "    choice = random.choices(words, weights=(weights), k=n_words)\n",
    "    for i in range(n_words):\n",
    "        doc_made += str(choice[i]) + \" \"\n",
    "    return doc_made\n"
   ]
  },
  {
   "cell_type": "code",
   "execution_count": 22,
   "metadata": {},
   "outputs": [
    {
     "output_type": "stream",
     "name": "stdout",
     "text": [
      "cat image kitten fur cat image cat kitten cat cat \ndog GPU puppy puppy dog dog puppy dog puppy puppy \ndeep deep deep learning learning learning learning learning deep learning \n"
     ]
    }
   ],
   "source": [
    "for doc in docs:\n",
    "    print(make_doc(topic_probs=doc, n_words=10))"
   ]
  },
  {
   "cell_type": "code",
   "execution_count": 10,
   "metadata": {},
   "outputs": [
    {
     "output_type": "execute_result",
     "data": {
      "text/plain": [
       "\"['cat', 'image', 'kitten', 'cat', 'kitten', 'cat', 'image', 'dog', 'kitten', 'cat']\\n['dog', 'dog', 'puppy', 'dog', 'dog', 'dog', 'dog', 'fur', 'puppy', 'puppy']\\n['deep', 'image', 'deep', 'deep', 'deep', 'learning', 'deep', 'learning', 'deep', 'learning']\\n\""
      ]
     },
     "metadata": {},
     "execution_count": 10
    }
   ],
   "source": [
    "make_doc(topic_probs, 10)"
   ]
  },
  {
   "cell_type": "code",
   "execution_count": null,
   "metadata": {},
   "outputs": [],
   "source": [
    "\n",
    "for doc in docs:\n",
    "    print make_doc(topic_probs=doc, n_words=10)\n",
    "\n",
    "#  Example output:\n",
    "## cat learning kitten image kitten cat deep image cat kitten\n",
    "## puppy puppy learning dog puppy dog dog puppy image dog\n",
    "## deep learning deep image deep deep deep deep learning learning\n",
    "\n",
    "# topic 1 = cat\n",
    "#topic 2 = dog\n",
    "#topic 3 = deep learning"
   ]
  }
 ]
}