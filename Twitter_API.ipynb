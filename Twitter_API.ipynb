{
 "metadata": {
  "language_info": {
   "codemirror_mode": {
    "name": "ipython",
    "version": 3
   },
   "file_extension": ".py",
   "mimetype": "text/x-python",
   "name": "python",
   "nbconvert_exporter": "python",
   "pygments_lexer": "ipython3",
   "version": "3.8.3-final"
  },
  "orig_nbformat": 2,
  "kernelspec": {
   "name": "python3",
   "display_name": "Python 3"
  }
 },
 "nbformat": 4,
 "nbformat_minor": 2,
 "cells": [
  {
   "cell_type": "code",
   "execution_count": 1,
   "metadata": {},
   "outputs": [],
   "source": [
    "# Imports\n",
    "import tweepy\n",
    "import pandas as pd\n",
    "import time\n",
    "import re"
   ]
  },
  {
   "cell_type": "code",
   "execution_count": 2,
   "metadata": {},
   "outputs": [],
   "source": [
    "twitter_keys = {\n",
    "        'consumer_key':     'oMkhFERueevs86vGA1fs484xi',\n",
    "        'consumer_secret': 'av3haXb3WFz6eA5Wi1e8fxayAbDA3CzpRTr3RXnx2DMoTGulk5',\n",
    "        'access_token_key':    \n",
    "'853833403-NUlIwMNMCMKoWrTzfEiXBcp5Vqa7UCLfgXXH8CON',\n",
    "        'access_token_secret': '2DoX4cdZpAn9SI1c3Ww3G4tYbSAtp3XTNFtU8jRrAXaqX'\n",
    "    }\n",
    "\n",
    "#Setup access to API\n",
    "auth = tweepy.OAuthHandler(twitter_keys['consumer_key'], twitter_keys['consumer_secret'])\n",
    "auth.set_access_token(twitter_keys['access_token_key'], twitter_keys['access_token_secret'])\n",
    "\n",
    "api = tweepy.API(auth)"
   ]
  },
  {
   "cell_type": "code",
   "execution_count": 3,
   "metadata": {},
   "outputs": [],
   "source": [
    "def username_tweets_to_df(username,count):\n",
    "    \"\"\"\n",
    "    Inputs a twitter username and count of tweets you'd like to see, pulls tweets and stores information about the user's tweets in a dataframe. \n",
    "    \"\"\"\n",
    "    try:      \n",
    "        # Creation of query method using parameters\n",
    "        tweets = tweepy.Cursor(api.user_timeline, id=username, tweet_mode='extended').items(count)\n",
    "\n",
    "        # Pulling information from tweets iterable object\n",
    "        tweets_list = [[tweet.id, tweet.created_at,tweet.full_text] \n",
    "                       for tweet in tweets]\n",
    "\n",
    "        # Creation of dataframe from tweets list\n",
    "        # Add or remove columns as you remove tweet information\n",
    "        tweets_df = pd.DataFrame(tweets_list,\n",
    "                                 columns=['tweet_id','datetime', 'text'])\n",
    "\n",
    "    except BaseException as e:\n",
    "          print('failed on_status,',str(e))\n",
    "          time.sleep(3)\n",
    "           \n",
    "    return tweets_df"
   ]
  },
  {
   "source": [
    "Let's start by getting as many tweets as we can grab from the following subscription news outlets: <br/>\n",
    "*New York Times, Medium, WSJ, Washington Post, Business Insider, Financial Times, The Atlantic, The Economist, New Yorker*"
   ],
   "cell_type": "markdown",
   "metadata": {}
  },
  {
   "cell_type": "code",
   "execution_count": 10,
   "metadata": {},
   "outputs": [],
   "source": [
    "#query  tweets from the New York Times main account\n",
    "username = 'nytimes'\n",
    "count = 10000\n",
    "NYT = username_tweets_to_df(username, count)"
   ]
  },
  {
   "cell_type": "code",
   "execution_count": 12,
   "metadata": {},
   "outputs": [],
   "source": [
    "nyt = NYT "
   ]
  },
  {
   "cell_type": "code",
   "execution_count": 13,
   "metadata": {},
   "outputs": [
    {
     "output_type": "execute_result",
     "data": {
      "text/plain": [
       "                 tweet_id            datetime  \\\n",
       "0     1322558986353299459 2020-10-31 15:20:08   \n",
       "1     1322553960742477825 2020-10-31 15:00:10   \n",
       "2     1322548888042196994 2020-10-31 14:40:01   \n",
       "3     1322543878919081984 2020-10-31 14:20:07   \n",
       "4     1322538862288228352 2020-10-31 14:00:11   \n",
       "...                   ...                 ...   \n",
       "3202  1311162628966842368 2020-09-30 04:35:05   \n",
       "3203  1311161388535099392 2020-09-30 04:30:09   \n",
       "3204  1311158849408323584 2020-09-30 04:20:04   \n",
       "3205  1311153832123158528 2020-09-30 04:00:08   \n",
       "3206  1311151294166585350 2020-09-30 03:50:03   \n",
       "\n",
       "                                                   text  \n",
       "0     At a rally in Michigan on Friday, President Tr...  \n",
       "1     “I’m going to vote like my life depends on it....  \n",
       "2     Want to share a confidential news tip with The...  \n",
       "3     “My only surviving son,” is how Joe Biden refe...  \n",
       "4     For one mom, Halloween means another choosing ...  \n",
       "...                                                 ...  \n",
       "3202  Within minutes of President Trump's mention of...  \n",
       "3203  When asked about climate change during the deb...  \n",
       "3204  Helen Reddy, the Australian-born singer whose ...  \n",
       "3205  RT @carolrosenberg: On today's decision declin...  \n",
       "3206  A clear-cut winner did not emerge from a speci...  \n",
       "\n",
       "[3207 rows x 3 columns]"
      ],
      "text/html": "<div>\n<style scoped>\n    .dataframe tbody tr th:only-of-type {\n        vertical-align: middle;\n    }\n\n    .dataframe tbody tr th {\n        vertical-align: top;\n    }\n\n    .dataframe thead th {\n        text-align: right;\n    }\n</style>\n<table border=\"1\" class=\"dataframe\">\n  <thead>\n    <tr style=\"text-align: right;\">\n      <th></th>\n      <th>tweet_id</th>\n      <th>datetime</th>\n      <th>text</th>\n    </tr>\n  </thead>\n  <tbody>\n    <tr>\n      <th>0</th>\n      <td>1322558986353299459</td>\n      <td>2020-10-31 15:20:08</td>\n      <td>At a rally in Michigan on Friday, President Tr...</td>\n    </tr>\n    <tr>\n      <th>1</th>\n      <td>1322553960742477825</td>\n      <td>2020-10-31 15:00:10</td>\n      <td>“I’m going to vote like my life depends on it....</td>\n    </tr>\n    <tr>\n      <th>2</th>\n      <td>1322548888042196994</td>\n      <td>2020-10-31 14:40:01</td>\n      <td>Want to share a confidential news tip with The...</td>\n    </tr>\n    <tr>\n      <th>3</th>\n      <td>1322543878919081984</td>\n      <td>2020-10-31 14:20:07</td>\n      <td>“My only surviving son,” is how Joe Biden refe...</td>\n    </tr>\n    <tr>\n      <th>4</th>\n      <td>1322538862288228352</td>\n      <td>2020-10-31 14:00:11</td>\n      <td>For one mom, Halloween means another choosing ...</td>\n    </tr>\n    <tr>\n      <th>...</th>\n      <td>...</td>\n      <td>...</td>\n      <td>...</td>\n    </tr>\n    <tr>\n      <th>3202</th>\n      <td>1311162628966842368</td>\n      <td>2020-09-30 04:35:05</td>\n      <td>Within minutes of President Trump's mention of...</td>\n    </tr>\n    <tr>\n      <th>3203</th>\n      <td>1311161388535099392</td>\n      <td>2020-09-30 04:30:09</td>\n      <td>When asked about climate change during the deb...</td>\n    </tr>\n    <tr>\n      <th>3204</th>\n      <td>1311158849408323584</td>\n      <td>2020-09-30 04:20:04</td>\n      <td>Helen Reddy, the Australian-born singer whose ...</td>\n    </tr>\n    <tr>\n      <th>3205</th>\n      <td>1311153832123158528</td>\n      <td>2020-09-30 04:00:08</td>\n      <td>RT @carolrosenberg: On today's decision declin...</td>\n    </tr>\n    <tr>\n      <th>3206</th>\n      <td>1311151294166585350</td>\n      <td>2020-09-30 03:50:03</td>\n      <td>A clear-cut winner did not emerge from a speci...</td>\n    </tr>\n  </tbody>\n</table>\n<p>3207 rows × 3 columns</p>\n</div>"
     },
     "metadata": {},
     "execution_count": 13
    }
   ],
   "source": [
    "nyt"
   ]
  },
  {
   "cell_type": "code",
   "execution_count": 23,
   "metadata": {},
   "outputs": [],
   "source": [
    "#pickle\n",
    "nyt.to_pickle('nyt_10_31.pickle')"
   ]
  },
  {
   "cell_type": "code",
   "execution_count": 16,
   "metadata": {},
   "outputs": [
    {
     "output_type": "execute_result",
     "data": {
      "text/plain": [
       "                 tweet_id            datetime  \\\n",
       "0     1322559918898061312 2020-10-31 15:23:51   \n",
       "1     1322544066857439233 2020-10-31 14:20:51   \n",
       "2     1322528143530434562 2020-10-31 13:17:35   \n",
       "3     1322512219221991424 2020-10-31 12:14:18   \n",
       "4     1322496446957051907 2020-10-31 11:11:38   \n",
       "...                   ...                 ...   \n",
       "3198  1260596496933752833 2020-05-13 15:43:20   \n",
       "3199  1260580438726389766 2020-05-13 14:39:31   \n",
       "3200  1260565682066010113 2020-05-13 13:40:53   \n",
       "3201  1260565610939011073 2020-05-13 13:40:36   \n",
       "3202  1260458958038368258 2020-05-13 06:36:48   \n",
       "\n",
       "                                                   text  \n",
       "0     Nigeria’s young activists are doing the work —...  \n",
       "1     Every week, @williamfleitch asks readers to sh...  \n",
       "2     Here's a 👻 spooky 👻 #longread for you: A true ...  \n",
       "3     When a person brings Covid-19 home, whether th...  \n",
       "4     .@AfroReporter grew up in a deeply religious f...  \n",
       "...                                                 ...  \n",
       "3198  Astrologer @ashleighdjay answers all the quest...  \n",
       "3199  You might have a full-featured pulse oximeter ...  \n",
       "3200  RT @elemental: ⚡️ “8 Takeaways From Tuesday's ...  \n",
       "3201  May 13: Here's the latest.\\n\\n• There are over...  \n",
       "3202  Relaxed regulations, misinformation, and a big...  \n",
       "\n",
       "[3203 rows x 3 columns]"
      ],
      "text/html": "<div>\n<style scoped>\n    .dataframe tbody tr th:only-of-type {\n        vertical-align: middle;\n    }\n\n    .dataframe tbody tr th {\n        vertical-align: top;\n    }\n\n    .dataframe thead th {\n        text-align: right;\n    }\n</style>\n<table border=\"1\" class=\"dataframe\">\n  <thead>\n    <tr style=\"text-align: right;\">\n      <th></th>\n      <th>tweet_id</th>\n      <th>datetime</th>\n      <th>text</th>\n    </tr>\n  </thead>\n  <tbody>\n    <tr>\n      <th>0</th>\n      <td>1322559918898061312</td>\n      <td>2020-10-31 15:23:51</td>\n      <td>Nigeria’s young activists are doing the work —...</td>\n    </tr>\n    <tr>\n      <th>1</th>\n      <td>1322544066857439233</td>\n      <td>2020-10-31 14:20:51</td>\n      <td>Every week, @williamfleitch asks readers to sh...</td>\n    </tr>\n    <tr>\n      <th>2</th>\n      <td>1322528143530434562</td>\n      <td>2020-10-31 13:17:35</td>\n      <td>Here's a 👻 spooky 👻 #longread for you: A true ...</td>\n    </tr>\n    <tr>\n      <th>3</th>\n      <td>1322512219221991424</td>\n      <td>2020-10-31 12:14:18</td>\n      <td>When a person brings Covid-19 home, whether th...</td>\n    </tr>\n    <tr>\n      <th>4</th>\n      <td>1322496446957051907</td>\n      <td>2020-10-31 11:11:38</td>\n      <td>.@AfroReporter grew up in a deeply religious f...</td>\n    </tr>\n    <tr>\n      <th>...</th>\n      <td>...</td>\n      <td>...</td>\n      <td>...</td>\n    </tr>\n    <tr>\n      <th>3198</th>\n      <td>1260596496933752833</td>\n      <td>2020-05-13 15:43:20</td>\n      <td>Astrologer @ashleighdjay answers all the quest...</td>\n    </tr>\n    <tr>\n      <th>3199</th>\n      <td>1260580438726389766</td>\n      <td>2020-05-13 14:39:31</td>\n      <td>You might have a full-featured pulse oximeter ...</td>\n    </tr>\n    <tr>\n      <th>3200</th>\n      <td>1260565682066010113</td>\n      <td>2020-05-13 13:40:53</td>\n      <td>RT @elemental: ⚡️ “8 Takeaways From Tuesday's ...</td>\n    </tr>\n    <tr>\n      <th>3201</th>\n      <td>1260565610939011073</td>\n      <td>2020-05-13 13:40:36</td>\n      <td>May 13: Here's the latest.\\n\\n• There are over...</td>\n    </tr>\n    <tr>\n      <th>3202</th>\n      <td>1260458958038368258</td>\n      <td>2020-05-13 06:36:48</td>\n      <td>Relaxed regulations, misinformation, and a big...</td>\n    </tr>\n  </tbody>\n</table>\n<p>3203 rows × 3 columns</p>\n</div>"
     },
     "metadata": {},
     "execution_count": 16
    }
   ],
   "source": [
    "#query tweets from the Medium main account\n",
    "username = 'Medium'\n",
    "count = 10000\n",
    "medium = username_tweets_to_df(username, count)\n",
    "medium"
   ]
  },
  {
   "cell_type": "code",
   "execution_count": 24,
   "metadata": {},
   "outputs": [],
   "source": [
    "#pickle\n",
    "medium.to_pickle('medium_10_31.pickle')"
   ]
  },
  {
   "cell_type": "code",
   "execution_count": 6,
   "metadata": {},
   "outputs": [],
   "source": [
    "#query tweets from Wall Street Journal main account\n",
    "username = 'WSJ'\n",
    "count = 10000\n",
    "WSJ = username_tweets_to_df(username, count)"
   ]
  },
  {
   "cell_type": "code",
   "execution_count": 14,
   "metadata": {},
   "outputs": [],
   "source": [
    "wsj = WSJ"
   ]
  },
  {
   "cell_type": "code",
   "execution_count": 15,
   "metadata": {},
   "outputs": [
    {
     "output_type": "execute_result",
     "data": {
      "text/plain": [
       "                 tweet_id            datetime  \\\n",
       "0     1322557718683672576 2020-10-31 15:15:06   \n",
       "1     1322554010868613120 2020-10-31 15:00:22   \n",
       "2     1322550162963791872 2020-10-31 14:45:05   \n",
       "3     1322546416594702338 2020-10-31 14:30:12   \n",
       "4     1322542624205639680 2020-10-31 14:15:07   \n",
       "...                   ...                 ...   \n",
       "3230  1309523080243535873 2020-09-25 16:00:06   \n",
       "3231  1309519303474057216 2020-09-25 15:45:06   \n",
       "3232  1309515550465437698 2020-09-25 15:30:11   \n",
       "3233  1309512858972151808 2020-09-25 15:19:29   \n",
       "3234  1309511876447961089 2020-09-25 15:15:35   \n",
       "\n",
       "                                                   text  \n",
       "0     Each year, more than 600,000 people deemed to ...  \n",
       "1     The leaders of Microsoft, Coca-Cola, American ...  \n",
       "2     As the election barrels to an end, President T...  \n",
       "3     From @WSJopinion: Bob Chitester’s 1980 PBS ser...  \n",
       "4     From creative pumpkin recipes to spooky but st...  \n",
       "...                                                 ...  \n",
       "3230  Essay: Since the 1960s, the Supreme Court has ...  \n",
       "3231  One is the loneliest number, but for Brits in ...  \n",
       "3232  In the last year, a fire hose of news might ha...  \n",
       "3233  RT @WSJLife: Try your hand at solving our Frid...  \n",
       "3234  To win more consumers, Beyond Meat is tweaking...  \n",
       "\n",
       "[3235 rows x 3 columns]"
      ],
      "text/html": "<div>\n<style scoped>\n    .dataframe tbody tr th:only-of-type {\n        vertical-align: middle;\n    }\n\n    .dataframe tbody tr th {\n        vertical-align: top;\n    }\n\n    .dataframe thead th {\n        text-align: right;\n    }\n</style>\n<table border=\"1\" class=\"dataframe\">\n  <thead>\n    <tr style=\"text-align: right;\">\n      <th></th>\n      <th>tweet_id</th>\n      <th>datetime</th>\n      <th>text</th>\n    </tr>\n  </thead>\n  <tbody>\n    <tr>\n      <th>0</th>\n      <td>1322557718683672576</td>\n      <td>2020-10-31 15:15:06</td>\n      <td>Each year, more than 600,000 people deemed to ...</td>\n    </tr>\n    <tr>\n      <th>1</th>\n      <td>1322554010868613120</td>\n      <td>2020-10-31 15:00:22</td>\n      <td>The leaders of Microsoft, Coca-Cola, American ...</td>\n    </tr>\n    <tr>\n      <th>2</th>\n      <td>1322550162963791872</td>\n      <td>2020-10-31 14:45:05</td>\n      <td>As the election barrels to an end, President T...</td>\n    </tr>\n    <tr>\n      <th>3</th>\n      <td>1322546416594702338</td>\n      <td>2020-10-31 14:30:12</td>\n      <td>From @WSJopinion: Bob Chitester’s 1980 PBS ser...</td>\n    </tr>\n    <tr>\n      <th>4</th>\n      <td>1322542624205639680</td>\n      <td>2020-10-31 14:15:07</td>\n      <td>From creative pumpkin recipes to spooky but st...</td>\n    </tr>\n    <tr>\n      <th>...</th>\n      <td>...</td>\n      <td>...</td>\n      <td>...</td>\n    </tr>\n    <tr>\n      <th>3230</th>\n      <td>1309523080243535873</td>\n      <td>2020-09-25 16:00:06</td>\n      <td>Essay: Since the 1960s, the Supreme Court has ...</td>\n    </tr>\n    <tr>\n      <th>3231</th>\n      <td>1309519303474057216</td>\n      <td>2020-09-25 15:45:06</td>\n      <td>One is the loneliest number, but for Brits in ...</td>\n    </tr>\n    <tr>\n      <th>3232</th>\n      <td>1309515550465437698</td>\n      <td>2020-09-25 15:30:11</td>\n      <td>In the last year, a fire hose of news might ha...</td>\n    </tr>\n    <tr>\n      <th>3233</th>\n      <td>1309512858972151808</td>\n      <td>2020-09-25 15:19:29</td>\n      <td>RT @WSJLife: Try your hand at solving our Frid...</td>\n    </tr>\n    <tr>\n      <th>3234</th>\n      <td>1309511876447961089</td>\n      <td>2020-09-25 15:15:35</td>\n      <td>To win more consumers, Beyond Meat is tweaking...</td>\n    </tr>\n  </tbody>\n</table>\n<p>3235 rows × 3 columns</p>\n</div>"
     },
     "metadata": {},
     "execution_count": 15
    }
   ],
   "source": [
    "wsj"
   ]
  },
  {
   "cell_type": "code",
   "execution_count": 25,
   "metadata": {},
   "outputs": [],
   "source": [
    "#pickle\n",
    "wsj.to_pickle('wsj_10_31.pickle')"
   ]
  },
  {
   "cell_type": "code",
   "execution_count": 17,
   "metadata": {},
   "outputs": [
    {
     "output_type": "execute_result",
     "data": {
      "text/plain": [
       "                 tweet_id            datetime  \\\n",
       "0     1322556705859870722 2020-10-31 15:11:05   \n",
       "1     1322554696909938688 2020-10-31 15:03:06   \n",
       "2     1322546531354976257 2020-10-31 14:30:39   \n",
       "3     1322538899789516800 2020-10-31 14:00:19   \n",
       "4     1322538879212228614 2020-10-31 14:00:15   \n",
       "...                   ...                 ...   \n",
       "3236  1309601698210549764 2020-09-25 21:12:30   \n",
       "3237  1309599044008804355 2020-09-25 21:01:57   \n",
       "3238  1309595306259025920 2020-09-25 20:47:06   \n",
       "3239  1309593633293766656 2020-09-25 20:40:27   \n",
       "3240  1309591049602560002 2020-09-25 20:30:11   \n",
       "\n",
       "                                                   text  \n",
       "0     College football kickoff: Midseason awards and...  \n",
       "1     Join The Washington Post for special live cove...  \n",
       "2     White House sidestepped FDA to distribute hydr...  \n",
       "3     The increase in mail and early voting has chan...  \n",
       "4     Past U.S. presidents took steps to prevent a p...  \n",
       "...                                                 ...  \n",
       "3236  Analysis: The part of Fox News that Trump like...  \n",
       "3237  Opinion: Don’t let democracy burn to the groun...  \n",
       "3238  French Open officials had hoped for thousands ...  \n",
       "3239  Perspective: Why making your diet part of your...  \n",
       "3240  Perspective: The parties are locked in a polit...  \n",
       "\n",
       "[3241 rows x 3 columns]"
      ],
      "text/html": "<div>\n<style scoped>\n    .dataframe tbody tr th:only-of-type {\n        vertical-align: middle;\n    }\n\n    .dataframe tbody tr th {\n        vertical-align: top;\n    }\n\n    .dataframe thead th {\n        text-align: right;\n    }\n</style>\n<table border=\"1\" class=\"dataframe\">\n  <thead>\n    <tr style=\"text-align: right;\">\n      <th></th>\n      <th>tweet_id</th>\n      <th>datetime</th>\n      <th>text</th>\n    </tr>\n  </thead>\n  <tbody>\n    <tr>\n      <th>0</th>\n      <td>1322556705859870722</td>\n      <td>2020-10-31 15:11:05</td>\n      <td>College football kickoff: Midseason awards and...</td>\n    </tr>\n    <tr>\n      <th>1</th>\n      <td>1322554696909938688</td>\n      <td>2020-10-31 15:03:06</td>\n      <td>Join The Washington Post for special live cove...</td>\n    </tr>\n    <tr>\n      <th>2</th>\n      <td>1322546531354976257</td>\n      <td>2020-10-31 14:30:39</td>\n      <td>White House sidestepped FDA to distribute hydr...</td>\n    </tr>\n    <tr>\n      <th>3</th>\n      <td>1322538899789516800</td>\n      <td>2020-10-31 14:00:19</td>\n      <td>The increase in mail and early voting has chan...</td>\n    </tr>\n    <tr>\n      <th>4</th>\n      <td>1322538879212228614</td>\n      <td>2020-10-31 14:00:15</td>\n      <td>Past U.S. presidents took steps to prevent a p...</td>\n    </tr>\n    <tr>\n      <th>...</th>\n      <td>...</td>\n      <td>...</td>\n      <td>...</td>\n    </tr>\n    <tr>\n      <th>3236</th>\n      <td>1309601698210549764</td>\n      <td>2020-09-25 21:12:30</td>\n      <td>Analysis: The part of Fox News that Trump like...</td>\n    </tr>\n    <tr>\n      <th>3237</th>\n      <td>1309599044008804355</td>\n      <td>2020-09-25 21:01:57</td>\n      <td>Opinion: Don’t let democracy burn to the groun...</td>\n    </tr>\n    <tr>\n      <th>3238</th>\n      <td>1309595306259025920</td>\n      <td>2020-09-25 20:47:06</td>\n      <td>French Open officials had hoped for thousands ...</td>\n    </tr>\n    <tr>\n      <th>3239</th>\n      <td>1309593633293766656</td>\n      <td>2020-09-25 20:40:27</td>\n      <td>Perspective: Why making your diet part of your...</td>\n    </tr>\n    <tr>\n      <th>3240</th>\n      <td>1309591049602560002</td>\n      <td>2020-09-25 20:30:11</td>\n      <td>Perspective: The parties are locked in a polit...</td>\n    </tr>\n  </tbody>\n</table>\n<p>3241 rows × 3 columns</p>\n</div>"
     },
     "metadata": {},
     "execution_count": 17
    }
   ],
   "source": [
    "#query tweets from the Washington Post main account\n",
    "username = 'washingtonpost'\n",
    "count = 10000\n",
    "wp = username_tweets_to_df(username, count)\n",
    "wp"
   ]
  },
  {
   "cell_type": "code",
   "execution_count": 26,
   "metadata": {},
   "outputs": [],
   "source": [
    "#pickle\n",
    "wp.to_pickle('wp_10_31.pickle')"
   ]
  },
  {
   "cell_type": "code",
   "execution_count": 18,
   "metadata": {},
   "outputs": [
    {
     "output_type": "execute_result",
     "data": {
      "text/plain": [
       "                 tweet_id            datetime  \\\n",
       "0     1322561858918846465 2020-10-31 15:31:33   \n",
       "1     1322560626355560448 2020-10-31 15:26:39   \n",
       "2     1322558176915529735 2020-10-31 15:16:55   \n",
       "3     1322555116419981317 2020-10-31 15:04:46   \n",
       "4     1322554828493672448 2020-10-31 15:03:37   \n",
       "...                   ...                 ...   \n",
       "3209  1316775558093647872 2020-10-15 16:18:52   \n",
       "3210  1316775325519536128 2020-10-15 16:17:56   \n",
       "3211  1316775117909823493 2020-10-15 16:17:07   \n",
       "3212  1316774231439441920 2020-10-15 16:13:35   \n",
       "3213  1316772449782988800 2020-10-15 16:06:31   \n",
       "\n",
       "                                                   text  \n",
       "0     Warren Buffett's Berkshire Hathaway swung from...  \n",
       "1     We spoke to employees of NYC's beloved 93-year...  \n",
       "2     NYC's Cactus Store sells rare and unusual plan...  \n",
       "3     'It's kind of a Wild West right now': Yelp ins...  \n",
       "4     The millionaire owner of NYC's beloved 93-year...  \n",
       "...                                                 ...  \n",
       "3209  RT @w_c_edwards: Right now, it's the FAAMGs. B...  \n",
       "3210  RT @SydneyKBradley: TikTok houses aren't only ...  \n",
       "3211  RT @dwhate: Snapchat's investment in multi-yea...  \n",
       "3212  Payments tech salaries revealed: Here's what e...  \n",
       "3213  Trump says he's not tested for COVID-19 every ...  \n",
       "\n",
       "[3214 rows x 3 columns]"
      ],
      "text/html": "<div>\n<style scoped>\n    .dataframe tbody tr th:only-of-type {\n        vertical-align: middle;\n    }\n\n    .dataframe tbody tr th {\n        vertical-align: top;\n    }\n\n    .dataframe thead th {\n        text-align: right;\n    }\n</style>\n<table border=\"1\" class=\"dataframe\">\n  <thead>\n    <tr style=\"text-align: right;\">\n      <th></th>\n      <th>tweet_id</th>\n      <th>datetime</th>\n      <th>text</th>\n    </tr>\n  </thead>\n  <tbody>\n    <tr>\n      <th>0</th>\n      <td>1322561858918846465</td>\n      <td>2020-10-31 15:31:33</td>\n      <td>Warren Buffett's Berkshire Hathaway swung from...</td>\n    </tr>\n    <tr>\n      <th>1</th>\n      <td>1322560626355560448</td>\n      <td>2020-10-31 15:26:39</td>\n      <td>We spoke to employees of NYC's beloved 93-year...</td>\n    </tr>\n    <tr>\n      <th>2</th>\n      <td>1322558176915529735</td>\n      <td>2020-10-31 15:16:55</td>\n      <td>NYC's Cactus Store sells rare and unusual plan...</td>\n    </tr>\n    <tr>\n      <th>3</th>\n      <td>1322555116419981317</td>\n      <td>2020-10-31 15:04:46</td>\n      <td>'It's kind of a Wild West right now': Yelp ins...</td>\n    </tr>\n    <tr>\n      <th>4</th>\n      <td>1322554828493672448</td>\n      <td>2020-10-31 15:03:37</td>\n      <td>The millionaire owner of NYC's beloved 93-year...</td>\n    </tr>\n    <tr>\n      <th>...</th>\n      <td>...</td>\n      <td>...</td>\n      <td>...</td>\n    </tr>\n    <tr>\n      <th>3209</th>\n      <td>1316775558093647872</td>\n      <td>2020-10-15 16:18:52</td>\n      <td>RT @w_c_edwards: Right now, it's the FAAMGs. B...</td>\n    </tr>\n    <tr>\n      <th>3210</th>\n      <td>1316775325519536128</td>\n      <td>2020-10-15 16:17:56</td>\n      <td>RT @SydneyKBradley: TikTok houses aren't only ...</td>\n    </tr>\n    <tr>\n      <th>3211</th>\n      <td>1316775117909823493</td>\n      <td>2020-10-15 16:17:07</td>\n      <td>RT @dwhate: Snapchat's investment in multi-yea...</td>\n    </tr>\n    <tr>\n      <th>3212</th>\n      <td>1316774231439441920</td>\n      <td>2020-10-15 16:13:35</td>\n      <td>Payments tech salaries revealed: Here's what e...</td>\n    </tr>\n    <tr>\n      <th>3213</th>\n      <td>1316772449782988800</td>\n      <td>2020-10-15 16:06:31</td>\n      <td>Trump says he's not tested for COVID-19 every ...</td>\n    </tr>\n  </tbody>\n</table>\n<p>3214 rows × 3 columns</p>\n</div>"
     },
     "metadata": {},
     "execution_count": 18
    }
   ],
   "source": [
    "#query tweets from the Business Insider main account\n",
    "username = 'businessinsider'\n",
    "count = 10000\n",
    "bi = username_tweets_to_df(username, count)\n",
    "bi"
   ]
  },
  {
   "cell_type": "code",
   "execution_count": 27,
   "metadata": {},
   "outputs": [],
   "source": [
    "#pickle\n",
    "bi.to_pickle('bi_10_31.pickle')"
   ]
  },
  {
   "cell_type": "code",
   "execution_count": 8,
   "metadata": {},
   "outputs": [],
   "source": [
    "#query tweets from The Financial Times main account\n",
    "username = 'FinancialTimes'\n",
    "count = 10000\n",
    "FT = username_tweets_to_df(username, count)"
   ]
  },
  {
   "cell_type": "code",
   "execution_count": 19,
   "metadata": {},
   "outputs": [],
   "source": [
    "ft = FT"
   ]
  },
  {
   "cell_type": "code",
   "execution_count": 20,
   "metadata": {},
   "outputs": [
    {
     "output_type": "execute_result",
     "data": {
      "text/plain": [
       "                 tweet_id            datetime  \\\n",
       "0     1322548506222055425 2020-10-31 14:38:30   \n",
       "1     1322539832502005760 2020-10-31 14:04:02   \n",
       "2     1322533209989652485 2020-10-31 13:37:43   \n",
       "3     1322529248507240451 2020-10-31 13:21:58   \n",
       "4     1322509643055333381 2020-10-31 12:04:04   \n",
       "...                   ...                 ...   \n",
       "3211  1303503976831291392 2020-09-09 01:22:20   \n",
       "3212  1303493763562647552 2020-09-09 00:41:45   \n",
       "3213  1303483300728766465 2020-09-09 00:00:11   \n",
       "3214  1303466014903021570 2020-09-08 22:51:29   \n",
       "3215  1303462071397425158 2020-09-08 22:35:49   \n",
       "\n",
       "                                                   text  \n",
       "0     Sean Connery, actor, 1930-2020 https://t.co/HW...  \n",
       "1     Simon Schama: 'More than any election in livin...  \n",
       "2     Boris Johnson to announce tougher coronavirus ...  \n",
       "3     Investors pile pressure on companies over ESG ...  \n",
       "4     Meet the virus-hunters trying to prevent the n...  \n",
       "...                                                 ...  \n",
       "3211  Warren Buffett’s Berkshire Hathaway to invest ...  \n",
       "3212  South Korean retail investors scramble for a p...  \n",
       "3213  Hello, Hong Kong. While you were sleeping, thi...  \n",
       "3214  Coronavirus latest: New cases in California sh...  \n",
       "3215  AstraZeneca pauses vaccine trial after suspect...  \n",
       "\n",
       "[3216 rows x 3 columns]"
      ],
      "text/html": "<div>\n<style scoped>\n    .dataframe tbody tr th:only-of-type {\n        vertical-align: middle;\n    }\n\n    .dataframe tbody tr th {\n        vertical-align: top;\n    }\n\n    .dataframe thead th {\n        text-align: right;\n    }\n</style>\n<table border=\"1\" class=\"dataframe\">\n  <thead>\n    <tr style=\"text-align: right;\">\n      <th></th>\n      <th>tweet_id</th>\n      <th>datetime</th>\n      <th>text</th>\n    </tr>\n  </thead>\n  <tbody>\n    <tr>\n      <th>0</th>\n      <td>1322548506222055425</td>\n      <td>2020-10-31 14:38:30</td>\n      <td>Sean Connery, actor, 1930-2020 https://t.co/HW...</td>\n    </tr>\n    <tr>\n      <th>1</th>\n      <td>1322539832502005760</td>\n      <td>2020-10-31 14:04:02</td>\n      <td>Simon Schama: 'More than any election in livin...</td>\n    </tr>\n    <tr>\n      <th>2</th>\n      <td>1322533209989652485</td>\n      <td>2020-10-31 13:37:43</td>\n      <td>Boris Johnson to announce tougher coronavirus ...</td>\n    </tr>\n    <tr>\n      <th>3</th>\n      <td>1322529248507240451</td>\n      <td>2020-10-31 13:21:58</td>\n      <td>Investors pile pressure on companies over ESG ...</td>\n    </tr>\n    <tr>\n      <th>4</th>\n      <td>1322509643055333381</td>\n      <td>2020-10-31 12:04:04</td>\n      <td>Meet the virus-hunters trying to prevent the n...</td>\n    </tr>\n    <tr>\n      <th>...</th>\n      <td>...</td>\n      <td>...</td>\n      <td>...</td>\n    </tr>\n    <tr>\n      <th>3211</th>\n      <td>1303503976831291392</td>\n      <td>2020-09-09 01:22:20</td>\n      <td>Warren Buffett’s Berkshire Hathaway to invest ...</td>\n    </tr>\n    <tr>\n      <th>3212</th>\n      <td>1303493763562647552</td>\n      <td>2020-09-09 00:41:45</td>\n      <td>South Korean retail investors scramble for a p...</td>\n    </tr>\n    <tr>\n      <th>3213</th>\n      <td>1303483300728766465</td>\n      <td>2020-09-09 00:00:11</td>\n      <td>Hello, Hong Kong. While you were sleeping, thi...</td>\n    </tr>\n    <tr>\n      <th>3214</th>\n      <td>1303466014903021570</td>\n      <td>2020-09-08 22:51:29</td>\n      <td>Coronavirus latest: New cases in California sh...</td>\n    </tr>\n    <tr>\n      <th>3215</th>\n      <td>1303462071397425158</td>\n      <td>2020-09-08 22:35:49</td>\n      <td>AstraZeneca pauses vaccine trial after suspect...</td>\n    </tr>\n  </tbody>\n</table>\n<p>3216 rows × 3 columns</p>\n</div>"
     },
     "metadata": {},
     "execution_count": 20
    }
   ],
   "source": [
    "ft"
   ]
  },
  {
   "cell_type": "code",
   "execution_count": 28,
   "metadata": {},
   "outputs": [],
   "source": [
    "#pickle\n",
    "ft.to_pickle('ft_10_31.pickle')"
   ]
  },
  {
   "cell_type": "code",
   "execution_count": 21,
   "metadata": {},
   "outputs": [
    {
     "output_type": "execute_result",
     "data": {
      "text/plain": [
       "                 tweet_id            datetime  \\\n",
       "0     1322562416903884802 2020-10-31 15:33:46   \n",
       "1     1322557017756717060 2020-10-31 15:12:19   \n",
       "2     1322549442097143809 2020-10-31 14:42:13   \n",
       "3     1322543670973788165 2020-10-31 14:19:17   \n",
       "4     1322538468900278272 2020-10-31 13:58:37   \n",
       "...                   ...                 ...   \n",
       "3222  1290121038026530816 2020-08-03 03:03:19   \n",
       "3223  1290115024560611328 2020-08-03 02:39:25   \n",
       "3224  1290109944973258752 2020-08-03 02:19:14   \n",
       "3225  1290104384194412544 2020-08-03 01:57:08   \n",
       "3226  1290098546952343554 2020-08-03 01:33:57   \n",
       "\n",
       "                                                   text  \n",
       "0     A former Detroit cop makes a living on YouTube...  \n",
       "1     He’s assailed democratic norms, but the presid...  \n",
       "2     If Trump tries to steal the election, people w...  \n",
       "3     Endings are seductive. They suggest order, and...  \n",
       "4     The Trump campaign's “election-security operat...  \n",
       "...                                                 ...  \n",
       "3222  Television and film have reached Peak Cop. Noi...  \n",
       "3223  When her first novels were published, in the m...  \n",
       "3224  2020 may offer Democrats their best chance yet...  \n",
       "3225  \"As long as America proves capable of deliveri...  \n",
       "3226  Absent the usual summer blockbusters, the land...  \n",
       "\n",
       "[3227 rows x 3 columns]"
      ],
      "text/html": "<div>\n<style scoped>\n    .dataframe tbody tr th:only-of-type {\n        vertical-align: middle;\n    }\n\n    .dataframe tbody tr th {\n        vertical-align: top;\n    }\n\n    .dataframe thead th {\n        text-align: right;\n    }\n</style>\n<table border=\"1\" class=\"dataframe\">\n  <thead>\n    <tr style=\"text-align: right;\">\n      <th></th>\n      <th>tweet_id</th>\n      <th>datetime</th>\n      <th>text</th>\n    </tr>\n  </thead>\n  <tbody>\n    <tr>\n      <th>0</th>\n      <td>1322562416903884802</td>\n      <td>2020-10-31 15:33:46</td>\n      <td>A former Detroit cop makes a living on YouTube...</td>\n    </tr>\n    <tr>\n      <th>1</th>\n      <td>1322557017756717060</td>\n      <td>2020-10-31 15:12:19</td>\n      <td>He’s assailed democratic norms, but the presid...</td>\n    </tr>\n    <tr>\n      <th>2</th>\n      <td>1322549442097143809</td>\n      <td>2020-10-31 14:42:13</td>\n      <td>If Trump tries to steal the election, people w...</td>\n    </tr>\n    <tr>\n      <th>3</th>\n      <td>1322543670973788165</td>\n      <td>2020-10-31 14:19:17</td>\n      <td>Endings are seductive. They suggest order, and...</td>\n    </tr>\n    <tr>\n      <th>4</th>\n      <td>1322538468900278272</td>\n      <td>2020-10-31 13:58:37</td>\n      <td>The Trump campaign's “election-security operat...</td>\n    </tr>\n    <tr>\n      <th>...</th>\n      <td>...</td>\n      <td>...</td>\n      <td>...</td>\n    </tr>\n    <tr>\n      <th>3222</th>\n      <td>1290121038026530816</td>\n      <td>2020-08-03 03:03:19</td>\n      <td>Television and film have reached Peak Cop. Noi...</td>\n    </tr>\n    <tr>\n      <th>3223</th>\n      <td>1290115024560611328</td>\n      <td>2020-08-03 02:39:25</td>\n      <td>When her first novels were published, in the m...</td>\n    </tr>\n    <tr>\n      <th>3224</th>\n      <td>1290109944973258752</td>\n      <td>2020-08-03 02:19:14</td>\n      <td>2020 may offer Democrats their best chance yet...</td>\n    </tr>\n    <tr>\n      <th>3225</th>\n      <td>1290104384194412544</td>\n      <td>2020-08-03 01:57:08</td>\n      <td>\"As long as America proves capable of deliveri...</td>\n    </tr>\n    <tr>\n      <th>3226</th>\n      <td>1290098546952343554</td>\n      <td>2020-08-03 01:33:57</td>\n      <td>Absent the usual summer blockbusters, the land...</td>\n    </tr>\n  </tbody>\n</table>\n<p>3227 rows × 3 columns</p>\n</div>"
     },
     "metadata": {},
     "execution_count": 21
    }
   ],
   "source": [
    "#query tweets from The Atlantic main account\n",
    "username = 'TheAtlantic'\n",
    "count = 10000\n",
    "atlantic = username_tweets_to_df(username, count)\n",
    "atlantic"
   ]
  },
  {
   "cell_type": "code",
   "execution_count": 29,
   "metadata": {},
   "outputs": [],
   "source": [
    "#pickle\n",
    "atlantic.to_pickle('atlantic_10_31.pickle')"
   ]
  },
  {
   "cell_type": "code",
   "execution_count": 22,
   "metadata": {},
   "outputs": [
    {
     "output_type": "execute_result",
     "data": {
      "text/plain": [
       "                 tweet_id            datetime  \\\n",
       "0     1322553632986943491 2020-10-31 14:58:52   \n",
       "1     1322547173398056966 2020-10-31 14:33:12   \n",
       "2     1322542548531974144 2020-10-31 14:14:49   \n",
       "3     1322530758280519681 2020-10-31 13:27:58   \n",
       "4     1322522456071016452 2020-10-31 12:54:59   \n",
       "...                   ...                 ...   \n",
       "3227  1298021831979552769 2020-08-24 22:18:15   \n",
       "3228  1298021035166638085 2020-08-24 22:15:05   \n",
       "3229  1298011934772559872 2020-08-24 21:38:55   \n",
       "3230  1298010414203248640 2020-08-24 21:32:53   \n",
       "3231  1298005770596954113 2020-08-24 21:14:26   \n",
       "\n",
       "                                                   text  \n",
       "0     After a long period of turmoil, involving alle...  \n",
       "1     With the disappearance of blockbuster publicit...  \n",
       "2     Grouptherapy is a new pop-music project born f...  \n",
       "3     “I’d love to have an affair with you, if you w...  \n",
       "4     A strange thing happens when we encounter a bo...  \n",
       "...                                                 ...  \n",
       "3227  In February, a young Black man was shot by thr...  \n",
       "3228  .@DavidQuammen writes about the pangolin, a th...  \n",
       "3229  .@jengonnerman reports on the fate of New York...  \n",
       "3230  The new HBO series \"Lovecraft Country\" present...  \n",
       "3231  Has our hunger for the humble pangolin got us ...  \n",
       "\n",
       "[3232 rows x 3 columns]"
      ],
      "text/html": "<div>\n<style scoped>\n    .dataframe tbody tr th:only-of-type {\n        vertical-align: middle;\n    }\n\n    .dataframe tbody tr th {\n        vertical-align: top;\n    }\n\n    .dataframe thead th {\n        text-align: right;\n    }\n</style>\n<table border=\"1\" class=\"dataframe\">\n  <thead>\n    <tr style=\"text-align: right;\">\n      <th></th>\n      <th>tweet_id</th>\n      <th>datetime</th>\n      <th>text</th>\n    </tr>\n  </thead>\n  <tbody>\n    <tr>\n      <th>0</th>\n      <td>1322553632986943491</td>\n      <td>2020-10-31 14:58:52</td>\n      <td>After a long period of turmoil, involving alle...</td>\n    </tr>\n    <tr>\n      <th>1</th>\n      <td>1322547173398056966</td>\n      <td>2020-10-31 14:33:12</td>\n      <td>With the disappearance of blockbuster publicit...</td>\n    </tr>\n    <tr>\n      <th>2</th>\n      <td>1322542548531974144</td>\n      <td>2020-10-31 14:14:49</td>\n      <td>Grouptherapy is a new pop-music project born f...</td>\n    </tr>\n    <tr>\n      <th>3</th>\n      <td>1322530758280519681</td>\n      <td>2020-10-31 13:27:58</td>\n      <td>“I’d love to have an affair with you, if you w...</td>\n    </tr>\n    <tr>\n      <th>4</th>\n      <td>1322522456071016452</td>\n      <td>2020-10-31 12:54:59</td>\n      <td>A strange thing happens when we encounter a bo...</td>\n    </tr>\n    <tr>\n      <th>...</th>\n      <td>...</td>\n      <td>...</td>\n      <td>...</td>\n    </tr>\n    <tr>\n      <th>3227</th>\n      <td>1298021831979552769</td>\n      <td>2020-08-24 22:18:15</td>\n      <td>In February, a young Black man was shot by thr...</td>\n    </tr>\n    <tr>\n      <th>3228</th>\n      <td>1298021035166638085</td>\n      <td>2020-08-24 22:15:05</td>\n      <td>.@DavidQuammen writes about the pangolin, a th...</td>\n    </tr>\n    <tr>\n      <th>3229</th>\n      <td>1298011934772559872</td>\n      <td>2020-08-24 21:38:55</td>\n      <td>.@jengonnerman reports on the fate of New York...</td>\n    </tr>\n    <tr>\n      <th>3230</th>\n      <td>1298010414203248640</td>\n      <td>2020-08-24 21:32:53</td>\n      <td>The new HBO series \"Lovecraft Country\" present...</td>\n    </tr>\n    <tr>\n      <th>3231</th>\n      <td>1298005770596954113</td>\n      <td>2020-08-24 21:14:26</td>\n      <td>Has our hunger for the humble pangolin got us ...</td>\n    </tr>\n  </tbody>\n</table>\n<p>3232 rows × 3 columns</p>\n</div>"
     },
     "metadata": {},
     "execution_count": 22
    }
   ],
   "source": [
    "#query tweets from The New Yorker main account\n",
    "username = 'NewYorker'\n",
    "count = 10000\n",
    "newyorker = username_tweets_to_df(username, count)\n",
    "newyorker\n",
    "\n"
   ]
  },
  {
   "cell_type": "code",
   "execution_count": 30,
   "metadata": {},
   "outputs": [],
   "source": [
    "#pickle\n",
    "newyorker.to_pickle('newyorker_10_31.pickle')"
   ]
  },
  {
   "cell_type": "code",
   "execution_count": 31,
   "metadata": {},
   "outputs": [],
   "source": [
    "#query tweets from The Economist main account\n",
    "username = 'TheEconomist'\n",
    "count = 10000\n",
    "economist = username_tweets_to_df(username, count)\n",
    "#pickle\n",
    "economist.to_pickle('economist_10_31.pickle')"
   ]
  },
  {
   "cell_type": "code",
   "execution_count": 32,
   "metadata": {},
   "outputs": [
    {
     "output_type": "execute_result",
     "data": {
      "text/plain": [
       "                 tweet_id            datetime  \\\n",
       "0     1322573308420853761 2020-10-31 16:17:03   \n",
       "1     1322563985628082180 2020-10-31 15:40:00   \n",
       "2     1322560983945105409 2020-10-31 15:28:05   \n",
       "3     1322555954601381894 2020-10-31 15:08:06   \n",
       "4     1322555188893388800 2020-10-31 15:05:03   \n",
       "...                   ...                 ...   \n",
       "3234  1313161046572634120 2020-10-05 16:56:05   \n",
       "3235  1313161019439677445 2020-10-05 16:55:59   \n",
       "3236  1313156514740350976 2020-10-05 16:38:05   \n",
       "3237  1313155004476293122 2020-10-05 16:32:04   \n",
       "3238  1313149071251705857 2020-10-05 16:08:30   \n",
       "\n",
       "                                                   text  \n",
       "0     Using a hotel as a stand-in office is nice. Bu...  \n",
       "1     .@m_c_marshall tells @alokjha about the compet...  \n",
       "2     Outsiders’ views of America’s tolerance of cor...  \n",
       "3     People expect Singapore's street food to be ch...  \n",
       "4     How childbirth became political https://t.co/s...  \n",
       "...                                                 ...  \n",
       "3234  Big, stable quantum computers could be hugely ...  \n",
       "3235  “Truth has a disadvantage...it’s fighting with...  \n",
       "3236  A study of undergraduates found that those wit...  \n",
       "3237  Global house prices seem to be immune to the e...  \n",
       "3238  Corruption costs the world nearly $3 trillion ...  \n",
       "\n",
       "[3239 rows x 3 columns]"
      ],
      "text/html": "<div>\n<style scoped>\n    .dataframe tbody tr th:only-of-type {\n        vertical-align: middle;\n    }\n\n    .dataframe tbody tr th {\n        vertical-align: top;\n    }\n\n    .dataframe thead th {\n        text-align: right;\n    }\n</style>\n<table border=\"1\" class=\"dataframe\">\n  <thead>\n    <tr style=\"text-align: right;\">\n      <th></th>\n      <th>tweet_id</th>\n      <th>datetime</th>\n      <th>text</th>\n    </tr>\n  </thead>\n  <tbody>\n    <tr>\n      <th>0</th>\n      <td>1322573308420853761</td>\n      <td>2020-10-31 16:17:03</td>\n      <td>Using a hotel as a stand-in office is nice. Bu...</td>\n    </tr>\n    <tr>\n      <th>1</th>\n      <td>1322563985628082180</td>\n      <td>2020-10-31 15:40:00</td>\n      <td>.@m_c_marshall tells @alokjha about the compet...</td>\n    </tr>\n    <tr>\n      <th>2</th>\n      <td>1322560983945105409</td>\n      <td>2020-10-31 15:28:05</td>\n      <td>Outsiders’ views of America’s tolerance of cor...</td>\n    </tr>\n    <tr>\n      <th>3</th>\n      <td>1322555954601381894</td>\n      <td>2020-10-31 15:08:06</td>\n      <td>People expect Singapore's street food to be ch...</td>\n    </tr>\n    <tr>\n      <th>4</th>\n      <td>1322555188893388800</td>\n      <td>2020-10-31 15:05:03</td>\n      <td>How childbirth became political https://t.co/s...</td>\n    </tr>\n    <tr>\n      <th>...</th>\n      <td>...</td>\n      <td>...</td>\n      <td>...</td>\n    </tr>\n    <tr>\n      <th>3234</th>\n      <td>1313161046572634120</td>\n      <td>2020-10-05 16:56:05</td>\n      <td>Big, stable quantum computers could be hugely ...</td>\n    </tr>\n    <tr>\n      <th>3235</th>\n      <td>1313161019439677445</td>\n      <td>2020-10-05 16:55:59</td>\n      <td>“Truth has a disadvantage...it’s fighting with...</td>\n    </tr>\n    <tr>\n      <th>3236</th>\n      <td>1313156514740350976</td>\n      <td>2020-10-05 16:38:05</td>\n      <td>A study of undergraduates found that those wit...</td>\n    </tr>\n    <tr>\n      <th>3237</th>\n      <td>1313155004476293122</td>\n      <td>2020-10-05 16:32:04</td>\n      <td>Global house prices seem to be immune to the e...</td>\n    </tr>\n    <tr>\n      <th>3238</th>\n      <td>1313149071251705857</td>\n      <td>2020-10-05 16:08:30</td>\n      <td>Corruption costs the world nearly $3 trillion ...</td>\n    </tr>\n  </tbody>\n</table>\n<p>3239 rows × 3 columns</p>\n</div>"
     },
     "metadata": {},
     "execution_count": 32
    }
   ],
   "source": [
    "economist"
   ]
  },
  {
   "cell_type": "code",
   "execution_count": 34,
   "metadata": {},
   "outputs": [
    {
     "output_type": "execute_result",
     "data": {
      "text/plain": [
       "                 tweet_id            datetime  \\\n",
       "0     1322553236537200640 2020-10-31 14:57:18   \n",
       "1     1322551400463740930 2020-10-31 14:50:00   \n",
       "2     1322546556873166849 2020-10-31 14:30:45   \n",
       "3     1322521848714797056 2020-10-31 12:52:34   \n",
       "4     1322498756445642754 2020-10-31 11:20:49   \n",
       "...                   ...                 ...   \n",
       "3203  1286737213879988229 2020-07-24 18:57:12   \n",
       "3204  1286721319455858691 2020-07-24 17:54:03   \n",
       "3205  1286720832149102599 2020-07-24 17:52:07   \n",
       "3206  1286720008127574016 2020-07-24 17:48:50   \n",
       "3207  1286717653097250818 2020-07-24 17:39:29   \n",
       "\n",
       "                                                   text  \n",
       "0     Massachusetts Question 1 would amend the state...  \n",
       "1     If there were an award for Ocean's Most Distur...  \n",
       "2     Scientists have seemly defied the laws of phys...  \n",
       "3     This cactus-like plant is 4.5 million times ho...  \n",
       "4     It's spooky season 👻 You may not be able to hi...  \n",
       "...                                                 ...  \n",
       "3203  'Grey's Anatomy' has tackled nearly every othe...  \n",
       "3204  TikTok, an app typically known for short, clev...  \n",
       "3205  Have you listened to Taylor Swift's new album?...  \n",
       "3206  RT @KaraPlatoni: Scientists set out to create ...  \n",
       "3207  Happy birthday to Steve Jobs’ digital love chi...  \n",
       "\n",
       "[3208 rows x 3 columns]"
      ],
      "text/html": "<div>\n<style scoped>\n    .dataframe tbody tr th:only-of-type {\n        vertical-align: middle;\n    }\n\n    .dataframe tbody tr th {\n        vertical-align: top;\n    }\n\n    .dataframe thead th {\n        text-align: right;\n    }\n</style>\n<table border=\"1\" class=\"dataframe\">\n  <thead>\n    <tr style=\"text-align: right;\">\n      <th></th>\n      <th>tweet_id</th>\n      <th>datetime</th>\n      <th>text</th>\n    </tr>\n  </thead>\n  <tbody>\n    <tr>\n      <th>0</th>\n      <td>1322553236537200640</td>\n      <td>2020-10-31 14:57:18</td>\n      <td>Massachusetts Question 1 would amend the state...</td>\n    </tr>\n    <tr>\n      <th>1</th>\n      <td>1322551400463740930</td>\n      <td>2020-10-31 14:50:00</td>\n      <td>If there were an award for Ocean's Most Distur...</td>\n    </tr>\n    <tr>\n      <th>2</th>\n      <td>1322546556873166849</td>\n      <td>2020-10-31 14:30:45</td>\n      <td>Scientists have seemly defied the laws of phys...</td>\n    </tr>\n    <tr>\n      <th>3</th>\n      <td>1322521848714797056</td>\n      <td>2020-10-31 12:52:34</td>\n      <td>This cactus-like plant is 4.5 million times ho...</td>\n    </tr>\n    <tr>\n      <th>4</th>\n      <td>1322498756445642754</td>\n      <td>2020-10-31 11:20:49</td>\n      <td>It's spooky season 👻 You may not be able to hi...</td>\n    </tr>\n    <tr>\n      <th>...</th>\n      <td>...</td>\n      <td>...</td>\n      <td>...</td>\n    </tr>\n    <tr>\n      <th>3203</th>\n      <td>1286737213879988229</td>\n      <td>2020-07-24 18:57:12</td>\n      <td>'Grey's Anatomy' has tackled nearly every othe...</td>\n    </tr>\n    <tr>\n      <th>3204</th>\n      <td>1286721319455858691</td>\n      <td>2020-07-24 17:54:03</td>\n      <td>TikTok, an app typically known for short, clev...</td>\n    </tr>\n    <tr>\n      <th>3205</th>\n      <td>1286720832149102599</td>\n      <td>2020-07-24 17:52:07</td>\n      <td>Have you listened to Taylor Swift's new album?...</td>\n    </tr>\n    <tr>\n      <th>3206</th>\n      <td>1286720008127574016</td>\n      <td>2020-07-24 17:48:50</td>\n      <td>RT @KaraPlatoni: Scientists set out to create ...</td>\n    </tr>\n    <tr>\n      <th>3207</th>\n      <td>1286717653097250818</td>\n      <td>2020-07-24 17:39:29</td>\n      <td>Happy birthday to Steve Jobs’ digital love chi...</td>\n    </tr>\n  </tbody>\n</table>\n<p>3208 rows × 3 columns</p>\n</div>"
     },
     "metadata": {},
     "execution_count": 34
    }
   ],
   "source": [
    "wired"
   ]
  },
  {
   "cell_type": "code",
   "execution_count": null,
   "metadata": {},
   "outputs": [],
   "source": []
  }
 ]
}