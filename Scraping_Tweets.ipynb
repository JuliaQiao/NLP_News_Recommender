{
 "cells": [
  {
   "cell_type": "code",
   "execution_count": 1,
   "metadata": {},
   "outputs": [],
   "source": [
    "#import snscrape.modules.twitter as sntwitter\n",
    "#import beautifulsoup \n",
    "import json\n",
    "import csv\n",
    "import pandas as pd \n"
   ]
  },
  {
   "source": [
    "### Scraping Twitter using snscrape"
   ],
   "cell_type": "markdown",
   "metadata": {}
  },
  {
   "cell_type": "code",
   "execution_count": null,
   "metadata": {},
   "outputs": [],
   "source": [
    "\n",
    "installed development version of snscrape: pip3 install git+https://github.com/JustAnotherArchivist/snscrape.git\n"
   ]
  },
  {
   "source": [
    "Command line code example which scrapes using snscrape and writes query into json file:\n",
    "\n",
    "\n",
    "\n",
    "snscrape --jsonl --max-results 20000 twitter-user [] > []_20000.json "
   ],
   "cell_type": "markdown",
   "metadata": {}
  },
  {
   "source": [
    "Now we can write the json file into a csv for easier storage and future queries."
   ],
   "cell_type": "markdown",
   "metadata": {}
  },
  {
   "cell_type": "code",
   "execution_count": 4,
   "metadata": {},
   "outputs": [],
   "source": [
    "def json_to_csv(file_name):\n",
    "    \"\"\"\n",
    "    Takes in json file and writes it into a csv file of the same name.\n",
    "    \"\"\"\n",
    "    file_name = str(file_name)\n",
    "    table = []\n",
    "    with open((file_name+'.json'), 'r', encoding=\"utf8\") as f:\n",
    "        for line in f:\n",
    "            table.append(json.loads(line))\n",
    "\n",
    "    pd.DataFrame.from_records(table).to_csv(file_name+'.csv')"
   ]
  },
  {
   "cell_type": "code",
   "execution_count": 5,
   "metadata": {},
   "outputs": [],
   "source": [
    "#call function\n",
    "json_to_csv('wsj_test_20000')"
   ]
  },
  {
   "source": [
    "### Read in CSV and concat"
   ],
   "cell_type": "markdown",
   "metadata": {}
  },
  {
   "cell_type": "code",
   "execution_count": 15,
   "metadata": {},
   "outputs": [],
   "source": [
    "#reader = csv.reader(open(\"wsj_20000.csv\", encoding=\"utf-8\"))\n",
    "wsj_df = pd.read_csv('wsj_20000.csv')\n",
    "bus_insider_df = pd.read_csv('businessinsider_20000.csv')\n",
    "wired_df = pd.read_csv('wired_20000.csv')\n",
    "wash_post_df = pd.read_csv('washingtonpost_20000.csv')\n",
    "economist_df = pd.read_csv('theeconomist_20000.csv')\n",
    "new_yorker_df = pd.read_csv('newyorker_20000.csv')\n",
    "nyt_df = pd.read_csv('nyt_20000.csv')\n",
    "atlantic_df = pd.read_csv('theatlantic_20000.csv')\n",
    "medium_df = pd.read_csv('medium_20000.csv')\n",
    "fin_times_df = pd.read_csv('financialtimes_20000.csv')\n",
    "\n",
    "\n"
   ]
  },
  {
   "cell_type": "code",
   "execution_count": 18,
   "metadata": {},
   "outputs": [],
   "source": [
    "df_list = [\n",
    "atlantic_df,\n",
    "bus_insider_df,\n",
    "economist_df,\n",
    "fin_times_df,\n",
    "medium_df,\n",
    "new_yorker_df,\n",
    "nyt_df,\n",
    "wash_post_df,\n",
    "wired_df,\n",
    "wsj_df]\n"
   ]
  },
  {
   "cell_type": "code",
   "execution_count": 19,
   "metadata": {},
   "outputs": [],
   "source": [
    "#concatenate\n",
    "df_raw = pd.concat(df_list)"
   ]
  },
  {
   "cell_type": "code",
   "execution_count": 22,
   "metadata": {},
   "outputs": [
    {
     "output_type": "execute_result",
     "data": {
      "text/plain": [
       "(200000, 22)"
      ]
     },
     "metadata": {},
     "execution_count": 22
    }
   ],
   "source": [
    "df_raw.shape"
   ]
  },
  {
   "cell_type": "code",
   "execution_count": 23,
   "metadata": {},
   "outputs": [
    {
     "output_type": "execute_result",
     "data": {
      "text/plain": [
       "   Unnamed: 0                                                url  \\\n",
       "0           0  https://twitter.com/TheAtlantic/status/1322707...   \n",
       "1           1  https://twitter.com/TheAtlantic/status/1322699...   \n",
       "2           2  https://twitter.com/TheAtlantic/status/1322691...   \n",
       "3           3  https://twitter.com/TheAtlantic/status/1322683...   \n",
       "4           4  https://twitter.com/TheAtlantic/status/1322675...   \n",
       "\n",
       "                        date  \\\n",
       "0  2020-11-01T01:08:48+00:00   \n",
       "1  2020-11-01T00:38:45+00:00   \n",
       "2  2020-11-01T00:06:48+00:00   \n",
       "3  2020-10-31T23:34:45+00:00   \n",
       "4  2020-10-31T23:04:31+00:00   \n",
       "\n",
       "                                             content  \\\n",
       "0  The Atlantic Daily: Will this decade be the ne...   \n",
       "1  There's plenty that's going wrong for Trump. H...   \n",
       "2  If Trump tries to steal the election, people w...   \n",
       "3  The Trump campaign's “election-security operat...   \n",
       "4  Even if Joe Biden wins decisively next week, t...   \n",
       "\n",
       "                                     renderedContent            id  \\\n",
       "0  The Atlantic Daily: Will this decade be the ne...  1.322707e+18   \n",
       "1  There's plenty that's going wrong for Trump. H...  1.322700e+18   \n",
       "2  If Trump tries to steal the election, people w...  1.322692e+18   \n",
       "3  The Trump campaign's “election-security operat...  1.322683e+18   \n",
       "4  Even if Joe Biden wins decisively next week, t...  1.322676e+18   \n",
       "\n",
       "                                                user  \\\n",
       "0  {'username': 'TheAtlantic', 'displayname': 'Th...   \n",
       "1  {'username': 'TheAtlantic', 'displayname': 'Th...   \n",
       "2  {'username': 'TheAtlantic', 'displayname': 'Th...   \n",
       "3  {'username': 'TheAtlantic', 'displayname': 'Th...   \n",
       "4  {'username': 'TheAtlantic', 'displayname': 'Th...   \n",
       "\n",
       "                           outlinks                  tcooutlinks  replyCount  \\\n",
       "0  ['http://on.theatln.tc/YXH6gyR']  ['https://t.co/TxYcs3FEna']           4   \n",
       "1  ['http://on.theatln.tc/l89Uzv7']  ['https://t.co/pKG9xuXA4h']          17   \n",
       "2  ['http://on.theatln.tc/ZGvkM7u']  ['https://t.co/EazqBFOLSf']          26   \n",
       "3  ['http://on.theatln.tc/kypt5Zc']  ['https://t.co/uOA9SlMBKr']           9   \n",
       "4  ['http://on.theatln.tc/rNbarVc']  ['https://t.co/5Bd3JaBC8C']          17   \n",
       "\n",
       "   ...  quoteCount  conversationId  lang  \\\n",
       "0  ...           2    1.322707e+18    en   \n",
       "1  ...           2    1.322700e+18    en   \n",
       "2  ...          23    1.322692e+18    en   \n",
       "3  ...           4    1.322683e+18    en   \n",
       "4  ...          13    1.322676e+18    en   \n",
       "\n",
       "                                              source  \\\n",
       "0  <a href=\"http://www.socialflow.com\" rel=\"nofol...   \n",
       "1  <a href=\"http://www.socialflow.com\" rel=\"nofol...   \n",
       "2  <a href=\"http://www.socialflow.com\" rel=\"nofol...   \n",
       "3  <a href=\"http://www.socialflow.com\" rel=\"nofol...   \n",
       "4  <a href=\"http://www.socialflow.com\" rel=\"nofol...   \n",
       "\n",
       "                   sourceUrl sourceLabel media retweetedTweet quotedTweet  \\\n",
       "0  http://www.socialflow.com  SocialFlow   NaN            NaN         NaN   \n",
       "1  http://www.socialflow.com  SocialFlow   NaN            NaN         NaN   \n",
       "2  http://www.socialflow.com  SocialFlow   NaN            NaN         NaN   \n",
       "3  http://www.socialflow.com  SocialFlow   NaN            NaN         NaN   \n",
       "4  http://www.socialflow.com  SocialFlow   NaN            NaN         NaN   \n",
       "\n",
       "                                      mentionedUsers  \n",
       "0                                                NaN  \n",
       "1  [{'username': 'PeterAtlantic', 'displayname': ...  \n",
       "2  [{'username': 'JudithShulevitz', 'displayname'...  \n",
       "3  [{'username': 'mckaycoppins', 'displayname': '...  \n",
       "4  [{'username': 'RonBrownstein', 'displayname': ...  \n",
       "\n",
       "[5 rows x 22 columns]"
      ],
      "text/html": "<div>\n<style scoped>\n    .dataframe tbody tr th:only-of-type {\n        vertical-align: middle;\n    }\n\n    .dataframe tbody tr th {\n        vertical-align: top;\n    }\n\n    .dataframe thead th {\n        text-align: right;\n    }\n</style>\n<table border=\"1\" class=\"dataframe\">\n  <thead>\n    <tr style=\"text-align: right;\">\n      <th></th>\n      <th>Unnamed: 0</th>\n      <th>url</th>\n      <th>date</th>\n      <th>content</th>\n      <th>renderedContent</th>\n      <th>id</th>\n      <th>user</th>\n      <th>outlinks</th>\n      <th>tcooutlinks</th>\n      <th>replyCount</th>\n      <th>...</th>\n      <th>quoteCount</th>\n      <th>conversationId</th>\n      <th>lang</th>\n      <th>source</th>\n      <th>sourceUrl</th>\n      <th>sourceLabel</th>\n      <th>media</th>\n      <th>retweetedTweet</th>\n      <th>quotedTweet</th>\n      <th>mentionedUsers</th>\n    </tr>\n  </thead>\n  <tbody>\n    <tr>\n      <th>0</th>\n      <td>0</td>\n      <td>https://twitter.com/TheAtlantic/status/1322707...</td>\n      <td>2020-11-01T01:08:48+00:00</td>\n      <td>The Atlantic Daily: Will this decade be the ne...</td>\n      <td>The Atlantic Daily: Will this decade be the ne...</td>\n      <td>1.322707e+18</td>\n      <td>{'username': 'TheAtlantic', 'displayname': 'Th...</td>\n      <td>['http://on.theatln.tc/YXH6gyR']</td>\n      <td>['https://t.co/TxYcs3FEna']</td>\n      <td>4</td>\n      <td>...</td>\n      <td>2</td>\n      <td>1.322707e+18</td>\n      <td>en</td>\n      <td>&lt;a href=\"http://www.socialflow.com\" rel=\"nofol...</td>\n      <td>http://www.socialflow.com</td>\n      <td>SocialFlow</td>\n      <td>NaN</td>\n      <td>NaN</td>\n      <td>NaN</td>\n      <td>NaN</td>\n    </tr>\n    <tr>\n      <th>1</th>\n      <td>1</td>\n      <td>https://twitter.com/TheAtlantic/status/1322699...</td>\n      <td>2020-11-01T00:38:45+00:00</td>\n      <td>There's plenty that's going wrong for Trump. H...</td>\n      <td>There's plenty that's going wrong for Trump. H...</td>\n      <td>1.322700e+18</td>\n      <td>{'username': 'TheAtlantic', 'displayname': 'Th...</td>\n      <td>['http://on.theatln.tc/l89Uzv7']</td>\n      <td>['https://t.co/pKG9xuXA4h']</td>\n      <td>17</td>\n      <td>...</td>\n      <td>2</td>\n      <td>1.322700e+18</td>\n      <td>en</td>\n      <td>&lt;a href=\"http://www.socialflow.com\" rel=\"nofol...</td>\n      <td>http://www.socialflow.com</td>\n      <td>SocialFlow</td>\n      <td>NaN</td>\n      <td>NaN</td>\n      <td>NaN</td>\n      <td>[{'username': 'PeterAtlantic', 'displayname': ...</td>\n    </tr>\n    <tr>\n      <th>2</th>\n      <td>2</td>\n      <td>https://twitter.com/TheAtlantic/status/1322691...</td>\n      <td>2020-11-01T00:06:48+00:00</td>\n      <td>If Trump tries to steal the election, people w...</td>\n      <td>If Trump tries to steal the election, people w...</td>\n      <td>1.322692e+18</td>\n      <td>{'username': 'TheAtlantic', 'displayname': 'Th...</td>\n      <td>['http://on.theatln.tc/ZGvkM7u']</td>\n      <td>['https://t.co/EazqBFOLSf']</td>\n      <td>26</td>\n      <td>...</td>\n      <td>23</td>\n      <td>1.322692e+18</td>\n      <td>en</td>\n      <td>&lt;a href=\"http://www.socialflow.com\" rel=\"nofol...</td>\n      <td>http://www.socialflow.com</td>\n      <td>SocialFlow</td>\n      <td>NaN</td>\n      <td>NaN</td>\n      <td>NaN</td>\n      <td>[{'username': 'JudithShulevitz', 'displayname'...</td>\n    </tr>\n    <tr>\n      <th>3</th>\n      <td>3</td>\n      <td>https://twitter.com/TheAtlantic/status/1322683...</td>\n      <td>2020-10-31T23:34:45+00:00</td>\n      <td>The Trump campaign's “election-security operat...</td>\n      <td>The Trump campaign's “election-security operat...</td>\n      <td>1.322683e+18</td>\n      <td>{'username': 'TheAtlantic', 'displayname': 'Th...</td>\n      <td>['http://on.theatln.tc/kypt5Zc']</td>\n      <td>['https://t.co/uOA9SlMBKr']</td>\n      <td>9</td>\n      <td>...</td>\n      <td>4</td>\n      <td>1.322683e+18</td>\n      <td>en</td>\n      <td>&lt;a href=\"http://www.socialflow.com\" rel=\"nofol...</td>\n      <td>http://www.socialflow.com</td>\n      <td>SocialFlow</td>\n      <td>NaN</td>\n      <td>NaN</td>\n      <td>NaN</td>\n      <td>[{'username': 'mckaycoppins', 'displayname': '...</td>\n    </tr>\n    <tr>\n      <th>4</th>\n      <td>4</td>\n      <td>https://twitter.com/TheAtlantic/status/1322675...</td>\n      <td>2020-10-31T23:04:31+00:00</td>\n      <td>Even if Joe Biden wins decisively next week, t...</td>\n      <td>Even if Joe Biden wins decisively next week, t...</td>\n      <td>1.322676e+18</td>\n      <td>{'username': 'TheAtlantic', 'displayname': 'Th...</td>\n      <td>['http://on.theatln.tc/rNbarVc']</td>\n      <td>['https://t.co/5Bd3JaBC8C']</td>\n      <td>17</td>\n      <td>...</td>\n      <td>13</td>\n      <td>1.322676e+18</td>\n      <td>en</td>\n      <td>&lt;a href=\"http://www.socialflow.com\" rel=\"nofol...</td>\n      <td>http://www.socialflow.com</td>\n      <td>SocialFlow</td>\n      <td>NaN</td>\n      <td>NaN</td>\n      <td>NaN</td>\n      <td>[{'username': 'RonBrownstein', 'displayname': ...</td>\n    </tr>\n  </tbody>\n</table>\n<p>5 rows × 22 columns</p>\n</div>"
     },
     "metadata": {},
     "execution_count": 23
    }
   ],
   "source": [
    "df_raw.head()"
   ]
  },
  {
   "cell_type": "code",
   "execution_count": 24,
   "metadata": {},
   "outputs": [
    {
     "output_type": "execute_result",
     "data": {
      "text/plain": [
       "Index(['Unnamed: 0', 'url', 'date', 'content', 'renderedContent', 'id', 'user',\n",
       "       'outlinks', 'tcooutlinks', 'replyCount', 'retweetCount', 'likeCount',\n",
       "       'quoteCount', 'conversationId', 'lang', 'source', 'sourceUrl',\n",
       "       'sourceLabel', 'media', 'retweetedTweet', 'quotedTweet',\n",
       "       'mentionedUsers'],\n",
       "      dtype='object')"
      ]
     },
     "metadata": {},
     "execution_count": 24
    }
   ],
   "source": [
    "df_raw.columns"
   ]
  },
  {
   "cell_type": "code",
   "execution_count": 27,
   "metadata": {},
   "outputs": [],
   "source": [
    "#drop unnecessary columns\n",
    "df_raw.drop(columns = ['Unnamed: 0', 'renderedContent', 'id','tcooutlinks', 'replyCount', 'retweetCount', 'likeCount',\n",
    "       'quoteCount', 'conversationId', 'lang', 'source', 'sourceUrl',\n",
    "       'sourceLabel', 'media', 'retweetedTweet', 'quotedTweet',\n",
    "       'mentionedUsers'], inplace = True)"
   ]
  },
  {
   "cell_type": "code",
   "execution_count": 29,
   "metadata": {},
   "outputs": [
    {
     "output_type": "execute_result",
     "data": {
      "text/plain": [
       "Index(['url', 'date', 'content', 'user', 'outlinks'], dtype='object')"
      ]
     },
     "metadata": {},
     "execution_count": 29
    }
   ],
   "source": [
    "df_raw.columns"
   ]
  },
  {
   "cell_type": "code",
   "execution_count": 30,
   "metadata": {},
   "outputs": [],
   "source": [
    "cols = df_raw.columns.tolist()\n",
    "\n",
    "cols.insert(0, cols.pop(cols.index('user')))\n",
    "cols.insert(1, cols.pop(cols.index('date')))\n",
    "cols.insert(2, cols.pop(cols.index('outlinks')))\n",
    "cols.insert(3, cols.pop(cols.index('content')))\n",
    "\n",
    "df_raw= df_raw.reindex(columns= cols)\n"
   ]
  },
  {
   "cell_type": "code",
   "execution_count": 36,
   "metadata": {},
   "outputs": [
    {
     "output_type": "execute_result",
     "data": {
      "text/plain": [
       "user        object\n",
       "date        object\n",
       "outlinks    object\n",
       "content     object\n",
       "url         object\n",
       "dtype: object"
      ]
     },
     "metadata": {},
     "execution_count": 36
    }
   ],
   "source": [
    "df_raw.dtypes"
   ]
  },
  {
   "cell_type": "code",
   "execution_count": 43,
   "metadata": {},
   "outputs": [],
   "source": [
    "Getting \n",
    "\n",
    "#df_raw.user.get['username']\n",
    "\n",
    "#handle = [d.get['username'] for d in df_raw.user]"
   ]
  },
  {
   "cell_type": "code",
   "execution_count": null,
   "metadata": {},
   "outputs": [],
   "source": [
    "#pickling our dataframe\n",
    "#df_raw.to_pickle('df_raw.pickle')"
   ]
  }
 ],
 "metadata": {
  "kernelspec": {
   "name": "Python 3.8.5 64-bit ('metis': conda)",
   "display_name": "Python 3.8.5 64-bit ('metis': conda)",
   "metadata": {
    "interpreter": {
     "hash": "1d0d04aa2644a0c780238b0ddc137c378f262d4a91aabf7e22427563e7a47ad8"
    }
   }
  },
  "language_info": {
   "codemirror_mode": {
    "name": "ipython",
    "version": 3
   },
   "file_extension": ".py",
   "mimetype": "text/x-python",
   "name": "python",
   "nbconvert_exporter": "python",
   "pygments_lexer": "ipython3",
   "version": "3.8.5-final"
  }
 },
 "nbformat": 4,
 "nbformat_minor": 4
}